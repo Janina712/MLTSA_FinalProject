{
  "cells": [
    {
      "cell_type": "markdown",
      "metadata": {
        "id": "view-in-github",
        "colab_type": "text"
      },
      "source": [
        "<a href=\"https://colab.research.google.com/github/Janina712/MLTSA_FinalProject/blob/main/tryouts/Random_Classifier.ipynb\" target=\"_parent\"><img src=\"https://colab.research.google.com/assets/colab-badge.svg\" alt=\"Open In Colab\"/></a>"
      ]
    },
    {
      "cell_type": "code",
      "execution_count": 1,
      "metadata": {
        "colab": {
          "base_uri": "https://localhost:8080/"
        },
        "id": "ugCJ0UCeBf5C",
        "outputId": "90706b55-51af-4543-c2f2-b4a3a8fd407d"
      },
      "outputs": [
        {
          "output_type": "stream",
          "name": "stdout",
          "text": [
            "Requirement already satisfied: pickle5 in /usr/local/lib/python3.7/dist-packages (0.0.12)\n"
          ]
        }
      ],
      "source": [
        "pip install pickle5"
      ]
    },
    {
      "cell_type": "code",
      "execution_count": 2,
      "metadata": {
        "colab": {
          "base_uri": "https://localhost:8080/"
        },
        "id": "w4gx19P3HnYM",
        "outputId": "720c625f-d75f-4674-b97a-bddd32fd2753"
      },
      "outputs": [
        {
          "output_type": "stream",
          "name": "stdout",
          "text": [
            "Populating the interactive namespace from numpy and matplotlib\n"
          ]
        }
      ],
      "source": [
        "import pandas as pd\n",
        "import numpy as np\n",
        "import pickle5 as pickle\n",
        "from pathlib import Path\n",
        "import pylab as pl\n",
        "from scipy import stats \n",
        "from scipy.stats import linregress\n",
        "import keras\n",
        "from keras.datasets import mnist\n",
        "from keras.models import Sequential\n",
        "from keras.layers import Dense\n",
        "from keras import backend as K\n",
        "import glob\n",
        "from PIL import Image\n",
        "from sklearn.model_selection import train_test_split\n",
        "from sklearn.ensemble import RandomForestClassifier\n",
        "import seaborn as sns\n",
        "from tensorflow import keras\n",
        "from keras import layers \n",
        "from keras.layers import Dense, Input, Flatten,\\\n",
        "                   Reshape, LeakyReLU as LR,\\\n",
        "                   Activation, Dropout\n",
        "from keras.models import Model, Sequential\n",
        "from sklearn.metrics import confusion_matrix, accuracy_score, classification_report\n",
        "from keras import backend as K\n",
        "from sklearn.preprocessing import scale\n",
        "from sklearn.decomposition import PCA\n",
        "\n",
        "%pylab inline"
      ]
    },
    {
      "cell_type": "code",
      "execution_count": 3,
      "metadata": {
        "colab": {
          "base_uri": "https://localhost:8080/"
        },
        "id": "SCKApBSsHwHU",
        "outputId": "07e699d5-3a0f-4b0e-c166-9461537abeda"
      },
      "outputs": [
        {
          "output_type": "stream",
          "name": "stdout",
          "text": [
            "Drive already mounted at /content/drive; to attempt to forcibly remount, call drive.mount(\"/content/drive\", force_remount=True).\n"
          ]
        }
      ],
      "source": [
        "from google.colab import drive\n",
        "drive.mount('/content/drive')"
      ]
    },
    {
      "cell_type": "code",
      "execution_count": 4,
      "metadata": {
        "colab": {
          "base_uri": "https://localhost:8080/"
        },
        "id": "uxxAmz6eH3By",
        "outputId": "7409a823-4995-4926-f0ef-8e55766d8c6d"
      },
      "outputs": [
        {
          "output_type": "stream",
          "name": "stdout",
          "text": [
            "/content/drive/MyDrive/MLTSA22/Final_Project\n"
          ]
        }
      ],
      "source": [
        "cd /content/drive/MyDrive/MLTSA22/Final_Project"
      ]
    },
    {
      "cell_type": "code",
      "execution_count": null,
      "metadata": {
        "colab": {
          "base_uri": "https://localhost:8080/"
        },
        "id": "RYEi8og9H436",
        "outputId": "8b3d1afe-ab3c-478e-bdf0-ace1a3b9f9c5"
      },
      "outputs": [
        {
          "output_type": "stream",
          "name": "stdout",
          "text": [
            "00000258_s002_t000.edf\n",
            "00010563_s002_t004.pkl\n",
            "all_tuh_eeg_seizure_links.txt\n",
            "curated_features_w_metadata_df.pkl\n",
            "dev__01_tcp_ar__002__00000258__s002_2003_07_21__00000258_s002_t000.edf\n",
            "dev__01_tcp_ar__002__00000258__s003_2003_07_22__00000258_s003_t001.edf\n",
            "eval_balanced.pkl\n",
            "eval.pkl\n",
            "files_raw_channels_small_df.pkl\n",
            "isip_tuh_eeg\n",
            "seizures_types_v01.xlsx\n",
            "temp\n",
            "test_balanced.pkl\n",
            "test.pkl\n",
            "train_balanced.pkl\n",
            "train.csv\n",
            "train.pkl\n",
            "tree.dot\n",
            "tree.png\n"
          ]
        }
      ],
      "source": [
        "!ls /content/drive/MyDrive/MLTSA22/Final_Project"
      ]
    },
    {
      "cell_type": "code",
      "execution_count": 5,
      "metadata": {
        "id": "j-p3SOwFH8ob"
      },
      "outputs": [],
      "source": [
        "working_folder = Path('/content/drive/MyDrive/MLTSA22/Final_Project/')"
      ]
    },
    {
      "cell_type": "code",
      "execution_count": 49,
      "metadata": {
        "id": "q0fTG046He61"
      },
      "outputs": [],
      "source": [
        "with open(working_folder.joinpath('train_balanced.pkl'), \"rb\") as fh:\n",
        "  train = pickle.load(fh)"
      ]
    },
    {
      "cell_type": "code",
      "execution_count": 50,
      "metadata": {
        "id": "tmUq66H3IBX1"
      },
      "outputs": [],
      "source": [
        "with open(working_folder.joinpath('test_balanced.pkl'), \"rb\") as fh:\n",
        "  test = pickle.load(fh)"
      ]
    },
    {
      "cell_type": "code",
      "execution_count": 51,
      "metadata": {
        "id": "GZKC6VTfIDNM"
      },
      "outputs": [],
      "source": [
        "with open(working_folder.joinpath('eval_balanced.pkl'), \"rb\") as fh:\n",
        "  eval = pickle.load(fh)"
      ]
    },
    {
      "cell_type": "code",
      "source": [
        "train.head()"
      ],
      "metadata": {
        "colab": {
          "base_uri": "https://localhost:8080/",
          "height": 299
        },
        "id": "d1y_WWKa56zs",
        "outputId": "77b36142-8b73-4ccf-eb2a-5aea58126c2f"
      },
      "execution_count": 9,
      "outputs": [
        {
          "output_type": "execute_result",
          "data": {
            "text/plain": [
              "            0         1         2         3         4           5     6  \\\n",
              "37  -0.026240  0.263965  1.664255 -1.079515  0.513776   88.422233  66.0   \n",
              "55  -0.065516  0.769533  2.951503 -1.748289  0.877230  104.069223  30.0   \n",
              "57   0.034042  0.577843  2.802170 -1.837290  0.760160  103.469787  38.0   \n",
              "108 -0.020617  0.849837  2.252118 -2.209114  0.921866   94.418940  51.0   \n",
              "111  0.055645  1.202017  2.475360 -2.518906  1.096365   97.810244  39.0   \n",
              "\n",
              "            7         8         9  ...       327       328       329  \\\n",
              "37  -0.031126  0.524506 -0.072111  ... -0.408007  0.035609 -0.013427   \n",
              "55   0.685984  0.730153 -0.226620  ... -0.288996  0.070831  0.004161   \n",
              "57   0.599843  0.285555 -0.009733  ... -0.561235 -0.224891  0.024703   \n",
              "108 -0.560592 -0.057938  0.032160  ...  0.165283 -0.387099  0.022170   \n",
              "111 -0.544213 -0.195984  0.164866  ...  1.259412 -1.526448 -0.105420   \n",
              "\n",
              "            330       331       332       333       334       335  label  \n",
              "37    18.046447  0.318961  0.054470  0.056403  0.042192  1.349573  False  \n",
              "55    28.132267  0.455210  0.133113  0.095850  0.044229  1.485900  False  \n",
              "57    23.023800  0.330814  0.144747  0.087539  0.046415  1.359942  False  \n",
              "108    8.580930  0.655852  0.085866  0.087172  0.043534  1.609611  False  \n",
              "111  114.126064  0.503182  0.098687  0.087039  0.043939  0.913309  False  \n",
              "\n",
              "[5 rows x 337 columns]"
            ],
            "text/html": [
              "\n",
              "  <div id=\"df-0068682d-92b6-49ab-9e14-378f8d25ca68\">\n",
              "    <div class=\"colab-df-container\">\n",
              "      <div>\n",
              "<style scoped>\n",
              "    .dataframe tbody tr th:only-of-type {\n",
              "        vertical-align: middle;\n",
              "    }\n",
              "\n",
              "    .dataframe tbody tr th {\n",
              "        vertical-align: top;\n",
              "    }\n",
              "\n",
              "    .dataframe thead th {\n",
              "        text-align: right;\n",
              "    }\n",
              "</style>\n",
              "<table border=\"1\" class=\"dataframe\">\n",
              "  <thead>\n",
              "    <tr style=\"text-align: right;\">\n",
              "      <th></th>\n",
              "      <th>0</th>\n",
              "      <th>1</th>\n",
              "      <th>2</th>\n",
              "      <th>3</th>\n",
              "      <th>4</th>\n",
              "      <th>5</th>\n",
              "      <th>6</th>\n",
              "      <th>7</th>\n",
              "      <th>8</th>\n",
              "      <th>9</th>\n",
              "      <th>...</th>\n",
              "      <th>327</th>\n",
              "      <th>328</th>\n",
              "      <th>329</th>\n",
              "      <th>330</th>\n",
              "      <th>331</th>\n",
              "      <th>332</th>\n",
              "      <th>333</th>\n",
              "      <th>334</th>\n",
              "      <th>335</th>\n",
              "      <th>label</th>\n",
              "    </tr>\n",
              "  </thead>\n",
              "  <tbody>\n",
              "    <tr>\n",
              "      <th>37</th>\n",
              "      <td>-0.026240</td>\n",
              "      <td>0.263965</td>\n",
              "      <td>1.664255</td>\n",
              "      <td>-1.079515</td>\n",
              "      <td>0.513776</td>\n",
              "      <td>88.422233</td>\n",
              "      <td>66.0</td>\n",
              "      <td>-0.031126</td>\n",
              "      <td>0.524506</td>\n",
              "      <td>-0.072111</td>\n",
              "      <td>...</td>\n",
              "      <td>-0.408007</td>\n",
              "      <td>0.035609</td>\n",
              "      <td>-0.013427</td>\n",
              "      <td>18.046447</td>\n",
              "      <td>0.318961</td>\n",
              "      <td>0.054470</td>\n",
              "      <td>0.056403</td>\n",
              "      <td>0.042192</td>\n",
              "      <td>1.349573</td>\n",
              "      <td>False</td>\n",
              "    </tr>\n",
              "    <tr>\n",
              "      <th>55</th>\n",
              "      <td>-0.065516</td>\n",
              "      <td>0.769533</td>\n",
              "      <td>2.951503</td>\n",
              "      <td>-1.748289</td>\n",
              "      <td>0.877230</td>\n",
              "      <td>104.069223</td>\n",
              "      <td>30.0</td>\n",
              "      <td>0.685984</td>\n",
              "      <td>0.730153</td>\n",
              "      <td>-0.226620</td>\n",
              "      <td>...</td>\n",
              "      <td>-0.288996</td>\n",
              "      <td>0.070831</td>\n",
              "      <td>0.004161</td>\n",
              "      <td>28.132267</td>\n",
              "      <td>0.455210</td>\n",
              "      <td>0.133113</td>\n",
              "      <td>0.095850</td>\n",
              "      <td>0.044229</td>\n",
              "      <td>1.485900</td>\n",
              "      <td>False</td>\n",
              "    </tr>\n",
              "    <tr>\n",
              "      <th>57</th>\n",
              "      <td>0.034042</td>\n",
              "      <td>0.577843</td>\n",
              "      <td>2.802170</td>\n",
              "      <td>-1.837290</td>\n",
              "      <td>0.760160</td>\n",
              "      <td>103.469787</td>\n",
              "      <td>38.0</td>\n",
              "      <td>0.599843</td>\n",
              "      <td>0.285555</td>\n",
              "      <td>-0.009733</td>\n",
              "      <td>...</td>\n",
              "      <td>-0.561235</td>\n",
              "      <td>-0.224891</td>\n",
              "      <td>0.024703</td>\n",
              "      <td>23.023800</td>\n",
              "      <td>0.330814</td>\n",
              "      <td>0.144747</td>\n",
              "      <td>0.087539</td>\n",
              "      <td>0.046415</td>\n",
              "      <td>1.359942</td>\n",
              "      <td>False</td>\n",
              "    </tr>\n",
              "    <tr>\n",
              "      <th>108</th>\n",
              "      <td>-0.020617</td>\n",
              "      <td>0.849837</td>\n",
              "      <td>2.252118</td>\n",
              "      <td>-2.209114</td>\n",
              "      <td>0.921866</td>\n",
              "      <td>94.418940</td>\n",
              "      <td>51.0</td>\n",
              "      <td>-0.560592</td>\n",
              "      <td>-0.057938</td>\n",
              "      <td>0.032160</td>\n",
              "      <td>...</td>\n",
              "      <td>0.165283</td>\n",
              "      <td>-0.387099</td>\n",
              "      <td>0.022170</td>\n",
              "      <td>8.580930</td>\n",
              "      <td>0.655852</td>\n",
              "      <td>0.085866</td>\n",
              "      <td>0.087172</td>\n",
              "      <td>0.043534</td>\n",
              "      <td>1.609611</td>\n",
              "      <td>False</td>\n",
              "    </tr>\n",
              "    <tr>\n",
              "      <th>111</th>\n",
              "      <td>0.055645</td>\n",
              "      <td>1.202017</td>\n",
              "      <td>2.475360</td>\n",
              "      <td>-2.518906</td>\n",
              "      <td>1.096365</td>\n",
              "      <td>97.810244</td>\n",
              "      <td>39.0</td>\n",
              "      <td>-0.544213</td>\n",
              "      <td>-0.195984</td>\n",
              "      <td>0.164866</td>\n",
              "      <td>...</td>\n",
              "      <td>1.259412</td>\n",
              "      <td>-1.526448</td>\n",
              "      <td>-0.105420</td>\n",
              "      <td>114.126064</td>\n",
              "      <td>0.503182</td>\n",
              "      <td>0.098687</td>\n",
              "      <td>0.087039</td>\n",
              "      <td>0.043939</td>\n",
              "      <td>0.913309</td>\n",
              "      <td>False</td>\n",
              "    </tr>\n",
              "  </tbody>\n",
              "</table>\n",
              "<p>5 rows × 337 columns</p>\n",
              "</div>\n",
              "      <button class=\"colab-df-convert\" onclick=\"convertToInteractive('df-0068682d-92b6-49ab-9e14-378f8d25ca68')\"\n",
              "              title=\"Convert this dataframe to an interactive table.\"\n",
              "              style=\"display:none;\">\n",
              "        \n",
              "  <svg xmlns=\"http://www.w3.org/2000/svg\" height=\"24px\"viewBox=\"0 0 24 24\"\n",
              "       width=\"24px\">\n",
              "    <path d=\"M0 0h24v24H0V0z\" fill=\"none\"/>\n",
              "    <path d=\"M18.56 5.44l.94 2.06.94-2.06 2.06-.94-2.06-.94-.94-2.06-.94 2.06-2.06.94zm-11 1L8.5 8.5l.94-2.06 2.06-.94-2.06-.94L8.5 2.5l-.94 2.06-2.06.94zm10 10l.94 2.06.94-2.06 2.06-.94-2.06-.94-.94-2.06-.94 2.06-2.06.94z\"/><path d=\"M17.41 7.96l-1.37-1.37c-.4-.4-.92-.59-1.43-.59-.52 0-1.04.2-1.43.59L10.3 9.45l-7.72 7.72c-.78.78-.78 2.05 0 2.83L4 21.41c.39.39.9.59 1.41.59.51 0 1.02-.2 1.41-.59l7.78-7.78 2.81-2.81c.8-.78.8-2.07 0-2.86zM5.41 20L4 18.59l7.72-7.72 1.47 1.35L5.41 20z\"/>\n",
              "  </svg>\n",
              "      </button>\n",
              "      \n",
              "  <style>\n",
              "    .colab-df-container {\n",
              "      display:flex;\n",
              "      flex-wrap:wrap;\n",
              "      gap: 12px;\n",
              "    }\n",
              "\n",
              "    .colab-df-convert {\n",
              "      background-color: #E8F0FE;\n",
              "      border: none;\n",
              "      border-radius: 50%;\n",
              "      cursor: pointer;\n",
              "      display: none;\n",
              "      fill: #1967D2;\n",
              "      height: 32px;\n",
              "      padding: 0 0 0 0;\n",
              "      width: 32px;\n",
              "    }\n",
              "\n",
              "    .colab-df-convert:hover {\n",
              "      background-color: #E2EBFA;\n",
              "      box-shadow: 0px 1px 2px rgba(60, 64, 67, 0.3), 0px 1px 3px 1px rgba(60, 64, 67, 0.15);\n",
              "      fill: #174EA6;\n",
              "    }\n",
              "\n",
              "    [theme=dark] .colab-df-convert {\n",
              "      background-color: #3B4455;\n",
              "      fill: #D2E3FC;\n",
              "    }\n",
              "\n",
              "    [theme=dark] .colab-df-convert:hover {\n",
              "      background-color: #434B5C;\n",
              "      box-shadow: 0px 1px 3px 1px rgba(0, 0, 0, 0.15);\n",
              "      filter: drop-shadow(0px 1px 2px rgba(0, 0, 0, 0.3));\n",
              "      fill: #FFFFFF;\n",
              "    }\n",
              "  </style>\n",
              "\n",
              "      <script>\n",
              "        const buttonEl =\n",
              "          document.querySelector('#df-0068682d-92b6-49ab-9e14-378f8d25ca68 button.colab-df-convert');\n",
              "        buttonEl.style.display =\n",
              "          google.colab.kernel.accessAllowed ? 'block' : 'none';\n",
              "\n",
              "        async function convertToInteractive(key) {\n",
              "          const element = document.querySelector('#df-0068682d-92b6-49ab-9e14-378f8d25ca68');\n",
              "          const dataTable =\n",
              "            await google.colab.kernel.invokeFunction('convertToInteractive',\n",
              "                                                     [key], {});\n",
              "          if (!dataTable) return;\n",
              "\n",
              "          const docLinkHtml = 'Like what you see? Visit the ' +\n",
              "            '<a target=\"_blank\" href=https://colab.research.google.com/notebooks/data_table.ipynb>data table notebook</a>'\n",
              "            + ' to learn more about interactive tables.';\n",
              "          element.innerHTML = '';\n",
              "          dataTable['output_type'] = 'display_data';\n",
              "          await google.colab.output.renderOutput(dataTable, element);\n",
              "          const docLink = document.createElement('div');\n",
              "          docLink.innerHTML = docLinkHtml;\n",
              "          element.appendChild(docLink);\n",
              "        }\n",
              "      </script>\n",
              "    </div>\n",
              "  </div>\n",
              "  "
            ]
          },
          "metadata": {},
          "execution_count": 9
        }
      ]
    },
    {
      "cell_type": "markdown",
      "source": [
        "We will try to run the RF on features: 1) as it is, 2) applying PCA, 3) after outliers removal"
      ],
      "metadata": {
        "id": "6Jusuo2CAie_"
      }
    },
    {
      "cell_type": "markdown",
      "source": [
        "Here are the distributions of some of our features NAMES "
      ],
      "metadata": {
        "id": "3PoNsUWzCPaY"
      }
    },
    {
      "cell_type": "code",
      "source": [
        "fig = pl.figure(figsize = (10,7))\n",
        "pl.boxplot(train[0])\n",
        "pl.boxplot(train[1])\n"
      ],
      "metadata": {
        "colab": {
          "base_uri": "https://localhost:8080/",
          "height": 576
        },
        "id": "KNt-iLL3uYym",
        "outputId": "287e2584-4978-4fd8-be83-043faf48dd8e"
      },
      "execution_count": 58,
      "outputs": [
        {
          "output_type": "execute_result",
          "data": {
            "text/plain": [
              "{'boxes': [<matplotlib.lines.Line2D at 0x7f83f8e7b750>],\n",
              " 'caps': [<matplotlib.lines.Line2D at 0x7f83f9c6dc90>,\n",
              "  <matplotlib.lines.Line2D at 0x7f83f8e64b10>],\n",
              " 'fliers': [<matplotlib.lines.Line2D at 0x7f83f8e13a50>],\n",
              " 'means': [],\n",
              " 'medians': [<matplotlib.lines.Line2D at 0x7f83f8e64750>],\n",
              " 'whiskers': [<matplotlib.lines.Line2D at 0x7f83f8e15690>,\n",
              "  <matplotlib.lines.Line2D at 0x7f83f8e15750>]}"
            ]
          },
          "metadata": {},
          "execution_count": 58
        },
        {
          "output_type": "display_data",
          "data": {
            "text/plain": [
              "<Figure size 720x504 with 1 Axes>"
            ],
            "image/png": "[encoded data removed]"
          },
          "metadata": {
            "needs_background": "light"
          }
        }
      ]
    },
    {
      "cell_type": "code",
      "source": [
        "ax = train[[1,2,3,4]].plot(kind='box', title='boxplot')\n",
        "ax.set_ylim([-5, 5])\n",
        "pl.show()"
      ],
      "metadata": {
        "colab": {
          "base_uri": "https://localhost:8080/",
          "height": 281
        },
        "id": "1rFM5mkhDEsx",
        "outputId": "c824f6fb-fa99-4ebc-c364-08ab796f9afa"
      },
      "execution_count": 63,
      "outputs": [
        {
          "output_type": "display_data",
          "data": {
            "text/plain": [
              "<Figure size 432x288 with 1 Axes>"
            ],
            "image/png": "[encoded data removed]"
          },
          "metadata": {
            "needs_background": "light"
          }
        }
      ]
    },
    {
      "cell_type": "markdown",
      "source": [
        "## Running RF as it is"
      ],
      "metadata": {
        "id": "OTxc2uJUA8kw"
      }
    },
    {
      "cell_type": "code",
      "source": [
        "train_features, train_labels = train.loc[:, train.columns != 'label'], train['label']\n",
        "test_features, test_labels = test.loc[:, test.columns != 'label'], test['label']\n",
        "eval_features, eval_labels = eval.loc[:, eval.columns != 'label'], eval['label']"
      ],
      "metadata": {
        "id": "7ubgNhM4BGL5"
      },
      "execution_count": 52,
      "outputs": []
    },
    {
      "cell_type": "code",
      "source": [
        "print('Training Features Shape:', train_features.shape)\n",
        "print('Training Labels Shape:', train_labels.shape)\n",
        "print('Testing Features Shape:', test_features.shape)\n",
        "print('Testing Labels Shape:', test_labels.shape)\n",
        "print('Validation Features Shape:', eval_features.shape)\n",
        "print('Validation Labels Shape:', eval_labels.shape)"
      ],
      "metadata": {
        "colab": {
          "base_uri": "https://localhost:8080/"
        },
        "id": "ZF59L4mzBJc8",
        "outputId": "6cbf453a-a4d3-4e42-8ac5-40195272c8f9"
      },
      "execution_count": 53,
      "outputs": [
        {
          "output_type": "stream",
          "name": "stdout",
          "text": [
            "Training Features Shape: (106336, 336)\n",
            "Training Labels Shape: (106336,)\n",
            "Testing Features Shape: (54210, 336)\n",
            "Testing Labels Shape: (54210,)\n",
            "Validation Features Shape: (35828, 336)\n",
            "Validation Labels Shape: (35828,)\n"
          ]
        }
      ]
    },
    {
      "cell_type": "code",
      "source": [
        "rf = RandomForestClassifier(\n",
        "    n_estimators = 500, random_state = 20, min_samples_leaf = 2, min_samples_split = 2, max_depth = 8\n",
        ")\n",
        "# Train the model on training data\n",
        "rf.fit(train_features, train_labels);"
      ],
      "metadata": {
        "id": "Q-X9s6k6A7w7"
      },
      "execution_count": null,
      "outputs": []
    },
    {
      "cell_type": "code",
      "source": [
        "predictions = rf.predict(eval_features)"
      ],
      "metadata": {
        "id": "-QpVAdz6BF3v"
      },
      "execution_count": null,
      "outputs": []
    },
    {
      "cell_type": "code",
      "source": [
        "train_score = rf.score(train_features, train_labels)\n",
        "eval_score = rf.score(eval_features, eval_labels)\n",
        "print('During training, the accuracy score was ' + str(round(train_score, 3)))\n",
        "print('During validation, the accuracy score was ' + str(round(eval_score, 3)))"
      ],
      "metadata": {
        "id": "2OiA1T6jBXKx"
      },
      "execution_count": null,
      "outputs": []
    },
    {
      "cell_type": "code",
      "source": [
        "print(classification_report(eval_labels, predictions))"
      ],
      "metadata": {
        "id": "xxZRPkYXCsKi"
      },
      "execution_count": null,
      "outputs": []
    },
    {
      "cell_type": "code",
      "source": [
        "# Get numerical feature importances\n",
        "importances = list(rf.feature_importances_)\n",
        "# List of tuples with variable and importance\n",
        "feature_importances = [(feature, round(importance, 2)) for feature, importance in zip(train.columns[:-1], importances)]\n",
        "# Sort the feature importances by most important first\n",
        "feature_importances = sorted(feature_importances, key = lambda x: x[1], reverse = True)\n",
        "# Print out the feature and importances \n",
        "[print('Variable: {:20} Importance: {}'.format(*pair)) for pair in feature_importances];"
      ],
      "metadata": {
        "id": "kpNjq7JDBXPW"
      },
      "execution_count": null,
      "outputs": []
    },
    {
      "cell_type": "code",
      "source": [
        "cf_matrix = confusion_matrix(eval_labels, predictions)"
      ],
      "metadata": {
        "id": "42V7eGN5BuFG"
      },
      "execution_count": null,
      "outputs": []
    },
    {
      "cell_type": "code",
      "source": [
        "group_names = ['True Neg','False Pos','False Neg','True Pos']\n",
        "\n",
        "group_counts = [\"{0:0.0f}\".format(value) for value in\n",
        "                cf_matrix.flatten()]\n",
        "\n",
        "group_percentages = [\"{0:.2%}\".format(value) for value in\n",
        "                     cf_matrix.flatten()/np.sum(cf_matrix)]\n",
        "\n",
        "labels = [f\"{v1}\\n{v2}\\n{v3}\" for v1, v2, v3 in\n",
        "          zip(group_names,group_counts,group_percentages)]\n",
        "\n",
        "labels = np.asarray(labels).reshape(2,2)\n",
        "\n",
        "ax = sns.heatmap(cf_matrix, annot=labels, fmt='', cmap='Blues')\n",
        "\n",
        "ax.set_title('Seaborn Confusion Matrix with labels\\n\\n');\n",
        "ax.set_xlabel('\\nPredicted Values')\n",
        "ax.set_ylabel('Actual Values ');\n",
        "\n",
        "## Ticket labels - List must be in alphabetical order\n",
        "ax.xaxis.set_ticklabels(['False','True'])\n",
        "ax.yaxis.set_ticklabels(['False','True'])\n",
        "\n",
        "## Display the visualization of the Confusion Matrix.\n",
        "pl.show()"
      ],
      "metadata": {
        "id": "0nQq1MuBCeJp"
      },
      "execution_count": null,
      "outputs": []
    },
    {
      "cell_type": "markdown",
      "source": [
        "## PCA and RF"
      ],
      "metadata": {
        "id": "-hmDu64LDwu8"
      }
    },
    {
      "cell_type": "code",
      "source": [
        "train_features, train_labels = train.loc[:, train.columns != 'label'], train['label']\n",
        "test_features, test_labels = test.loc[:, test.columns != 'label'], test['label']\n",
        "eval_features, eval_labels = eval.loc[:, eval.columns != 'label'], eval['label']"
      ],
      "metadata": {
        "id": "VJp4ctNyCnDy"
      },
      "execution_count": null,
      "outputs": []
    },
    {
      "cell_type": "code",
      "source": [
        "pca = PCA(n_components=50)\n",
        "new_features = pca.fit_transform(train_features)\n",
        "new_eval_features = pca.transform(eval_features)"
      ],
      "metadata": {
        "id": "Y-WahIvfD3AS"
      },
      "execution_count": null,
      "outputs": []
    },
    {
      "cell_type": "code",
      "source": [
        "# Instantiate model with 1000 decision trees\n",
        "# n_estimators = 100 standard, won't cause overfitting but increases complexity\n",
        "# max_depth - really important for accuracy, causes overfitiing\n",
        "# We generally keep min_samples_split value between 2 and 6\n",
        "# min_samples_leaf: less - overfitting, more - decreased number of parameters, basic - 1\n",
        "rf_pca = RandomForestClassifier(\n",
        "    n_estimators = 600, random_state = 20, min_samples_leaf = 2, min_samples_split = 2, max_depth = 8\n",
        ")\n",
        "# Train the model on training data\n",
        "rf_pca.fit(new_features, train_labels);"
      ],
      "metadata": {
        "id": "gEL0as19BsgS"
      },
      "execution_count": null,
      "outputs": []
    },
    {
      "cell_type": "code",
      "source": [
        "# Use the forest's predict method on the test data\n",
        "predictions_pca = rf_pca.predict(new_eval_features)"
      ],
      "metadata": {
        "id": "o3xWq9OjECqQ"
      },
      "execution_count": null,
      "outputs": []
    },
    {
      "cell_type": "code",
      "source": [
        "train_pca_score = rf_pca.score(new_features, train_labels)\n",
        "eval_pca_score = rf_pca.score(new_eval_features, eval_labels)\n",
        "print('During training, the accuracy score was ' + str(round(train_pca_score, 3)))\n",
        "print('During validation, the accuracy score was ' + str(round(eval_pca_score, 3)))"
      ],
      "metadata": {
        "id": "3xPZuqV1Ebsl"
      },
      "execution_count": null,
      "outputs": []
    },
    {
      "cell_type": "code",
      "source": [
        "print(classification_report(eval_labels, predictions_pca))"
      ],
      "metadata": {
        "id": "FY5_kaJ4FGF3"
      },
      "execution_count": null,
      "outputs": []
    },
    {
      "cell_type": "code",
      "source": [
        "# Get numerical feature importances\n",
        "importances = list(rf_pca.feature_importances_)\n",
        "# List of tuples with variable and importance\n",
        "feature_importances = [(feature, round(importance, 2)) for feature, importance in zip(new_features.columns, importances)]\n",
        "# Sort the feature importances by most important first\n",
        "feature_importances = sorted(feature_importances, key = lambda x: x[1], reverse = True)\n",
        "# Print out the feature and importances \n",
        "[print('Variable: {:20} Importance: {}'.format(*pair)) for pair in feature_importances];"
      ],
      "metadata": {
        "id": "81_41WR2EnKT"
      },
      "execution_count": null,
      "outputs": []
    },
    {
      "cell_type": "code",
      "source": [
        "cf_pca_matrix = confusion_matrix(eval_labels, predictions_pca)"
      ],
      "metadata": {
        "id": "ClLGSbMzEz6I"
      },
      "execution_count": null,
      "outputs": []
    },
    {
      "cell_type": "code",
      "source": [
        "group_names = ['True Neg','False Pos','False Neg','True Pos']\n",
        "\n",
        "group_counts = [\"{0:0.0f}\".format(value) for value in\n",
        "                cf_pca_matrix.flatten()]\n",
        "\n",
        "group_percentages = [\"{0:.2%}\".format(value) for value in\n",
        "                     cf_pca_matrix.flatten()/np.sum(cf_pca_matrix)]\n",
        "\n",
        "labels = [f\"{v1}\\n{v2}\\n{v3}\" for v1, v2, v3 in\n",
        "          zip(group_names,group_counts,group_percentages)]\n",
        "\n",
        "labels = np.asarray(labels).reshape(2,2)\n",
        "\n",
        "ax = sns.heatmap(cf_pca_matrix, annot=labels, fmt='', cmap='Blues')\n",
        "\n",
        "ax.set_title('Seaborn Confusion Matrix with labels\\n\\n');\n",
        "ax.set_xlabel('\\nPredicted Values')\n",
        "ax.set_ylabel('Actual Values ');\n",
        "\n",
        "## Ticket labels - List must be in alphabetical order\n",
        "ax.xaxis.set_ticklabels(['False','True'])\n",
        "ax.yaxis.set_ticklabels(['False','True'])\n",
        "\n",
        "## Display the visualization of the Confusion Matrix.\n",
        "pl.show()"
      ],
      "metadata": {
        "id": "9H190nMoE0GX"
      },
      "execution_count": null,
      "outputs": []
    },
    {
      "cell_type": "markdown",
      "source": [
        "## Data without outliers RF"
      ],
      "metadata": {
        "id": "mKChDjfHFKVG"
      }
    },
    {
      "cell_type": "code",
      "source": [
        "feature_col = train.columns\n",
        "feature_col = feature_col[:-1]"
      ],
      "metadata": {
        "id": "jNy_jXaBFXF6"
      },
      "execution_count": 10,
      "outputs": []
    },
    {
      "cell_type": "code",
      "source": [
        "train_scale = train.copy()\n",
        "eval_scale = eval.copy()\n",
        "test_scale = test.copy()"
      ],
      "metadata": {
        "id": "PVT2ODbirx-J"
      },
      "execution_count": 11,
      "outputs": []
    },
    {
      "cell_type": "code",
      "source": [
        "# removing outliers outside upper and lower limits \n",
        "q75 = np.percentile(train[0], 75)\n",
        "q25 = np.percentile(train[0], 25)\n",
        "intr_qr = q75 - q25\n",
        "upper = q75 + (intr_qr*1.5)\n",
        "lower = q25 - (intr_qr*1.5)"
      ],
      "metadata": {
        "id": "ewYbre-uFT7-"
      },
      "execution_count": null,
      "outputs": []
    },
    {
      "cell_type": "code",
      "source": [
        "col = train[0].values\n",
        "col_new = []\n",
        "for i in col:\n",
        "  if i < lower:\n",
        "    col_new.append(np.nan)\n",
        "  elif i > upper:\n",
        "    col_new.append(np.nan)\n",
        "  else:\n",
        "    col_new.append(i)\n",
        "train[0] = col_new"
      ],
      "metadata": {
        "id": "uH7lX1byFUgk"
      },
      "execution_count": null,
      "outputs": []
    },
    {
      "cell_type": "code",
      "source": [
        "train[0].isnull().sum()"
      ],
      "metadata": {
        "id": "i7kx4pAlFaM1"
      },
      "execution_count": null,
      "outputs": []
    },
    {
      "cell_type": "code",
      "source": [
        ""
      ],
      "metadata": {
        "id": "da7F520oFdi2"
      },
      "execution_count": null,
      "outputs": []
    },
    {
      "cell_type": "markdown",
      "source": [
        "## Additional. Not necessary now"
      ],
      "metadata": {
        "id": "cwNf5c8hERMh"
      }
    },
    {
      "cell_type": "code",
      "source": [
        "for col in feature_col:\n",
        "  new_values = (train_scale[col].values - train_scale[col].values.mean())/train_scale[col].values.std() \n",
        "  train_scale[col] = new_values\n",
        "  new_values1 = (eval_scale[col].values - eval_scale[col].values.mean())/eval_scale[col].values.std() \n",
        "  eval_scale[col] = new_values1\n",
        "  new_values2 = (test_scale[col].values - test_scale[col].values.mean())/test_scale[col].values.std() \n",
        "  test_scale[col] = new_values2\n"
      ],
      "metadata": {
        "id": "DGtsWfAyr3Z9"
      },
      "execution_count": 12,
      "outputs": []
    },
    {
      "cell_type": "code",
      "source": [
        "fig = pl.figure(figsize = (10,7))\n",
        "pl.boxplot(train_scale[0])"
      ],
      "metadata": {
        "colab": {
          "base_uri": "https://localhost:8080/",
          "height": 573
        },
        "id": "Vkh-gv_Nizp3",
        "outputId": "50889bac-0532-4ac0-fa11-8cbc005e3c66"
      },
      "execution_count": 25,
      "outputs": [
        {
          "output_type": "execute_result",
          "data": {
            "text/plain": [
              "{'boxes': [<matplotlib.lines.Line2D at 0x7f83f973e710>],\n",
              " 'caps': [<matplotlib.lines.Line2D at 0x7f83b41f8510>,\n",
              "  <matplotlib.lines.Line2D at 0x7f83b41f8a50>],\n",
              " 'fliers': [<matplotlib.lines.Line2D at 0x7f83b41f1550>],\n",
              " 'means': [],\n",
              " 'medians': [<matplotlib.lines.Line2D at 0x7f83b41f8fd0>],\n",
              " 'whiskers': [<matplotlib.lines.Line2D at 0x7f83f9541a50>,\n",
              "  <matplotlib.lines.Line2D at 0x7f83f9541f90>]}"
            ]
          },
          "metadata": {},
          "execution_count": 25
        },
        {
          "output_type": "display_data",
          "data": {
            "text/plain": [
              "<Figure size 720x504 with 1 Axes>"
            ],
            "image/png": "[encoded data removed]"
          },
          "metadata": {
            "needs_background": "light"
          }
        }
      ]
    },
    {
      "cell_type": "code",
      "execution_count": null,
      "metadata": {
        "id": "JXi2oBhdI6Lc"
      },
      "outputs": [],
      "source": [
        "train_features, train_labels = train.loc[:, train.columns != 'label'], train['label']\n",
        "test_features, test_labels = test.loc[:, test.columns != 'label'], test['label']\n",
        "eval_features, eval_labels = eval.loc[:, eval.columns != 'label'], eval['label']"
      ]
    },
    {
      "cell_type": "code",
      "execution_count": null,
      "metadata": {
        "colab": {
          "base_uri": "https://localhost:8080/"
        },
        "id": "jJWjBGoIIZM1",
        "outputId": "c22b50b2-8786-4c11-8607-a997199e6920"
      },
      "outputs": [
        {
          "output_type": "stream",
          "name": "stdout",
          "text": [
            "Training Features Shape: (106336, 336)\n",
            "Training Labels Shape: (106336,)\n",
            "Testing Features Shape: (54210, 336)\n",
            "Testing Labels Shape: (54210,)\n",
            "Validation Features Shape: (35828, 336)\n",
            "Validation Labels Shape: (35828,)\n"
          ]
        }
      ],
      "source": [
        "print('Training Features Shape:', train_features.shape)\n",
        "print('Training Labels Shape:', train_labels.shape)\n",
        "print('Testing Features Shape:', test_features.shape)\n",
        "print('Testing Labels Shape:', test_labels.shape)\n",
        "print('Validation Features Shape:', eval_features.shape)\n",
        "print('Validation Labels Shape:', eval_labels.shape)"
      ]
    },
    {
      "cell_type": "code",
      "source": [
        "std_f_True = []\n",
        "mean_f_True = []\n",
        "std_f_False = []\n",
        "mean_f_False = []\n",
        "for col in feature_col:\n",
        "  data1 = train_scale[train_scale['label'] == True]\n",
        "  data2 = train_scale[train_scale['label'] == False]\n",
        "  mean_f_True.append(data1[col].values.mean())\n",
        "  std_f_True.append(data1[col].values.std())\n",
        "  mean_f_False.append(data2[col].values.mean())\n",
        "  std_f_False.append(data2[col].values.std())"
      ],
      "metadata": {
        "id": "nf9t3gx48WPV"
      },
      "execution_count": null,
      "outputs": []
    },
    {
      "cell_type": "code",
      "source": [
        "std_eval_True = []\n",
        "mean_eval_True = []\n",
        "std_eval_False = []\n",
        "mean_eval_False = []\n",
        "for col in feature_col:\n",
        "  data1 = eval_scale[eval_scale['label'] == True]\n",
        "  data2 = eval_scale[eval_scale['label'] == False]\n",
        "  mean_eval_True.append(data1[col].values.mean())\n",
        "  std_eval_True.append(data1[col].values.std())\n",
        "  mean_eval_False.append(data2[col].values.mean())\n",
        "  std_eval_False.append(data2[col].values.std())"
      ],
      "metadata": {
        "id": "AnUJKHoxDTIR"
      },
      "execution_count": null,
      "outputs": []
    },
    {
      "cell_type": "code",
      "source": [
        ""
      ],
      "metadata": {
        "id": "hVM_Fl6h3qsK"
      },
      "execution_count": 70,
      "outputs": []
    },
    {
      "cell_type": "code",
      "source": [
        ""
      ],
      "metadata": {
        "id": "D5QrRAAE3AJI"
      },
      "execution_count": null,
      "outputs": []
    },
    {
      "cell_type": "code",
      "source": [
        "pl.figure(figsize = (10,20))\n",
        "for feature_index, (value0, value1) in enumerate(zip(mean_f_True[:17], std_f_True[:17])):\n",
        "  y = [feature_index]*3\n",
        "  tmp = [value0 - value1, value0, value0 + value1]\n",
        "  pl.plot(tmp, y, color = 'blue')\n",
        "for feature_index, (value0, value1) in enumerate(zip(mean_f_False[:17], std_f_False[:17])):\n",
        "  y = [feature_index + 0.5]*3\n",
        "  tmp = [value0 - value1, value0, value0 + value1]\n",
        "  pl.plot(tmp, y, color = 'red')\n",
        "'''for feature_index, (value0, value1) in enumerate(zip(mean_eval_True[:12], std_eval_True[:12])):\n",
        "  y = [feature_index + 0.5]*3\n",
        "  tmp = [value0 - value1, value0, value0 + value1]\n",
        "  pl.plot(tmp, y, color = 'green')\n",
        "for feature_index, (value0, value1) in enumerate(zip(mean_eval_False[:12], std_eval_False[:12])):\n",
        "  y = [feature_index + 0.75]*3\n",
        "  tmp = [value0 - value1, value0, value0 + value1]\n",
        "  pl.plot(tmp, y, color = 'black')'''\n",
        "pl.legend();"
      ],
      "metadata": {
        "colab": {
          "base_uri": "https://localhost:8080/",
          "height": 1000
        },
        "id": "I0zBdNYC-El9",
        "outputId": "3a0f9546-cbac-42ed-dc93-7e0221d85423"
      },
      "execution_count": null,
      "outputs": [
        {
          "output_type": "stream",
          "name": "stderr",
          "text": [
            "No handles with labels found to put in legend.\n"
          ]
        },
        {
          "output_type": "display_data",
          "data": {
            "text/plain": [
              "<Figure size 720x1440 with 1 Axes>"
            ],
            "image/png": "[encoded data removed]"
          },
          "metadata": {
            "needs_background": "light"
          }
        }
      ]
    },
    {
      "cell_type": "code",
      "execution_count": null,
      "metadata": {
        "id": "MNoIH64hIbAD"
      },
      "outputs": [],
      "source": [
        ""
      ]
    },
    {
      "cell_type": "markdown",
      "source": [
        "# Round 2"
      ],
      "metadata": {
        "id": "GukQYAxuhdwL"
      }
    },
    {
      "cell_type": "code",
      "source": [
        "remove_n = round(int(train.shape[0]/3)) + 10000\n",
        "drop_indices_False = np.random.choice(\n",
        "    train[train['label'] == False].index, remove_n, replace=False\n",
        ")\n",
        "drop_indices_True = np.random.choice(\n",
        "    train[train['label'] == True].index, remove_n, replace=False\n",
        ")\n",
        "train_subset = train.drop(drop_indices_False)\n",
        "train_subset = train_subset.drop(drop_indices_True)"
      ],
      "metadata": {
        "id": "HhU70K7tgHxa"
      },
      "execution_count": null,
      "outputs": []
    },
    {
      "cell_type": "code",
      "source": [
        "remove_n"
      ],
      "metadata": {
        "colab": {
          "base_uri": "https://localhost:8080/"
        },
        "id": "XwRensJzous_",
        "outputId": "c9e350fa-ada4-4991-960d-44383e5efd7e"
      },
      "execution_count": null,
      "outputs": [
        {
          "output_type": "execute_result",
          "data": {
            "text/plain": [
              "45445"
            ]
          },
          "metadata": {},
          "execution_count": 13
        }
      ]
    },
    {
      "cell_type": "code",
      "source": [
        "train_subset.shape"
      ],
      "metadata": {
        "colab": {
          "base_uri": "https://localhost:8080/"
        },
        "id": "HcwmhZRHiYjZ",
        "outputId": "c21f74d9-aa2c-450a-aa70-299feee630d7"
      },
      "execution_count": null,
      "outputs": [
        {
          "output_type": "execute_result",
          "data": {
            "text/plain": [
              "(15446, 337)"
            ]
          },
          "metadata": {},
          "execution_count": 14
        }
      ]
    },
    {
      "cell_type": "code",
      "source": [
        "train_s_features, train_s_labels = train_subset.loc[:, train_subset.columns != 'label'], train_subset['label']"
      ],
      "metadata": {
        "id": "uxNaihEhh_Wi"
      },
      "execution_count": null,
      "outputs": []
    },
    {
      "cell_type": "code",
      "source": [
        "train_s_features.shape"
      ],
      "metadata": {
        "colab": {
          "base_uri": "https://localhost:8080/"
        },
        "id": "_9NSt4IEt31P",
        "outputId": "c4a11e8a-d840-4a32-c8b4-ff954ff47c55"
      },
      "execution_count": null,
      "outputs": [
        {
          "output_type": "execute_result",
          "data": {
            "text/plain": [
              "(15446, 336)"
            ]
          },
          "metadata": {},
          "execution_count": 16
        }
      ]
    },
    {
      "cell_type": "code",
      "source": [
        "# Instantiate model with 1000 decision trees\n",
        "# n_estimators = 100 standard, won't cause overfitting but increases complexity\n",
        "# max_depth - really important for accuracy, causes overfitiing\n",
        "# We generally keep min_samples_split value between 2 and 6\n",
        "# min_samples_leaf: less - overfitting, more - decreased number of parameters, basic - 1\n",
        "rf1 = RandomForestClassifier(\n",
        "    n_estimators = 600, random_state = 20, min_samples_leaf = 5, min_samples_split = 2, max_depth = 8\n",
        ")\n",
        "# Train the model on training data\n",
        "rf1.fit(train_s_features, train_s_labels);"
      ],
      "metadata": {
        "id": "7UDZj5-Ijxba"
      },
      "execution_count": null,
      "outputs": []
    },
    {
      "cell_type": "code",
      "source": [
        "predictions1 = rf1.predict(eval_features)"
      ],
      "metadata": {
        "id": "aMjMPVfikg2q"
      },
      "execution_count": null,
      "outputs": []
    },
    {
      "cell_type": "code",
      "source": [
        "train_score1 = rf1.score(train_s_features, train_s_labels)\n",
        "eval_score1 = rf1.score(eval_features, eval_labels)"
      ],
      "metadata": {
        "id": "l-LUtd6lkkkK"
      },
      "execution_count": null,
      "outputs": []
    },
    {
      "cell_type": "code",
      "source": [
        "print('During training, the accuracy score was ' + str(round(train_score1, 3)))\n",
        "print('During validation, the accuracy score was ' + str(round(eval_score1, 3)))"
      ],
      "metadata": {
        "colab": {
          "base_uri": "https://localhost:8080/"
        },
        "id": "gIoZXRmMwdr5",
        "outputId": "fc7a407f-4c30-44fe-9412-86af4fa19f56"
      },
      "execution_count": null,
      "outputs": [
        {
          "output_type": "stream",
          "name": "stdout",
          "text": [
            "During training, the accuracy score was 0.861\n",
            "During validation, the accuracy score was 0.652\n"
          ]
        }
      ]
    },
    {
      "cell_type": "code",
      "source": [
        ""
      ],
      "metadata": {
        "colab": {
          "base_uri": "https://localhost:8080/"
        },
        "id": "IDUwrI5quSEw",
        "outputId": "193fecc9-7e4d-4224-f4f0-de5113db867d"
      },
      "execution_count": null,
      "outputs": [
        {
          "output_type": "stream",
          "name": "stdout",
          "text": [
            "              precision    recall  f1-score   support\n",
            "\n",
            "       False       0.61      0.87      0.71     17914\n",
            "        True       0.77      0.44      0.56     17914\n",
            "\n",
            "    accuracy                           0.65     35828\n",
            "   macro avg       0.69      0.65      0.64     35828\n",
            "weighted avg       0.69      0.65      0.64     35828\n",
            "\n"
          ]
        }
      ]
    },
    {
      "cell_type": "code",
      "source": [
        "accuracy_score(eval_labels, predictions1)"
      ],
      "metadata": {
        "colab": {
          "base_uri": "https://localhost:8080/"
        },
        "id": "udJS4TAqxGLB",
        "outputId": "5a944e2a-9e1d-4a15-a741-0e6ed7018829"
      },
      "execution_count": null,
      "outputs": [
        {
          "output_type": "execute_result",
          "data": {
            "text/plain": [
              "0.6568605559897287"
            ]
          },
          "metadata": {},
          "execution_count": 103
        }
      ]
    },
    {
      "cell_type": "code",
      "source": [
        "cf_matrix1 = confusion_matrix(eval_labels, predictions1)"
      ],
      "metadata": {
        "id": "WBIK1I2Gky92"
      },
      "execution_count": null,
      "outputs": []
    },
    {
      "cell_type": "code",
      "source": [
        "group_names = ['True Neg','False Pos','False Neg','True Pos']\n",
        "\n",
        "group_counts = [\"{0:0.0f}\".format(value) for value in\n",
        "                cf_matrix1.flatten()]\n",
        "\n",
        "group_percentages = [\"{0:.2%}\".format(value) for value in\n",
        "                     cf_matrix1.flatten()/np.sum(cf_matrix1)]\n",
        "\n",
        "labels = [f\"{v1}\\n{v2}\\n{v3}\" for v1, v2, v3 in\n",
        "          zip(group_names,group_counts,group_percentages)]\n",
        "\n",
        "labels = np.asarray(labels).reshape(2,2)\n",
        "\n",
        "ax = sns.heatmap(cf_matrix1, annot=labels, fmt='', cmap='Blues')\n",
        "\n",
        "ax.set_title('Seaborn Confusion Matrix with labels\\n\\n');\n",
        "ax.set_xlabel('\\nPredicted Values')\n",
        "ax.set_ylabel('Actual Values ');\n",
        "\n",
        "## Ticket labels - List must be in alphabetical order\n",
        "ax.xaxis.set_ticklabels(['False','True'])\n",
        "ax.yaxis.set_ticklabels(['False','True'])\n",
        "\n",
        "## Display the visualization of the Confusion Matrix.\n",
        "pl.show()"
      ],
      "metadata": {
        "colab": {
          "base_uri": "https://localhost:8080/",
          "height": 337
        },
        "id": "SDUtsDNPkzNV",
        "outputId": "343eb46f-990e-4c60-c7cf-fa6616cf7a66"
      },
      "execution_count": null,
      "outputs": [
        {
          "output_type": "display_data",
          "data": {
            "text/plain": [
              "<Figure size 432x288 with 2 Axes>"
            ],
            "image/png": "[encoded data removed]"
          },
          "metadata": {
            "needs_background": "light"
          }
        }
      ]
    },
    {
      "cell_type": "markdown",
      "source": [
        "Round ... "
      ],
      "metadata": {
        "id": "6azzQ_OVy92k"
      }
    },
    {
      "cell_type": "code",
      "source": [
        "remove_n = round(int(train.shape[0]/3)) + 10000\n",
        "drop_indices_False = np.random.choice(\n",
        "    train[train['label'] == False].index, remove_n, replace=False\n",
        ")\n",
        "drop_indices_True = np.random.choice(\n",
        "    train[train['label'] == True].index, remove_n, replace=False\n",
        ")\n",
        "train_subset = train.drop(drop_indices_False)\n",
        "train_subset = train_subset.drop(drop_indices_True)"
      ],
      "metadata": {
        "id": "qtFwhT3Gy9hx"
      },
      "execution_count": null,
      "outputs": []
    },
    {
      "cell_type": "code",
      "source": [
        "train_subset.shape"
      ],
      "metadata": {
        "colab": {
          "base_uri": "https://localhost:8080/"
        },
        "id": "Nf5GphH_zCtq",
        "outputId": "ef9aea50-9f88-4f74-aa71-6634bbdba65d"
      },
      "execution_count": null,
      "outputs": [
        {
          "output_type": "execute_result",
          "data": {
            "text/plain": [
              "(15446, 337)"
            ]
          },
          "metadata": {},
          "execution_count": 111
        }
      ]
    },
    {
      "cell_type": "code",
      "source": [
        "train_s_features, train_s_labels = train_subset.loc[:, train_subset.columns != 'label'], train_subset['label']"
      ],
      "metadata": {
        "id": "LVFMtrYMzErd"
      },
      "execution_count": null,
      "outputs": []
    },
    {
      "cell_type": "code",
      "source": [
        "train_s_features.shape"
      ],
      "metadata": {
        "colab": {
          "base_uri": "https://localhost:8080/"
        },
        "id": "rAzUqKTmzHSj",
        "outputId": "f58cbe8b-60db-43fe-ac8d-42e4850e51f2"
      },
      "execution_count": null,
      "outputs": [
        {
          "output_type": "execute_result",
          "data": {
            "text/plain": [
              "(15446, 336)"
            ]
          },
          "metadata": {},
          "execution_count": 113
        }
      ]
    },
    {
      "cell_type": "code",
      "source": [
        "# Instantiate model with 1000 decision trees\n",
        "# n_estimators = 100 standard, won't cause overfitting but increases complexity\n",
        "# max_depth - really important for accuracy, causes overfitiing\n",
        "# We generally keep min_samples_split value between 2 and 6\n",
        "# min_samples_leaf: less - overfitting, more - decreased number of parameters, basic - 1\n",
        "rf2 = RandomForestClassifier(\n",
        "    n_estimators = 600, random_state = 10, min_samples_leaf = 1, max_depth = 400\n",
        ")\n",
        "# Train the model on training data\n",
        "rf2.fit(train_s_features, train_s_labels);"
      ],
      "metadata": {
        "id": "R46p9WdNzOpN"
      },
      "execution_count": null,
      "outputs": []
    },
    {
      "cell_type": "code",
      "source": [
        "predictions2 = rf2.predict(eval_features)"
      ],
      "metadata": {
        "id": "ghfQf9R9zRIO"
      },
      "execution_count": null,
      "outputs": []
    },
    {
      "cell_type": "code",
      "source": [
        "train_score2 = rf2.score(train_s_features, train_s_labels)\n",
        "eval_score2 = rf2.score(eval_features, eval_labels)"
      ],
      "metadata": {
        "id": "iU7YEf07zYba"
      },
      "execution_count": null,
      "outputs": []
    },
    {
      "cell_type": "code",
      "source": [
        "print('During training, the accuracy score was ' + str(round(train_score2, 3)))\n",
        "print('During validation, the accuracy score was ' + str(round(eval_score2, 3)))\n",
        "print(classification_report(eval_labels, predictions2))"
      ],
      "metadata": {
        "colab": {
          "base_uri": "https://localhost:8080/"
        },
        "id": "tSRVfQlyzd88",
        "outputId": "48c2ca11-cad3-4746-c5bd-d756dae241e2"
      },
      "execution_count": null,
      "outputs": [
        {
          "output_type": "stream",
          "name": "stdout",
          "text": [
            "During training, the accuracy score was 1.0\n",
            "During validation, the accuracy score was 0.657\n",
            "              precision    recall  f1-score   support\n",
            "\n",
            "       False       0.60      0.91      0.73     17914\n",
            "        True       0.82      0.40      0.54     17914\n",
            "\n",
            "    accuracy                           0.66     35828\n",
            "   macro avg       0.71      0.66      0.63     35828\n",
            "weighted avg       0.71      0.66      0.63     35828\n",
            "\n"
          ]
        }
      ]
    },
    {
      "cell_type": "code",
      "source": [
        "cf_matrix2 = confusion_matrix(eval_labels, predictions2)"
      ],
      "metadata": {
        "id": "z49fE7JUzgN6"
      },
      "execution_count": null,
      "outputs": []
    },
    {
      "cell_type": "code",
      "source": [
        "group_names = ['True Neg','False Pos','False Neg','True Pos']\n",
        "\n",
        "group_counts = [\"{0:0.0f}\".format(value) for value in\n",
        "                cf_matrix1.flatten()]\n",
        "\n",
        "group_percentages = [\"{0:.2%}\".format(value) for value in\n",
        "                     cf_matrix1.flatten()/np.sum(cf_matrix1)]\n",
        "\n",
        "labels = [f\"{v1}\\n{v2}\\n{v3}\" for v1, v2, v3 in\n",
        "          zip(group_names,group_counts,group_percentages)]\n",
        "\n",
        "labels = np.asarray(labels).reshape(2,2)\n",
        "\n",
        "ax = sns.heatmap(cf_matrix1, annot=labels, fmt='', cmap='Blues')\n",
        "\n",
        "ax.set_title('n_estimators = 600, random_state = 42, min_samples_leaf = 2, min_samples_split = 6, max_depth = 400');\n",
        "ax.set_xlabel('\\nPredicted Values')\n",
        "ax.set_ylabel('Actual Values ');\n",
        "\n",
        "## Ticket labels - List must be in alphabetical order\n",
        "ax.xaxis.set_ticklabels(['False','True'])\n",
        "ax.yaxis.set_ticklabels(['False','True'])\n",
        "\n",
        "## Display the visualization of the Confusion Matrix.\n",
        "pl.show()"
      ],
      "metadata": {
        "colab": {
          "base_uri": "https://localhost:8080/",
          "height": 307
        },
        "id": "tc1_LxZU2ZmN",
        "outputId": "05340ef3-0a54-41d2-f929-cc921f4ef953"
      },
      "execution_count": null,
      "outputs": [
        {
          "output_type": "display_data",
          "data": {
            "text/plain": [
              "<Figure size 432x288 with 2 Axes>"
            ],
            "image/png": "[encoded data removed]"
          },
          "metadata": {
            "needs_background": "light"
          }
        }
      ]
    },
    {
      "cell_type": "code",
      "source": [
        "cf_matrix3 = confusion_matrix(eval_labels, predictions2)\n",
        "group_names = ['True Neg','False Pos','False Neg','True Pos']\n",
        "\n",
        "group_counts = [\"{0:0.0f}\".format(value) for value in\n",
        "                cf_matrix3.flatten()]\n",
        "\n",
        "group_percentages = [\"{0:.2%}\".format(value) for value in\n",
        "                     cf_matrix3.flatten()/np.sum(cf_matrix3)]\n",
        "\n",
        "labels = [f\"{v1}\\n{v2}\\n{v3}\" for v1, v2, v3 in\n",
        "          zip(group_names,group_counts,group_percentages)]\n",
        "\n",
        "labels = np.asarray(labels).reshape(2,2)\n",
        "\n",
        "ax = sns.heatmap(cf_matrix3, annot=labels, fmt='', cmap='Blues')\n",
        "\n",
        "ax.set_title('n_estimators = 600, random_state = 20, min_samples_leaf = 1, max_depth = 400');\n",
        "ax.set_xlabel('\\nPredicted Values')\n",
        "ax.set_ylabel('Actual Values ');\n",
        "\n",
        "## Ticket labels - List must be in alphabetical order\n",
        "ax.xaxis.set_ticklabels(['False','True'])\n",
        "ax.yaxis.set_ticklabels(['False','True'])\n",
        "\n",
        "## Display the visualization of the Confusion Matrix.\n",
        "pl.show()"
      ],
      "metadata": {
        "colab": {
          "base_uri": "https://localhost:8080/",
          "height": 307
        },
        "id": "NXe3u5WY3Fgt",
        "outputId": "5cbbfa59-7794-4510-964c-c1d9418b7a3c"
      },
      "execution_count": null,
      "outputs": [
        {
          "output_type": "display_data",
          "data": {
            "text/plain": [
              "<Figure size 432x288 with 2 Axes>"
            ],
            "image/png": "[encoded data removed]"
          },
          "metadata": {
            "needs_background": "light"
          }
        }
      ]
    }
  ],
  "metadata": {
    "colab": {
      "name": "Random Classifier.ipynb",
      "provenance": [],
      "authorship_tag": "ABX9TyPzILDLGAsBVrFC+9XT4OgD",
      "include_colab_link": true
    },
    "kernelspec": {
      "display_name": "Python 3",
      "name": "python3"
    },
    "language_info": {
      "name": "python"
    }
  },
  "nbformat": 4,
  "nbformat_minor": 0
}