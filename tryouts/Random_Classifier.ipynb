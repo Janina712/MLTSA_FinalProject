{
  "cells": [
    {
      "cell_type": "markdown",
      "metadata": {
        "id": "view-in-github",
        "colab_type": "text"
      },
      "source": [
        "<a href=\"https://colab.research.google.com/github/Janina712/MLTSA_FinalProject/blob/main/tryouts/Random_Classifier.ipynb\" target=\"_parent\"><img src=\"https://colab.research.google.com/assets/colab-badge.svg\" alt=\"Open In Colab\"/></a>"
      ]
    },
    {
      "cell_type": "code",
      "execution_count": 2,
      "metadata": {
        "colab": {
          "base_uri": "https://localhost:8080/"
        },
        "id": "ugCJ0UCeBf5C",
        "outputId": "bbf3f28f-f170-4d43-8aac-a83177d5ea8c"
      },
      "outputs": [
        {
          "output_type": "stream",
          "name": "stdout",
          "text": [
            "Requirement already satisfied: pickle5 in /usr/local/lib/python3.7/dist-packages (0.0.12)\n"
          ]
        }
      ],
      "source": [
        "pip install pickle5"
      ]
    },
    {
      "cell_type": "code",
      "execution_count": 3,
      "metadata": {
        "colab": {
          "base_uri": "https://localhost:8080/"
        },
        "id": "w4gx19P3HnYM",
        "outputId": "428c1110-ec33-4764-d456-285d1f3f8141"
      },
      "outputs": [
        {
          "output_type": "stream",
          "name": "stdout",
          "text": [
            "Populating the interactive namespace from numpy and matplotlib\n"
          ]
        }
      ],
      "source": [
        "import pandas as pd\n",
        "import numpy as np\n",
        "import pickle5 as pickle\n",
        "from pathlib import Path\n",
        "import pylab as pl\n",
        "from scipy import stats \n",
        "from scipy.stats import linregress\n",
        "import keras\n",
        "from keras.datasets import mnist\n",
        "from keras.models import Sequential\n",
        "from keras.layers import Dense\n",
        "from keras import backend as K\n",
        "import glob\n",
        "from PIL import Image\n",
        "from sklearn.model_selection import train_test_split\n",
        "from sklearn.ensemble import RandomForestClassifier\n",
        "import seaborn as sns\n",
        "from tensorflow import keras\n",
        "from keras import layers \n",
        "from keras.layers import Dense, Input, Flatten,\\\n",
        "                   Reshape, LeakyReLU as LR,\\\n",
        "                   Activation, Dropout\n",
        "from keras.models import Model, Sequential\n",
        "from sklearn.metrics import confusion_matrix, accuracy_score, classification_report\n",
        "from keras import backend as K\n",
        "from sklearn.preprocessing import scale\n",
        "from sklearn.decomposition import PCA\n",
        "\n",
        "%pylab inline"
      ]
    },
    {
      "cell_type": "code",
      "execution_count": 4,
      "metadata": {
        "colab": {
          "base_uri": "https://localhost:8080/"
        },
        "id": "SCKApBSsHwHU",
        "outputId": "b926db21-f67c-4a94-c5ff-709522536591"
      },
      "outputs": [
        {
          "output_type": "stream",
          "name": "stdout",
          "text": [
            "Mounted at /content/drive\n"
          ]
        }
      ],
      "source": [
        "from google.colab import drive\n",
        "drive.mount('/content/drive')"
      ]
    },
    {
      "cell_type": "code",
      "execution_count": 5,
      "metadata": {
        "colab": {
          "base_uri": "https://localhost:8080/"
        },
        "id": "uxxAmz6eH3By",
        "outputId": "ef616390-3fc7-4b6b-f581-37893f9d67ae"
      },
      "outputs": [
        {
          "output_type": "stream",
          "name": "stdout",
          "text": [
            "/content/drive/MyDrive/MLTSA22/Final_Project\n"
          ]
        }
      ],
      "source": [
        "cd /content/drive/MyDrive/MLTSA22/Final_Project"
      ]
    },
    {
      "cell_type": "code",
      "execution_count": null,
      "metadata": {
        "colab": {
          "base_uri": "https://localhost:8080/"
        },
        "id": "RYEi8og9H436",
        "outputId": "8b3d1afe-ab3c-478e-bdf0-ace1a3b9f9c5"
      },
      "outputs": [
        {
          "output_type": "stream",
          "name": "stdout",
          "text": [
            "00000258_s002_t000.edf\n",
            "00010563_s002_t004.pkl\n",
            "all_tuh_eeg_seizure_links.txt\n",
            "curated_features_w_metadata_df.pkl\n",
            "dev__01_tcp_ar__002__00000258__s002_2003_07_21__00000258_s002_t000.edf\n",
            "dev__01_tcp_ar__002__00000258__s003_2003_07_22__00000258_s003_t001.edf\n",
            "eval_balanced.pkl\n",
            "eval.pkl\n",
            "files_raw_channels_small_df.pkl\n",
            "isip_tuh_eeg\n",
            "seizures_types_v01.xlsx\n",
            "temp\n",
            "test_balanced.pkl\n",
            "test.pkl\n",
            "train_balanced.pkl\n",
            "train.csv\n",
            "train.pkl\n",
            "tree.dot\n",
            "tree.png\n"
          ]
        }
      ],
      "source": [
        "!ls /content/drive/MyDrive/MLTSA22/Final_Project"
      ]
    },
    {
      "cell_type": "code",
      "execution_count": 6,
      "metadata": {
        "id": "j-p3SOwFH8ob"
      },
      "outputs": [],
      "source": [
        "working_folder = Path('/content/drive/MyDrive/MLTSA22/Final_Project/')"
      ]
    },
    {
      "cell_type": "code",
      "execution_count": 7,
      "metadata": {
        "id": "q0fTG046He61"
      },
      "outputs": [],
      "source": [
        "with open(working_folder.joinpath('train_balanced.pkl'), \"rb\") as fh:\n",
        "  train = pickle.load(fh)"
      ]
    },
    {
      "cell_type": "code",
      "execution_count": 8,
      "metadata": {
        "id": "tmUq66H3IBX1"
      },
      "outputs": [],
      "source": [
        "with open(working_folder.joinpath('test_balanced.pkl'), \"rb\") as fh:\n",
        "  test = pickle.load(fh)"
      ]
    },
    {
      "cell_type": "code",
      "execution_count": 9,
      "metadata": {
        "id": "GZKC6VTfIDNM"
      },
      "outputs": [],
      "source": [
        "with open(working_folder.joinpath('eval_balanced.pkl'), \"rb\") as fh:\n",
        "  eval = pickle.load(fh)"
      ]
    },
    {
      "cell_type": "code",
      "source": [
        "train.head()"
      ],
      "metadata": {
        "colab": {
          "base_uri": "https://localhost:8080/",
          "height": 299
        },
        "id": "d1y_WWKa56zs",
        "outputId": "9af1d91a-133c-405b-af23-7f92dbc2ffcb"
      },
      "execution_count": 10,
      "outputs": [
        {
          "output_type": "execute_result",
          "data": {
            "text/plain": [
              "            0         1         2         3         4           5     6  \\\n",
              "37  -0.026240  0.263965  1.664255 -1.079515  0.513776   88.422233  66.0   \n",
              "55  -0.065516  0.769533  2.951503 -1.748289  0.877230  104.069223  30.0   \n",
              "57   0.034042  0.577843  2.802170 -1.837290  0.760160  103.469787  38.0   \n",
              "108 -0.020617  0.849837  2.252118 -2.209114  0.921866   94.418940  51.0   \n",
              "111  0.055645  1.202017  2.475360 -2.518906  1.096365   97.810244  39.0   \n",
              "\n",
              "            7         8         9  ...       327       328       329  \\\n",
              "37  -0.031126  0.524506 -0.072111  ... -0.408007  0.035609 -0.013427   \n",
              "55   0.685984  0.730153 -0.226620  ... -0.288996  0.070831  0.004161   \n",
              "57   0.599843  0.285555 -0.009733  ... -0.561235 -0.224891  0.024703   \n",
              "108 -0.560592 -0.057938  0.032160  ...  0.165283 -0.387099  0.022170   \n",
              "111 -0.544213 -0.195984  0.164866  ...  1.259412 -1.526448 -0.105420   \n",
              "\n",
              "            330       331       332       333       334       335  label  \n",
              "37    18.046447  0.318961  0.054470  0.056403  0.042192  1.349573  False  \n",
              "55    28.132267  0.455210  0.133113  0.095850  0.044229  1.485900  False  \n",
              "57    23.023800  0.330814  0.144747  0.087539  0.046415  1.359942  False  \n",
              "108    8.580930  0.655852  0.085866  0.087172  0.043534  1.609611  False  \n",
              "111  114.126064  0.503182  0.098687  0.087039  0.043939  0.913309  False  \n",
              "\n",
              "[5 rows x 337 columns]"
            ],
            "text/html": [
              "\n",
              "  <div id=\"df-89695c43-3b22-47fc-bf96-25564b1cf424\">\n",
              "    <div class=\"colab-df-container\">\n",
              "      <div>\n",
              "<style scoped>\n",
              "    .dataframe tbody tr th:only-of-type {\n",
              "        vertical-align: middle;\n",
              "    }\n",
              "\n",
              "    .dataframe tbody tr th {\n",
              "        vertical-align: top;\n",
              "    }\n",
              "\n",
              "    .dataframe thead th {\n",
              "        text-align: right;\n",
              "    }\n",
              "</style>\n",
              "<table border=\"1\" class=\"dataframe\">\n",
              "  <thead>\n",
              "    <tr style=\"text-align: right;\">\n",
              "      <th></th>\n",
              "      <th>0</th>\n",
              "      <th>1</th>\n",
              "      <th>2</th>\n",
              "      <th>3</th>\n",
              "      <th>4</th>\n",
              "      <th>5</th>\n",
              "      <th>6</th>\n",
              "      <th>7</th>\n",
              "      <th>8</th>\n",
              "      <th>9</th>\n",
              "      <th>...</th>\n",
              "      <th>327</th>\n",
              "      <th>328</th>\n",
              "      <th>329</th>\n",
              "      <th>330</th>\n",
              "      <th>331</th>\n",
              "      <th>332</th>\n",
              "      <th>333</th>\n",
              "      <th>334</th>\n",
              "      <th>335</th>\n",
              "      <th>label</th>\n",
              "    </tr>\n",
              "  </thead>\n",
              "  <tbody>\n",
              "    <tr>\n",
              "      <th>37</th>\n",
              "      <td>-0.026240</td>\n",
              "      <td>0.263965</td>\n",
              "      <td>1.664255</td>\n",
              "      <td>-1.079515</td>\n",
              "      <td>0.513776</td>\n",
              "      <td>88.422233</td>\n",
              "      <td>66.0</td>\n",
              "      <td>-0.031126</td>\n",
              "      <td>0.524506</td>\n",
              "      <td>-0.072111</td>\n",
              "      <td>...</td>\n",
              "      <td>-0.408007</td>\n",
              "      <td>0.035609</td>\n",
              "      <td>-0.013427</td>\n",
              "      <td>18.046447</td>\n",
              "      <td>0.318961</td>\n",
              "      <td>0.054470</td>\n",
              "      <td>0.056403</td>\n",
              "      <td>0.042192</td>\n",
              "      <td>1.349573</td>\n",
              "      <td>False</td>\n",
              "    </tr>\n",
              "    <tr>\n",
              "      <th>55</th>\n",
              "      <td>-0.065516</td>\n",
              "      <td>0.769533</td>\n",
              "      <td>2.951503</td>\n",
              "      <td>-1.748289</td>\n",
              "      <td>0.877230</td>\n",
              "      <td>104.069223</td>\n",
              "      <td>30.0</td>\n",
              "      <td>0.685984</td>\n",
              "      <td>0.730153</td>\n",
              "      <td>-0.226620</td>\n",
              "      <td>...</td>\n",
              "      <td>-0.288996</td>\n",
              "      <td>0.070831</td>\n",
              "      <td>0.004161</td>\n",
              "      <td>28.132267</td>\n",
              "      <td>0.455210</td>\n",
              "      <td>0.133113</td>\n",
              "      <td>0.095850</td>\n",
              "      <td>0.044229</td>\n",
              "      <td>1.485900</td>\n",
              "      <td>False</td>\n",
              "    </tr>\n",
              "    <tr>\n",
              "      <th>57</th>\n",
              "      <td>0.034042</td>\n",
              "      <td>0.577843</td>\n",
              "      <td>2.802170</td>\n",
              "      <td>-1.837290</td>\n",
              "      <td>0.760160</td>\n",
              "      <td>103.469787</td>\n",
              "      <td>38.0</td>\n",
              "      <td>0.599843</td>\n",
              "      <td>0.285555</td>\n",
              "      <td>-0.009733</td>\n",
              "      <td>...</td>\n",
              "      <td>-0.561235</td>\n",
              "      <td>-0.224891</td>\n",
              "      <td>0.024703</td>\n",
              "      <td>23.023800</td>\n",
              "      <td>0.330814</td>\n",
              "      <td>0.144747</td>\n",
              "      <td>0.087539</td>\n",
              "      <td>0.046415</td>\n",
              "      <td>1.359942</td>\n",
              "      <td>False</td>\n",
              "    </tr>\n",
              "    <tr>\n",
              "      <th>108</th>\n",
              "      <td>-0.020617</td>\n",
              "      <td>0.849837</td>\n",
              "      <td>2.252118</td>\n",
              "      <td>-2.209114</td>\n",
              "      <td>0.921866</td>\n",
              "      <td>94.418940</td>\n",
              "      <td>51.0</td>\n",
              "      <td>-0.560592</td>\n",
              "      <td>-0.057938</td>\n",
              "      <td>0.032160</td>\n",
              "      <td>...</td>\n",
              "      <td>0.165283</td>\n",
              "      <td>-0.387099</td>\n",
              "      <td>0.022170</td>\n",
              "      <td>8.580930</td>\n",
              "      <td>0.655852</td>\n",
              "      <td>0.085866</td>\n",
              "      <td>0.087172</td>\n",
              "      <td>0.043534</td>\n",
              "      <td>1.609611</td>\n",
              "      <td>False</td>\n",
              "    </tr>\n",
              "    <tr>\n",
              "      <th>111</th>\n",
              "      <td>0.055645</td>\n",
              "      <td>1.202017</td>\n",
              "      <td>2.475360</td>\n",
              "      <td>-2.518906</td>\n",
              "      <td>1.096365</td>\n",
              "      <td>97.810244</td>\n",
              "      <td>39.0</td>\n",
              "      <td>-0.544213</td>\n",
              "      <td>-0.195984</td>\n",
              "      <td>0.164866</td>\n",
              "      <td>...</td>\n",
              "      <td>1.259412</td>\n",
              "      <td>-1.526448</td>\n",
              "      <td>-0.105420</td>\n",
              "      <td>114.126064</td>\n",
              "      <td>0.503182</td>\n",
              "      <td>0.098687</td>\n",
              "      <td>0.087039</td>\n",
              "      <td>0.043939</td>\n",
              "      <td>0.913309</td>\n",
              "      <td>False</td>\n",
              "    </tr>\n",
              "  </tbody>\n",
              "</table>\n",
              "<p>5 rows × 337 columns</p>\n",
              "</div>\n",
              "      <button class=\"colab-df-convert\" onclick=\"convertToInteractive('df-89695c43-3b22-47fc-bf96-25564b1cf424')\"\n",
              "              title=\"Convert this dataframe to an interactive table.\"\n",
              "              style=\"display:none;\">\n",
              "        \n",
              "  <svg xmlns=\"http://www.w3.org/2000/svg\" height=\"24px\"viewBox=\"0 0 24 24\"\n",
              "       width=\"24px\">\n",
              "    <path d=\"M0 0h24v24H0V0z\" fill=\"none\"/>\n",
              "    <path d=\"M18.56 5.44l.94 2.06.94-2.06 2.06-.94-2.06-.94-.94-2.06-.94 2.06-2.06.94zm-11 1L8.5 8.5l.94-2.06 2.06-.94-2.06-.94L8.5 2.5l-.94 2.06-2.06.94zm10 10l.94 2.06.94-2.06 2.06-.94-2.06-.94-.94-2.06-.94 2.06-2.06.94z\"/><path d=\"M17.41 7.96l-1.37-1.37c-.4-.4-.92-.59-1.43-.59-.52 0-1.04.2-1.43.59L10.3 9.45l-7.72 7.72c-.78.78-.78 2.05 0 2.83L4 21.41c.39.39.9.59 1.41.59.51 0 1.02-.2 1.41-.59l7.78-7.78 2.81-2.81c.8-.78.8-2.07 0-2.86zM5.41 20L4 18.59l7.72-7.72 1.47 1.35L5.41 20z\"/>\n",
              "  </svg>\n",
              "      </button>\n",
              "      \n",
              "  <style>\n",
              "    .colab-df-container {\n",
              "      display:flex;\n",
              "      flex-wrap:wrap;\n",
              "      gap: 12px;\n",
              "    }\n",
              "\n",
              "    .colab-df-convert {\n",
              "      background-color: #E8F0FE;\n",
              "      border: none;\n",
              "      border-radius: 50%;\n",
              "      cursor: pointer;\n",
              "      display: none;\n",
              "      fill: #1967D2;\n",
              "      height: 32px;\n",
              "      padding: 0 0 0 0;\n",
              "      width: 32px;\n",
              "    }\n",
              "\n",
              "    .colab-df-convert:hover {\n",
              "      background-color: #E2EBFA;\n",
              "      box-shadow: 0px 1px 2px rgba(60, 64, 67, 0.3), 0px 1px 3px 1px rgba(60, 64, 67, 0.15);\n",
              "      fill: #174EA6;\n",
              "    }\n",
              "\n",
              "    [theme=dark] .colab-df-convert {\n",
              "      background-color: #3B4455;\n",
              "      fill: #D2E3FC;\n",
              "    }\n",
              "\n",
              "    [theme=dark] .colab-df-convert:hover {\n",
              "      background-color: #434B5C;\n",
              "      box-shadow: 0px 1px 3px 1px rgba(0, 0, 0, 0.15);\n",
              "      filter: drop-shadow(0px 1px 2px rgba(0, 0, 0, 0.3));\n",
              "      fill: #FFFFFF;\n",
              "    }\n",
              "  </style>\n",
              "\n",
              "      <script>\n",
              "        const buttonEl =\n",
              "          document.querySelector('#df-89695c43-3b22-47fc-bf96-25564b1cf424 button.colab-df-convert');\n",
              "        buttonEl.style.display =\n",
              "          google.colab.kernel.accessAllowed ? 'block' : 'none';\n",
              "\n",
              "        async function convertToInteractive(key) {\n",
              "          const element = document.querySelector('#df-89695c43-3b22-47fc-bf96-25564b1cf424');\n",
              "          const dataTable =\n",
              "            await google.colab.kernel.invokeFunction('convertToInteractive',\n",
              "                                                     [key], {});\n",
              "          if (!dataTable) return;\n",
              "\n",
              "          const docLinkHtml = 'Like what you see? Visit the ' +\n",
              "            '<a target=\"_blank\" href=https://colab.research.google.com/notebooks/data_table.ipynb>data table notebook</a>'\n",
              "            + ' to learn more about interactive tables.';\n",
              "          element.innerHTML = '';\n",
              "          dataTable['output_type'] = 'display_data';\n",
              "          await google.colab.output.renderOutput(dataTable, element);\n",
              "          const docLink = document.createElement('div');\n",
              "          docLink.innerHTML = docLinkHtml;\n",
              "          element.appendChild(docLink);\n",
              "        }\n",
              "      </script>\n",
              "    </div>\n",
              "  </div>\n",
              "  "
            ]
          },
          "metadata": {},
          "execution_count": 10
        }
      ]
    },
    {
      "cell_type": "code",
      "source": [
        "feature_col = train.columns\n",
        "feature_col = feature_col[:-1]"
      ],
      "metadata": {
        "id": "jNy_jXaBFXF6"
      },
      "execution_count": 11,
      "outputs": []
    },
    {
      "cell_type": "code",
      "source": [
        "train_scale = train.copy()\n",
        "eval_scale = eval.copy()\n",
        "test_scale = test.copy()"
      ],
      "metadata": {
        "id": "PVT2ODbirx-J"
      },
      "execution_count": 13,
      "outputs": []
    },
    {
      "cell_type": "code",
      "source": [
        "for col in feature_col:\n",
        "  new_values = (train_scale[col].values - train_scale[col].values.mean())/train_scale[col].values.std() \n",
        "  train_scale[col] = new_values"
      ],
      "metadata": {
        "id": "DGtsWfAyr3Z9"
      },
      "execution_count": 46,
      "outputs": []
    },
    {
      "cell_type": "code",
      "execution_count": null,
      "metadata": {
        "id": "JXi2oBhdI6Lc"
      },
      "outputs": [],
      "source": [
        "train_features, train_labels = train.loc[:, train.columns != 'label'], train['label']\n",
        "test_features, test_labels = test.loc[:, test.columns != 'label'], test['label']\n",
        "eval_features, eval_labels = eval.loc[:, eval.columns != 'label'], eval['label']"
      ]
    },
    {
      "cell_type": "code",
      "execution_count": null,
      "metadata": {
        "colab": {
          "base_uri": "https://localhost:8080/"
        },
        "id": "jJWjBGoIIZM1",
        "outputId": "c22b50b2-8786-4c11-8607-a997199e6920"
      },
      "outputs": [
        {
          "output_type": "stream",
          "name": "stdout",
          "text": [
            "Training Features Shape: (106336, 336)\n",
            "Training Labels Shape: (106336,)\n",
            "Testing Features Shape: (54210, 336)\n",
            "Testing Labels Shape: (54210,)\n",
            "Validation Features Shape: (35828, 336)\n",
            "Validation Labels Shape: (35828,)\n"
          ]
        }
      ],
      "source": [
        "print('Training Features Shape:', train_features.shape)\n",
        "print('Training Labels Shape:', train_labels.shape)\n",
        "print('Testing Features Shape:', test_features.shape)\n",
        "print('Testing Labels Shape:', test_labels.shape)\n",
        "print('Validation Features Shape:', eval_features.shape)\n",
        "print('Validation Labels Shape:', eval_labels.shape)"
      ]
    },
    {
      "cell_type": "code",
      "source": [
        "for col in feature_col:\n",
        "  train_scale[col] = scale(train_scale[col].values)\n",
        "  eval_scale[col] = scale(eval_scale[col].values)"
      ],
      "metadata": {
        "id": "5B3yfZuoE_aR"
      },
      "execution_count": null,
      "outputs": []
    },
    {
      "cell_type": "code",
      "source": [
        "std_f_True = []\n",
        "mean_f_True = []\n",
        "std_f_False = []\n",
        "mean_f_False = []\n",
        "for col in feature_col:\n",
        "  data1 = train_scale[train_scale['label'] == True]\n",
        "  data2 = train_scale[train_scale['label'] == False]\n",
        "  mean_f_True.append(data1[col].values.mean())\n",
        "  std_f_True.append(data1[col].values.std())\n",
        "  mean_f_False.append(data2[col].values.mean())\n",
        "  std_f_False.append(data2[col].values.std())"
      ],
      "metadata": {
        "id": "nf9t3gx48WPV"
      },
      "execution_count": null,
      "outputs": []
    },
    {
      "cell_type": "code",
      "source": [
        "std_eval_True = []\n",
        "mean_eval_True = []\n",
        "std_eval_False = []\n",
        "mean_eval_False = []\n",
        "for col in feature_col:\n",
        "  data1 = eval_scale[eval_scale['label'] == True]\n",
        "  data2 = eval_scale[eval_scale['label'] == False]\n",
        "  mean_eval_True.append(data1[col].values.mean())\n",
        "  std_eval_True.append(data1[col].values.std())\n",
        "  mean_eval_False.append(data2[col].values.mean())\n",
        "  std_eval_False.append(data2[col].values.std())"
      ],
      "metadata": {
        "id": "AnUJKHoxDTIR"
      },
      "execution_count": null,
      "outputs": []
    },
    {
      "cell_type": "code",
      "source": [
        "train_scale.shape"
      ],
      "metadata": {
        "colab": {
          "base_uri": "https://localhost:8080/"
        },
        "id": "mkz9gr-xkADM",
        "outputId": "fa15b657-dc83-4bda-d01d-b78857b8683c"
      },
      "execution_count": null,
      "outputs": [
        {
          "output_type": "execute_result",
          "data": {
            "text/plain": [
              "(106336, 337)"
            ]
          },
          "metadata": {},
          "execution_count": 27
        }
      ]
    },
    {
      "cell_type": "code",
      "source": [
        "train_scale[train_scale['label'] == True][2]"
      ],
      "metadata": {
        "colab": {
          "base_uri": "https://localhost:8080/"
        },
        "id": "wMDIU_QnjhHS",
        "outputId": "e1039221-4400-4b71-aaee-a1d5b23ac3eb"
      },
      "execution_count": null,
      "outputs": [
        {
          "output_type": "execute_result",
          "data": {
            "text/plain": [
              "1972     -0.070136\n",
              "1973     -0.070136\n",
              "1974     -0.013106\n",
              "1975     -0.013106\n",
              "1976     -0.013106\n",
              "            ...   \n",
              "903497    0.191672\n",
              "903498    0.191672\n",
              "903499    0.191672\n",
              "903500    0.191672\n",
              "903501   -0.286280\n",
              "Name: 2, Length: 53168, dtype: float64"
            ]
          },
          "metadata": {},
          "execution_count": 25
        }
      ]
    },
    {
      "cell_type": "code",
      "source": [
        "for i in train_scale[1].values:\n",
        "  q75,q25 = np.percentile(train_scale[1].loc,[75,25])\n",
        "  intr_qr = q75-q25\n",
        " \n",
        "  max = q75+(1.5*intr_qr)\n",
        "  min = q25-(1.5*intr_qr)\n",
        " \n",
        "  train_scale[1].loc[train_scale[1][i] < min,i] = np.nan\n",
        "  train_sclale.loc[train_sclale[i] > max,i] = np.nan"
      ],
      "metadata": {
        "colab": {
          "base_uri": "https://localhost:8080/",
          "height": 429
        },
        "id": "Nw9sY5piuk16",
        "outputId": "4073b1fe-6235-434c-8194-54d1f967e7d8"
      },
      "execution_count": 50,
      "outputs": [
        {
          "output_type": "error",
          "ename": "TypeError",
          "evalue": "ignored",
          "traceback": [
            "\u001b[0;31m---------------------------------------------------------------------------\u001b[0m",
            "\u001b[0;31mTypeError\u001b[0m                                 Traceback (most recent call last)",
            "\u001b[0;32m<ipython-input-50-1c3b333367cd>\u001b[0m in \u001b[0;36m<module>\u001b[0;34m()\u001b[0m\n\u001b[1;32m      1\u001b[0m \u001b[0;32mfor\u001b[0m \u001b[0mi\u001b[0m \u001b[0;32min\u001b[0m \u001b[0mtrain_scale\u001b[0m\u001b[0;34m[\u001b[0m\u001b[0;36m1\u001b[0m\u001b[0;34m]\u001b[0m\u001b[0;34m.\u001b[0m\u001b[0mvalues\u001b[0m\u001b[0;34m:\u001b[0m\u001b[0;34m\u001b[0m\u001b[0;34m\u001b[0m\u001b[0m\n\u001b[0;32m----> 2\u001b[0;31m   \u001b[0mq75\u001b[0m\u001b[0;34m,\u001b[0m\u001b[0mq25\u001b[0m \u001b[0;34m=\u001b[0m \u001b[0mnp\u001b[0m\u001b[0;34m.\u001b[0m\u001b[0mpercentile\u001b[0m\u001b[0;34m(\u001b[0m\u001b[0mtrain_scale\u001b[0m\u001b[0;34m[\u001b[0m\u001b[0;36m1\u001b[0m\u001b[0;34m]\u001b[0m\u001b[0;34m.\u001b[0m\u001b[0mloc\u001b[0m\u001b[0;34m,\u001b[0m\u001b[0;34m[\u001b[0m\u001b[0;36m75\u001b[0m\u001b[0;34m,\u001b[0m\u001b[0;36m25\u001b[0m\u001b[0;34m]\u001b[0m\u001b[0;34m)\u001b[0m\u001b[0;34m\u001b[0m\u001b[0;34m\u001b[0m\u001b[0m\n\u001b[0m\u001b[1;32m      3\u001b[0m   \u001b[0mintr_qr\u001b[0m \u001b[0;34m=\u001b[0m \u001b[0mq75\u001b[0m\u001b[0;34m-\u001b[0m\u001b[0mq25\u001b[0m\u001b[0;34m\u001b[0m\u001b[0;34m\u001b[0m\u001b[0m\n\u001b[1;32m      4\u001b[0m \u001b[0;34m\u001b[0m\u001b[0m\n\u001b[1;32m      5\u001b[0m   \u001b[0mmax\u001b[0m \u001b[0;34m=\u001b[0m \u001b[0mq75\u001b[0m\u001b[0;34m+\u001b[0m\u001b[0;34m(\u001b[0m\u001b[0;36m1.5\u001b[0m\u001b[0;34m*\u001b[0m\u001b[0mintr_qr\u001b[0m\u001b[0;34m)\u001b[0m\u001b[0;34m\u001b[0m\u001b[0;34m\u001b[0m\u001b[0m\n",
            "\u001b[0;32m<__array_function__ internals>\u001b[0m in \u001b[0;36mpercentile\u001b[0;34m(*args, **kwargs)\u001b[0m\n",
            "\u001b[0;32m/usr/local/lib/python3.7/dist-packages/numpy/lib/function_base.py\u001b[0m in \u001b[0;36mpercentile\u001b[0;34m(a, q, axis, out, overwrite_input, interpolation, keepdims)\u001b[0m\n\u001b[1;32m   3866\u001b[0m         \u001b[0;32mraise\u001b[0m \u001b[0mValueError\u001b[0m\u001b[0;34m(\u001b[0m\u001b[0;34m\"Percentiles must be in the range [0, 100]\"\u001b[0m\u001b[0;34m)\u001b[0m\u001b[0;34m\u001b[0m\u001b[0;34m\u001b[0m\u001b[0m\n\u001b[1;32m   3867\u001b[0m     return _quantile_unchecked(\n\u001b[0;32m-> 3868\u001b[0;31m         a, q, axis, out, overwrite_input, interpolation, keepdims)\n\u001b[0m\u001b[1;32m   3869\u001b[0m \u001b[0;34m\u001b[0m\u001b[0m\n\u001b[1;32m   3870\u001b[0m \u001b[0;34m\u001b[0m\u001b[0m\n",
            "\u001b[0;32m/usr/local/lib/python3.7/dist-packages/numpy/lib/function_base.py\u001b[0m in \u001b[0;36m_quantile_unchecked\u001b[0;34m(a, q, axis, out, overwrite_input, interpolation, keepdims)\u001b[0m\n\u001b[1;32m   3986\u001b[0m     r, k = _ureduce(a, func=_quantile_ureduce_func, q=q, axis=axis, out=out,\n\u001b[1;32m   3987\u001b[0m                     \u001b[0moverwrite_input\u001b[0m\u001b[0;34m=\u001b[0m\u001b[0moverwrite_input\u001b[0m\u001b[0;34m,\u001b[0m\u001b[0;34m\u001b[0m\u001b[0;34m\u001b[0m\u001b[0m\n\u001b[0;32m-> 3988\u001b[0;31m                     interpolation=interpolation)\n\u001b[0m\u001b[1;32m   3989\u001b[0m     \u001b[0;32mif\u001b[0m \u001b[0mkeepdims\u001b[0m\u001b[0;34m:\u001b[0m\u001b[0;34m\u001b[0m\u001b[0;34m\u001b[0m\u001b[0m\n\u001b[1;32m   3990\u001b[0m         \u001b[0;32mreturn\u001b[0m \u001b[0mr\u001b[0m\u001b[0;34m.\u001b[0m\u001b[0mreshape\u001b[0m\u001b[0;34m(\u001b[0m\u001b[0mq\u001b[0m\u001b[0;34m.\u001b[0m\u001b[0mshape\u001b[0m \u001b[0;34m+\u001b[0m \u001b[0mk\u001b[0m\u001b[0;34m)\u001b[0m\u001b[0;34m\u001b[0m\u001b[0;34m\u001b[0m\u001b[0m\n",
            "\u001b[0;32m/usr/local/lib/python3.7/dist-packages/numpy/lib/function_base.py\u001b[0m in \u001b[0;36m_ureduce\u001b[0;34m(a, func, **kwargs)\u001b[0m\n\u001b[1;32m   3562\u001b[0m         \u001b[0mkeepdim\u001b[0m \u001b[0;34m=\u001b[0m \u001b[0;34m(\u001b[0m\u001b[0;36m1\u001b[0m\u001b[0;34m,\u001b[0m\u001b[0;34m)\u001b[0m \u001b[0;34m*\u001b[0m \u001b[0ma\u001b[0m\u001b[0;34m.\u001b[0m\u001b[0mndim\u001b[0m\u001b[0;34m\u001b[0m\u001b[0;34m\u001b[0m\u001b[0m\n\u001b[1;32m   3563\u001b[0m \u001b[0;34m\u001b[0m\u001b[0m\n\u001b[0;32m-> 3564\u001b[0;31m     \u001b[0mr\u001b[0m \u001b[0;34m=\u001b[0m \u001b[0mfunc\u001b[0m\u001b[0;34m(\u001b[0m\u001b[0ma\u001b[0m\u001b[0;34m,\u001b[0m \u001b[0;34m**\u001b[0m\u001b[0mkwargs\u001b[0m\u001b[0;34m)\u001b[0m\u001b[0;34m\u001b[0m\u001b[0;34m\u001b[0m\u001b[0m\n\u001b[0m\u001b[1;32m   3565\u001b[0m     \u001b[0;32mreturn\u001b[0m \u001b[0mr\u001b[0m\u001b[0;34m,\u001b[0m \u001b[0mkeepdim\u001b[0m\u001b[0;34m\u001b[0m\u001b[0;34m\u001b[0m\u001b[0m\n\u001b[1;32m   3566\u001b[0m \u001b[0;34m\u001b[0m\u001b[0m\n",
            "\u001b[0;32m/usr/local/lib/python3.7/dist-packages/numpy/lib/function_base.py\u001b[0m in \u001b[0;36m_quantile_ureduce_func\u001b[0;34m(***failed resolving arguments***)\u001b[0m\n\u001b[1;32m   4110\u001b[0m         \u001b[0mx_above\u001b[0m \u001b[0;34m=\u001b[0m \u001b[0mtake\u001b[0m\u001b[0;34m(\u001b[0m\u001b[0map\u001b[0m\u001b[0;34m,\u001b[0m \u001b[0mindices_above\u001b[0m\u001b[0;34m,\u001b[0m \u001b[0maxis\u001b[0m\u001b[0;34m=\u001b[0m\u001b[0;36m0\u001b[0m\u001b[0;34m)\u001b[0m\u001b[0;34m\u001b[0m\u001b[0;34m\u001b[0m\u001b[0m\n\u001b[1;32m   4111\u001b[0m \u001b[0;34m\u001b[0m\u001b[0m\n\u001b[0;32m-> 4112\u001b[0;31m         \u001b[0mr\u001b[0m \u001b[0;34m=\u001b[0m \u001b[0m_lerp\u001b[0m\u001b[0;34m(\u001b[0m\u001b[0mx_below\u001b[0m\u001b[0;34m,\u001b[0m \u001b[0mx_above\u001b[0m\u001b[0;34m,\u001b[0m \u001b[0mweights_above\u001b[0m\u001b[0;34m,\u001b[0m \u001b[0mout\u001b[0m\u001b[0;34m=\u001b[0m\u001b[0mout\u001b[0m\u001b[0;34m)\u001b[0m\u001b[0;34m\u001b[0m\u001b[0;34m\u001b[0m\u001b[0m\n\u001b[0m\u001b[1;32m   4113\u001b[0m \u001b[0;34m\u001b[0m\u001b[0m\n\u001b[1;32m   4114\u001b[0m     \u001b[0;31m# if any slice contained a nan, then all results on that slice are also nan\u001b[0m\u001b[0;34m\u001b[0m\u001b[0;34m\u001b[0m\u001b[0;34m\u001b[0m\u001b[0m\n",
            "\u001b[0;32m/usr/local/lib/python3.7/dist-packages/numpy/lib/function_base.py\u001b[0m in \u001b[0;36m_lerp\u001b[0;34m(a, b, t, out)\u001b[0m\n\u001b[1;32m   4007\u001b[0m \u001b[0;32mdef\u001b[0m \u001b[0m_lerp\u001b[0m\u001b[0;34m(\u001b[0m\u001b[0ma\u001b[0m\u001b[0;34m,\u001b[0m \u001b[0mb\u001b[0m\u001b[0;34m,\u001b[0m \u001b[0mt\u001b[0m\u001b[0;34m,\u001b[0m \u001b[0mout\u001b[0m\u001b[0;34m=\u001b[0m\u001b[0;32mNone\u001b[0m\u001b[0;34m)\u001b[0m\u001b[0;34m:\u001b[0m\u001b[0;34m\u001b[0m\u001b[0;34m\u001b[0m\u001b[0m\n\u001b[1;32m   4008\u001b[0m     \u001b[0;34m\"\"\" Linearly interpolate from a to b by a factor of t \"\"\"\u001b[0m\u001b[0;34m\u001b[0m\u001b[0;34m\u001b[0m\u001b[0m\n\u001b[0;32m-> 4009\u001b[0;31m     \u001b[0mdiff_b_a\u001b[0m \u001b[0;34m=\u001b[0m \u001b[0msubtract\u001b[0m\u001b[0;34m(\u001b[0m\u001b[0mb\u001b[0m\u001b[0;34m,\u001b[0m \u001b[0ma\u001b[0m\u001b[0;34m)\u001b[0m\u001b[0;34m\u001b[0m\u001b[0;34m\u001b[0m\u001b[0m\n\u001b[0m\u001b[1;32m   4010\u001b[0m     \u001b[0;31m# asanyarray is a stop-gap until gh-13105\u001b[0m\u001b[0;34m\u001b[0m\u001b[0;34m\u001b[0m\u001b[0;34m\u001b[0m\u001b[0m\n\u001b[1;32m   4011\u001b[0m     \u001b[0mlerp_interpolation\u001b[0m \u001b[0;34m=\u001b[0m \u001b[0masanyarray\u001b[0m\u001b[0;34m(\u001b[0m\u001b[0madd\u001b[0m\u001b[0;34m(\u001b[0m\u001b[0ma\u001b[0m\u001b[0;34m,\u001b[0m \u001b[0mdiff_b_a\u001b[0m\u001b[0;34m*\u001b[0m\u001b[0mt\u001b[0m\u001b[0;34m,\u001b[0m \u001b[0mout\u001b[0m\u001b[0;34m=\u001b[0m\u001b[0mout\u001b[0m\u001b[0;34m)\u001b[0m\u001b[0;34m)\u001b[0m\u001b[0;34m\u001b[0m\u001b[0;34m\u001b[0m\u001b[0m\n",
            "\u001b[0;31mTypeError\u001b[0m: unsupported operand type(s) for -: '_LocIndexer' and '_LocIndexer'"
          ]
        }
      ]
    },
    {
      "cell_type": "code",
      "source": [
        "fig = pl.figure(figsize = (10,7))\n",
        "pl.boxplot(train_scale[train_scale['label'] == True][300])"
      ],
      "metadata": {
        "colab": {
          "base_uri": "https://localhost:8080/",
          "height": 573
        },
        "id": "Vkh-gv_Nizp3",
        "outputId": "b20067a7-f1e1-4e8b-d3af-9247ff10ad56"
      },
      "execution_count": 47,
      "outputs": [
        {
          "output_type": "execute_result",
          "data": {
            "text/plain": [
              "{'boxes': [<matplotlib.lines.Line2D at 0x7ff1ca48a510>],\n",
              " 'caps': [<matplotlib.lines.Line2D at 0x7ff1ca410590>,\n",
              "  <matplotlib.lines.Line2D at 0x7ff1ca410ad0>],\n",
              " 'fliers': [<matplotlib.lines.Line2D at 0x7ff1ca4175d0>],\n",
              " 'means': [],\n",
              " 'medians': [<matplotlib.lines.Line2D at 0x7ff1ca417090>],\n",
              " 'whiskers': [<matplotlib.lines.Line2D at 0x7ff1ca48aad0>,\n",
              "  <matplotlib.lines.Line2D at 0x7ff1ca410050>]}"
            ]
          },
          "metadata": {},
          "execution_count": 47
        },
        {
          "output_type": "display_data",
          "data": {
            "text/plain": [
              "<Figure size 720x504 with 1 Axes>"
            ],
            "image/png": "[encoded data removed]"
          },
          "metadata": {
            "needs_background": "light"
          }
        }
      ]
    },
    {
      "cell_type": "code",
      "source": [
        "fig = pl.figure(figsize = (10,7))\n",
        "pl.boxplot(train[train['label'] == True][300])"
      ],
      "metadata": {
        "colab": {
          "base_uri": "https://localhost:8080/",
          "height": 577
        },
        "id": "KNt-iLL3uYym",
        "outputId": "062e4da2-09a8-43d9-ee5f-ff5e3d7cf4b1"
      },
      "execution_count": 48,
      "outputs": [
        {
          "output_type": "execute_result",
          "data": {
            "text/plain": [
              "{'boxes': [<matplotlib.lines.Line2D at 0x7ff1ca3f9250>],\n",
              " 'caps': [<matplotlib.lines.Line2D at 0x7ff1ca4002d0>,\n",
              "  <matplotlib.lines.Line2D at 0x7ff1ca400810>],\n",
              " 'fliers': [<matplotlib.lines.Line2D at 0x7ff1ca408310>],\n",
              " 'means': [],\n",
              " 'medians': [<matplotlib.lines.Line2D at 0x7ff1ca400d90>],\n",
              " 'whiskers': [<matplotlib.lines.Line2D at 0x7ff1ca3f9810>,\n",
              "  <matplotlib.lines.Line2D at 0x7ff1ca3f9d50>]}"
            ]
          },
          "metadata": {},
          "execution_count": 48
        },
        {
          "output_type": "display_data",
          "data": {
            "text/plain": [
              "<Figure size 720x504 with 1 Axes>"
            ],
            "image/png": "[encoded data removed]"
          },
          "metadata": {
            "needs_background": "light"
          }
        }
      ]
    },
    {
      "cell_type": "code",
      "source": [
        "pl.figure(figsize = (10,20))\n",
        "for feature_index, (value0, value1) in enumerate(zip(mean_f_True[:17], std_f_True[:17])):\n",
        "  y = [feature_index]*3\n",
        "  tmp = [value0 - value1, value0, value0 + value1]\n",
        "  pl.plot(tmp, y, color = 'blue')\n",
        "for feature_index, (value0, value1) in enumerate(zip(mean_f_False[:17], std_f_False[:17])):\n",
        "  y = [feature_index + 0.5]*3\n",
        "  tmp = [value0 - value1, value0, value0 + value1]\n",
        "  pl.plot(tmp, y, color = 'red')\n",
        "'''for feature_index, (value0, value1) in enumerate(zip(mean_eval_True[:12], std_eval_True[:12])):\n",
        "  y = [feature_index + 0.5]*3\n",
        "  tmp = [value0 - value1, value0, value0 + value1]\n",
        "  pl.plot(tmp, y, color = 'green')\n",
        "for feature_index, (value0, value1) in enumerate(zip(mean_eval_False[:12], std_eval_False[:12])):\n",
        "  y = [feature_index + 0.75]*3\n",
        "  tmp = [value0 - value1, value0, value0 + value1]\n",
        "  pl.plot(tmp, y, color = 'black')'''\n",
        "pl.legend();"
      ],
      "metadata": {
        "colab": {
          "base_uri": "https://localhost:8080/",
          "height": 1000
        },
        "id": "I0zBdNYC-El9",
        "outputId": "3a0f9546-cbac-42ed-dc93-7e0221d85423"
      },
      "execution_count": null,
      "outputs": [
        {
          "output_type": "stream",
          "name": "stderr",
          "text": [
            "No handles with labels found to put in legend.\n"
          ]
        },
        {
          "output_type": "display_data",
          "data": {
            "text/plain": [
              "<Figure size 720x1440 with 1 Axes>"
            ],
            "image/png": "[encoded data removed]"
          },
          "metadata": {
            "needs_background": "light"
          }
        }
      ]
    },
    {
      "cell_type": "code",
      "source": [
        "train_s = train_scale.loc[:, train_scale.columns != 'label']\n",
        "pca = PCA(n_components=50)\n",
        "new_features = pca.fit_transform(train_s)"
      ],
      "metadata": {
        "id": "gChK2uDwKMfK"
      },
      "execution_count": null,
      "outputs": []
    },
    {
      "cell_type": "code",
      "source": [
        "eval_s = eval_scale.loc[:, eval_scale.columns != 'label']\n",
        "new_eval_features = pca.transform(eval_s)"
      ],
      "metadata": {
        "id": "SWu83wXhK8OW"
      },
      "execution_count": null,
      "outputs": []
    },
    {
      "cell_type": "code",
      "execution_count": null,
      "metadata": {
        "id": "MNoIH64hIbAD"
      },
      "outputs": [],
      "source": [
        "# Instantiate model with 1000 decision trees\n",
        "# n_estimators = 100 standard, won't cause overfitting but increases complexity\n",
        "# max_depth - really important for accuracy, causes overfitiing\n",
        "# We generally keep min_samples_split value between 2 and 6\n",
        "# min_samples_leaf: less - overfitting, more - decreased number of parameters, basic - 1\n",
        "rf = RandomForestClassifier(\n",
        "    n_estimators = 600, random_state = 20, min_samples_leaf = 2, min_samples_split = 2, max_depth = 8\n",
        ")\n",
        "# Train the model on training data\n",
        "rf.fit(new_features, train_labels);"
      ]
    },
    {
      "cell_type": "code",
      "execution_count": null,
      "metadata": {
        "id": "D2RJAkFfIgU1"
      },
      "outputs": [],
      "source": [
        "# Use the forest's predict method on the test data\n",
        "predictions = rf.predict(new_eval_features)"
      ]
    },
    {
      "cell_type": "code",
      "execution_count": null,
      "metadata": {
        "id": "OiB7NJZOIkX8"
      },
      "outputs": [],
      "source": [
        "train_score = rf.score(new_features, train_labels)\n",
        "eval_score = rf.score(new_eval_features, eval_labels)"
      ]
    },
    {
      "cell_type": "code",
      "execution_count": null,
      "metadata": {
        "id": "bevLy1F6Il6a",
        "colab": {
          "base_uri": "https://localhost:8080/"
        },
        "outputId": "59a7bd8a-fecb-4304-dbbd-927949e48bc1"
      },
      "outputs": [
        {
          "output_type": "stream",
          "name": "stdout",
          "text": [
            "During training, the accuracy score was 0.999\n",
            "During validation, the accuracy score was 0.631\n"
          ]
        }
      ],
      "source": [
        "print('During training, the accuracy score was ' + str(round(train_score, 3)))\n",
        "print('During validation, the accuracy score was ' + str(round(eval_score, 3)))"
      ]
    },
    {
      "cell_type": "code",
      "execution_count": null,
      "metadata": {
        "id": "soiMAirSIpMO",
        "colab": {
          "base_uri": "https://localhost:8080/"
        },
        "outputId": "0380792e-de01-491d-e9b8-b7713360267c"
      },
      "outputs": [
        {
          "output_type": "stream",
          "name": "stdout",
          "text": [
            "Variable:                   11 Importance: 0.01\n",
            "Variable:                   12 Importance: 0.01\n",
            "Variable:                   13 Importance: 0.01\n",
            "Variable:                   27 Importance: 0.01\n",
            "Variable:                   28 Importance: 0.01\n",
            "Variable:                   29 Importance: 0.01\n",
            "Variable:                   43 Importance: 0.01\n",
            "Variable:                   59 Importance: 0.01\n",
            "Variable:                   75 Importance: 0.01\n",
            "Variable:                   91 Importance: 0.01\n",
            "Variable:                  107 Importance: 0.01\n",
            "Variable:                  123 Importance: 0.01\n",
            "Variable:                  139 Importance: 0.01\n",
            "Variable:                  155 Importance: 0.01\n",
            "Variable:                  157 Importance: 0.01\n",
            "Variable:                  171 Importance: 0.01\n",
            "Variable:                  172 Importance: 0.01\n",
            "Variable:                  173 Importance: 0.01\n",
            "Variable:                  175 Importance: 0.01\n",
            "Variable:                  187 Importance: 0.01\n",
            "Variable:                  188 Importance: 0.01\n",
            "Variable:                  189 Importance: 0.01\n",
            "Variable:                  203 Importance: 0.01\n",
            "Variable:                  219 Importance: 0.01\n",
            "Variable:                  251 Importance: 0.01\n",
            "Variable:                  261 Importance: 0.01\n",
            "Variable:                  270 Importance: 0.01\n",
            "Variable:                  277 Importance: 0.01\n",
            "Variable:                  286 Importance: 0.01\n",
            "Variable:                  309 Importance: 0.01\n",
            "Variable:                  315 Importance: 0.01\n",
            "Variable:                  331 Importance: 0.01\n",
            "Variable:                    0 Importance: 0.0\n",
            "Variable:                    1 Importance: 0.0\n",
            "Variable:                    2 Importance: 0.0\n",
            "Variable:                    3 Importance: 0.0\n",
            "Variable:                    4 Importance: 0.0\n",
            "Variable:                    5 Importance: 0.0\n",
            "Variable:                    6 Importance: 0.0\n",
            "Variable:                    7 Importance: 0.0\n",
            "Variable:                    8 Importance: 0.0\n",
            "Variable:                    9 Importance: 0.0\n",
            "Variable:                   10 Importance: 0.0\n",
            "Variable:                   14 Importance: 0.0\n",
            "Variable:                   15 Importance: 0.0\n",
            "Variable:                   16 Importance: 0.0\n",
            "Variable:                   17 Importance: 0.0\n",
            "Variable:                   18 Importance: 0.0\n",
            "Variable:                   19 Importance: 0.0\n",
            "Variable:                   20 Importance: 0.0\n",
            "Variable:                   21 Importance: 0.0\n",
            "Variable:                   22 Importance: 0.0\n",
            "Variable:                   23 Importance: 0.0\n",
            "Variable:                   24 Importance: 0.0\n",
            "Variable:                   25 Importance: 0.0\n",
            "Variable:                   26 Importance: 0.0\n",
            "Variable:                   30 Importance: 0.0\n",
            "Variable:                   31 Importance: 0.0\n",
            "Variable:                   32 Importance: 0.0\n",
            "Variable:                   33 Importance: 0.0\n",
            "Variable:                   34 Importance: 0.0\n",
            "Variable:                   35 Importance: 0.0\n",
            "Variable:                   36 Importance: 0.0\n",
            "Variable:                   37 Importance: 0.0\n",
            "Variable:                   38 Importance: 0.0\n",
            "Variable:                   39 Importance: 0.0\n",
            "Variable:                   40 Importance: 0.0\n",
            "Variable:                   41 Importance: 0.0\n",
            "Variable:                   42 Importance: 0.0\n",
            "Variable:                   44 Importance: 0.0\n",
            "Variable:                   45 Importance: 0.0\n",
            "Variable:                   46 Importance: 0.0\n",
            "Variable:                   47 Importance: 0.0\n",
            "Variable:                   48 Importance: 0.0\n",
            "Variable:                   49 Importance: 0.0\n",
            "Variable:                   50 Importance: 0.0\n",
            "Variable:                   51 Importance: 0.0\n",
            "Variable:                   52 Importance: 0.0\n",
            "Variable:                   53 Importance: 0.0\n",
            "Variable:                   54 Importance: 0.0\n",
            "Variable:                   55 Importance: 0.0\n",
            "Variable:                   56 Importance: 0.0\n",
            "Variable:                   57 Importance: 0.0\n",
            "Variable:                   58 Importance: 0.0\n",
            "Variable:                   60 Importance: 0.0\n",
            "Variable:                   61 Importance: 0.0\n",
            "Variable:                   62 Importance: 0.0\n",
            "Variable:                   63 Importance: 0.0\n",
            "Variable:                   64 Importance: 0.0\n",
            "Variable:                   65 Importance: 0.0\n",
            "Variable:                   66 Importance: 0.0\n",
            "Variable:                   67 Importance: 0.0\n",
            "Variable:                   68 Importance: 0.0\n",
            "Variable:                   69 Importance: 0.0\n",
            "Variable:                   70 Importance: 0.0\n",
            "Variable:                   71 Importance: 0.0\n",
            "Variable:                   72 Importance: 0.0\n",
            "Variable:                   73 Importance: 0.0\n",
            "Variable:                   74 Importance: 0.0\n",
            "Variable:                   76 Importance: 0.0\n",
            "Variable:                   77 Importance: 0.0\n",
            "Variable:                   78 Importance: 0.0\n",
            "Variable:                   79 Importance: 0.0\n",
            "Variable:                   80 Importance: 0.0\n",
            "Variable:                   81 Importance: 0.0\n",
            "Variable:                   82 Importance: 0.0\n",
            "Variable:                   83 Importance: 0.0\n",
            "Variable:                   84 Importance: 0.0\n",
            "Variable:                   85 Importance: 0.0\n",
            "Variable:                   86 Importance: 0.0\n",
            "Variable:                   87 Importance: 0.0\n",
            "Variable:                   88 Importance: 0.0\n",
            "Variable:                   89 Importance: 0.0\n",
            "Variable:                   90 Importance: 0.0\n",
            "Variable:                   92 Importance: 0.0\n",
            "Variable:                   93 Importance: 0.0\n",
            "Variable:                   94 Importance: 0.0\n",
            "Variable:                   95 Importance: 0.0\n",
            "Variable:                   96 Importance: 0.0\n",
            "Variable:                   97 Importance: 0.0\n",
            "Variable:                   98 Importance: 0.0\n",
            "Variable:                   99 Importance: 0.0\n",
            "Variable:                  100 Importance: 0.0\n",
            "Variable:                  101 Importance: 0.0\n",
            "Variable:                  102 Importance: 0.0\n",
            "Variable:                  103 Importance: 0.0\n",
            "Variable:                  104 Importance: 0.0\n",
            "Variable:                  105 Importance: 0.0\n",
            "Variable:                  106 Importance: 0.0\n",
            "Variable:                  108 Importance: 0.0\n",
            "Variable:                  109 Importance: 0.0\n",
            "Variable:                  110 Importance: 0.0\n",
            "Variable:                  111 Importance: 0.0\n",
            "Variable:                  112 Importance: 0.0\n",
            "Variable:                  113 Importance: 0.0\n",
            "Variable:                  114 Importance: 0.0\n",
            "Variable:                  115 Importance: 0.0\n",
            "Variable:                  116 Importance: 0.0\n",
            "Variable:                  117 Importance: 0.0\n",
            "Variable:                  118 Importance: 0.0\n",
            "Variable:                  119 Importance: 0.0\n",
            "Variable:                  120 Importance: 0.0\n",
            "Variable:                  121 Importance: 0.0\n",
            "Variable:                  122 Importance: 0.0\n",
            "Variable:                  124 Importance: 0.0\n",
            "Variable:                  125 Importance: 0.0\n",
            "Variable:                  126 Importance: 0.0\n",
            "Variable:                  127 Importance: 0.0\n",
            "Variable:                  128 Importance: 0.0\n",
            "Variable:                  129 Importance: 0.0\n",
            "Variable:                  130 Importance: 0.0\n",
            "Variable:                  131 Importance: 0.0\n",
            "Variable:                  132 Importance: 0.0\n",
            "Variable:                  133 Importance: 0.0\n",
            "Variable:                  134 Importance: 0.0\n",
            "Variable:                  135 Importance: 0.0\n",
            "Variable:                  136 Importance: 0.0\n",
            "Variable:                  137 Importance: 0.0\n",
            "Variable:                  138 Importance: 0.0\n",
            "Variable:                  140 Importance: 0.0\n",
            "Variable:                  141 Importance: 0.0\n",
            "Variable:                  142 Importance: 0.0\n",
            "Variable:                  143 Importance: 0.0\n",
            "Variable:                  144 Importance: 0.0\n",
            "Variable:                  145 Importance: 0.0\n",
            "Variable:                  146 Importance: 0.0\n",
            "Variable:                  147 Importance: 0.0\n",
            "Variable:                  148 Importance: 0.0\n",
            "Variable:                  149 Importance: 0.0\n",
            "Variable:                  150 Importance: 0.0\n",
            "Variable:                  151 Importance: 0.0\n",
            "Variable:                  152 Importance: 0.0\n",
            "Variable:                  153 Importance: 0.0\n",
            "Variable:                  154 Importance: 0.0\n",
            "Variable:                  156 Importance: 0.0\n",
            "Variable:                  158 Importance: 0.0\n",
            "Variable:                  159 Importance: 0.0\n",
            "Variable:                  160 Importance: 0.0\n",
            "Variable:                  161 Importance: 0.0\n",
            "Variable:                  162 Importance: 0.0\n",
            "Variable:                  163 Importance: 0.0\n",
            "Variable:                  164 Importance: 0.0\n",
            "Variable:                  165 Importance: 0.0\n",
            "Variable:                  166 Importance: 0.0\n",
            "Variable:                  167 Importance: 0.0\n",
            "Variable:                  168 Importance: 0.0\n",
            "Variable:                  169 Importance: 0.0\n",
            "Variable:                  170 Importance: 0.0\n",
            "Variable:                  174 Importance: 0.0\n",
            "Variable:                  176 Importance: 0.0\n",
            "Variable:                  177 Importance: 0.0\n",
            "Variable:                  178 Importance: 0.0\n",
            "Variable:                  179 Importance: 0.0\n",
            "Variable:                  180 Importance: 0.0\n",
            "Variable:                  181 Importance: 0.0\n",
            "Variable:                  182 Importance: 0.0\n",
            "Variable:                  183 Importance: 0.0\n",
            "Variable:                  184 Importance: 0.0\n",
            "Variable:                  185 Importance: 0.0\n",
            "Variable:                  186 Importance: 0.0\n",
            "Variable:                  190 Importance: 0.0\n",
            "Variable:                  191 Importance: 0.0\n",
            "Variable:                  192 Importance: 0.0\n",
            "Variable:                  193 Importance: 0.0\n",
            "Variable:                  194 Importance: 0.0\n",
            "Variable:                  195 Importance: 0.0\n",
            "Variable:                  196 Importance: 0.0\n",
            "Variable:                  197 Importance: 0.0\n",
            "Variable:                  198 Importance: 0.0\n",
            "Variable:                  199 Importance: 0.0\n",
            "Variable:                  200 Importance: 0.0\n",
            "Variable:                  201 Importance: 0.0\n",
            "Variable:                  202 Importance: 0.0\n",
            "Variable:                  204 Importance: 0.0\n",
            "Variable:                  205 Importance: 0.0\n",
            "Variable:                  206 Importance: 0.0\n",
            "Variable:                  207 Importance: 0.0\n",
            "Variable:                  208 Importance: 0.0\n",
            "Variable:                  209 Importance: 0.0\n",
            "Variable:                  210 Importance: 0.0\n",
            "Variable:                  211 Importance: 0.0\n",
            "Variable:                  212 Importance: 0.0\n",
            "Variable:                  213 Importance: 0.0\n",
            "Variable:                  214 Importance: 0.0\n",
            "Variable:                  215 Importance: 0.0\n",
            "Variable:                  216 Importance: 0.0\n",
            "Variable:                  217 Importance: 0.0\n",
            "Variable:                  218 Importance: 0.0\n",
            "Variable:                  220 Importance: 0.0\n",
            "Variable:                  221 Importance: 0.0\n",
            "Variable:                  222 Importance: 0.0\n",
            "Variable:                  223 Importance: 0.0\n",
            "Variable:                  224 Importance: 0.0\n",
            "Variable:                  225 Importance: 0.0\n",
            "Variable:                  226 Importance: 0.0\n",
            "Variable:                  227 Importance: 0.0\n",
            "Variable:                  228 Importance: 0.0\n",
            "Variable:                  229 Importance: 0.0\n",
            "Variable:                  230 Importance: 0.0\n",
            "Variable:                  231 Importance: 0.0\n",
            "Variable:                  232 Importance: 0.0\n",
            "Variable:                  233 Importance: 0.0\n",
            "Variable:                  234 Importance: 0.0\n",
            "Variable:                  235 Importance: 0.0\n",
            "Variable:                  236 Importance: 0.0\n",
            "Variable:                  237 Importance: 0.0\n",
            "Variable:                  238 Importance: 0.0\n",
            "Variable:                  239 Importance: 0.0\n",
            "Variable:                  240 Importance: 0.0\n",
            "Variable:                  241 Importance: 0.0\n",
            "Variable:                  242 Importance: 0.0\n",
            "Variable:                  243 Importance: 0.0\n",
            "Variable:                  244 Importance: 0.0\n",
            "Variable:                  245 Importance: 0.0\n",
            "Variable:                  246 Importance: 0.0\n",
            "Variable:                  247 Importance: 0.0\n",
            "Variable:                  248 Importance: 0.0\n",
            "Variable:                  249 Importance: 0.0\n",
            "Variable:                  250 Importance: 0.0\n",
            "Variable:                  252 Importance: 0.0\n",
            "Variable:                  253 Importance: 0.0\n",
            "Variable:                  254 Importance: 0.0\n",
            "Variable:                  255 Importance: 0.0\n",
            "Variable:                  256 Importance: 0.0\n",
            "Variable:                  257 Importance: 0.0\n",
            "Variable:                  258 Importance: 0.0\n",
            "Variable:                  259 Importance: 0.0\n",
            "Variable:                  260 Importance: 0.0\n",
            "Variable:                  262 Importance: 0.0\n",
            "Variable:                  263 Importance: 0.0\n",
            "Variable:                  264 Importance: 0.0\n",
            "Variable:                  265 Importance: 0.0\n",
            "Variable:                  266 Importance: 0.0\n",
            "Variable:                  267 Importance: 0.0\n",
            "Variable:                  268 Importance: 0.0\n",
            "Variable:                  269 Importance: 0.0\n",
            "Variable:                  271 Importance: 0.0\n",
            "Variable:                  272 Importance: 0.0\n",
            "Variable:                  273 Importance: 0.0\n",
            "Variable:                  274 Importance: 0.0\n",
            "Variable:                  275 Importance: 0.0\n",
            "Variable:                  276 Importance: 0.0\n",
            "Variable:                  278 Importance: 0.0\n",
            "Variable:                  279 Importance: 0.0\n",
            "Variable:                  280 Importance: 0.0\n",
            "Variable:                  281 Importance: 0.0\n",
            "Variable:                  282 Importance: 0.0\n",
            "Variable:                  283 Importance: 0.0\n",
            "Variable:                  284 Importance: 0.0\n",
            "Variable:                  285 Importance: 0.0\n",
            "Variable:                  287 Importance: 0.0\n",
            "Variable:                  288 Importance: 0.0\n",
            "Variable:                  289 Importance: 0.0\n",
            "Variable:                  290 Importance: 0.0\n",
            "Variable:                  291 Importance: 0.0\n",
            "Variable:                  292 Importance: 0.0\n",
            "Variable:                  293 Importance: 0.0\n",
            "Variable:                  294 Importance: 0.0\n",
            "Variable:                  295 Importance: 0.0\n",
            "Variable:                  296 Importance: 0.0\n",
            "Variable:                  297 Importance: 0.0\n",
            "Variable:                  298 Importance: 0.0\n",
            "Variable:                  299 Importance: 0.0\n",
            "Variable:                  300 Importance: 0.0\n",
            "Variable:                  301 Importance: 0.0\n",
            "Variable:                  302 Importance: 0.0\n",
            "Variable:                  303 Importance: 0.0\n",
            "Variable:                  304 Importance: 0.0\n",
            "Variable:                  305 Importance: 0.0\n",
            "Variable:                  306 Importance: 0.0\n",
            "Variable:                  307 Importance: 0.0\n",
            "Variable:                  308 Importance: 0.0\n",
            "Variable:                  310 Importance: 0.0\n",
            "Variable:                  311 Importance: 0.0\n",
            "Variable:                  312 Importance: 0.0\n",
            "Variable:                  313 Importance: 0.0\n",
            "Variable:                  314 Importance: 0.0\n",
            "Variable:                  316 Importance: 0.0\n",
            "Variable:                  317 Importance: 0.0\n",
            "Variable:                  318 Importance: 0.0\n",
            "Variable:                  319 Importance: 0.0\n",
            "Variable:                  320 Importance: 0.0\n",
            "Variable:                  321 Importance: 0.0\n",
            "Variable:                  322 Importance: 0.0\n",
            "Variable:                  323 Importance: 0.0\n",
            "Variable:                  324 Importance: 0.0\n",
            "Variable:                  325 Importance: 0.0\n",
            "Variable:                  326 Importance: 0.0\n",
            "Variable:                  327 Importance: 0.0\n",
            "Variable:                  328 Importance: 0.0\n",
            "Variable:                  329 Importance: 0.0\n",
            "Variable:                  330 Importance: 0.0\n",
            "Variable:                  332 Importance: 0.0\n",
            "Variable:                  333 Importance: 0.0\n",
            "Variable:                  334 Importance: 0.0\n",
            "Variable:                  335 Importance: 0.0\n"
          ]
        }
      ],
      "source": [
        "# Get numerical feature importances\n",
        "importances = list(rf.feature_importances_)\n",
        "# List of tuples with variable and importance\n",
        "feature_importances = [(feature, round(importance, 2)) for feature, importance in zip(train.columns[:-1], importances)]\n",
        "# Sort the feature importances by most important first\n",
        "feature_importances = sorted(feature_importances, key = lambda x: x[1], reverse = True)\n",
        "# Print out the feature and importances \n",
        "[print('Variable: {:20} Importance: {}'.format(*pair)) for pair in feature_importances];"
      ]
    },
    {
      "cell_type": "code",
      "execution_count": null,
      "metadata": {
        "id": "sGw5lmX8R5an"
      },
      "outputs": [],
      "source": [
        "# Import tools needed for visualization\n",
        "from sklearn.tree import export_graphviz\n",
        "import pydot\n",
        "# Pull out one tree from the forest\n",
        "tree = rf.estimators_[5]\n",
        "# Import tools needed for visualization\n",
        "from sklearn.tree import export_graphviz\n",
        "import pydot\n",
        "# Pull out one tree from the forest\n",
        "tree = rf.estimators_[5]\n",
        "# Export the image to a dot file\n",
        "export_graphviz(tree, out_file = 'tree.dot', feature_names = train.columns[:-1], rounded = True, precision = 1)\n",
        "# Use dot file to create a graph\n",
        "(graph, ) = pydot.graph_from_dot_file('tree.dot')\n",
        "# Write graph to a png file\n",
        "graph.write_png('tree.png')"
      ]
    },
    {
      "cell_type": "code",
      "execution_count": null,
      "metadata": {
        "id": "RfhJ71RuIsjC"
      },
      "outputs": [],
      "source": [
        "cf_matrix = confusion_matrix(eval_labels, predictions)"
      ]
    },
    {
      "cell_type": "code",
      "source": [
        "group_names = ['True Neg','False Pos','False Neg','True Pos']\n",
        "\n",
        "group_counts = [\"{0:0.0f}\".format(value) for value in\n",
        "                cf_matrix.flatten()]\n",
        "\n",
        "group_percentages = [\"{0:.2%}\".format(value) for value in\n",
        "                     cf_matrix.flatten()/np.sum(cf_matrix)]\n",
        "\n",
        "labels = [f\"{v1}\\n{v2}\\n{v3}\" for v1, v2, v3 in\n",
        "          zip(group_names,group_counts,group_percentages)]\n",
        "\n",
        "labels = np.asarray(labels).reshape(2,2)\n",
        "\n",
        "ax = sns.heatmap(cf_matrix, annot=labels, fmt='', cmap='Blues')\n",
        "\n",
        "ax.set_title('Seaborn Confusion Matrix with labels\\n\\n');\n",
        "ax.set_xlabel('\\nPredicted Values')\n",
        "ax.set_ylabel('Actual Values ');\n",
        "\n",
        "## Ticket labels - List must be in alphabetical order\n",
        "ax.xaxis.set_ticklabels(['False','True'])\n",
        "ax.yaxis.set_ticklabels(['False','True'])\n",
        "\n",
        "## Display the visualization of the Confusion Matrix.\n",
        "pl.show()"
      ],
      "metadata": {
        "colab": {
          "base_uri": "https://localhost:8080/",
          "height": 337
        },
        "id": "Rby5BAK_gVTH",
        "outputId": "02f1c1f4-d003-4caf-a629-e9e871c1a4a6"
      },
      "execution_count": null,
      "outputs": [
        {
          "output_type": "display_data",
          "data": {
            "text/plain": [
              "<Figure size 432x288 with 2 Axes>"
            ],
            "image/png": "[encoded data removed]"
          },
          "metadata": {
            "needs_background": "light"
          }
        }
      ]
    },
    {
      "cell_type": "markdown",
      "source": [
        "# Round 2"
      ],
      "metadata": {
        "id": "GukQYAxuhdwL"
      }
    },
    {
      "cell_type": "code",
      "source": [
        "remove_n = round(int(train.shape[0]/3)) + 10000\n",
        "drop_indices_False = np.random.choice(\n",
        "    train[train['label'] == False].index, remove_n, replace=False\n",
        ")\n",
        "drop_indices_True = np.random.choice(\n",
        "    train[train['label'] == True].index, remove_n, replace=False\n",
        ")\n",
        "train_subset = train.drop(drop_indices_False)\n",
        "train_subset = train_subset.drop(drop_indices_True)"
      ],
      "metadata": {
        "id": "HhU70K7tgHxa"
      },
      "execution_count": null,
      "outputs": []
    },
    {
      "cell_type": "code",
      "source": [
        "remove_n"
      ],
      "metadata": {
        "colab": {
          "base_uri": "https://localhost:8080/"
        },
        "id": "XwRensJzous_",
        "outputId": "c9e350fa-ada4-4991-960d-44383e5efd7e"
      },
      "execution_count": null,
      "outputs": [
        {
          "output_type": "execute_result",
          "data": {
            "text/plain": [
              "45445"
            ]
          },
          "metadata": {},
          "execution_count": 13
        }
      ]
    },
    {
      "cell_type": "code",
      "source": [
        "train_subset.shape"
      ],
      "metadata": {
        "colab": {
          "base_uri": "https://localhost:8080/"
        },
        "id": "HcwmhZRHiYjZ",
        "outputId": "c21f74d9-aa2c-450a-aa70-299feee630d7"
      },
      "execution_count": null,
      "outputs": [
        {
          "output_type": "execute_result",
          "data": {
            "text/plain": [
              "(15446, 337)"
            ]
          },
          "metadata": {},
          "execution_count": 14
        }
      ]
    },
    {
      "cell_type": "code",
      "source": [
        "train_s_features, train_s_labels = train_subset.loc[:, train_subset.columns != 'label'], train_subset['label']"
      ],
      "metadata": {
        "id": "uxNaihEhh_Wi"
      },
      "execution_count": null,
      "outputs": []
    },
    {
      "cell_type": "code",
      "source": [
        "train_s_features.shape"
      ],
      "metadata": {
        "colab": {
          "base_uri": "https://localhost:8080/"
        },
        "id": "_9NSt4IEt31P",
        "outputId": "c4a11e8a-d840-4a32-c8b4-ff954ff47c55"
      },
      "execution_count": null,
      "outputs": [
        {
          "output_type": "execute_result",
          "data": {
            "text/plain": [
              "(15446, 336)"
            ]
          },
          "metadata": {},
          "execution_count": 16
        }
      ]
    },
    {
      "cell_type": "code",
      "source": [
        "# Instantiate model with 1000 decision trees\n",
        "# n_estimators = 100 standard, won't cause overfitting but increases complexity\n",
        "# max_depth - really important for accuracy, causes overfitiing\n",
        "# We generally keep min_samples_split value between 2 and 6\n",
        "# min_samples_leaf: less - overfitting, more - decreased number of parameters, basic - 1\n",
        "rf1 = RandomForestClassifier(\n",
        "    n_estimators = 600, random_state = 20, min_samples_leaf = 5, min_samples_split = 2, max_depth = 8\n",
        ")\n",
        "# Train the model on training data\n",
        "rf1.fit(train_s_features, train_s_labels);"
      ],
      "metadata": {
        "id": "7UDZj5-Ijxba"
      },
      "execution_count": null,
      "outputs": []
    },
    {
      "cell_type": "code",
      "source": [
        "predictions1 = rf1.predict(eval_features)"
      ],
      "metadata": {
        "id": "aMjMPVfikg2q"
      },
      "execution_count": null,
      "outputs": []
    },
    {
      "cell_type": "code",
      "source": [
        "train_score1 = rf1.score(train_s_features, train_s_labels)\n",
        "eval_score1 = rf1.score(eval_features, eval_labels)"
      ],
      "metadata": {
        "id": "l-LUtd6lkkkK"
      },
      "execution_count": null,
      "outputs": []
    },
    {
      "cell_type": "code",
      "source": [
        "print('During training, the accuracy score was ' + str(round(train_score1, 3)))\n",
        "print('During validation, the accuracy score was ' + str(round(eval_score1, 3)))"
      ],
      "metadata": {
        "colab": {
          "base_uri": "https://localhost:8080/"
        },
        "id": "gIoZXRmMwdr5",
        "outputId": "fc7a407f-4c30-44fe-9412-86af4fa19f56"
      },
      "execution_count": null,
      "outputs": [
        {
          "output_type": "stream",
          "name": "stdout",
          "text": [
            "During training, the accuracy score was 0.861\n",
            "During validation, the accuracy score was 0.652\n"
          ]
        }
      ]
    },
    {
      "cell_type": "code",
      "source": [
        "print(classification_report(eval_labels, predictions1))"
      ],
      "metadata": {
        "colab": {
          "base_uri": "https://localhost:8080/"
        },
        "id": "IDUwrI5quSEw",
        "outputId": "193fecc9-7e4d-4224-f4f0-de5113db867d"
      },
      "execution_count": null,
      "outputs": [
        {
          "output_type": "stream",
          "name": "stdout",
          "text": [
            "              precision    recall  f1-score   support\n",
            "\n",
            "       False       0.61      0.87      0.71     17914\n",
            "        True       0.77      0.44      0.56     17914\n",
            "\n",
            "    accuracy                           0.65     35828\n",
            "   macro avg       0.69      0.65      0.64     35828\n",
            "weighted avg       0.69      0.65      0.64     35828\n",
            "\n"
          ]
        }
      ]
    },
    {
      "cell_type": "code",
      "source": [
        "accuracy_score(eval_labels, predictions1)"
      ],
      "metadata": {
        "colab": {
          "base_uri": "https://localhost:8080/"
        },
        "id": "udJS4TAqxGLB",
        "outputId": "5a944e2a-9e1d-4a15-a741-0e6ed7018829"
      },
      "execution_count": null,
      "outputs": [
        {
          "output_type": "execute_result",
          "data": {
            "text/plain": [
              "0.6568605559897287"
            ]
          },
          "metadata": {},
          "execution_count": 103
        }
      ]
    },
    {
      "cell_type": "code",
      "source": [
        "cf_matrix1 = confusion_matrix(eval_labels, predictions1)"
      ],
      "metadata": {
        "id": "WBIK1I2Gky92"
      },
      "execution_count": null,
      "outputs": []
    },
    {
      "cell_type": "code",
      "source": [
        "group_names = ['True Neg','False Pos','False Neg','True Pos']\n",
        "\n",
        "group_counts = [\"{0:0.0f}\".format(value) for value in\n",
        "                cf_matrix1.flatten()]\n",
        "\n",
        "group_percentages = [\"{0:.2%}\".format(value) for value in\n",
        "                     cf_matrix1.flatten()/np.sum(cf_matrix1)]\n",
        "\n",
        "labels = [f\"{v1}\\n{v2}\\n{v3}\" for v1, v2, v3 in\n",
        "          zip(group_names,group_counts,group_percentages)]\n",
        "\n",
        "labels = np.asarray(labels).reshape(2,2)\n",
        "\n",
        "ax = sns.heatmap(cf_matrix1, annot=labels, fmt='', cmap='Blues')\n",
        "\n",
        "ax.set_title('Seaborn Confusion Matrix with labels\\n\\n');\n",
        "ax.set_xlabel('\\nPredicted Values')\n",
        "ax.set_ylabel('Actual Values ');\n",
        "\n",
        "## Ticket labels - List must be in alphabetical order\n",
        "ax.xaxis.set_ticklabels(['False','True'])\n",
        "ax.yaxis.set_ticklabels(['False','True'])\n",
        "\n",
        "## Display the visualization of the Confusion Matrix.\n",
        "pl.show()"
      ],
      "metadata": {
        "colab": {
          "base_uri": "https://localhost:8080/",
          "height": 337
        },
        "id": "SDUtsDNPkzNV",
        "outputId": "343eb46f-990e-4c60-c7cf-fa6616cf7a66"
      },
      "execution_count": null,
      "outputs": [
        {
          "output_type": "display_data",
          "data": {
            "text/plain": [
              "<Figure size 432x288 with 2 Axes>"
            ],
            "image/png": "[encoded data removed]"
          },
          "metadata": {
            "needs_background": "light"
          }
        }
      ]
    },
    {
      "cell_type": "markdown",
      "source": [
        "Round ... "
      ],
      "metadata": {
        "id": "6azzQ_OVy92k"
      }
    },
    {
      "cell_type": "code",
      "source": [
        "remove_n = round(int(train.shape[0]/3)) + 10000\n",
        "drop_indices_False = np.random.choice(\n",
        "    train[train['label'] == False].index, remove_n, replace=False\n",
        ")\n",
        "drop_indices_True = np.random.choice(\n",
        "    train[train['label'] == True].index, remove_n, replace=False\n",
        ")\n",
        "train_subset = train.drop(drop_indices_False)\n",
        "train_subset = train_subset.drop(drop_indices_True)"
      ],
      "metadata": {
        "id": "qtFwhT3Gy9hx"
      },
      "execution_count": null,
      "outputs": []
    },
    {
      "cell_type": "code",
      "source": [
        "train_subset.shape"
      ],
      "metadata": {
        "colab": {
          "base_uri": "https://localhost:8080/"
        },
        "id": "Nf5GphH_zCtq",
        "outputId": "ef9aea50-9f88-4f74-aa71-6634bbdba65d"
      },
      "execution_count": null,
      "outputs": [
        {
          "output_type": "execute_result",
          "data": {
            "text/plain": [
              "(15446, 337)"
            ]
          },
          "metadata": {},
          "execution_count": 111
        }
      ]
    },
    {
      "cell_type": "code",
      "source": [
        "train_s_features, train_s_labels = train_subset.loc[:, train_subset.columns != 'label'], train_subset['label']"
      ],
      "metadata": {
        "id": "LVFMtrYMzErd"
      },
      "execution_count": null,
      "outputs": []
    },
    {
      "cell_type": "code",
      "source": [
        "train_s_features.shape"
      ],
      "metadata": {
        "colab": {
          "base_uri": "https://localhost:8080/"
        },
        "id": "rAzUqKTmzHSj",
        "outputId": "f58cbe8b-60db-43fe-ac8d-42e4850e51f2"
      },
      "execution_count": null,
      "outputs": [
        {
          "output_type": "execute_result",
          "data": {
            "text/plain": [
              "(15446, 336)"
            ]
          },
          "metadata": {},
          "execution_count": 113
        }
      ]
    },
    {
      "cell_type": "code",
      "source": [
        "# Instantiate model with 1000 decision trees\n",
        "# n_estimators = 100 standard, won't cause overfitting but increases complexity\n",
        "# max_depth - really important for accuracy, causes overfitiing\n",
        "# We generally keep min_samples_split value between 2 and 6\n",
        "# min_samples_leaf: less - overfitting, more - decreased number of parameters, basic - 1\n",
        "rf2 = RandomForestClassifier(\n",
        "    n_estimators = 600, random_state = 10, min_samples_leaf = 1, max_depth = 400\n",
        ")\n",
        "# Train the model on training data\n",
        "rf2.fit(train_s_features, train_s_labels);"
      ],
      "metadata": {
        "id": "R46p9WdNzOpN"
      },
      "execution_count": null,
      "outputs": []
    },
    {
      "cell_type": "code",
      "source": [
        "predictions2 = rf2.predict(eval_features)"
      ],
      "metadata": {
        "id": "ghfQf9R9zRIO"
      },
      "execution_count": null,
      "outputs": []
    },
    {
      "cell_type": "code",
      "source": [
        "train_score2 = rf2.score(train_s_features, train_s_labels)\n",
        "eval_score2 = rf2.score(eval_features, eval_labels)"
      ],
      "metadata": {
        "id": "iU7YEf07zYba"
      },
      "execution_count": null,
      "outputs": []
    },
    {
      "cell_type": "code",
      "source": [
        "print('During training, the accuracy score was ' + str(round(train_score2, 3)))\n",
        "print('During validation, the accuracy score was ' + str(round(eval_score2, 3)))\n",
        "print(classification_report(eval_labels, predictions2))"
      ],
      "metadata": {
        "colab": {
          "base_uri": "https://localhost:8080/"
        },
        "id": "tSRVfQlyzd88",
        "outputId": "48c2ca11-cad3-4746-c5bd-d756dae241e2"
      },
      "execution_count": null,
      "outputs": [
        {
          "output_type": "stream",
          "name": "stdout",
          "text": [
            "During training, the accuracy score was 1.0\n",
            "During validation, the accuracy score was 0.657\n",
            "              precision    recall  f1-score   support\n",
            "\n",
            "       False       0.60      0.91      0.73     17914\n",
            "        True       0.82      0.40      0.54     17914\n",
            "\n",
            "    accuracy                           0.66     35828\n",
            "   macro avg       0.71      0.66      0.63     35828\n",
            "weighted avg       0.71      0.66      0.63     35828\n",
            "\n"
          ]
        }
      ]
    },
    {
      "cell_type": "code",
      "source": [
        "cf_matrix2 = confusion_matrix(eval_labels, predictions2)"
      ],
      "metadata": {
        "id": "z49fE7JUzgN6"
      },
      "execution_count": null,
      "outputs": []
    },
    {
      "cell_type": "code",
      "source": [
        "group_names = ['True Neg','False Pos','False Neg','True Pos']\n",
        "\n",
        "group_counts = [\"{0:0.0f}\".format(value) for value in\n",
        "                cf_matrix1.flatten()]\n",
        "\n",
        "group_percentages = [\"{0:.2%}\".format(value) for value in\n",
        "                     cf_matrix1.flatten()/np.sum(cf_matrix1)]\n",
        "\n",
        "labels = [f\"{v1}\\n{v2}\\n{v3}\" for v1, v2, v3 in\n",
        "          zip(group_names,group_counts,group_percentages)]\n",
        "\n",
        "labels = np.asarray(labels).reshape(2,2)\n",
        "\n",
        "ax = sns.heatmap(cf_matrix1, annot=labels, fmt='', cmap='Blues')\n",
        "\n",
        "ax.set_title('n_estimators = 600, random_state = 42, min_samples_leaf = 2, min_samples_split = 6, max_depth = 400');\n",
        "ax.set_xlabel('\\nPredicted Values')\n",
        "ax.set_ylabel('Actual Values ');\n",
        "\n",
        "## Ticket labels - List must be in alphabetical order\n",
        "ax.xaxis.set_ticklabels(['False','True'])\n",
        "ax.yaxis.set_ticklabels(['False','True'])\n",
        "\n",
        "## Display the visualization of the Confusion Matrix.\n",
        "pl.show()"
      ],
      "metadata": {
        "colab": {
          "base_uri": "https://localhost:8080/",
          "height": 307
        },
        "id": "tc1_LxZU2ZmN",
        "outputId": "05340ef3-0a54-41d2-f929-cc921f4ef953"
      },
      "execution_count": null,
      "outputs": [
        {
          "output_type": "display_data",
          "data": {
            "text/plain": [
              "<Figure size 432x288 with 2 Axes>"
            ],
            "image/png": "[encoded data removed]"
          },
          "metadata": {
            "needs_background": "light"
          }
        }
      ]
    },
    {
      "cell_type": "code",
      "source": [
        "cf_matrix3 = confusion_matrix(eval_labels, predictions2)\n",
        "group_names = ['True Neg','False Pos','False Neg','True Pos']\n",
        "\n",
        "group_counts = [\"{0:0.0f}\".format(value) for value in\n",
        "                cf_matrix3.flatten()]\n",
        "\n",
        "group_percentages = [\"{0:.2%}\".format(value) for value in\n",
        "                     cf_matrix3.flatten()/np.sum(cf_matrix3)]\n",
        "\n",
        "labels = [f\"{v1}\\n{v2}\\n{v3}\" for v1, v2, v3 in\n",
        "          zip(group_names,group_counts,group_percentages)]\n",
        "\n",
        "labels = np.asarray(labels).reshape(2,2)\n",
        "\n",
        "ax = sns.heatmap(cf_matrix3, annot=labels, fmt='', cmap='Blues')\n",
        "\n",
        "ax.set_title('n_estimators = 600, random_state = 20, min_samples_leaf = 1, max_depth = 400');\n",
        "ax.set_xlabel('\\nPredicted Values')\n",
        "ax.set_ylabel('Actual Values ');\n",
        "\n",
        "## Ticket labels - List must be in alphabetical order\n",
        "ax.xaxis.set_ticklabels(['False','True'])\n",
        "ax.yaxis.set_ticklabels(['False','True'])\n",
        "\n",
        "## Display the visualization of the Confusion Matrix.\n",
        "pl.show()"
      ],
      "metadata": {
        "colab": {
          "base_uri": "https://localhost:8080/",
          "height": 307
        },
        "id": "NXe3u5WY3Fgt",
        "outputId": "5cbbfa59-7794-4510-964c-c1d9418b7a3c"
      },
      "execution_count": null,
      "outputs": [
        {
          "output_type": "display_data",
          "data": {
            "text/plain": [
              "<Figure size 432x288 with 2 Axes>"
            ],
            "image/png": "[encoded data removed]"
          },
          "metadata": {
            "needs_background": "light"
          }
        }
      ]
    }
  ],
  "metadata": {
    "colab": {
      "name": "Random Classifier.ipynb",
      "provenance": [],
      "authorship_tag": "ABX9TyPnIzWibVFYirKOJT9jqDaX",
      "include_colab_link": true
    },
    "kernelspec": {
      "display_name": "Python 3",
      "name": "python3"
    },
    "language_info": {
      "name": "python"
    }
  },
  "nbformat": 4,
  "nbformat_minor": 0
}