{
  "cells": [
    {
      "cell_type": "markdown",
      "metadata": {
        "id": "view-in-github",
        "colab_type": "text"
      },
      "source": [
        "<a href=\"https://colab.research.google.com/github/Janina712/MLTSA_FinalProject/blob/main/tryouts/Random_Classifier.ipynb\" target=\"_parent\"><img src=\"https://colab.research.google.com/assets/colab-badge.svg\" alt=\"Open In Colab\"/></a>"
      ]
    },
    {
      "cell_type": "code",
      "execution_count": null,
      "metadata": {
        "colab": {
          "base_uri": "https://localhost:8080/"
        },
        "id": "ugCJ0UCeBf5C",
        "outputId": "4d51ac51-2248-4e24-8d82-02a46e919a5d"
      },
      "outputs": [
        {
          "name": "stdout",
          "output_type": "stream",
          "text": [
            "Collecting pickle5\n",
            "  Downloading pickle5-0.0.12-cp37-cp37m-manylinux_2_5_x86_64.manylinux1_x86_64.whl (256 kB)\n",
            "\u001b[K     |████████████████████████████████| 256 kB 4.3 MB/s \n",
            "\u001b[?25hInstalling collected packages: pickle5\n",
            "Successfully installed pickle5-0.0.12\n"
          ]
        }
      ],
      "source": [
        "pip install pickle5"
      ]
    },
    {
      "cell_type": "code",
      "execution_count": 90,
      "metadata": {
        "colab": {
          "base_uri": "https://localhost:8080/"
        },
        "id": "w4gx19P3HnYM",
        "outputId": "9cfafd2e-89d1-42f0-a6ed-30fca87e47e7"
      },
      "outputs": [
        {
          "output_type": "stream",
          "name": "stdout",
          "text": [
            "Populating the interactive namespace from numpy and matplotlib\n"
          ]
        }
      ],
      "source": [
        "import pandas as pd\n",
        "import numpy as np\n",
        "import pickle5 as pickle\n",
        "from pathlib import Path\n",
        "import pylab as pl\n",
        "from scipy import stats \n",
        "from scipy.stats import linregress\n",
        "import keras\n",
        "from keras.datasets import mnist\n",
        "from keras.models import Sequential\n",
        "from keras.layers import Dense\n",
        "from keras import backend as K\n",
        "import glob\n",
        "from PIL import Image\n",
        "from sklearn.model_selection import train_test_split\n",
        "from sklearn.ensemble import RandomForestClassifier\n",
        "import seaborn as sns\n",
        "from tensorflow import keras\n",
        "from keras import layers \n",
        "from keras.layers import Dense, Input, Flatten,\\\n",
        "                   Reshape, LeakyReLU as LR,\\\n",
        "                   Activation, Dropout\n",
        "from keras.models import Model, Sequential\n",
        "from sklearn.metrics import confusion_matrix, accuracy_score, classification_report\n",
        "from keras import backend as K\n",
        "\n",
        "\n",
        "%pylab inline"
      ]
    },
    {
      "cell_type": "code",
      "execution_count": null,
      "metadata": {
        "colab": {
          "base_uri": "https://localhost:8080/"
        },
        "id": "SCKApBSsHwHU",
        "outputId": "1bf9c837-4b39-47ca-c0e0-a798c8a7d121"
      },
      "outputs": [
        {
          "name": "stdout",
          "output_type": "stream",
          "text": [
            "Mounted at /content/drive\n"
          ]
        }
      ],
      "source": [
        "from google.colab import drive\n",
        "drive.mount('/content/drive')"
      ]
    },
    {
      "cell_type": "code",
      "execution_count": null,
      "metadata": {
        "colab": {
          "base_uri": "https://localhost:8080/"
        },
        "id": "uxxAmz6eH3By",
        "outputId": "e8d3cb77-f53c-46e2-8b95-fd615260d520"
      },
      "outputs": [
        {
          "name": "stdout",
          "output_type": "stream",
          "text": [
            "/content/drive/MyDrive/MLTSA22/Final_Project\n"
          ]
        }
      ],
      "source": [
        "cd /content/drive/MyDrive/MLTSA22/Final_Project"
      ]
    },
    {
      "cell_type": "code",
      "execution_count": null,
      "metadata": {
        "colab": {
          "base_uri": "https://localhost:8080/"
        },
        "id": "RYEi8og9H436",
        "outputId": "a0f86a7d-8fda-40b4-c3c6-65e463d7ba7e"
      },
      "outputs": [
        {
          "name": "stdout",
          "output_type": "stream",
          "text": [
            "00000258_s002_t000.edf\n",
            "00010563_s002_t004.pkl\n",
            "all_tuh_eeg_seizure_links.txt\n",
            "curated_features_w_metadata_df.pkl\n",
            "dev__01_tcp_ar__002__00000258__s002_2003_07_21__00000258_s002_t000.edf\n",
            "dev__01_tcp_ar__002__00000258__s003_2003_07_22__00000258_s003_t001.edf\n",
            "eval_balanced.pkl\n",
            "eval.pkl\n",
            "files_raw_channels_small_df.pkl\n",
            "isip_tuh_eeg\n",
            "seizures_types_v01.xlsx\n",
            "temp\n",
            "test_balanced.pkl\n",
            "test.pkl\n",
            "train_balanced.pkl\n",
            "train.csv\n",
            "train.pkl\n"
          ]
        }
      ],
      "source": [
        "!ls /content/drive/MyDrive/MLTSA22/Final_Project"
      ]
    },
    {
      "cell_type": "code",
      "execution_count": null,
      "metadata": {
        "id": "j-p3SOwFH8ob"
      },
      "outputs": [],
      "source": [
        "working_folder = Path('/content/drive/MyDrive/MLTSA22/Final_Project/')"
      ]
    },
    {
      "cell_type": "code",
      "execution_count": null,
      "metadata": {
        "id": "q0fTG046He61"
      },
      "outputs": [],
      "source": [
        "with open(working_folder.joinpath('train_balanced.pkl'), \"rb\") as fh:\n",
        "  train = pickle.load(fh)"
      ]
    },
    {
      "cell_type": "code",
      "execution_count": null,
      "metadata": {
        "id": "tmUq66H3IBX1"
      },
      "outputs": [],
      "source": [
        "with open(working_folder.joinpath('test_balanced.pkl'), \"rb\") as fh:\n",
        "  test = pickle.load(fh)"
      ]
    },
    {
      "cell_type": "code",
      "execution_count": null,
      "metadata": {
        "id": "GZKC6VTfIDNM"
      },
      "outputs": [],
      "source": [
        "with open(working_folder.joinpath('eval_balanced.pkl'), \"rb\") as fh:\n",
        "  eval = pickle.load(fh)"
      ]
    },
    {
      "cell_type": "code",
      "execution_count": null,
      "metadata": {
        "id": "JXi2oBhdI6Lc"
      },
      "outputs": [],
      "source": [
        "train_features, train_labels = train.loc[:, train.columns != 'label'], train['label']\n",
        "test_features, test_labels = test.loc[:, test.columns != 'label'], test['label']\n",
        "eval_features, eval_labels = eval.loc[:, eval.columns != 'label'], eval['label']"
      ]
    },
    {
      "cell_type": "code",
      "execution_count": null,
      "metadata": {
        "colab": {
          "base_uri": "https://localhost:8080/"
        },
        "id": "jJWjBGoIIZM1",
        "outputId": "b0961039-d387-42f6-e266-acc9952e3deb"
      },
      "outputs": [
        {
          "name": "stdout",
          "output_type": "stream",
          "text": [
            "Training Features Shape: (106336, 336)\n",
            "Training Labels Shape: (106336,)\n",
            "Testing Features Shape: (54210, 336)\n",
            "Testing Labels Shape: (54210,)\n",
            "Validation Features Shape: (35828, 336)\n",
            "Validation Labels Shape: (35828,)\n"
          ]
        }
      ],
      "source": [
        "print('Training Features Shape:', train_features.shape)\n",
        "print('Training Labels Shape:', train_labels.shape)\n",
        "print('Testing Features Shape:', test_features.shape)\n",
        "print('Testing Labels Shape:', test_labels.shape)\n",
        "print('Validation Features Shape:', eval_features.shape)\n",
        "print('Validation Labels Shape:', eval_labels.shape)"
      ]
    },
    {
      "cell_type": "code",
      "execution_count": null,
      "metadata": {
        "colab": {
          "background_save": true
        },
        "id": "MNoIH64hIbAD"
      },
      "outputs": [],
      "source": [
        "# Instantiate model with 1000 decision trees\n",
        "# n_estimators = 100 standard, won't cause overfitting but increases complexity\n",
        "# max_depth - really important for accuracy, causes overfitiing\n",
        "# We generally keep min_samples_split value between 2 and 6\n",
        "# min_samples_leaf: less - overfitting, more - decreased number of parameters, basic - 1\n",
        "rf = RandomForestClassifier(n_estimators = 1000, random_state = 42, min_samples_leaf = 3)\n",
        "# Train the model on training data\n",
        "rf.fit(train_features, train_labels);"
      ]
    },
    {
      "cell_type": "code",
      "execution_count": 21,
      "metadata": {
        "id": "D2RJAkFfIgU1"
      },
      "outputs": [],
      "source": [
        "# Use the forest's predict method on the test data\n",
        "predictions = rf.predict(eval_features)"
      ]
    },
    {
      "cell_type": "code",
      "execution_count": 22,
      "metadata": {
        "id": "OiB7NJZOIkX8"
      },
      "outputs": [],
      "source": [
        "train_score = rf.score(train_features, train_labels)\n",
        "eval_score = rf.score(eval_features, eval_labels)"
      ]
    },
    {
      "cell_type": "code",
      "execution_count": 40,
      "metadata": {
        "id": "bevLy1F6Il6a",
        "colab": {
          "base_uri": "https://localhost:8080/"
        },
        "outputId": "735b1d8c-ae5e-4ea6-cb82-795c44f0ccf0"
      },
      "outputs": [
        {
          "output_type": "stream",
          "name": "stdout",
          "text": [
            "During training, the accuracy score was 0.999\n",
            "During validation, the accuracy score was 0.641\n"
          ]
        }
      ],
      "source": [
        "print('During training, the accuracy score was ' + str(round(train_score, 3)))\n",
        "print('During validation, the accuracy score was ' + str(round(eval_score, 3)))"
      ]
    },
    {
      "cell_type": "code",
      "execution_count": 30,
      "metadata": {
        "id": "soiMAirSIpMO",
        "colab": {
          "base_uri": "https://localhost:8080/"
        },
        "outputId": "0380792e-de01-491d-e9b8-b7713360267c"
      },
      "outputs": [
        {
          "output_type": "stream",
          "name": "stdout",
          "text": [
            "Variable:                   11 Importance: 0.01\n",
            "Variable:                   12 Importance: 0.01\n",
            "Variable:                   13 Importance: 0.01\n",
            "Variable:                   27 Importance: 0.01\n",
            "Variable:                   28 Importance: 0.01\n",
            "Variable:                   29 Importance: 0.01\n",
            "Variable:                   43 Importance: 0.01\n",
            "Variable:                   59 Importance: 0.01\n",
            "Variable:                   75 Importance: 0.01\n",
            "Variable:                   91 Importance: 0.01\n",
            "Variable:                  107 Importance: 0.01\n",
            "Variable:                  123 Importance: 0.01\n",
            "Variable:                  139 Importance: 0.01\n",
            "Variable:                  155 Importance: 0.01\n",
            "Variable:                  157 Importance: 0.01\n",
            "Variable:                  171 Importance: 0.01\n",
            "Variable:                  172 Importance: 0.01\n",
            "Variable:                  173 Importance: 0.01\n",
            "Variable:                  175 Importance: 0.01\n",
            "Variable:                  187 Importance: 0.01\n",
            "Variable:                  188 Importance: 0.01\n",
            "Variable:                  189 Importance: 0.01\n",
            "Variable:                  203 Importance: 0.01\n",
            "Variable:                  219 Importance: 0.01\n",
            "Variable:                  251 Importance: 0.01\n",
            "Variable:                  261 Importance: 0.01\n",
            "Variable:                  270 Importance: 0.01\n",
            "Variable:                  277 Importance: 0.01\n",
            "Variable:                  286 Importance: 0.01\n",
            "Variable:                  309 Importance: 0.01\n",
            "Variable:                  315 Importance: 0.01\n",
            "Variable:                  331 Importance: 0.01\n",
            "Variable:                    0 Importance: 0.0\n",
            "Variable:                    1 Importance: 0.0\n",
            "Variable:                    2 Importance: 0.0\n",
            "Variable:                    3 Importance: 0.0\n",
            "Variable:                    4 Importance: 0.0\n",
            "Variable:                    5 Importance: 0.0\n",
            "Variable:                    6 Importance: 0.0\n",
            "Variable:                    7 Importance: 0.0\n",
            "Variable:                    8 Importance: 0.0\n",
            "Variable:                    9 Importance: 0.0\n",
            "Variable:                   10 Importance: 0.0\n",
            "Variable:                   14 Importance: 0.0\n",
            "Variable:                   15 Importance: 0.0\n",
            "Variable:                   16 Importance: 0.0\n",
            "Variable:                   17 Importance: 0.0\n",
            "Variable:                   18 Importance: 0.0\n",
            "Variable:                   19 Importance: 0.0\n",
            "Variable:                   20 Importance: 0.0\n",
            "Variable:                   21 Importance: 0.0\n",
            "Variable:                   22 Importance: 0.0\n",
            "Variable:                   23 Importance: 0.0\n",
            "Variable:                   24 Importance: 0.0\n",
            "Variable:                   25 Importance: 0.0\n",
            "Variable:                   26 Importance: 0.0\n",
            "Variable:                   30 Importance: 0.0\n",
            "Variable:                   31 Importance: 0.0\n",
            "Variable:                   32 Importance: 0.0\n",
            "Variable:                   33 Importance: 0.0\n",
            "Variable:                   34 Importance: 0.0\n",
            "Variable:                   35 Importance: 0.0\n",
            "Variable:                   36 Importance: 0.0\n",
            "Variable:                   37 Importance: 0.0\n",
            "Variable:                   38 Importance: 0.0\n",
            "Variable:                   39 Importance: 0.0\n",
            "Variable:                   40 Importance: 0.0\n",
            "Variable:                   41 Importance: 0.0\n",
            "Variable:                   42 Importance: 0.0\n",
            "Variable:                   44 Importance: 0.0\n",
            "Variable:                   45 Importance: 0.0\n",
            "Variable:                   46 Importance: 0.0\n",
            "Variable:                   47 Importance: 0.0\n",
            "Variable:                   48 Importance: 0.0\n",
            "Variable:                   49 Importance: 0.0\n",
            "Variable:                   50 Importance: 0.0\n",
            "Variable:                   51 Importance: 0.0\n",
            "Variable:                   52 Importance: 0.0\n",
            "Variable:                   53 Importance: 0.0\n",
            "Variable:                   54 Importance: 0.0\n",
            "Variable:                   55 Importance: 0.0\n",
            "Variable:                   56 Importance: 0.0\n",
            "Variable:                   57 Importance: 0.0\n",
            "Variable:                   58 Importance: 0.0\n",
            "Variable:                   60 Importance: 0.0\n",
            "Variable:                   61 Importance: 0.0\n",
            "Variable:                   62 Importance: 0.0\n",
            "Variable:                   63 Importance: 0.0\n",
            "Variable:                   64 Importance: 0.0\n",
            "Variable:                   65 Importance: 0.0\n",
            "Variable:                   66 Importance: 0.0\n",
            "Variable:                   67 Importance: 0.0\n",
            "Variable:                   68 Importance: 0.0\n",
            "Variable:                   69 Importance: 0.0\n",
            "Variable:                   70 Importance: 0.0\n",
            "Variable:                   71 Importance: 0.0\n",
            "Variable:                   72 Importance: 0.0\n",
            "Variable:                   73 Importance: 0.0\n",
            "Variable:                   74 Importance: 0.0\n",
            "Variable:                   76 Importance: 0.0\n",
            "Variable:                   77 Importance: 0.0\n",
            "Variable:                   78 Importance: 0.0\n",
            "Variable:                   79 Importance: 0.0\n",
            "Variable:                   80 Importance: 0.0\n",
            "Variable:                   81 Importance: 0.0\n",
            "Variable:                   82 Importance: 0.0\n",
            "Variable:                   83 Importance: 0.0\n",
            "Variable:                   84 Importance: 0.0\n",
            "Variable:                   85 Importance: 0.0\n",
            "Variable:                   86 Importance: 0.0\n",
            "Variable:                   87 Importance: 0.0\n",
            "Variable:                   88 Importance: 0.0\n",
            "Variable:                   89 Importance: 0.0\n",
            "Variable:                   90 Importance: 0.0\n",
            "Variable:                   92 Importance: 0.0\n",
            "Variable:                   93 Importance: 0.0\n",
            "Variable:                   94 Importance: 0.0\n",
            "Variable:                   95 Importance: 0.0\n",
            "Variable:                   96 Importance: 0.0\n",
            "Variable:                   97 Importance: 0.0\n",
            "Variable:                   98 Importance: 0.0\n",
            "Variable:                   99 Importance: 0.0\n",
            "Variable:                  100 Importance: 0.0\n",
            "Variable:                  101 Importance: 0.0\n",
            "Variable:                  102 Importance: 0.0\n",
            "Variable:                  103 Importance: 0.0\n",
            "Variable:                  104 Importance: 0.0\n",
            "Variable:                  105 Importance: 0.0\n",
            "Variable:                  106 Importance: 0.0\n",
            "Variable:                  108 Importance: 0.0\n",
            "Variable:                  109 Importance: 0.0\n",
            "Variable:                  110 Importance: 0.0\n",
            "Variable:                  111 Importance: 0.0\n",
            "Variable:                  112 Importance: 0.0\n",
            "Variable:                  113 Importance: 0.0\n",
            "Variable:                  114 Importance: 0.0\n",
            "Variable:                  115 Importance: 0.0\n",
            "Variable:                  116 Importance: 0.0\n",
            "Variable:                  117 Importance: 0.0\n",
            "Variable:                  118 Importance: 0.0\n",
            "Variable:                  119 Importance: 0.0\n",
            "Variable:                  120 Importance: 0.0\n",
            "Variable:                  121 Importance: 0.0\n",
            "Variable:                  122 Importance: 0.0\n",
            "Variable:                  124 Importance: 0.0\n",
            "Variable:                  125 Importance: 0.0\n",
            "Variable:                  126 Importance: 0.0\n",
            "Variable:                  127 Importance: 0.0\n",
            "Variable:                  128 Importance: 0.0\n",
            "Variable:                  129 Importance: 0.0\n",
            "Variable:                  130 Importance: 0.0\n",
            "Variable:                  131 Importance: 0.0\n",
            "Variable:                  132 Importance: 0.0\n",
            "Variable:                  133 Importance: 0.0\n",
            "Variable:                  134 Importance: 0.0\n",
            "Variable:                  135 Importance: 0.0\n",
            "Variable:                  136 Importance: 0.0\n",
            "Variable:                  137 Importance: 0.0\n",
            "Variable:                  138 Importance: 0.0\n",
            "Variable:                  140 Importance: 0.0\n",
            "Variable:                  141 Importance: 0.0\n",
            "Variable:                  142 Importance: 0.0\n",
            "Variable:                  143 Importance: 0.0\n",
            "Variable:                  144 Importance: 0.0\n",
            "Variable:                  145 Importance: 0.0\n",
            "Variable:                  146 Importance: 0.0\n",
            "Variable:                  147 Importance: 0.0\n",
            "Variable:                  148 Importance: 0.0\n",
            "Variable:                  149 Importance: 0.0\n",
            "Variable:                  150 Importance: 0.0\n",
            "Variable:                  151 Importance: 0.0\n",
            "Variable:                  152 Importance: 0.0\n",
            "Variable:                  153 Importance: 0.0\n",
            "Variable:                  154 Importance: 0.0\n",
            "Variable:                  156 Importance: 0.0\n",
            "Variable:                  158 Importance: 0.0\n",
            "Variable:                  159 Importance: 0.0\n",
            "Variable:                  160 Importance: 0.0\n",
            "Variable:                  161 Importance: 0.0\n",
            "Variable:                  162 Importance: 0.0\n",
            "Variable:                  163 Importance: 0.0\n",
            "Variable:                  164 Importance: 0.0\n",
            "Variable:                  165 Importance: 0.0\n",
            "Variable:                  166 Importance: 0.0\n",
            "Variable:                  167 Importance: 0.0\n",
            "Variable:                  168 Importance: 0.0\n",
            "Variable:                  169 Importance: 0.0\n",
            "Variable:                  170 Importance: 0.0\n",
            "Variable:                  174 Importance: 0.0\n",
            "Variable:                  176 Importance: 0.0\n",
            "Variable:                  177 Importance: 0.0\n",
            "Variable:                  178 Importance: 0.0\n",
            "Variable:                  179 Importance: 0.0\n",
            "Variable:                  180 Importance: 0.0\n",
            "Variable:                  181 Importance: 0.0\n",
            "Variable:                  182 Importance: 0.0\n",
            "Variable:                  183 Importance: 0.0\n",
            "Variable:                  184 Importance: 0.0\n",
            "Variable:                  185 Importance: 0.0\n",
            "Variable:                  186 Importance: 0.0\n",
            "Variable:                  190 Importance: 0.0\n",
            "Variable:                  191 Importance: 0.0\n",
            "Variable:                  192 Importance: 0.0\n",
            "Variable:                  193 Importance: 0.0\n",
            "Variable:                  194 Importance: 0.0\n",
            "Variable:                  195 Importance: 0.0\n",
            "Variable:                  196 Importance: 0.0\n",
            "Variable:                  197 Importance: 0.0\n",
            "Variable:                  198 Importance: 0.0\n",
            "Variable:                  199 Importance: 0.0\n",
            "Variable:                  200 Importance: 0.0\n",
            "Variable:                  201 Importance: 0.0\n",
            "Variable:                  202 Importance: 0.0\n",
            "Variable:                  204 Importance: 0.0\n",
            "Variable:                  205 Importance: 0.0\n",
            "Variable:                  206 Importance: 0.0\n",
            "Variable:                  207 Importance: 0.0\n",
            "Variable:                  208 Importance: 0.0\n",
            "Variable:                  209 Importance: 0.0\n",
            "Variable:                  210 Importance: 0.0\n",
            "Variable:                  211 Importance: 0.0\n",
            "Variable:                  212 Importance: 0.0\n",
            "Variable:                  213 Importance: 0.0\n",
            "Variable:                  214 Importance: 0.0\n",
            "Variable:                  215 Importance: 0.0\n",
            "Variable:                  216 Importance: 0.0\n",
            "Variable:                  217 Importance: 0.0\n",
            "Variable:                  218 Importance: 0.0\n",
            "Variable:                  220 Importance: 0.0\n",
            "Variable:                  221 Importance: 0.0\n",
            "Variable:                  222 Importance: 0.0\n",
            "Variable:                  223 Importance: 0.0\n",
            "Variable:                  224 Importance: 0.0\n",
            "Variable:                  225 Importance: 0.0\n",
            "Variable:                  226 Importance: 0.0\n",
            "Variable:                  227 Importance: 0.0\n",
            "Variable:                  228 Importance: 0.0\n",
            "Variable:                  229 Importance: 0.0\n",
            "Variable:                  230 Importance: 0.0\n",
            "Variable:                  231 Importance: 0.0\n",
            "Variable:                  232 Importance: 0.0\n",
            "Variable:                  233 Importance: 0.0\n",
            "Variable:                  234 Importance: 0.0\n",
            "Variable:                  235 Importance: 0.0\n",
            "Variable:                  236 Importance: 0.0\n",
            "Variable:                  237 Importance: 0.0\n",
            "Variable:                  238 Importance: 0.0\n",
            "Variable:                  239 Importance: 0.0\n",
            "Variable:                  240 Importance: 0.0\n",
            "Variable:                  241 Importance: 0.0\n",
            "Variable:                  242 Importance: 0.0\n",
            "Variable:                  243 Importance: 0.0\n",
            "Variable:                  244 Importance: 0.0\n",
            "Variable:                  245 Importance: 0.0\n",
            "Variable:                  246 Importance: 0.0\n",
            "Variable:                  247 Importance: 0.0\n",
            "Variable:                  248 Importance: 0.0\n",
            "Variable:                  249 Importance: 0.0\n",
            "Variable:                  250 Importance: 0.0\n",
            "Variable:                  252 Importance: 0.0\n",
            "Variable:                  253 Importance: 0.0\n",
            "Variable:                  254 Importance: 0.0\n",
            "Variable:                  255 Importance: 0.0\n",
            "Variable:                  256 Importance: 0.0\n",
            "Variable:                  257 Importance: 0.0\n",
            "Variable:                  258 Importance: 0.0\n",
            "Variable:                  259 Importance: 0.0\n",
            "Variable:                  260 Importance: 0.0\n",
            "Variable:                  262 Importance: 0.0\n",
            "Variable:                  263 Importance: 0.0\n",
            "Variable:                  264 Importance: 0.0\n",
            "Variable:                  265 Importance: 0.0\n",
            "Variable:                  266 Importance: 0.0\n",
            "Variable:                  267 Importance: 0.0\n",
            "Variable:                  268 Importance: 0.0\n",
            "Variable:                  269 Importance: 0.0\n",
            "Variable:                  271 Importance: 0.0\n",
            "Variable:                  272 Importance: 0.0\n",
            "Variable:                  273 Importance: 0.0\n",
            "Variable:                  274 Importance: 0.0\n",
            "Variable:                  275 Importance: 0.0\n",
            "Variable:                  276 Importance: 0.0\n",
            "Variable:                  278 Importance: 0.0\n",
            "Variable:                  279 Importance: 0.0\n",
            "Variable:                  280 Importance: 0.0\n",
            "Variable:                  281 Importance: 0.0\n",
            "Variable:                  282 Importance: 0.0\n",
            "Variable:                  283 Importance: 0.0\n",
            "Variable:                  284 Importance: 0.0\n",
            "Variable:                  285 Importance: 0.0\n",
            "Variable:                  287 Importance: 0.0\n",
            "Variable:                  288 Importance: 0.0\n",
            "Variable:                  289 Importance: 0.0\n",
            "Variable:                  290 Importance: 0.0\n",
            "Variable:                  291 Importance: 0.0\n",
            "Variable:                  292 Importance: 0.0\n",
            "Variable:                  293 Importance: 0.0\n",
            "Variable:                  294 Importance: 0.0\n",
            "Variable:                  295 Importance: 0.0\n",
            "Variable:                  296 Importance: 0.0\n",
            "Variable:                  297 Importance: 0.0\n",
            "Variable:                  298 Importance: 0.0\n",
            "Variable:                  299 Importance: 0.0\n",
            "Variable:                  300 Importance: 0.0\n",
            "Variable:                  301 Importance: 0.0\n",
            "Variable:                  302 Importance: 0.0\n",
            "Variable:                  303 Importance: 0.0\n",
            "Variable:                  304 Importance: 0.0\n",
            "Variable:                  305 Importance: 0.0\n",
            "Variable:                  306 Importance: 0.0\n",
            "Variable:                  307 Importance: 0.0\n",
            "Variable:                  308 Importance: 0.0\n",
            "Variable:                  310 Importance: 0.0\n",
            "Variable:                  311 Importance: 0.0\n",
            "Variable:                  312 Importance: 0.0\n",
            "Variable:                  313 Importance: 0.0\n",
            "Variable:                  314 Importance: 0.0\n",
            "Variable:                  316 Importance: 0.0\n",
            "Variable:                  317 Importance: 0.0\n",
            "Variable:                  318 Importance: 0.0\n",
            "Variable:                  319 Importance: 0.0\n",
            "Variable:                  320 Importance: 0.0\n",
            "Variable:                  321 Importance: 0.0\n",
            "Variable:                  322 Importance: 0.0\n",
            "Variable:                  323 Importance: 0.0\n",
            "Variable:                  324 Importance: 0.0\n",
            "Variable:                  325 Importance: 0.0\n",
            "Variable:                  326 Importance: 0.0\n",
            "Variable:                  327 Importance: 0.0\n",
            "Variable:                  328 Importance: 0.0\n",
            "Variable:                  329 Importance: 0.0\n",
            "Variable:                  330 Importance: 0.0\n",
            "Variable:                  332 Importance: 0.0\n",
            "Variable:                  333 Importance: 0.0\n",
            "Variable:                  334 Importance: 0.0\n",
            "Variable:                  335 Importance: 0.0\n"
          ]
        }
      ],
      "source": [
        "# Get numerical feature importances\n",
        "importances = list(rf.feature_importances_)\n",
        "# List of tuples with variable and importance\n",
        "feature_importances = [(feature, round(importance, 2)) for feature, importance in zip(train.columns[:-1], importances)]\n",
        "# Sort the feature importances by most important first\n",
        "feature_importances = sorted(feature_importances, key = lambda x: x[1], reverse = True)\n",
        "# Print out the feature and importances \n",
        "[print('Variable: {:20} Importance: {}'.format(*pair)) for pair in feature_importances];"
      ]
    },
    {
      "cell_type": "code",
      "execution_count": 34,
      "metadata": {
        "id": "sGw5lmX8R5an"
      },
      "outputs": [],
      "source": [
        "# Import tools needed for visualization\n",
        "from sklearn.tree import export_graphviz\n",
        "import pydot\n",
        "# Pull out one tree from the forest\n",
        "tree = rf.estimators_[5]\n",
        "# Import tools needed for visualization\n",
        "from sklearn.tree import export_graphviz\n",
        "import pydot\n",
        "# Pull out one tree from the forest\n",
        "tree = rf.estimators_[5]\n",
        "# Export the image to a dot file\n",
        "export_graphviz(tree, out_file = 'tree.dot', feature_names = train.columns[:-1], rounded = True, precision = 1)\n",
        "# Use dot file to create a graph\n",
        "(graph, ) = pydot.graph_from_dot_file('tree.dot')\n",
        "# Write graph to a png file\n",
        "graph.write_png('tree.png')"
      ]
    },
    {
      "cell_type": "code",
      "execution_count": 35,
      "metadata": {
        "id": "RfhJ71RuIsjC"
      },
      "outputs": [],
      "source": [
        "cf_matrix = confusion_matrix(eval_labels, predictions)"
      ]
    },
    {
      "cell_type": "code",
      "source": [
        "group_names = ['True Neg','False Pos','False Neg','True Pos']\n",
        "\n",
        "group_counts = [\"{0:0.0f}\".format(value) for value in\n",
        "                cf_matrix.flatten()]\n",
        "\n",
        "group_percentages = [\"{0:.2%}\".format(value) for value in\n",
        "                     cf_matrix.flatten()/np.sum(cf_matrix)]\n",
        "\n",
        "labels = [f\"{v1}\\n{v2}\\n{v3}\" for v1, v2, v3 in\n",
        "          zip(group_names,group_counts,group_percentages)]\n",
        "\n",
        "labels = np.asarray(labels).reshape(2,2)\n",
        "\n",
        "ax = sns.heatmap(cf_matrix, annot=labels, fmt='', cmap='Blues')\n",
        "\n",
        "ax.set_title('Seaborn Confusion Matrix with labels\\n\\n');\n",
        "ax.set_xlabel('\\nPredicted Values')\n",
        "ax.set_ylabel('Actual Values ');\n",
        "\n",
        "## Ticket labels - List must be in alphabetical order\n",
        "ax.xaxis.set_ticklabels(['False','True'])\n",
        "ax.yaxis.set_ticklabels(['False','True'])\n",
        "\n",
        "## Display the visualization of the Confusion Matrix.\n",
        "pl.show()"
      ],
      "metadata": {
        "colab": {
          "base_uri": "https://localhost:8080/",
          "height": 337
        },
        "id": "Rby5BAK_gVTH",
        "outputId": "02f1c1f4-d003-4caf-a629-e9e871c1a4a6"
      },
      "execution_count": 39,
      "outputs": [
        {
          "output_type": "display_data",
          "data": {
            "text/plain": [
              "<Figure size 432x288 with 2 Axes>"
            ],
            "image/png": "[encoded data removed]"
          },
          "metadata": {
            "needs_background": "light"
          }
        }
      ]
    },
    {
      "cell_type": "markdown",
      "source": [
        "# Round 2"
      ],
      "metadata": {
        "id": "GukQYAxuhdwL"
      }
    },
    {
      "cell_type": "code",
      "source": [
        "with open(working_folder.joinpath('eval_balanced.pkl'), \"rb\") as fh:\n",
        "  eval = pickle.load(fh)"
      ],
      "metadata": {
        "id": "IRXSsRQex5Cn"
      },
      "execution_count": null,
      "outputs": []
    },
    {
      "cell_type": "code",
      "source": [
        "eval_features_notbalanced, eval_labels_notbalanced = eval.loc[:, eval.columns != 'label'], eval['label']"
      ],
      "metadata": {
        "id": "IFfH8KPHx5RD"
      },
      "execution_count": null,
      "outputs": []
    },
    {
      "cell_type": "code",
      "source": [
        "remove_n = round(int(train.shape[0]/3)) + 10000\n",
        "drop_indices_False = np.random.choice(\n",
        "    train[train['label'] == False].index, remove_n, replace=False\n",
        ")\n",
        "drop_indices_True = np.random.choice(\n",
        "    train[train['label'] == True].index, remove_n, replace=False\n",
        ")\n",
        "train_subset = train.drop(drop_indices_False)\n",
        "train_subset = train_subset.drop(drop_indices_True)"
      ],
      "metadata": {
        "id": "HhU70K7tgHxa"
      },
      "execution_count": 83,
      "outputs": []
    },
    {
      "cell_type": "code",
      "source": [
        "remove_n"
      ],
      "metadata": {
        "colab": {
          "base_uri": "https://localhost:8080/"
        },
        "id": "XwRensJzous_",
        "outputId": "f87a80d3-21d5-482f-de50-2a7812c7932e"
      },
      "execution_count": 84,
      "outputs": [
        {
          "output_type": "execute_result",
          "data": {
            "text/plain": [
              "45445"
            ]
          },
          "metadata": {},
          "execution_count": 84
        }
      ]
    },
    {
      "cell_type": "code",
      "source": [
        "train_subset.shape"
      ],
      "metadata": {
        "colab": {
          "base_uri": "https://localhost:8080/"
        },
        "id": "HcwmhZRHiYjZ",
        "outputId": "39604f7a-a3ce-40a8-f70b-d9f6fb2075ed"
      },
      "execution_count": 85,
      "outputs": [
        {
          "output_type": "execute_result",
          "data": {
            "text/plain": [
              "(15446, 337)"
            ]
          },
          "metadata": {},
          "execution_count": 85
        }
      ]
    },
    {
      "cell_type": "code",
      "source": [
        "train_s_features, train_s_labels = train_subset.loc[:, train_subset.columns != 'label'], train_subset['label']"
      ],
      "metadata": {
        "id": "uxNaihEhh_Wi"
      },
      "execution_count": 86,
      "outputs": []
    },
    {
      "cell_type": "code",
      "source": [
        "train_s_features.shape"
      ],
      "metadata": {
        "colab": {
          "base_uri": "https://localhost:8080/"
        },
        "id": "_9NSt4IEt31P",
        "outputId": "17073c15-4d2d-4a61-9dce-ce75bd456676"
      },
      "execution_count": 87,
      "outputs": [
        {
          "output_type": "execute_result",
          "data": {
            "text/plain": [
              "(15446, 336)"
            ]
          },
          "metadata": {},
          "execution_count": 87
        }
      ]
    },
    {
      "cell_type": "code",
      "source": [
        "# Instantiate model with 1000 decision trees\n",
        "# n_estimators = 100 standard, won't cause overfitting but increases complexity\n",
        "# max_depth - really important for accuracy, causes overfitiing\n",
        "# We generally keep min_samples_split value between 2 and 6\n",
        "# min_samples_leaf: less - overfitting, more - decreased number of parameters, basic - 1\n",
        "rf1 = RandomForestClassifier(\n",
        "    n_estimators = 500, random_state = 42, min_samples_leaf = 2, min_samples_split = 3\n",
        ")\n",
        "# Train the model on training data\n",
        "rf1.fit(train_s_features, train_s_labels);"
      ],
      "metadata": {
        "id": "7UDZj5-Ijxba"
      },
      "execution_count": null,
      "outputs": []
    },
    {
      "cell_type": "code",
      "source": [
        "predictions1 = rf1.predict(eval_features)"
      ],
      "metadata": {
        "id": "aMjMPVfikg2q"
      },
      "execution_count": 94,
      "outputs": []
    },
    {
      "cell_type": "code",
      "source": [
        "train_score1 = rf1.score(train_s_features, train_s_labels)\n",
        "eval_score1 = rf1.score(eval_features, eval_labels)"
      ],
      "metadata": {
        "id": "l-LUtd6lkkkK"
      },
      "execution_count": 95,
      "outputs": []
    },
    {
      "cell_type": "code",
      "source": [
        "print('During training, the accuracy score was ' + str(round(train_score1, 3)))\n",
        "print('During validation, the accuracy score was ' + str(round(eval_score1, 3)))"
      ],
      "metadata": {
        "colab": {
          "base_uri": "https://localhost:8080/"
        },
        "id": "gIoZXRmMwdr5",
        "outputId": "8fb7e10c-762c-4faf-bd61-49d6424b3739"
      },
      "execution_count": 96,
      "outputs": [
        {
          "output_type": "stream",
          "name": "stdout",
          "text": [
            "During training, the accuracy score was 1.0\n",
            "During validation, the accuracy score was 0.654\n"
          ]
        }
      ]
    },
    {
      "cell_type": "code",
      "source": [
        "print(classification_report(eval_labels, predictions1))"
      ],
      "metadata": {
        "colab": {
          "base_uri": "https://localhost:8080/"
        },
        "id": "IDUwrI5quSEw",
        "outputId": "9aa23ccc-dc73-499d-b2c0-378aa510d7f4"
      },
      "execution_count": 97,
      "outputs": [
        {
          "output_type": "stream",
          "name": "stdout",
          "text": [
            "              precision    recall  f1-score   support\n",
            "\n",
            "       False       0.60      0.91      0.72     17914\n",
            "        True       0.81      0.40      0.54     17914\n",
            "\n",
            "    accuracy                           0.65     35828\n",
            "   macro avg       0.71      0.65      0.63     35828\n",
            "weighted avg       0.71      0.65      0.63     35828\n",
            "\n"
          ]
        }
      ]
    },
    {
      "cell_type": "code",
      "source": [
        "accuracy_score(eval_labels, predictions1)"
      ],
      "metadata": {
        "colab": {
          "base_uri": "https://localhost:8080/"
        },
        "id": "udJS4TAqxGLB",
        "outputId": "29d85751-d3f6-4588-df75-ecebfdb9fa31"
      },
      "execution_count": 92,
      "outputs": [
        {
          "output_type": "execute_result",
          "data": {
            "text/plain": [
              "0.6594004689070001"
            ]
          },
          "metadata": {},
          "execution_count": 92
        }
      ]
    },
    {
      "cell_type": "code",
      "source": [
        "cf_matrix1 = confusion_matrix(eval_labels, predictions1)"
      ],
      "metadata": {
        "id": "WBIK1I2Gky92"
      },
      "execution_count": null,
      "outputs": []
    },
    {
      "cell_type": "code",
      "source": [
        "group_names = ['True Neg','False Pos','False Neg','True Pos']\n",
        "\n",
        "group_counts = [\"{0:0.0f}\".format(value) for value in\n",
        "                cf_matrix1.flatten()]\n",
        "\n",
        "group_percentages = [\"{0:.2%}\".format(value) for value in\n",
        "                     cf_matrix1.flatten()/np.sum(cf_matrix1)]\n",
        "\n",
        "labels = [f\"{v1}\\n{v2}\\n{v3}\" for v1, v2, v3 in\n",
        "          zip(group_names,group_counts,group_percentages)]\n",
        "\n",
        "labels = np.asarray(labels).reshape(2,2)\n",
        "\n",
        "ax = sns.heatmap(cf_matrix1, annot=labels, fmt='', cmap='Blues')\n",
        "\n",
        "ax.set_title('Seaborn Confusion Matrix with labels\\n\\n');\n",
        "ax.set_xlabel('\\nPredicted Values')\n",
        "ax.set_ylabel('Actual Values ');\n",
        "\n",
        "## Ticket labels - List must be in alphabetical order\n",
        "ax.xaxis.set_ticklabels(['False','True'])\n",
        "ax.yaxis.set_ticklabels(['False','True'])\n",
        "\n",
        "## Display the visualization of the Confusion Matrix.\n",
        "pl.show()"
      ],
      "metadata": {
        "id": "SDUtsDNPkzNV"
      },
      "execution_count": null,
      "outputs": []
    }
  ],
  "metadata": {
    "colab": {
      "name": "Random Classifier.ipynb",
      "provenance": [],
      "authorship_tag": "ABX9TyNhV3SOyDWSPo0JfU0Hlqz4",
      "include_colab_link": true
    },
    "kernelspec": {
      "display_name": "Python 3",
      "name": "python3"
    },
    "language_info": {
      "name": "python"
    }
  },
  "nbformat": 4,
  "nbformat_minor": 0
}