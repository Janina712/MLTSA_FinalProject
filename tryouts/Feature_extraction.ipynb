{
  "nbformat": 4,
  "nbformat_minor": 0,
  "metadata": {
    "colab": {
      "name": "Feature extraction.ipynb",
      "provenance": [],
      "authorship_tag": "ABX9TyPit0muyS7SSl3NmNKThF+H",
      "include_colab_link": true
    },
    "kernelspec": {
      "name": "python3",
      "display_name": "Python 3"
    },
    "language_info": {
      "name": "python"
    }
  },
  "cells": [
    {
      "cell_type": "markdown",
      "metadata": {
        "id": "view-in-github",
        "colab_type": "text"
      },
      "source": [
        "<a href=\"https://colab.research.google.com/github/Janina712/MLTSA_FinalProject/blob/main/tryouts/Feature_extraction.ipynb\" target=\"_parent\"><img src=\"https://colab.research.google.com/assets/colab-badge.svg\" alt=\"Open In Colab\"/></a>"
      ]
    },
    {
      "cell_type": "code",
      "execution_count": 16,
      "metadata": {
        "id": "cpG7-tLiOr3k"
      },
      "outputs": [],
      "source": [
        "import numpy as np \n",
        "import pandas as pd\n",
        "import os\n",
        "import pylab as pl\n",
        "from pathlib import Path\n",
        "from collections import Counter\n",
        "from scipy.stats import entropy\n",
        "import matplotlib.mlab\n",
        "import statistics\n",
        "import scipy.stats as stats"
      ]
    },
    {
      "cell_type": "code",
      "source": [
        "from google.colab import drive\n",
        "drive.mount('/content/drive')"
      ],
      "metadata": {
        "colab": {
          "base_uri": "https://localhost:8080/"
        },
        "id": "Q8XpS6HWPQA2",
        "outputId": "702633cb-3182-4356-970e-637ee2bd92a4"
      },
      "execution_count": 3,
      "outputs": [
        {
          "output_type": "stream",
          "name": "stdout",
          "text": [
            "Mounted at /content/drive\n"
          ]
        }
      ]
    },
    {
      "cell_type": "code",
      "source": [
        "cd /content/drive/MyDrive/MLTSA22/Final_Project"
      ],
      "metadata": {
        "colab": {
          "base_uri": "https://localhost:8080/"
        },
        "id": "AO11K8x1PRqV",
        "outputId": "0581f3a4-5c9f-44a8-f92f-0c2d3d0cb288"
      },
      "execution_count": 4,
      "outputs": [
        {
          "output_type": "stream",
          "name": "stdout",
          "text": [
            "/content/drive/MyDrive/MLTSA22/Final_Project\n"
          ]
        }
      ]
    },
    {
      "cell_type": "code",
      "source": [
        "!ls /content/drive/MyDrive/MLTSA22/Final_Project"
      ],
      "metadata": {
        "colab": {
          "base_uri": "https://localhost:8080/"
        },
        "id": "gjnSlfc9PY41",
        "outputId": "62958b03-0d04-4add-aa28-bc3622d68b62"
      },
      "execution_count": 5,
      "outputs": [
        {
          "output_type": "stream",
          "name": "stdout",
          "text": [
            "00000258_s002_t000.edf\n",
            "00010563_s002_t004.pkl\n",
            "all_tuh_eeg_seizure_links.txt\n",
            "dev__01_tcp_ar__002__00000258__s002_2003_07_21__00000258_s002_t000.edf\n",
            "dev__01_tcp_ar__002__00000258__s003_2003_07_22__00000258_s003_t001.edf\n",
            "files_raw_channels_small_df.pkl\n",
            "isip_tuh_eeg\n",
            "seizures_types_v01.xlsx\n",
            "temp\n"
          ]
        }
      ]
    },
    {
      "cell_type": "code",
      "source": [
        "working_folder = Path('/content/drive/MyDrive/MLTSA22/Final_Project/')"
      ],
      "metadata": {
        "id": "3twVFEwOPaYU"
      },
      "execution_count": 10,
      "outputs": []
    },
    {
      "cell_type": "code",
      "source": [
        "small = pd.read_pickle(\n",
        "    working_folder.joinpath('00010563_s002_t004.pkl')\n",
        ")"
      ],
      "metadata": {
        "colab": {
          "base_uri": "https://localhost:8080/",
          "height": 322
        },
        "id": "CxFC3y9fPccd",
        "outputId": "c2342acb-cc1f-4f59-fdf0-71f790c54e92"
      },
      "execution_count": 13,
      "outputs": [
        {
          "output_type": "error",
          "ename": "ValueError",
          "evalue": "ignored",
          "traceback": [
            "\u001b[0;31m---------------------------------------------------------------------------\u001b[0m",
            "\u001b[0;31mValueError\u001b[0m                                Traceback (most recent call last)",
            "\u001b[0;32m<ipython-input-13-9cc4ead15b3f>\u001b[0m in \u001b[0;36m<module>\u001b[0;34m()\u001b[0m\n\u001b[1;32m      1\u001b[0m small = pd.read_pickle(\n\u001b[0;32m----> 2\u001b[0;31m     \u001b[0mworking_folder\u001b[0m\u001b[0;34m.\u001b[0m\u001b[0mjoinpath\u001b[0m\u001b[0;34m(\u001b[0m\u001b[0;34m'00010563_s002_t004.pkl'\u001b[0m\u001b[0;34m)\u001b[0m\u001b[0;34m\u001b[0m\u001b[0;34m\u001b[0m\u001b[0m\n\u001b[0m\u001b[1;32m      3\u001b[0m )\n",
            "\u001b[0;32m/usr/local/lib/python3.7/dist-packages/pandas/io/pickle.py\u001b[0m in \u001b[0;36mread_pickle\u001b[0;34m(filepath_or_buffer, compression, storage_options)\u001b[0m\n\u001b[1;32m    215\u001b[0m                     \u001b[0;31m# RawIOBase, BufferedIOBase, TextIOBase, TextIOWrapper, mmap]\";\u001b[0m\u001b[0;34m\u001b[0m\u001b[0;34m\u001b[0m\u001b[0;34m\u001b[0m\u001b[0m\n\u001b[1;32m    216\u001b[0m                     \u001b[0;31m# expected \"IO[bytes]\"\u001b[0m\u001b[0;34m\u001b[0m\u001b[0;34m\u001b[0m\u001b[0;34m\u001b[0m\u001b[0m\n\u001b[0;32m--> 217\u001b[0;31m                     \u001b[0;32mreturn\u001b[0m \u001b[0mpickle\u001b[0m\u001b[0;34m.\u001b[0m\u001b[0mload\u001b[0m\u001b[0;34m(\u001b[0m\u001b[0mhandles\u001b[0m\u001b[0;34m.\u001b[0m\u001b[0mhandle\u001b[0m\u001b[0;34m)\u001b[0m  \u001b[0;31m# type: ignore[arg-type]\u001b[0m\u001b[0;34m\u001b[0m\u001b[0;34m\u001b[0m\u001b[0m\n\u001b[0m\u001b[1;32m    218\u001b[0m             \u001b[0;32mexcept\u001b[0m \u001b[0mexcs_to_catch\u001b[0m\u001b[0;34m:\u001b[0m\u001b[0;34m\u001b[0m\u001b[0;34m\u001b[0m\u001b[0m\n\u001b[1;32m    219\u001b[0m                 \u001b[0;31m# e.g.\u001b[0m\u001b[0;34m\u001b[0m\u001b[0;34m\u001b[0m\u001b[0;34m\u001b[0m\u001b[0m\n",
            "\u001b[0;31mValueError\u001b[0m: unsupported pickle protocol: 5"
          ]
        }
      ]
    },
    {
      "cell_type": "code",
      "source": [
        "columns = ['EEG FP1-REF', 'EEG FP2-REF', 'EEG F3-REF', 'EEG F4-REF',\n",
        "       'EEG C3-REF', 'EEG C4-REF', 'EEG P3-REF', 'EEG P4-REF', 'EEG O1-REF',\n",
        "       'EEG O2-REF', 'EEG F7-REF', 'EEG F8-REF', 'EEG T3-REF', 'EEG T4-REF',\n",
        "       'EEG T5-REF', 'EEG T6-REF', 'EEG FZ-REF', 'EEG CZ-REF', 'EEG PZ-REF',\n",
        "       'EEG A1-REF', 'EEG A2-REF']"
      ],
      "metadata": {
        "id": "fM5g2B-BPniT"
      },
      "execution_count": 14,
      "outputs": []
    },
    {
      "cell_type": "code",
      "source": [
        "def feature_extraction(timeseries):\n",
        "  # takes as an input one window in parallel with the windows from other channels\n",
        "  #20 features\n",
        "  features = []\n",
        "  ##time domain\n",
        "  # mean\n",
        "  mean = np.mean(timeseries)\n",
        "  # variance\n",
        "  var = np.var(timeseries)\n",
        "  # maximum\n",
        "  max = np.max(timeseries)\n",
        "  # minimum\n",
        "  min = np.min(timeseries)\n",
        "  # standard deviation\n",
        "  std = np.std(timeseries)\n",
        "  # line length   \n",
        "  line_length = 0\n",
        "  for i in range(0, len(timeseries)):\n",
        "    if i == 0:\n",
        "      line_length += abs(timeseries[i])\n",
        "    else:\n",
        "      line_length += abs(timeseries[i] - timeseries[i-1])  \n",
        "  # zero-crossing\n",
        "  zero_crossing = (np.diff(np.sign(timeseries)) != 0).sum()\n",
        "  # kurtosis\n",
        "  kurtosis = stats.kurtosis(timeseries)\n",
        "  # skewness\n",
        "  skew = stats.skew(timeseries)\n",
        "  # median\n",
        "  median = statistics.median(timeseries)\n",
        " \n",
        "  ##frequency domain\n",
        "  psd = matplotlib.mlab.psd(timeseries)\n",
        "  power = psd[0].tolist()\n",
        "  freqs = psd[1].tolist()\n",
        "\n",
        "  low_freq = 0\n",
        "  theta = 0\n",
        "  alpha = 0\n",
        "  beta = 0\n",
        "  gamma = 0\n",
        "  for i in range(0, len(psd[0])):\n",
        "    # low frequency power\n",
        "    if freqs[i] <= 0.04:\n",
        "      low_freq += power[i]   \n",
        "    #theta total power 4 - 8 Hz\n",
        "    if 0.04 < freqs[i] <= 0.08:\n",
        "      theta += power[i]\n",
        "    # alpha total power\n",
        "    if 0.08 < freqs[i] <= 0.12:\n",
        "      alpha += power[i]\n",
        "    # beta total power\n",
        "    if 0.13 < freqs[i] <= 0.3:\n",
        "      beta += power[i]\n",
        "    # gamma total power\n",
        "    if 0.3 < freqs[i] <= 1:\n",
        "      gamma += power[i]\n",
        "    \n",
        "  # peak frequency\n",
        "  #peak_freq = freqs[int(power.index(max(power)))]\n",
        "  # spectral entropy\n",
        "  ent = entropy(power)\n",
        "  # magnitude of psd\n",
        "  #mag_psd = matplotlib.mlab.magnitude_spectrum(timeseries)[0]# first array is magnitude, the second - frequencies\n",
        "  # angle of spectrum\n",
        "  #ang_psd = matplotlib.mlab.angle_spectrum(timeseries)[0]\n",
        "  # phase of spectrum\n",
        "  #ph_psd = matplotlib.mlab.phase_spectrum(timeseries)[0]\n",
        "\n",
        "  features.append(mean)\n",
        "  features.append(var)\n",
        "  features.append(max)\n",
        "  features.append(min)\n",
        "  features.append(std)\n",
        "  features.append(line_length)\n",
        "  features.append(zero_crossing)\n",
        "  features.append(kurtosis)\n",
        "  features.append(skew)\n",
        "  features.append(median)\n",
        "  features.append(low_freq)\n",
        "  features.append(theta)\n",
        "  features.append(alpha)\n",
        "  features.append(beta)\n",
        "  features.append(ent)\n",
        "\n",
        "  return features"
      ],
      "metadata": {
        "id": "W7RPSNhxQ-4d"
      },
      "execution_count": 15,
      "outputs": []
    },
    {
      "cell_type": "code",
      "source": [
        ""
      ],
      "metadata": {
        "id": "dHQyDTtARCSM"
      },
      "execution_count": null,
      "outputs": []
    }
  ]
}