{
  "nbformat": 4,
  "nbformat_minor": 0,
  "metadata": {
    "colab": {
      "name": "Slicing and labeling.ipynb",
      "provenance": [],
      "authorship_tag": "ABX9TyPmQ8fKokrH1wj50lq2QFxz",
      "include_colab_link": true
    },
    "kernelspec": {
      "name": "python3",
      "display_name": "Python 3"
    },
    "language_info": {
      "name": "python"
    }
  },
  "cells": [
    {
      "cell_type": "markdown",
      "metadata": {
        "id": "view-in-github",
        "colab_type": "text"
      },
      "source": [
        "<a href=\"https://colab.research.google.com/github/Janina712/MLTSA_FinalProject/blob/main/tryouts/Slicing_and_labeling.ipynb\" target=\"_parent\"><img src=\"https://colab.research.google.com/assets/colab-badge.svg\" alt=\"Open In Colab\"/></a>"
      ]
    },
    {
      "cell_type": "code",
      "execution_count": 53,
      "metadata": {
        "id": "HCQzbTwU_3a7"
      },
      "outputs": [],
      "source": [
        "import numpy as np \n",
        "import pandas as pd\n",
        "import os\n",
        "import pylab as pl\n",
        "import re\n",
        "import requests\n",
        "from bs4 import BeautifulSoup\n",
        "from pathlib import Path\n",
        "from tqdm import tqdm\n",
        "import shutil\n",
        "from collections import Counter\n",
        "from scipy.stats import entropy\n",
        "import matplotlib.mlab"
      ]
    },
    {
      "cell_type": "code",
      "source": [
        "from google.colab import drive\n",
        "drive.mount('/content/drive')"
      ],
      "metadata": {
        "colab": {
          "base_uri": "https://localhost:8080/"
        },
        "id": "7IMFXj5h_8uB",
        "outputId": "e6fb7e15-8870-4842-c9dc-cb8ff7865219"
      },
      "execution_count": 2,
      "outputs": [
        {
          "output_type": "stream",
          "name": "stdout",
          "text": [
            "Mounted at /content/drive\n"
          ]
        }
      ]
    },
    {
      "cell_type": "code",
      "source": [
        "cd /content/drive/MyDrive/MLTSA22/Final_Project"
      ],
      "metadata": {
        "colab": {
          "base_uri": "https://localhost:8080/"
        },
        "id": "ZmKXWKu9AJsi",
        "outputId": "5cb1f9ae-2791-4997-d312-5818427d69ac"
      },
      "execution_count": 3,
      "outputs": [
        {
          "output_type": "stream",
          "name": "stdout",
          "text": [
            "/content/drive/MyDrive/MLTSA22/Final_Project\n"
          ]
        }
      ]
    },
    {
      "cell_type": "code",
      "source": [
        "!ls /content/drive/MyDrive/MLTSA22/Final_Project"
      ],
      "metadata": {
        "colab": {
          "base_uri": "https://localhost:8080/"
        },
        "id": "IVVUMIHXAO8m",
        "outputId": "c4e65d9e-a1f8-419e-c7dc-d2850d311261"
      },
      "execution_count": 4,
      "outputs": [
        {
          "output_type": "stream",
          "name": "stdout",
          "text": [
            "00000258_s002_t000.edf\n",
            "all_tuh_eeg_seizure_links.txt\n",
            "dev__01_tcp_ar__002__00000258__s002_2003_07_21__00000258_s002_t000.edf\n",
            "dev__01_tcp_ar__002__00000258__s003_2003_07_22__00000258_s003_t001.edf\n",
            "files_raw_channels_small_df.pkl\n",
            "isip_tuh_eeg\n",
            "seizures_types_v01.xlsx\n",
            "temp\n"
          ]
        }
      ]
    },
    {
      "cell_type": "code",
      "source": [
        "working_folder = Path('/content/drive/MyDrive/MLTSA22/Final_Project')"
      ],
      "metadata": {
        "id": "VcUpFCq_B26x"
      },
      "execution_count": 5,
      "outputs": []
    },
    {
      "cell_type": "code",
      "source": [
        "df = pd.read_pickle(\n",
        "    working_folder.joinpath('files_raw_channels_small_df.pkl')\n",
        ")"
      ],
      "metadata": {
        "id": "QxSaHB8cAQoe"
      },
      "execution_count": 6,
      "outputs": []
    },
    {
      "cell_type": "code",
      "source": [
        "df.head()"
      ],
      "metadata": {
        "colab": {
          "base_uri": "https://localhost:8080/",
          "height": 591
        },
        "id": "jj1T377dDSQW",
        "outputId": "6712d024-b909-459b-afc9-5fcbc2c2bf6f"
      },
      "execution_count": 7,
      "outputs": [
        {
          "output_type": "execute_result",
          "data": {
            "text/plain": [
              "                                                             filename  \\\n",
              "file_name                                                               \n",
              "00010563_s002_t003  train__01_tcp_ar__105__00010563__s002_2013_07_...   \n",
              "00010563_s002_t004  train__01_tcp_ar__105__00010563__s002_2013_07_...   \n",
              "00010563_s002_t005  train__01_tcp_ar__105__00010563__s002_2013_07_...   \n",
              "00010563_s003_t000  train__01_tcp_ar__105__00010563__s003_2013_07_...   \n",
              "00010563_s003_t001  train__01_tcp_ar__105__00010563__s003_2013_07_...   \n",
              "\n",
              "                   category configuration index patient_#          session  \\\n",
              "file_name                                                                    \n",
              "00010563_s002_t003    train     01_tcp_ar   105  00010563  s002_2013_07_17   \n",
              "00010563_s002_t004    train     01_tcp_ar   105  00010563  s002_2013_07_17   \n",
              "00010563_s002_t005    train     01_tcp_ar   105  00010563  s002_2013_07_17   \n",
              "00010563_s003_t000    train     01_tcp_ar   105  00010563  s003_2013_07_17   \n",
              "00010563_s003_t001    train     01_tcp_ar   105  00010563  s003_2013_07_17   \n",
              "\n",
              "                                                          EEG FP1-REF  \\\n",
              "file_name                                                               \n",
              "00010563_s002_t003  [2.7726555877600295e-10, 1.3483732842699443e-0...   \n",
              "00010563_s002_t004  [-1.0278586830940462e-08, -1.7158036103551026e...   \n",
              "00010563_s002_t005  [3.7111311706420487e-09, -1.0474257222754713e-...   \n",
              "00010563_s003_t000  [-4.837242318016071e-09, -1.9639659553544583e-...   \n",
              "00010563_s003_t001  [-5.683698910306182e-08, 2.654920991845486e-06...   \n",
              "\n",
              "                                                          EEG FP2-REF  \\\n",
              "file_name                                                               \n",
              "00010563_s002_t003  [-3.906051578001337e-10, 2.4807970640912983e-0...   \n",
              "00010563_s002_t004  [2.7648617251111243e-09, -2.8490217427264524e-...   \n",
              "00010563_s002_t005  [7.219823200366963e-09, -3.1951117881894467e-0...   \n",
              "00010563_s003_t000  [-1.7168631924658783e-09, 1.0420288689012175e-...   \n",
              "00010563_s003_t001  [-3.337798055224077e-08, 2.8095137800880105e-0...   \n",
              "\n",
              "                                                           EEG F3-REF  \\\n",
              "file_name                                                               \n",
              "00010563_s002_t003  [-1.9284389162122937e-10, 1.0694757868255472e-...   \n",
              "00010563_s002_t004  [3.288941204731503e-09, 4.617119704569293e-07,...   \n",
              "00010563_s002_t005  [2.1782993270312925e-09, -8.533492755460114e-0...   \n",
              "00010563_s003_t000  [-2.8357483900477646e-09, 1.3444340192373916e-...   \n",
              "00010563_s003_t001  [3.7954605921399086e-08, 1.4489212326297262e-0...   \n",
              "\n",
              "                                                           EEG F4-REF  ...  \\\n",
              "file_name                                                              ...   \n",
              "00010563_s002_t003  [-5.096480914428079e-11, 4.047438658809519e-06...  ...   \n",
              "00010563_s002_t004  [3.399964489573073e-09, -5.345430061192608e-06...  ...   \n",
              "00010563_s002_t005  [-1.365985882998853e-09, 7.092433104769807e-06...  ...   \n",
              "00010563_s003_t000  [-4.3997702726288667e-10, -4.612748503245249e-...  ...   \n",
              "00010563_s003_t001  [-1.2525189500901834e-08, 3.12269697219255e-06...  ...   \n",
              "\n",
              "                                                           EEG T3-REF  \\\n",
              "file_name                                                               \n",
              "00010563_s002_t003  [4.146017629996594e-09, -2.0413263864026096e-0...   \n",
              "00010563_s002_t004  [8.658498750608017e-09, 1.7031133962228388e-07...   \n",
              "00010563_s002_t005  [-8.948886072381209e-10, -7.939269490082801e-0...   \n",
              "00010563_s003_t000  [-1.140736912419709e-09, 7.245232568610588e-07...   \n",
              "00010563_s003_t001  [8.124202650339955e-08, 5.883211872988577e-07,...   \n",
              "\n",
              "                                                           EEG T4-REF  \\\n",
              "file_name                                                               \n",
              "00010563_s002_t003  [1.444056012902292e-09, 3.817044838007959e-07,...   \n",
              "00010563_s002_t004  [1.780158122957924e-09, -2.152228442797806e-06...   \n",
              "00010563_s002_t005  [3.07454363042913e-09, 1.4140713109054442e-06,...   \n",
              "00010563_s003_t000  [2.6767669024911234e-09, 1.6102607124345142e-0...   \n",
              "00010563_s003_t001  [-4.9073445727403074e-08, 1.3883104676019777e-...   \n",
              "\n",
              "                                                           EEG T5-REF  \\\n",
              "file_name                                                               \n",
              "00010563_s002_t003  [-2.910958452221951e-09, -3.250484807099009e-0...   \n",
              "00010563_s002_t004  [-4.916698865387427e-10, -2.9856703770832174e-...   \n",
              "00010563_s002_t005  [6.674844103884688e-09, -4.037450817687943e-06...   \n",
              "00010563_s003_t000  [4.665380888551219e-09, 9.506710232528226e-07,...   \n",
              "00010563_s003_t001  [1.9867273141848352e-08, 1.6805965603429214e-0...   \n",
              "\n",
              "                                                           EEG T6-REF  \\\n",
              "file_name                                                               \n",
              "00010563_s002_t003  [1.8423372397872572e-09, -7.1615811255855e-07,...   \n",
              "00010563_s002_t004  [-6.258704822517387e-09, -1.8593219919890405e-...   \n",
              "00010563_s002_t005  [-3.61287734508141e-09, 6.247470115147276e-06,...   \n",
              "00010563_s003_t000  [2.351093927809803e-09, 2.4800401575907515e-06...   \n",
              "00010563_s003_t001  [-6.673399352104671e-08, -1.2191897638578423e-...   \n",
              "\n",
              "                                                           EEG FZ-REF  \\\n",
              "file_name                                                               \n",
              "00010563_s002_t003  [-1.364304852525069e-10, 3.5260483039175664e-0...   \n",
              "00010563_s002_t004  [9.815260117792147e-10, -2.4137912796958633e-0...   \n",
              "00010563_s002_t005  [-2.062432726832931e-09, 5.42573298081137e-07,...   \n",
              "00010563_s003_t000  [-1.0594241716063995e-10, -8.909057146788971e-...   \n",
              "00010563_s003_t001  [3.058758964062181e-09, 1.9130796523937236e-06...   \n",
              "\n",
              "                                                           EEG CZ-REF  \\\n",
              "file_name                                                               \n",
              "00010563_s002_t003  [1.3531881762796245e-10, 6.983863806835304e-07...   \n",
              "00010563_s002_t004  [-2.357383015178091e-10, -5.355394184505534e-0...   \n",
              "00010563_s002_t005  [-8.346167589202069e-10, -3.2631357231385514e-...   \n",
              "00010563_s003_t000  [-4.790726036099662e-10, -1.4461463449301e-06,...   \n",
              "00010563_s003_t001  [-1.39453577867126e-09, 1.223609540591494e-06,...   \n",
              "\n",
              "                                                           EEG PZ-REF  \\\n",
              "file_name                                                               \n",
              "00010563_s002_t003  [-2.3495119248263287e-10, -7.617383775562379e-...   \n",
              "00010563_s002_t004  [-1.0067458116184742e-09, -1.6493666048317114e...   \n",
              "00010563_s002_t005  [2.2304470728923623e-10, 3.7421245926520404e-0...   \n",
              "00010563_s003_t000  [4.02520870030525e-10, 1.1526165134603241e-08,...   \n",
              "00010563_s003_t001  [-9.876131746069375e-09, 1.3391255464096026e-0...   \n",
              "\n",
              "                                                           EEG A1-REF  \\\n",
              "file_name                                                               \n",
              "00010563_s002_t003  [9.596059492877374e-10, -1.1888197912083615e-0...   \n",
              "00010563_s002_t004  [-4.7017904553916475e-09, -1.2061141044168896e...   \n",
              "00010563_s002_t005  [1.4396886880297788e-09, -7.661145779436604e-0...   \n",
              "00010563_s003_t000  [-5.771001920778108e-09, 3.624165205087055e-08...   \n",
              "00010563_s003_t001  [7.511533652103386e-08, -4.399158557750114e-06...   \n",
              "\n",
              "                                                           EEG A2-REF  \\\n",
              "file_name                                                               \n",
              "00010563_s002_t003  [1.0519972902783143e-11, -2.1400490121479406e-...   \n",
              "00010563_s002_t004  [-1.1048988390260309e-08, -1.0048047870747276e...   \n",
              "00010563_s002_t005  [6.327147966320168e-10, 1.1833053986962973e-05...   \n",
              "00010563_s003_t000  [4.244714350965895e-09, -2.003986424867263e-06...   \n",
              "00010563_s003_t001  [-7.913696451822553e-08, -1.2159126319610358e-...   \n",
              "\n",
              "                                  labels  \n",
              "file_name                                 \n",
              "00010563_s002_t003  [[0.0, 601.0, bckg]]  \n",
              "00010563_s002_t004  [[0.0, 300.0, bckg]]  \n",
              "00010563_s002_t005  [[0.0, 601.0, bckg]]  \n",
              "00010563_s003_t000  [[0.0, 300.0, bckg]]  \n",
              "00010563_s003_t001   [[0.0, 30.0, bckg]]  \n",
              "\n",
              "[5 rows x 28 columns]"
            ],
            "text/html": [
              "\n",
              "  <div id=\"df-93add47c-608f-47b8-9e55-4f8b5a793652\">\n",
              "    <div class=\"colab-df-container\">\n",
              "      <div>\n",
              "<style scoped>\n",
              "    .dataframe tbody tr th:only-of-type {\n",
              "        vertical-align: middle;\n",
              "    }\n",
              "\n",
              "    .dataframe tbody tr th {\n",
              "        vertical-align: top;\n",
              "    }\n",
              "\n",
              "    .dataframe thead th {\n",
              "        text-align: right;\n",
              "    }\n",
              "</style>\n",
              "<table border=\"1\" class=\"dataframe\">\n",
              "  <thead>\n",
              "    <tr style=\"text-align: right;\">\n",
              "      <th></th>\n",
              "      <th>filename</th>\n",
              "      <th>category</th>\n",
              "      <th>configuration</th>\n",
              "      <th>index</th>\n",
              "      <th>patient_#</th>\n",
              "      <th>session</th>\n",
              "      <th>EEG FP1-REF</th>\n",
              "      <th>EEG FP2-REF</th>\n",
              "      <th>EEG F3-REF</th>\n",
              "      <th>EEG F4-REF</th>\n",
              "      <th>...</th>\n",
              "      <th>EEG T3-REF</th>\n",
              "      <th>EEG T4-REF</th>\n",
              "      <th>EEG T5-REF</th>\n",
              "      <th>EEG T6-REF</th>\n",
              "      <th>EEG FZ-REF</th>\n",
              "      <th>EEG CZ-REF</th>\n",
              "      <th>EEG PZ-REF</th>\n",
              "      <th>EEG A1-REF</th>\n",
              "      <th>EEG A2-REF</th>\n",
              "      <th>labels</th>\n",
              "    </tr>\n",
              "    <tr>\n",
              "      <th>file_name</th>\n",
              "      <th></th>\n",
              "      <th></th>\n",
              "      <th></th>\n",
              "      <th></th>\n",
              "      <th></th>\n",
              "      <th></th>\n",
              "      <th></th>\n",
              "      <th></th>\n",
              "      <th></th>\n",
              "      <th></th>\n",
              "      <th></th>\n",
              "      <th></th>\n",
              "      <th></th>\n",
              "      <th></th>\n",
              "      <th></th>\n",
              "      <th></th>\n",
              "      <th></th>\n",
              "      <th></th>\n",
              "      <th></th>\n",
              "      <th></th>\n",
              "      <th></th>\n",
              "    </tr>\n",
              "  </thead>\n",
              "  <tbody>\n",
              "    <tr>\n",
              "      <th>00010563_s002_t003</th>\n",
              "      <td>train__01_tcp_ar__105__00010563__s002_2013_07_...</td>\n",
              "      <td>train</td>\n",
              "      <td>01_tcp_ar</td>\n",
              "      <td>105</td>\n",
              "      <td>00010563</td>\n",
              "      <td>s002_2013_07_17</td>\n",
              "      <td>[2.7726555877600295e-10, 1.3483732842699443e-0...</td>\n",
              "      <td>[-3.906051578001337e-10, 2.4807970640912983e-0...</td>\n",
              "      <td>[-1.9284389162122937e-10, 1.0694757868255472e-...</td>\n",
              "      <td>[-5.096480914428079e-11, 4.047438658809519e-06...</td>\n",
              "      <td>...</td>\n",
              "      <td>[4.146017629996594e-09, -2.0413263864026096e-0...</td>\n",
              "      <td>[1.444056012902292e-09, 3.817044838007959e-07,...</td>\n",
              "      <td>[-2.910958452221951e-09, -3.250484807099009e-0...</td>\n",
              "      <td>[1.8423372397872572e-09, -7.1615811255855e-07,...</td>\n",
              "      <td>[-1.364304852525069e-10, 3.5260483039175664e-0...</td>\n",
              "      <td>[1.3531881762796245e-10, 6.983863806835304e-07...</td>\n",
              "      <td>[-2.3495119248263287e-10, -7.617383775562379e-...</td>\n",
              "      <td>[9.596059492877374e-10, -1.1888197912083615e-0...</td>\n",
              "      <td>[1.0519972902783143e-11, -2.1400490121479406e-...</td>\n",
              "      <td>[[0.0, 601.0, bckg]]</td>\n",
              "    </tr>\n",
              "    <tr>\n",
              "      <th>00010563_s002_t004</th>\n",
              "      <td>train__01_tcp_ar__105__00010563__s002_2013_07_...</td>\n",
              "      <td>train</td>\n",
              "      <td>01_tcp_ar</td>\n",
              "      <td>105</td>\n",
              "      <td>00010563</td>\n",
              "      <td>s002_2013_07_17</td>\n",
              "      <td>[-1.0278586830940462e-08, -1.7158036103551026e...</td>\n",
              "      <td>[2.7648617251111243e-09, -2.8490217427264524e-...</td>\n",
              "      <td>[3.288941204731503e-09, 4.617119704569293e-07,...</td>\n",
              "      <td>[3.399964489573073e-09, -5.345430061192608e-06...</td>\n",
              "      <td>...</td>\n",
              "      <td>[8.658498750608017e-09, 1.7031133962228388e-07...</td>\n",
              "      <td>[1.780158122957924e-09, -2.152228442797806e-06...</td>\n",
              "      <td>[-4.916698865387427e-10, -2.9856703770832174e-...</td>\n",
              "      <td>[-6.258704822517387e-09, -1.8593219919890405e-...</td>\n",
              "      <td>[9.815260117792147e-10, -2.4137912796958633e-0...</td>\n",
              "      <td>[-2.357383015178091e-10, -5.355394184505534e-0...</td>\n",
              "      <td>[-1.0067458116184742e-09, -1.6493666048317114e...</td>\n",
              "      <td>[-4.7017904553916475e-09, -1.2061141044168896e...</td>\n",
              "      <td>[-1.1048988390260309e-08, -1.0048047870747276e...</td>\n",
              "      <td>[[0.0, 300.0, bckg]]</td>\n",
              "    </tr>\n",
              "    <tr>\n",
              "      <th>00010563_s002_t005</th>\n",
              "      <td>train__01_tcp_ar__105__00010563__s002_2013_07_...</td>\n",
              "      <td>train</td>\n",
              "      <td>01_tcp_ar</td>\n",
              "      <td>105</td>\n",
              "      <td>00010563</td>\n",
              "      <td>s002_2013_07_17</td>\n",
              "      <td>[3.7111311706420487e-09, -1.0474257222754713e-...</td>\n",
              "      <td>[7.219823200366963e-09, -3.1951117881894467e-0...</td>\n",
              "      <td>[2.1782993270312925e-09, -8.533492755460114e-0...</td>\n",
              "      <td>[-1.365985882998853e-09, 7.092433104769807e-06...</td>\n",
              "      <td>...</td>\n",
              "      <td>[-8.948886072381209e-10, -7.939269490082801e-0...</td>\n",
              "      <td>[3.07454363042913e-09, 1.4140713109054442e-06,...</td>\n",
              "      <td>[6.674844103884688e-09, -4.037450817687943e-06...</td>\n",
              "      <td>[-3.61287734508141e-09, 6.247470115147276e-06,...</td>\n",
              "      <td>[-2.062432726832931e-09, 5.42573298081137e-07,...</td>\n",
              "      <td>[-8.346167589202069e-10, -3.2631357231385514e-...</td>\n",
              "      <td>[2.2304470728923623e-10, 3.7421245926520404e-0...</td>\n",
              "      <td>[1.4396886880297788e-09, -7.661145779436604e-0...</td>\n",
              "      <td>[6.327147966320168e-10, 1.1833053986962973e-05...</td>\n",
              "      <td>[[0.0, 601.0, bckg]]</td>\n",
              "    </tr>\n",
              "    <tr>\n",
              "      <th>00010563_s003_t000</th>\n",
              "      <td>train__01_tcp_ar__105__00010563__s003_2013_07_...</td>\n",
              "      <td>train</td>\n",
              "      <td>01_tcp_ar</td>\n",
              "      <td>105</td>\n",
              "      <td>00010563</td>\n",
              "      <td>s003_2013_07_17</td>\n",
              "      <td>[-4.837242318016071e-09, -1.9639659553544583e-...</td>\n",
              "      <td>[-1.7168631924658783e-09, 1.0420288689012175e-...</td>\n",
              "      <td>[-2.8357483900477646e-09, 1.3444340192373916e-...</td>\n",
              "      <td>[-4.3997702726288667e-10, -4.612748503245249e-...</td>\n",
              "      <td>...</td>\n",
              "      <td>[-1.140736912419709e-09, 7.245232568610588e-07...</td>\n",
              "      <td>[2.6767669024911234e-09, 1.6102607124345142e-0...</td>\n",
              "      <td>[4.665380888551219e-09, 9.506710232528226e-07,...</td>\n",
              "      <td>[2.351093927809803e-09, 2.4800401575907515e-06...</td>\n",
              "      <td>[-1.0594241716063995e-10, -8.909057146788971e-...</td>\n",
              "      <td>[-4.790726036099662e-10, -1.4461463449301e-06,...</td>\n",
              "      <td>[4.02520870030525e-10, 1.1526165134603241e-08,...</td>\n",
              "      <td>[-5.771001920778108e-09, 3.624165205087055e-08...</td>\n",
              "      <td>[4.244714350965895e-09, -2.003986424867263e-06...</td>\n",
              "      <td>[[0.0, 300.0, bckg]]</td>\n",
              "    </tr>\n",
              "    <tr>\n",
              "      <th>00010563_s003_t001</th>\n",
              "      <td>train__01_tcp_ar__105__00010563__s003_2013_07_...</td>\n",
              "      <td>train</td>\n",
              "      <td>01_tcp_ar</td>\n",
              "      <td>105</td>\n",
              "      <td>00010563</td>\n",
              "      <td>s003_2013_07_17</td>\n",
              "      <td>[-5.683698910306182e-08, 2.654920991845486e-06...</td>\n",
              "      <td>[-3.337798055224077e-08, 2.8095137800880105e-0...</td>\n",
              "      <td>[3.7954605921399086e-08, 1.4489212326297262e-0...</td>\n",
              "      <td>[-1.2525189500901834e-08, 3.12269697219255e-06...</td>\n",
              "      <td>...</td>\n",
              "      <td>[8.124202650339955e-08, 5.883211872988577e-07,...</td>\n",
              "      <td>[-4.9073445727403074e-08, 1.3883104676019777e-...</td>\n",
              "      <td>[1.9867273141848352e-08, 1.6805965603429214e-0...</td>\n",
              "      <td>[-6.673399352104671e-08, -1.2191897638578423e-...</td>\n",
              "      <td>[3.058758964062181e-09, 1.9130796523937236e-06...</td>\n",
              "      <td>[-1.39453577867126e-09, 1.223609540591494e-06,...</td>\n",
              "      <td>[-9.876131746069375e-09, 1.3391255464096026e-0...</td>\n",
              "      <td>[7.511533652103386e-08, -4.399158557750114e-06...</td>\n",
              "      <td>[-7.913696451822553e-08, -1.2159126319610358e-...</td>\n",
              "      <td>[[0.0, 30.0, bckg]]</td>\n",
              "    </tr>\n",
              "  </tbody>\n",
              "</table>\n",
              "<p>5 rows × 28 columns</p>\n",
              "</div>\n",
              "      <button class=\"colab-df-convert\" onclick=\"convertToInteractive('df-93add47c-608f-47b8-9e55-4f8b5a793652')\"\n",
              "              title=\"Convert this dataframe to an interactive table.\"\n",
              "              style=\"display:none;\">\n",
              "        \n",
              "  <svg xmlns=\"http://www.w3.org/2000/svg\" height=\"24px\"viewBox=\"0 0 24 24\"\n",
              "       width=\"24px\">\n",
              "    <path d=\"M0 0h24v24H0V0z\" fill=\"none\"/>\n",
              "    <path d=\"M18.56 5.44l.94 2.06.94-2.06 2.06-.94-2.06-.94-.94-2.06-.94 2.06-2.06.94zm-11 1L8.5 8.5l.94-2.06 2.06-.94-2.06-.94L8.5 2.5l-.94 2.06-2.06.94zm10 10l.94 2.06.94-2.06 2.06-.94-2.06-.94-.94-2.06-.94 2.06-2.06.94z\"/><path d=\"M17.41 7.96l-1.37-1.37c-.4-.4-.92-.59-1.43-.59-.52 0-1.04.2-1.43.59L10.3 9.45l-7.72 7.72c-.78.78-.78 2.05 0 2.83L4 21.41c.39.39.9.59 1.41.59.51 0 1.02-.2 1.41-.59l7.78-7.78 2.81-2.81c.8-.78.8-2.07 0-2.86zM5.41 20L4 18.59l7.72-7.72 1.47 1.35L5.41 20z\"/>\n",
              "  </svg>\n",
              "      </button>\n",
              "      \n",
              "  <style>\n",
              "    .colab-df-container {\n",
              "      display:flex;\n",
              "      flex-wrap:wrap;\n",
              "      gap: 12px;\n",
              "    }\n",
              "\n",
              "    .colab-df-convert {\n",
              "      background-color: #E8F0FE;\n",
              "      border: none;\n",
              "      border-radius: 50%;\n",
              "      cursor: pointer;\n",
              "      display: none;\n",
              "      fill: #1967D2;\n",
              "      height: 32px;\n",
              "      padding: 0 0 0 0;\n",
              "      width: 32px;\n",
              "    }\n",
              "\n",
              "    .colab-df-convert:hover {\n",
              "      background-color: #E2EBFA;\n",
              "      box-shadow: 0px 1px 2px rgba(60, 64, 67, 0.3), 0px 1px 3px 1px rgba(60, 64, 67, 0.15);\n",
              "      fill: #174EA6;\n",
              "    }\n",
              "\n",
              "    [theme=dark] .colab-df-convert {\n",
              "      background-color: #3B4455;\n",
              "      fill: #D2E3FC;\n",
              "    }\n",
              "\n",
              "    [theme=dark] .colab-df-convert:hover {\n",
              "      background-color: #434B5C;\n",
              "      box-shadow: 0px 1px 3px 1px rgba(0, 0, 0, 0.15);\n",
              "      filter: drop-shadow(0px 1px 2px rgba(0, 0, 0, 0.3));\n",
              "      fill: #FFFFFF;\n",
              "    }\n",
              "  </style>\n",
              "\n",
              "      <script>\n",
              "        const buttonEl =\n",
              "          document.querySelector('#df-93add47c-608f-47b8-9e55-4f8b5a793652 button.colab-df-convert');\n",
              "        buttonEl.style.display =\n",
              "          google.colab.kernel.accessAllowed ? 'block' : 'none';\n",
              "\n",
              "        async function convertToInteractive(key) {\n",
              "          const element = document.querySelector('#df-93add47c-608f-47b8-9e55-4f8b5a793652');\n",
              "          const dataTable =\n",
              "            await google.colab.kernel.invokeFunction('convertToInteractive',\n",
              "                                                     [key], {});\n",
              "          if (!dataTable) return;\n",
              "\n",
              "          const docLinkHtml = 'Like what you see? Visit the ' +\n",
              "            '<a target=\"_blank\" href=https://colab.research.google.com/notebooks/data_table.ipynb>data table notebook</a>'\n",
              "            + ' to learn more about interactive tables.';\n",
              "          element.innerHTML = '';\n",
              "          dataTable['output_type'] = 'display_data';\n",
              "          await google.colab.output.renderOutput(dataTable, element);\n",
              "          const docLink = document.createElement('div');\n",
              "          docLink.innerHTML = docLinkHtml;\n",
              "          element.appendChild(docLink);\n",
              "        }\n",
              "      </script>\n",
              "    </div>\n",
              "  </div>\n",
              "  "
            ]
          },
          "metadata": {},
          "execution_count": 7
        }
      ]
    },
    {
      "cell_type": "code",
      "source": [
        "df.columns"
      ],
      "metadata": {
        "colab": {
          "base_uri": "https://localhost:8080/"
        },
        "id": "KXtva9ymFa3y",
        "outputId": "1e347ee9-e0d1-4b1d-c222-8a87fa2f190c"
      },
      "execution_count": 8,
      "outputs": [
        {
          "output_type": "execute_result",
          "data": {
            "text/plain": [
              "Index(['filename', 'category', 'configuration', 'index', 'patient_#',\n",
              "       'session', 'EEG FP1-REF', 'EEG FP2-REF', 'EEG F3-REF', 'EEG F4-REF',\n",
              "       'EEG C3-REF', 'EEG C4-REF', 'EEG P3-REF', 'EEG P4-REF', 'EEG O1-REF',\n",
              "       'EEG O2-REF', 'EEG F7-REF', 'EEG F8-REF', 'EEG T3-REF', 'EEG T4-REF',\n",
              "       'EEG T5-REF', 'EEG T6-REF', 'EEG FZ-REF', 'EEG CZ-REF', 'EEG PZ-REF',\n",
              "       'EEG A1-REF', 'EEG A2-REF', 'labels'],\n",
              "      dtype='object')"
            ]
          },
          "metadata": {},
          "execution_count": 8
        }
      ]
    },
    {
      "cell_type": "code",
      "source": [
        "# creating a new column, where there will be a list of labels\n",
        "# the list will be the same for ALL the channels of a particular time series\n",
        "df['seizure_type'] = np.NaN"
      ],
      "metadata": {
        "id": "9DS2GFPMswyh"
      },
      "execution_count": 9,
      "outputs": []
    },
    {
      "cell_type": "code",
      "source": [
        "df.columns"
      ],
      "metadata": {
        "colab": {
          "base_uri": "https://localhost:8080/"
        },
        "id": "s2cT5F-AtDOO",
        "outputId": "02ef6386-420e-4619-bf2e-f91c6fdce8aa"
      },
      "execution_count": 10,
      "outputs": [
        {
          "output_type": "execute_result",
          "data": {
            "text/plain": [
              "Index(['filename', 'category', 'configuration', 'index', 'patient_#',\n",
              "       'session', 'EEG FP1-REF', 'EEG FP2-REF', 'EEG F3-REF', 'EEG F4-REF',\n",
              "       'EEG C3-REF', 'EEG C4-REF', 'EEG P3-REF', 'EEG P4-REF', 'EEG O1-REF',\n",
              "       'EEG O2-REF', 'EEG F7-REF', 'EEG F8-REF', 'EEG T3-REF', 'EEG T4-REF',\n",
              "       'EEG T5-REF', 'EEG T6-REF', 'EEG FZ-REF', 'EEG CZ-REF', 'EEG PZ-REF',\n",
              "       'EEG A1-REF', 'EEG A2-REF', 'labels', 'seizure_type'],\n",
              "      dtype='object')"
            ]
          },
          "metadata": {},
          "execution_count": 10
        }
      ]
    },
    {
      "cell_type": "markdown",
      "source": [
        "Let's upload additional df with the types of the events/seizures. Because if there is a label, that DOESN'T mean that it's a SEIZURE"
      ],
      "metadata": {
        "id": "j4EXLpmzfGQu"
      }
    },
    {
      "cell_type": "code",
      "source": [
        "seizure_types = pd.read_excel(\n",
        "    working_folder.joinpath('seizures_types_v01.xlsx')\n",
        ")"
      ],
      "metadata": {
        "id": "dTuv1zleeyb2"
      },
      "execution_count": 11,
      "outputs": []
    },
    {
      "cell_type": "code",
      "source": [
        "seizure_types"
      ],
      "metadata": {
        "colab": {
          "base_uri": "https://localhost:8080/",
          "height": 895
        },
        "id": "Pbhi3C-WgjWu",
        "outputId": "2b9fa85f-c4e0-4686-984d-84ecc03006a3"
      },
      "execution_count": 12,
      "outputs": [
        {
          "output_type": "execute_result",
          "data": {
            "text/plain": [
              "   Class Code  Class No.                                    Event Name  \\\n",
              "0         NaN          0                                      No Event   \n",
              "1        SPSW          1                          Spike/Sharp and Wave   \n",
              "2        GPED          2  Generalized Periodic Epileptiform Discharges   \n",
              "3        PLED          3  Periodic Lateralized Epileptiform Discharges   \n",
              "4        EYBL          4                                     Eye blink   \n",
              "5        ARTF          5                               Artifacts (All)   \n",
              "6        BCKG          6                                    Background   \n",
              "7        SEIZ          7                                       Seizure   \n",
              "8        FNSZ          8                    Focal Non-Specific Seizure   \n",
              "9        GNSZ          9              Generalized Non-Specific Seizure   \n",
              "10       SPSZ         10                        Simple Partial Seizure   \n",
              "11       CPSZ         11                       Complex Partial Seizure   \n",
              "12       ABSZ         12                               Absence Seizure   \n",
              "13       TNSZ         13                                 Tonic Seizure   \n",
              "14       CNSZ         14                                Clonic Seizure   \n",
              "15       TCSZ         15                          Tonic Clonic Seizure   \n",
              "16       ATSZ         16                                Atonic Seizure   \n",
              "17       MYSZ         17                             Myoclonic Seizure   \n",
              "18       NESZ         18                         Non-Epileptic Seizure   \n",
              "19       INTR         19                          Interesting Patterns   \n",
              "20       SLOW         20                                       Slowing   \n",
              "21       EYEM         21                         Eye Movement Artifact   \n",
              "22       CHEW         22                              Chewing Artifact   \n",
              "23       SHIV         23                            Shivering Artifact   \n",
              "24       MUSC         24                               Muscle Artifact   \n",
              "25       ELPP         25                        Electrode Pop Artifact   \n",
              "26       ELST         26                        Electrostatic Artifact   \n",
              "\n",
              "                         Signs           Locality  \\\n",
              "0                          NaN                NaN   \n",
              "1               Electrographic                All   \n",
              "2               Electrographic        Generalized   \n",
              "3               Electrographic  Hemispheric/Focal   \n",
              "4    Clinical & Electrographic              Focal   \n",
              "5    Clinical & Electrographic                All   \n",
              "6               Electrographic                NaN   \n",
              "7   Clinical &| Electrographic                All   \n",
              "8               Electrographic  Hemispheric/Focal   \n",
              "9               Electrographic        Generalized   \n",
              "10   Clinical & Electrographic                All   \n",
              "11   Clinical & Electrographic                All   \n",
              "12   Clinical & Electrographic        Generalized   \n",
              "13   Clinical & Electrographic                All   \n",
              "14   Clinical & Electrographic                All   \n",
              "15   Clinical & Electrographic                All   \n",
              "16   Clinical & Electrographic                NaN   \n",
              "17   Clinical & Electrographic                NaN   \n",
              "18   Clinical & Electrographic                NaN   \n",
              "19              Electrographic                All   \n",
              "20              Electrographic                All   \n",
              "21   Clinical & Electrographic              Focal   \n",
              "22   Clinical & Electrographic                All   \n",
              "23   Clinical & Electrographic                All   \n",
              "24   Clinical & Electrographic                All   \n",
              "25   Clinical & Electrographic              Focal   \n",
              "26   Clinical & Electrographic                All   \n",
              "\n",
              "                                          Description  \n",
              "0                               An unclassified event  \n",
              "1   Spike and wave/complexes , sharp and wave/comp...  \n",
              "2                        Diffused periodic discharges  \n",
              "3                           Focal periodic discharges  \n",
              "4   A specific type of sharp, high amplitude eye m...  \n",
              "5   Any non-brain activity electrical signal, such...  \n",
              "6                     Baseline/non-interesting events  \n",
              "7   Common seizure class which can include all typ...  \n",
              "8   Focal seizures which cannot be specified with ...  \n",
              "9   Generalized seizures which cannot be further c...  \n",
              "10  Partial seizures during consciousness; Type sp...  \n",
              "11  Partial Seizures during unconsciousness; Type ...  \n",
              "12  Absence Discharges observed on EEG; patient lo...  \n",
              "13  Stiffening of body during seizure (EEG effects...  \n",
              "14           Jerking/shivering of body during seizure  \n",
              "15  At first stiffening and then jerking of body (...  \n",
              "16                         Sudden loss of muscle tone  \n",
              "17                          Myoclonous jerks of limbs  \n",
              "18  Any non-epileptic seizure observed. Contains n...  \n",
              "19  Any unusual or interesting patterns observed t...  \n",
              "20                      A brief decrease in frequency  \n",
              "21  A very common frontal/prefrontal artifact seen...  \n",
              "22  A specific artifact involving multiple channel...  \n",
              "23  A specific, sustained sharp artifact that corr...  \n",
              "24  A very common, high frequency, sharp artifact ...  \n",
              "25  A short artifact characterized by channels usi...  \n",
              "26  Artifact caused by movement or interference on...  "
            ],
            "text/html": [
              "\n",
              "  <div id=\"df-3bc8adb7-737f-461e-8501-c915f71ae881\">\n",
              "    <div class=\"colab-df-container\">\n",
              "      <div>\n",
              "<style scoped>\n",
              "    .dataframe tbody tr th:only-of-type {\n",
              "        vertical-align: middle;\n",
              "    }\n",
              "\n",
              "    .dataframe tbody tr th {\n",
              "        vertical-align: top;\n",
              "    }\n",
              "\n",
              "    .dataframe thead th {\n",
              "        text-align: right;\n",
              "    }\n",
              "</style>\n",
              "<table border=\"1\" class=\"dataframe\">\n",
              "  <thead>\n",
              "    <tr style=\"text-align: right;\">\n",
              "      <th></th>\n",
              "      <th>Class Code</th>\n",
              "      <th>Class No.</th>\n",
              "      <th>Event Name</th>\n",
              "      <th>Signs</th>\n",
              "      <th>Locality</th>\n",
              "      <th>Description</th>\n",
              "    </tr>\n",
              "  </thead>\n",
              "  <tbody>\n",
              "    <tr>\n",
              "      <th>0</th>\n",
              "      <td>NaN</td>\n",
              "      <td>0</td>\n",
              "      <td>No Event</td>\n",
              "      <td>NaN</td>\n",
              "      <td>NaN</td>\n",
              "      <td>An unclassified event</td>\n",
              "    </tr>\n",
              "    <tr>\n",
              "      <th>1</th>\n",
              "      <td>SPSW</td>\n",
              "      <td>1</td>\n",
              "      <td>Spike/Sharp and Wave</td>\n",
              "      <td>Electrographic</td>\n",
              "      <td>All</td>\n",
              "      <td>Spike and wave/complexes , sharp and wave/comp...</td>\n",
              "    </tr>\n",
              "    <tr>\n",
              "      <th>2</th>\n",
              "      <td>GPED</td>\n",
              "      <td>2</td>\n",
              "      <td>Generalized Periodic Epileptiform Discharges</td>\n",
              "      <td>Electrographic</td>\n",
              "      <td>Generalized</td>\n",
              "      <td>Diffused periodic discharges</td>\n",
              "    </tr>\n",
              "    <tr>\n",
              "      <th>3</th>\n",
              "      <td>PLED</td>\n",
              "      <td>3</td>\n",
              "      <td>Periodic Lateralized Epileptiform Discharges</td>\n",
              "      <td>Electrographic</td>\n",
              "      <td>Hemispheric/Focal</td>\n",
              "      <td>Focal periodic discharges</td>\n",
              "    </tr>\n",
              "    <tr>\n",
              "      <th>4</th>\n",
              "      <td>EYBL</td>\n",
              "      <td>4</td>\n",
              "      <td>Eye blink</td>\n",
              "      <td>Clinical &amp; Electrographic</td>\n",
              "      <td>Focal</td>\n",
              "      <td>A specific type of sharp, high amplitude eye m...</td>\n",
              "    </tr>\n",
              "    <tr>\n",
              "      <th>5</th>\n",
              "      <td>ARTF</td>\n",
              "      <td>5</td>\n",
              "      <td>Artifacts (All)</td>\n",
              "      <td>Clinical &amp; Electrographic</td>\n",
              "      <td>All</td>\n",
              "      <td>Any non-brain activity electrical signal, such...</td>\n",
              "    </tr>\n",
              "    <tr>\n",
              "      <th>6</th>\n",
              "      <td>BCKG</td>\n",
              "      <td>6</td>\n",
              "      <td>Background</td>\n",
              "      <td>Electrographic</td>\n",
              "      <td>NaN</td>\n",
              "      <td>Baseline/non-interesting events</td>\n",
              "    </tr>\n",
              "    <tr>\n",
              "      <th>7</th>\n",
              "      <td>SEIZ</td>\n",
              "      <td>7</td>\n",
              "      <td>Seizure</td>\n",
              "      <td>Clinical &amp;| Electrographic</td>\n",
              "      <td>All</td>\n",
              "      <td>Common seizure class which can include all typ...</td>\n",
              "    </tr>\n",
              "    <tr>\n",
              "      <th>8</th>\n",
              "      <td>FNSZ</td>\n",
              "      <td>8</td>\n",
              "      <td>Focal Non-Specific Seizure</td>\n",
              "      <td>Electrographic</td>\n",
              "      <td>Hemispheric/Focal</td>\n",
              "      <td>Focal seizures which cannot be specified with ...</td>\n",
              "    </tr>\n",
              "    <tr>\n",
              "      <th>9</th>\n",
              "      <td>GNSZ</td>\n",
              "      <td>9</td>\n",
              "      <td>Generalized Non-Specific Seizure</td>\n",
              "      <td>Electrographic</td>\n",
              "      <td>Generalized</td>\n",
              "      <td>Generalized seizures which cannot be further c...</td>\n",
              "    </tr>\n",
              "    <tr>\n",
              "      <th>10</th>\n",
              "      <td>SPSZ</td>\n",
              "      <td>10</td>\n",
              "      <td>Simple Partial Seizure</td>\n",
              "      <td>Clinical &amp; Electrographic</td>\n",
              "      <td>All</td>\n",
              "      <td>Partial seizures during consciousness; Type sp...</td>\n",
              "    </tr>\n",
              "    <tr>\n",
              "      <th>11</th>\n",
              "      <td>CPSZ</td>\n",
              "      <td>11</td>\n",
              "      <td>Complex Partial Seizure</td>\n",
              "      <td>Clinical &amp; Electrographic</td>\n",
              "      <td>All</td>\n",
              "      <td>Partial Seizures during unconsciousness; Type ...</td>\n",
              "    </tr>\n",
              "    <tr>\n",
              "      <th>12</th>\n",
              "      <td>ABSZ</td>\n",
              "      <td>12</td>\n",
              "      <td>Absence Seizure</td>\n",
              "      <td>Clinical &amp; Electrographic</td>\n",
              "      <td>Generalized</td>\n",
              "      <td>Absence Discharges observed on EEG; patient lo...</td>\n",
              "    </tr>\n",
              "    <tr>\n",
              "      <th>13</th>\n",
              "      <td>TNSZ</td>\n",
              "      <td>13</td>\n",
              "      <td>Tonic Seizure</td>\n",
              "      <td>Clinical &amp; Electrographic</td>\n",
              "      <td>All</td>\n",
              "      <td>Stiffening of body during seizure (EEG effects...</td>\n",
              "    </tr>\n",
              "    <tr>\n",
              "      <th>14</th>\n",
              "      <td>CNSZ</td>\n",
              "      <td>14</td>\n",
              "      <td>Clonic Seizure</td>\n",
              "      <td>Clinical &amp; Electrographic</td>\n",
              "      <td>All</td>\n",
              "      <td>Jerking/shivering of body during seizure</td>\n",
              "    </tr>\n",
              "    <tr>\n",
              "      <th>15</th>\n",
              "      <td>TCSZ</td>\n",
              "      <td>15</td>\n",
              "      <td>Tonic Clonic Seizure</td>\n",
              "      <td>Clinical &amp; Electrographic</td>\n",
              "      <td>All</td>\n",
              "      <td>At first stiffening and then jerking of body (...</td>\n",
              "    </tr>\n",
              "    <tr>\n",
              "      <th>16</th>\n",
              "      <td>ATSZ</td>\n",
              "      <td>16</td>\n",
              "      <td>Atonic Seizure</td>\n",
              "      <td>Clinical &amp; Electrographic</td>\n",
              "      <td>NaN</td>\n",
              "      <td>Sudden loss of muscle tone</td>\n",
              "    </tr>\n",
              "    <tr>\n",
              "      <th>17</th>\n",
              "      <td>MYSZ</td>\n",
              "      <td>17</td>\n",
              "      <td>Myoclonic Seizure</td>\n",
              "      <td>Clinical &amp; Electrographic</td>\n",
              "      <td>NaN</td>\n",
              "      <td>Myoclonous jerks of limbs</td>\n",
              "    </tr>\n",
              "    <tr>\n",
              "      <th>18</th>\n",
              "      <td>NESZ</td>\n",
              "      <td>18</td>\n",
              "      <td>Non-Epileptic Seizure</td>\n",
              "      <td>Clinical &amp; Electrographic</td>\n",
              "      <td>NaN</td>\n",
              "      <td>Any non-epileptic seizure observed. Contains n...</td>\n",
              "    </tr>\n",
              "    <tr>\n",
              "      <th>19</th>\n",
              "      <td>INTR</td>\n",
              "      <td>19</td>\n",
              "      <td>Interesting Patterns</td>\n",
              "      <td>Electrographic</td>\n",
              "      <td>All</td>\n",
              "      <td>Any unusual or interesting patterns observed t...</td>\n",
              "    </tr>\n",
              "    <tr>\n",
              "      <th>20</th>\n",
              "      <td>SLOW</td>\n",
              "      <td>20</td>\n",
              "      <td>Slowing</td>\n",
              "      <td>Electrographic</td>\n",
              "      <td>All</td>\n",
              "      <td>A brief decrease in frequency</td>\n",
              "    </tr>\n",
              "    <tr>\n",
              "      <th>21</th>\n",
              "      <td>EYEM</td>\n",
              "      <td>21</td>\n",
              "      <td>Eye Movement Artifact</td>\n",
              "      <td>Clinical &amp; Electrographic</td>\n",
              "      <td>Focal</td>\n",
              "      <td>A very common frontal/prefrontal artifact seen...</td>\n",
              "    </tr>\n",
              "    <tr>\n",
              "      <th>22</th>\n",
              "      <td>CHEW</td>\n",
              "      <td>22</td>\n",
              "      <td>Chewing Artifact</td>\n",
              "      <td>Clinical &amp; Electrographic</td>\n",
              "      <td>All</td>\n",
              "      <td>A specific artifact involving multiple channel...</td>\n",
              "    </tr>\n",
              "    <tr>\n",
              "      <th>23</th>\n",
              "      <td>SHIV</td>\n",
              "      <td>23</td>\n",
              "      <td>Shivering Artifact</td>\n",
              "      <td>Clinical &amp; Electrographic</td>\n",
              "      <td>All</td>\n",
              "      <td>A specific, sustained sharp artifact that corr...</td>\n",
              "    </tr>\n",
              "    <tr>\n",
              "      <th>24</th>\n",
              "      <td>MUSC</td>\n",
              "      <td>24</td>\n",
              "      <td>Muscle Artifact</td>\n",
              "      <td>Clinical &amp; Electrographic</td>\n",
              "      <td>All</td>\n",
              "      <td>A very common, high frequency, sharp artifact ...</td>\n",
              "    </tr>\n",
              "    <tr>\n",
              "      <th>25</th>\n",
              "      <td>ELPP</td>\n",
              "      <td>25</td>\n",
              "      <td>Electrode Pop Artifact</td>\n",
              "      <td>Clinical &amp; Electrographic</td>\n",
              "      <td>Focal</td>\n",
              "      <td>A short artifact characterized by channels usi...</td>\n",
              "    </tr>\n",
              "    <tr>\n",
              "      <th>26</th>\n",
              "      <td>ELST</td>\n",
              "      <td>26</td>\n",
              "      <td>Electrostatic Artifact</td>\n",
              "      <td>Clinical &amp; Electrographic</td>\n",
              "      <td>All</td>\n",
              "      <td>Artifact caused by movement or interference on...</td>\n",
              "    </tr>\n",
              "  </tbody>\n",
              "</table>\n",
              "</div>\n",
              "      <button class=\"colab-df-convert\" onclick=\"convertToInteractive('df-3bc8adb7-737f-461e-8501-c915f71ae881')\"\n",
              "              title=\"Convert this dataframe to an interactive table.\"\n",
              "              style=\"display:none;\">\n",
              "        \n",
              "  <svg xmlns=\"http://www.w3.org/2000/svg\" height=\"24px\"viewBox=\"0 0 24 24\"\n",
              "       width=\"24px\">\n",
              "    <path d=\"M0 0h24v24H0V0z\" fill=\"none\"/>\n",
              "    <path d=\"M18.56 5.44l.94 2.06.94-2.06 2.06-.94-2.06-.94-.94-2.06-.94 2.06-2.06.94zm-11 1L8.5 8.5l.94-2.06 2.06-.94-2.06-.94L8.5 2.5l-.94 2.06-2.06.94zm10 10l.94 2.06.94-2.06 2.06-.94-2.06-.94-.94-2.06-.94 2.06-2.06.94z\"/><path d=\"M17.41 7.96l-1.37-1.37c-.4-.4-.92-.59-1.43-.59-.52 0-1.04.2-1.43.59L10.3 9.45l-7.72 7.72c-.78.78-.78 2.05 0 2.83L4 21.41c.39.39.9.59 1.41.59.51 0 1.02-.2 1.41-.59l7.78-7.78 2.81-2.81c.8-.78.8-2.07 0-2.86zM5.41 20L4 18.59l7.72-7.72 1.47 1.35L5.41 20z\"/>\n",
              "  </svg>\n",
              "      </button>\n",
              "      \n",
              "  <style>\n",
              "    .colab-df-container {\n",
              "      display:flex;\n",
              "      flex-wrap:wrap;\n",
              "      gap: 12px;\n",
              "    }\n",
              "\n",
              "    .colab-df-convert {\n",
              "      background-color: #E8F0FE;\n",
              "      border: none;\n",
              "      border-radius: 50%;\n",
              "      cursor: pointer;\n",
              "      display: none;\n",
              "      fill: #1967D2;\n",
              "      height: 32px;\n",
              "      padding: 0 0 0 0;\n",
              "      width: 32px;\n",
              "    }\n",
              "\n",
              "    .colab-df-convert:hover {\n",
              "      background-color: #E2EBFA;\n",
              "      box-shadow: 0px 1px 2px rgba(60, 64, 67, 0.3), 0px 1px 3px 1px rgba(60, 64, 67, 0.15);\n",
              "      fill: #174EA6;\n",
              "    }\n",
              "\n",
              "    [theme=dark] .colab-df-convert {\n",
              "      background-color: #3B4455;\n",
              "      fill: #D2E3FC;\n",
              "    }\n",
              "\n",
              "    [theme=dark] .colab-df-convert:hover {\n",
              "      background-color: #434B5C;\n",
              "      box-shadow: 0px 1px 3px 1px rgba(0, 0, 0, 0.15);\n",
              "      filter: drop-shadow(0px 1px 2px rgba(0, 0, 0, 0.3));\n",
              "      fill: #FFFFFF;\n",
              "    }\n",
              "  </style>\n",
              "\n",
              "      <script>\n",
              "        const buttonEl =\n",
              "          document.querySelector('#df-3bc8adb7-737f-461e-8501-c915f71ae881 button.colab-df-convert');\n",
              "        buttonEl.style.display =\n",
              "          google.colab.kernel.accessAllowed ? 'block' : 'none';\n",
              "\n",
              "        async function convertToInteractive(key) {\n",
              "          const element = document.querySelector('#df-3bc8adb7-737f-461e-8501-c915f71ae881');\n",
              "          const dataTable =\n",
              "            await google.colab.kernel.invokeFunction('convertToInteractive',\n",
              "                                                     [key], {});\n",
              "          if (!dataTable) return;\n",
              "\n",
              "          const docLinkHtml = 'Like what you see? Visit the ' +\n",
              "            '<a target=\"_blank\" href=https://colab.research.google.com/notebooks/data_table.ipynb>data table notebook</a>'\n",
              "            + ' to learn more about interactive tables.';\n",
              "          element.innerHTML = '';\n",
              "          dataTable['output_type'] = 'display_data';\n",
              "          await google.colab.output.renderOutput(dataTable, element);\n",
              "          const docLink = document.createElement('div');\n",
              "          docLink.innerHTML = docLinkHtml;\n",
              "          element.appendChild(docLink);\n",
              "        }\n",
              "      </script>\n",
              "    </div>\n",
              "  </div>\n",
              "  "
            ]
          },
          "metadata": {},
          "execution_count": 12
        }
      ]
    },
    {
      "cell_type": "code",
      "source": [
        "seiz_names = seizure_types['Class Code'].values"
      ],
      "metadata": {
        "id": "gzYRIypCfEci"
      },
      "execution_count": 13,
      "outputs": []
    },
    {
      "cell_type": "code",
      "source": [
        "# based on the classification in the table, these are epileptic seizures\n",
        "names = ['SEIZ', 'FNSZ', 'GNSZ', 'SPSZ', 'CPSZ', \n",
        "              'ABSZ', 'TNSZ', 'CNSZ', 'TCSZ', 'ATSZ', \n",
        "              'MYSZ']"
      ],
      "metadata": {
        "id": "whcLbUgqgijB"
      },
      "execution_count": 14,
      "outputs": []
    },
    {
      "cell_type": "code",
      "source": [
        "seiz_names = []\n",
        "for name in names:\n",
        "  seiz_names.append(name.lower())"
      ],
      "metadata": {
        "id": "gfYFx481fyFO"
      },
      "execution_count": 15,
      "outputs": []
    },
    {
      "cell_type": "code",
      "source": [
        "# in the .tse files, the names are in lower case\n",
        "seiz_names"
      ],
      "metadata": {
        "colab": {
          "base_uri": "https://localhost:8080/"
        },
        "id": "a65klcZsiM9O",
        "outputId": "53f6b0b3-3b73-4f39-b9ba-d8de0ae06624"
      },
      "execution_count": 16,
      "outputs": [
        {
          "output_type": "execute_result",
          "data": {
            "text/plain": [
              "['seiz',\n",
              " 'fnsz',\n",
              " 'gnsz',\n",
              " 'spsz',\n",
              " 'cpsz',\n",
              " 'absz',\n",
              " 'tnsz',\n",
              " 'cnsz',\n",
              " 'tcsz',\n",
              " 'atsz',\n",
              " 'mysz']"
            ]
          },
          "metadata": {},
          "execution_count": 16
        }
      ]
    },
    {
      "cell_type": "markdown",
      "source": [
        "Column 'labels' have np.array files - matrices."
      ],
      "metadata": {
        "id": "oCA0krXsN-o1"
      }
    },
    {
      "cell_type": "code",
      "source": [
        "tryout = df.at['00010563_s002_t003', 'EEG P3-REF']"
      ],
      "metadata": {
        "id": "ofuYzd3fF9r_"
      },
      "execution_count": 17,
      "outputs": []
    },
    {
      "cell_type": "code",
      "source": [
        "label = df.at['00010563_s002_t003', 'labels']"
      ],
      "metadata": {
        "id": "8dtEJB8vNAPc"
      },
      "execution_count": 18,
      "outputs": []
    },
    {
      "cell_type": "code",
      "source": [
        "label.shape"
      ],
      "metadata": {
        "colab": {
          "base_uri": "https://localhost:8080/"
        },
        "id": "vA8uMvg-pjjH",
        "outputId": "61ecda8a-67ec-4f40-8fb8-4bb40619fd10"
      },
      "execution_count": 19,
      "outputs": [
        {
          "output_type": "execute_result",
          "data": {
            "text/plain": [
              "(1, 3)"
            ]
          },
          "metadata": {},
          "execution_count": 19
        }
      ]
    },
    {
      "cell_type": "markdown",
      "source": [
        "## def labeling"
      ],
      "metadata": {
        "id": "lK8hdZEUvY-E"
      }
    },
    {
      "cell_type": "markdown",
      "source": [
        "In the df, in the column 'labels' there are data from .tse file containing start, end and type of seizure. .tse file could contain several labels. So, the 'labels' column is np.array, which contain three columns and MIGHT contain more than one row. In the function **labeling** in the first loop, we account for possible several rows. Then we calculate the start and end of the seizure in the number of samples according to our sampling frequency. In the next loop, we are comparing the type of seizure that is contained in a particular row of labels array and compare to our target types which are seizures (the list is above)."
      ],
      "metadata": {
        "id": "0xQ_mHKNv3KA"
      }
    },
    {
      "cell_type": "markdown",
      "source": [
        "There could be several ways how a seizure could be captured inside the window. 1 - if the seizure starts before the window and ends before the end of the window. 2 - if the seizure is within the window. 3 - if the seizure starts within the window and ends outside of the window. 4 - if seizure event is greater than window itself and so seizure event contains the window. In all of these cases we assign label 1. If there is no seizure in the window or the event is not seizure - we assing 0."
      ],
      "metadata": {
        "id": "XdrbF4zVwvBf"
      }
    },
    {
      "cell_type": "code",
      "source": [
        "def labeling(label):\n",
        "  #label - array object from the column labels containing start, end and type of seizure\n",
        "\n",
        "  sampl_freq = 200 # Fixed value after downsampling\n",
        "  labels = [] # list for labels\n",
        "\n",
        "    for i in seiz_names:\n",
        "      if label[row][2] == i:    \n",
        "        #conditions if there is a seizure type in the .tse file     \n",
        "        if (start <= counter and\n",
        "            end > counter and\n",
        "            end <= counter+window_size):\n",
        "            # 1 seizure starts before window and ends within\n",
        "          labels.append(1)\n",
        "        elif (start >= counter and\n",
        "              end <= counter+window_size):\n",
        "          # 2 seizure within window\n",
        "          labels.append(1)\n",
        "        elif (start >= counter and\n",
        "            start < counter+window_size and\n",
        "            end > counter+window_size):\n",
        "          # 3 seizure starts before the end of window\n",
        "          labels.append(1)\n",
        "        elif (start <= counter and\n",
        "              end >= counter+window_size):\n",
        "          # 4 window is within seizure\n",
        "          labels.append(1)\n",
        "        else:\n",
        "          # no seizure within the window\n",
        "          labels.append(0)\n",
        "      \n",
        "        #if the type in the .tse file is not a seizure\n",
        "      else: \n",
        "        labels.append(0)\n",
        "      break\n",
        "\n",
        "  return labels"
      ],
      "metadata": {
        "id": "_8bq2bp2pM95"
      },
      "execution_count": 23,
      "outputs": []
    },
    {
      "cell_type": "markdown",
      "source": [
        "## def slicing"
      ],
      "metadata": {
        "id": "vYd7-UL8xVVR"
      }
    },
    {
      "cell_type": "markdown",
      "source": [
        "In this function, we assign the window size and step size and cut our data into chuncks. For each of the chuncks, we label it and add it to the list (see the slack for the discussion on this one), standardize, and add to the new list which corresponds to particualr channel and time series and contains all the chuncks."
      ],
      "metadata": {
        "id": "qC503Q-bxXS_"
      }
    },
    {
      "cell_type": "code",
      "source": [
        "def slicing(timeseries, label): \n",
        "  # timeseries - list of values from each cell \n",
        "  #label - array object from the column labels containing start, end and type of seizure\n",
        "\n",
        "  # parameters for slicing \n",
        "  window_size = 10000\n",
        "  step_size = 500\n",
        "  sliced = [] # list for timeseries chunks\n",
        "  counter = 0\n",
        "\n",
        "  labels = []\n",
        "\n",
        "  stan_timeseries = (timeseries - np.mean(timeseries)) / np.std(timeseries) # standardizing\n",
        "\n",
        "  while counter < len(stan_timeseries):\n",
        "    series = stan_timeseries[counter:counter+window_size]\n",
        "    sliced.append(series)\n",
        "\n",
        "    #labeling for slices\n",
        "    labels.append(labeling(label))\n",
        "\n",
        "    counter += window_size\n",
        "    counter += step_size\n",
        "\n",
        "  return sliced, labels"
      ],
      "metadata": {
        "id": "LoP4MEY4OF_K"
      },
      "execution_count": 22,
      "outputs": []
    },
    {
      "cell_type": "code",
      "source": [
        "columns = ['EEG FP1-REF', 'EEG FP2-REF', 'EEG F3-REF', 'EEG F4-REF',\n",
        "       'EEG C3-REF', 'EEG C4-REF', 'EEG P3-REF', 'EEG P4-REF', 'EEG O1-REF',\n",
        "       'EEG O2-REF', 'EEG F7-REF', 'EEG F8-REF', 'EEG T3-REF', 'EEG T4-REF',\n",
        "       'EEG T5-REF', 'EEG T6-REF', 'EEG FZ-REF', 'EEG CZ-REF', 'EEG PZ-REF',\n",
        "       'EEG A1-REF', 'EEG A2-REF']"
      ],
      "metadata": {
        "id": "FGE7Nsns0OAU"
      },
      "execution_count": 40,
      "outputs": []
    },
    {
      "cell_type": "code",
      "source": [
        "for i in columns:\n",
        "  data = df.at['00010563_s002_t003', i]\n",
        "  label = df.at['00010563_s002_t003', 'labels']\n",
        "  slices, labels = slicing(data, label)\n",
        "  \n",
        "\n"
      ],
      "metadata": {
        "id": "rTNdqjiD0wK7"
      },
      "execution_count": 41,
      "outputs": []
    },
    {
      "cell_type": "code",
      "source": [
        "tryout = df.at['00010563_s002_t003', 'EEG P3-REF']\n",
        "label = df.at['00010563_s002_t003', 'labels']"
      ],
      "metadata": {
        "id": "ZXBkgvlX0PSU"
      },
      "execution_count": null,
      "outputs": []
    },
    {
      "cell_type": "code",
      "source": [
        "slices, labels = slicing(tryout, label)"
      ],
      "metadata": {
        "id": "6W9zOtr7Ra2-"
      },
      "execution_count": 25,
      "outputs": []
    },
    {
      "cell_type": "code",
      "source": [
        "slices"
      ],
      "metadata": {
        "id": "fP9SXOh4nVEz",
        "colab": {
          "base_uri": "https://localhost:8080/"
        },
        "outputId": "3f6d3bc4-e604-459c-f966-85defd1972d4"
      },
      "execution_count": 42,
      "outputs": [
        {
          "output_type": "execute_result",
          "data": {
            "text/plain": [
              "[array([ 4.32387807e-04, -3.96642387e-03,  1.63228345e-02, ...,\n",
              "        -3.97619458e-01, -4.12636619e-01, -4.39963280e-01]),\n",
              " array([0.04995118, 0.10929153, 0.17613413, ..., 0.399677  , 0.3743713 ,\n",
              "        0.34943389]),\n",
              " array([-0.09597912, -0.0847086 , -0.10756585, ...,  0.03810767,\n",
              "        -0.04295782, -0.08950665]),\n",
              " array([ 0.20611755,  0.13366414,  0.08826121, ..., -0.12404045,\n",
              "        -0.11735786, -0.10622137]),\n",
              " array([ 0.30337901,  0.3471552 ,  0.3540662 , ..., -0.09746155,\n",
              "        -0.08776749, -0.09180357]),\n",
              " array([-0.19627029, -0.23067434, -0.20511026, ...,  0.02590214,\n",
              "         0.11659252,  0.18376416]),\n",
              " array([-0.05419005, -0.09803493, -0.14949959, ..., -2.90291876,\n",
              "        -2.7316967 , -2.87324102]),\n",
              " array([ 1.67122192,  1.59924668,  1.54208952, ..., -0.24308973,\n",
              "        -0.21339914, -0.14671416]),\n",
              " array([0.21578183, 0.22268621, 0.17882814, ..., 0.243952  , 0.1934714 ,\n",
              "        0.18124102]),\n",
              " array([-0.26042462, -0.29684349, -0.30399198, ..., -0.07089454,\n",
              "        -0.06576394, -0.0605589 ]),\n",
              " array([0.1748973 , 0.22873624, 0.27200777, ..., 0.23673214, 0.21515376,\n",
              "        0.20652668]),\n",
              " array([ 0.32319411,  0.27617053,  0.24048209, ..., -0.07187153,\n",
              "        -0.05063097, -0.00566823])]"
            ]
          },
          "metadata": {},
          "execution_count": 42
        }
      ]
    },
    {
      "cell_type": "code",
      "source": [
        "len(slices[0])"
      ],
      "metadata": {
        "colab": {
          "base_uri": "https://localhost:8080/"
        },
        "id": "IGGFq3r0zw86",
        "outputId": "e13f5122-a962-4145-d502-d7a6972fc0d4"
      },
      "execution_count": 33,
      "outputs": [
        {
          "output_type": "execute_result",
          "data": {
            "text/plain": [
              "10000"
            ]
          },
          "metadata": {},
          "execution_count": 33
        }
      ]
    },
    {
      "cell_type": "code",
      "source": [
        "len(labels)"
      ],
      "metadata": {
        "colab": {
          "base_uri": "https://localhost:8080/"
        },
        "id": "Q782zVTTzz1Y",
        "outputId": "5d6dfd8d-1f33-4069-9882-ef5ba64ca24f"
      },
      "execution_count": 35,
      "outputs": [
        {
          "output_type": "execute_result",
          "data": {
            "text/plain": [
              "12"
            ]
          },
          "metadata": {},
          "execution_count": 35
        }
      ]
    },
    {
      "cell_type": "code",
      "source": [
        "slice = slices[0]"
      ],
      "metadata": {
        "id": "w1eING_82ZpV"
      },
      "execution_count": 43,
      "outputs": []
    },
    {
      "cell_type": "code",
      "source": [
        "slice"
      ],
      "metadata": {
        "colab": {
          "base_uri": "https://localhost:8080/"
        },
        "id": "0GCy2qGf2boU",
        "outputId": "c8e13071-5731-4b12-aebb-5af3669c5fa3"
      },
      "execution_count": 44,
      "outputs": [
        {
          "output_type": "execute_result",
          "data": {
            "text/plain": [
              "array([ 4.32387807e-04, -3.96642387e-03,  1.63228345e-02, ...,\n",
              "       -3.97619458e-01, -4.12636619e-01, -4.39963280e-01])"
            ]
          },
          "metadata": {},
          "execution_count": 44
        }
      ]
    },
    {
      "cell_type": "markdown",
      "source": [
        "Feature extraction"
      ],
      "metadata": {
        "id": "8aFSnCMuzpy8"
      }
    },
    {
      "cell_type": "code",
      "source": [
        "def feature_extraction(slice):\n",
        "  # takes as an input one window in parallel with the windows from other channels\n",
        "\n",
        "  ##time domain\n",
        "  # mean\n",
        "  mean = np.mean(slice)\n",
        "  # variance\n",
        "  var = np.var(slice)\n",
        "  # maximum\n",
        "  max = np.max(slice)\n",
        "  # minimum\n",
        "  min = np.min(slice)\n",
        "  # standard deviation\n",
        "  std = np.std(slice)\n",
        "  # line length   \n",
        "  line_length = 0\n",
        "  for i in range(0, len(slice)):\n",
        "    if i == 0:\n",
        "      line_length += abs(slice[i])\n",
        "    else:\n",
        "      line_length += abs(slice[i] - slice[i-1])  \n",
        "  # entropy\n",
        "  entr = entropy(slice) # the result is infinite\n",
        "\n",
        "  ##frequency domain\n",
        "  psd = matplotlib.mlab.psd(slice)\n",
        "  power = psd[0].tolist()\n",
        "  freqs = psd[1].tolist()\n",
        "\n",
        "  low_freq = 0\n",
        "  theta = 0\n",
        "  alpha = 0\n",
        "  beta = 0\n",
        "  gamma = 0\n",
        "  for i in range(0, len(psd[0])):\n",
        "    # low frequency power\n",
        "    if freqs[i] <= 0.04:\n",
        "      low_freq += power[i]   \n",
        "    #theta total power 4 - 8 Hz\n",
        "    if 0.04 < freqs[i] <= 0.08:\n",
        "      theta += power[i]\n",
        "    # alpha total power\n",
        "    if 0.08 < freqs[i] <= 0.12:\n",
        "      alpha += power[i]\n",
        "    # beta total power\n",
        "    if 0.13 < freqs[i] <= 0.3:\n",
        "      beta += power[i]\n",
        "    # gamma total power\n",
        "    if 0.3 < freqs[i] <= 1:\n",
        "      gamma += power[i]\n",
        "    \n",
        "  # peak frequency\n",
        "  peak_freq = freqs[power.index(max(power))]\n",
        "\n",
        "   \n",
        "\n",
        "  # magnitude of psd\n",
        "  mag_psd = matplotlib.mlab.magnitude_spectrum(slice)[0]# first array is magnitude, the second - frequencies\n",
        "  # angle of spectrum\n",
        "  ang_psd = matplotlib.mlab.angle_spectrum(slice)[0]\n",
        "  # phase of spectrum\n",
        "  ph_psd = matplotlib.mlab.phase_spectrum(slice)[0]\n",
        "\n",
        "\n",
        "\n",
        "  ##mixed domain\n",
        "\n",
        "  return mean, var, max, min, line_length, entr\n"
      ],
      "metadata": {
        "id": "JTPwpeUCzH0A"
      },
      "execution_count": 51,
      "outputs": []
    },
    {
      "cell_type": "code",
      "source": [
        "psd = matplotlib.mlab.psd(slice)\n",
        "  "
      ],
      "metadata": {
        "id": "l6twHB66bfCf"
      },
      "execution_count": 85,
      "outputs": []
    },
    {
      "cell_type": "code",
      "source": [
        "np.where(psd[0] == psd[0].max())"
      ],
      "metadata": {
        "id": "h-HA5Q8zjCA6",
        "outputId": "e19a9083-bc97-4465-c748-bd85d78ec8f8",
        "colab": {
          "base_uri": "https://localhost:8080/"
        }
      },
      "execution_count": 95,
      "outputs": [
        {
          "output_type": "execute_result",
          "data": {
            "text/plain": [
              "(array([1]),)"
            ]
          },
          "metadata": {},
          "execution_count": 95
        }
      ]
    },
    {
      "cell_type": "code",
      "source": [
        "freqs[power.index(max(power))]"
      ],
      "metadata": {
        "id": "xy1blUsHjHCy",
        "outputId": "58abbc3f-491f-40b7-c4ca-84565aaabee3",
        "colab": {
          "base_uri": "https://localhost:8080/"
        }
      },
      "execution_count": 114,
      "outputs": [
        {
          "output_type": "execute_result",
          "data": {
            "text/plain": [
              "0.0078125"
            ]
          },
          "metadata": {},
          "execution_count": 114
        }
      ]
    },
    {
      "cell_type": "code",
      "source": [
        "import pyhrv\n",
        "import pyhrv.frequency_domain as fd"
      ],
      "metadata": {
        "id": "PQ9NDTmXWV3c"
      },
      "execution_count": 81,
      "outputs": []
    },
    {
      "cell_type": "code",
      "source": [
        "result = fd.welch_psd(np.array(slice))"
      ],
      "metadata": {
        "colab": {
          "base_uri": "https://localhost:8080/",
          "height": 320
        },
        "id": "0mTmZgafYxOY",
        "outputId": "b594d00c-e611-4041-9b2e-42208d2195f7"
      },
      "execution_count": 83,
      "outputs": [
        {
          "output_type": "error",
          "ename": "ValueError",
          "evalue": "ignored",
          "traceback": [
            "\u001b[0;31m---------------------------------------------------------------------------\u001b[0m",
            "\u001b[0;31mValueError\u001b[0m                                Traceback (most recent call last)",
            "\u001b[0;32m<ipython-input-83-1f109320db23>\u001b[0m in \u001b[0;36m<module>\u001b[0;34m()\u001b[0m\n\u001b[0;32m----> 1\u001b[0;31m \u001b[0mresult\u001b[0m \u001b[0;34m=\u001b[0m \u001b[0mfd\u001b[0m\u001b[0;34m.\u001b[0m\u001b[0mwelch_psd\u001b[0m\u001b[0;34m(\u001b[0m\u001b[0mnp\u001b[0m\u001b[0;34m.\u001b[0m\u001b[0marray\u001b[0m\u001b[0;34m(\u001b[0m\u001b[0mslice\u001b[0m\u001b[0;34m)\u001b[0m\u001b[0;34m)\u001b[0m\u001b[0;34m\u001b[0m\u001b[0;34m\u001b[0m\u001b[0m\n\u001b[0m",
            "\u001b[0;32m/usr/local/lib/python3.7/dist-packages/pyhrv/frequency_domain.py\u001b[0m in \u001b[0;36mwelch_psd\u001b[0;34m(nni, rpeaks, fbands, nfft, detrend, window, show, show_param, legend, figsize, mode)\u001b[0m\n\u001b[1;32m    164\u001b[0m         \u001b[0mt\u001b[0m \u001b[0;34m=\u001b[0m \u001b[0mnp\u001b[0m\u001b[0;34m.\u001b[0m\u001b[0mcumsum\u001b[0m\u001b[0;34m(\u001b[0m\u001b[0mnn\u001b[0m\u001b[0;34m)\u001b[0m\u001b[0;34m\u001b[0m\u001b[0;34m\u001b[0m\u001b[0m\n\u001b[1;32m    165\u001b[0m         \u001b[0mt\u001b[0m \u001b[0;34m-=\u001b[0m \u001b[0mt\u001b[0m\u001b[0;34m[\u001b[0m\u001b[0;36m0\u001b[0m\u001b[0;34m]\u001b[0m\u001b[0;34m\u001b[0m\u001b[0;34m\u001b[0m\u001b[0m\n\u001b[0;32m--> 166\u001b[0;31m         \u001b[0mf_interpol\u001b[0m \u001b[0;34m=\u001b[0m \u001b[0msp\u001b[0m\u001b[0;34m.\u001b[0m\u001b[0minterpolate\u001b[0m\u001b[0;34m.\u001b[0m\u001b[0minterp1d\u001b[0m\u001b[0;34m(\u001b[0m\u001b[0mt\u001b[0m\u001b[0;34m,\u001b[0m \u001b[0mnn\u001b[0m\u001b[0;34m,\u001b[0m \u001b[0;34m'cubic'\u001b[0m\u001b[0;34m)\u001b[0m\u001b[0;34m\u001b[0m\u001b[0;34m\u001b[0m\u001b[0m\n\u001b[0m\u001b[1;32m    167\u001b[0m         \u001b[0mt_interpol\u001b[0m \u001b[0;34m=\u001b[0m \u001b[0mnp\u001b[0m\u001b[0;34m.\u001b[0m\u001b[0marange\u001b[0m\u001b[0;34m(\u001b[0m\u001b[0mt\u001b[0m\u001b[0;34m[\u001b[0m\u001b[0;36m0\u001b[0m\u001b[0;34m]\u001b[0m\u001b[0;34m,\u001b[0m \u001b[0mt\u001b[0m\u001b[0;34m[\u001b[0m\u001b[0;34m-\u001b[0m\u001b[0;36m1\u001b[0m\u001b[0;34m]\u001b[0m\u001b[0;34m,\u001b[0m \u001b[0;36m1000.\u001b[0m\u001b[0;34m/\u001b[0m\u001b[0mfs\u001b[0m\u001b[0;34m)\u001b[0m\u001b[0;34m\u001b[0m\u001b[0;34m\u001b[0m\u001b[0m\n\u001b[1;32m    168\u001b[0m         \u001b[0mnn_interpol\u001b[0m \u001b[0;34m=\u001b[0m \u001b[0mf_interpol\u001b[0m\u001b[0;34m(\u001b[0m\u001b[0mt_interpol\u001b[0m\u001b[0;34m)\u001b[0m\u001b[0;34m\u001b[0m\u001b[0;34m\u001b[0m\u001b[0m\n",
            "\u001b[0;32m/usr/local/lib/python3.7/dist-packages/scipy/interpolate/interpolate.py\u001b[0m in \u001b[0;36m__init__\u001b[0;34m(***failed resolving arguments***)\u001b[0m\n\u001b[1;32m    531\u001b[0m \u001b[0;34m\u001b[0m\u001b[0m\n\u001b[1;32m    532\u001b[0m             self._spline = make_interp_spline(xx, yy, k=order,\n\u001b[0;32m--> 533\u001b[0;31m                                               check_finite=False)\n\u001b[0m\u001b[1;32m    534\u001b[0m             \u001b[0;32mif\u001b[0m \u001b[0mrewrite_nan\u001b[0m\u001b[0;34m:\u001b[0m\u001b[0;34m\u001b[0m\u001b[0;34m\u001b[0m\u001b[0m\n\u001b[1;32m    535\u001b[0m                 \u001b[0mself\u001b[0m\u001b[0;34m.\u001b[0m\u001b[0m_call\u001b[0m \u001b[0;34m=\u001b[0m \u001b[0mself\u001b[0m\u001b[0;34m.\u001b[0m\u001b[0m__class__\u001b[0m\u001b[0;34m.\u001b[0m\u001b[0m_call_nan_spline\u001b[0m\u001b[0;34m\u001b[0m\u001b[0;34m\u001b[0m\u001b[0m\n",
            "\u001b[0;32m/usr/local/lib/python3.7/dist-packages/scipy/interpolate/_bsplines.py\u001b[0m in \u001b[0;36mmake_interp_spline\u001b[0;34m(x, y, k, t, bc_type, axis, check_finite)\u001b[0m\n\u001b[1;32m    797\u001b[0m \u001b[0;34m\u001b[0m\u001b[0m\n\u001b[1;32m    798\u001b[0m     \u001b[0;32mif\u001b[0m \u001b[0mx\u001b[0m\u001b[0;34m.\u001b[0m\u001b[0mndim\u001b[0m \u001b[0;34m!=\u001b[0m \u001b[0;36m1\u001b[0m \u001b[0;32mor\u001b[0m \u001b[0mnp\u001b[0m\u001b[0;34m.\u001b[0m\u001b[0many\u001b[0m\u001b[0;34m(\u001b[0m\u001b[0mx\u001b[0m\u001b[0;34m[\u001b[0m\u001b[0;36m1\u001b[0m\u001b[0;34m:\u001b[0m\u001b[0;34m]\u001b[0m \u001b[0;34m<=\u001b[0m \u001b[0mx\u001b[0m\u001b[0;34m[\u001b[0m\u001b[0;34m:\u001b[0m\u001b[0;34m-\u001b[0m\u001b[0;36m1\u001b[0m\u001b[0;34m]\u001b[0m\u001b[0;34m)\u001b[0m\u001b[0;34m:\u001b[0m\u001b[0;34m\u001b[0m\u001b[0;34m\u001b[0m\u001b[0m\n\u001b[0;32m--> 799\u001b[0;31m         \u001b[0;32mraise\u001b[0m \u001b[0mValueError\u001b[0m\u001b[0;34m(\u001b[0m\u001b[0;34m\"Expect x to be a 1-D sorted array_like.\"\u001b[0m\u001b[0;34m)\u001b[0m\u001b[0;34m\u001b[0m\u001b[0;34m\u001b[0m\u001b[0m\n\u001b[0m\u001b[1;32m    800\u001b[0m     \u001b[0;32mif\u001b[0m \u001b[0mk\u001b[0m \u001b[0;34m<\u001b[0m \u001b[0;36m0\u001b[0m\u001b[0;34m:\u001b[0m\u001b[0;34m\u001b[0m\u001b[0;34m\u001b[0m\u001b[0m\n\u001b[1;32m    801\u001b[0m         \u001b[0;32mraise\u001b[0m \u001b[0mValueError\u001b[0m\u001b[0;34m(\u001b[0m\u001b[0;34m\"Expect non-negative k.\"\u001b[0m\u001b[0;34m)\u001b[0m\u001b[0;34m\u001b[0m\u001b[0;34m\u001b[0m\u001b[0m\n",
            "\u001b[0;31mValueError\u001b[0m: Expect x to be a 1-D sorted array_like."
          ]
        }
      ]
    },
    {
      "cell_type": "code",
      "source": [
        "result"
      ],
      "metadata": {
        "id": "bRKpTI02Yz9B"
      },
      "execution_count": null,
      "outputs": []
    },
    {
      "cell_type": "code",
      "source": [
        "pip install pyhrv"
      ],
      "metadata": {
        "colab": {
          "base_uri": "https://localhost:8080/"
        },
        "id": "UhQhK2p6TE8a",
        "outputId": "001bb527-c9f3-498a-931d-d6bdbde9ddf1"
      },
      "execution_count": 80,
      "outputs": [
        {
          "output_type": "stream",
          "name": "stdout",
          "text": [
            "Collecting pyhrv\n",
            "  Downloading pyhrv-0.4.0-py3-none-any.whl (3.2 MB)\n",
            "\u001b[K     |████████████████████████████████| 3.2 MB 5.1 MB/s \n",
            "\u001b[?25hCollecting spectrum\n",
            "  Downloading spectrum-0.8.1.tar.gz (230 kB)\n",
            "\u001b[K     |████████████████████████████████| 230 kB 48.0 MB/s \n",
            "\u001b[?25hRequirement already satisfied: numpy in /usr/local/lib/python3.7/dist-packages (from pyhrv) (1.21.6)\n",
            "Requirement already satisfied: scipy in /usr/local/lib/python3.7/dist-packages (from pyhrv) (1.4.1)\n",
            "Collecting biosppy\n",
            "  Downloading biosppy-0.8.0.tar.gz (1.5 MB)\n",
            "\u001b[K     |████████████████████████████████| 1.5 MB 1.3 MB/s \n",
            "\u001b[?25hCollecting nolds\n",
            "  Downloading nolds-0.5.2-py2.py3-none-any.whl (39 kB)\n",
            "Requirement already satisfied: matplotlib in /usr/local/lib/python3.7/dist-packages (from pyhrv) (3.2.2)\n",
            "Collecting bidict\n",
            "  Downloading bidict-0.22.0-py3-none-any.whl (36 kB)\n",
            "Requirement already satisfied: h5py in /usr/local/lib/python3.7/dist-packages (from biosppy->pyhrv) (3.1.0)\n",
            "Requirement already satisfied: scikit-learn in /usr/local/lib/python3.7/dist-packages (from biosppy->pyhrv) (1.0.2)\n",
            "Collecting shortuuid\n",
            "  Downloading shortuuid-1.0.9-py3-none-any.whl (9.4 kB)\n",
            "Requirement already satisfied: six in /usr/local/lib/python3.7/dist-packages (from biosppy->pyhrv) (1.15.0)\n",
            "Requirement already satisfied: joblib in /usr/local/lib/python3.7/dist-packages (from biosppy->pyhrv) (1.1.0)\n",
            "Requirement already satisfied: opencv-python in /usr/local/lib/python3.7/dist-packages (from biosppy->pyhrv) (4.1.2.30)\n",
            "Requirement already satisfied: cached-property in /usr/local/lib/python3.7/dist-packages (from h5py->biosppy->pyhrv) (1.5.2)\n",
            "Requirement already satisfied: cycler>=0.10 in /usr/local/lib/python3.7/dist-packages (from matplotlib->pyhrv) (0.11.0)\n",
            "Requirement already satisfied: kiwisolver>=1.0.1 in /usr/local/lib/python3.7/dist-packages (from matplotlib->pyhrv) (1.4.2)\n",
            "Requirement already satisfied: pyparsing!=2.0.4,!=2.1.2,!=2.1.6,>=2.0.1 in /usr/local/lib/python3.7/dist-packages (from matplotlib->pyhrv) (3.0.8)\n",
            "Requirement already satisfied: python-dateutil>=2.1 in /usr/local/lib/python3.7/dist-packages (from matplotlib->pyhrv) (2.8.2)\n",
            "Requirement already satisfied: typing-extensions in /usr/local/lib/python3.7/dist-packages (from kiwisolver>=1.0.1->matplotlib->pyhrv) (4.2.0)\n",
            "Requirement already satisfied: setuptools in /usr/local/lib/python3.7/dist-packages (from nolds->pyhrv) (57.4.0)\n",
            "Requirement already satisfied: future in /usr/local/lib/python3.7/dist-packages (from nolds->pyhrv) (0.16.0)\n",
            "Requirement already satisfied: threadpoolctl>=2.0.0 in /usr/local/lib/python3.7/dist-packages (from scikit-learn->biosppy->pyhrv) (3.1.0)\n",
            "Collecting easydev\n",
            "  Downloading easydev-0.12.0.tar.gz (47 kB)\n",
            "\u001b[K     |████████████████████████████████| 47 kB 3.9 MB/s \n",
            "\u001b[?25hCollecting colorama\n",
            "  Downloading colorama-0.4.4-py2.py3-none-any.whl (16 kB)\n",
            "Requirement already satisfied: pexpect in /usr/local/lib/python3.7/dist-packages (from easydev->spectrum->pyhrv) (4.8.0)\n",
            "Collecting colorlog\n",
            "  Downloading colorlog-6.6.0-py2.py3-none-any.whl (11 kB)\n",
            "Requirement already satisfied: ptyprocess>=0.5 in /usr/local/lib/python3.7/dist-packages (from pexpect->easydev->spectrum->pyhrv) (0.7.0)\n",
            "Building wheels for collected packages: biosppy, spectrum, easydev\n",
            "  Building wheel for biosppy (setup.py) ... \u001b[?25l\u001b[?25hdone\n",
            "  Created wheel for biosppy: filename=biosppy-0.8.0-py2.py3-none-any.whl size=100176 sha256=244bfa33b5c4673ba93c5995cfd99ef5f3f6923c1fce863ebf79ddd4ce5cb00d\n",
            "  Stored in directory: /root/.cache/pip/wheels/32/17/9d/77adbf0db713546eaa1c7a1480b2dce91fa724a133115dc20c\n",
            "  Building wheel for spectrum (setup.py) ... \u001b[?25l\u001b[?25hdone\n",
            "  Created wheel for spectrum: filename=spectrum-0.8.1-cp37-cp37m-linux_x86_64.whl size=235154 sha256=e28740f449b374e7013bbc3c77e28cc876af20ee4644da84fd6f9590c552cde3\n",
            "  Stored in directory: /root/.cache/pip/wheels/79/db/9c/92fa684ca088447807d08672e7609b48102c6161ac9c7e3c62\n",
            "  Building wheel for easydev (setup.py) ... \u001b[?25l\u001b[?25hdone\n",
            "  Created wheel for easydev: filename=easydev-0.12.0-py3-none-any.whl size=64232 sha256=cf7b704bc3c481de16150372e5058169e72a29f7b755717a76537c26d87ffcc5\n",
            "  Stored in directory: /root/.cache/pip/wheels/82/ab/83/fdfc4017ea44a585b6754752cc5f63f2d0d63fcc1317e7174b\n",
            "Successfully built biosppy spectrum easydev\n",
            "Installing collected packages: colorlog, colorama, shortuuid, easydev, bidict, spectrum, nolds, biosppy, pyhrv\n",
            "Successfully installed bidict-0.22.0 biosppy-0.8.0 colorama-0.4.4 colorlog-6.6.0 easydev-0.12.0 nolds-0.5.2 pyhrv-0.4.0 shortuuid-1.0.9 spectrum-0.8.1\n"
          ]
        }
      ]
    },
    {
      "cell_type": "code",
      "source": [
        ""
      ],
      "metadata": {
        "id": "j8D4cY2rYlZo"
      },
      "execution_count": null,
      "outputs": []
    }
  ]
}