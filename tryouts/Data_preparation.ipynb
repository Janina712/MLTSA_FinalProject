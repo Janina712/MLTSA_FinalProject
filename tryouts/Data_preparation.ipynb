{
  "nbformat": 4,
  "nbformat_minor": 0,
  "metadata": {
    "colab": {
      "name": "Data preparation.ipynb",
      "provenance": [],
      "include_colab_link": true
    },
    "kernelspec": {
      "name": "python3",
      "display_name": "Python 3"
    },
    "language_info": {
      "name": "python"
    }
  },
  "cells": [
    {
      "cell_type": "markdown",
      "metadata": {
        "id": "view-in-github",
        "colab_type": "text"
      },
      "source": [
        "<a href=\"https://colab.research.google.com/github/Janina712/MLTSA_FinalProject/blob/main/tryouts/Data_preparation.ipynb\" target=\"_parent\"><img src=\"https://colab.research.google.com/assets/colab-badge.svg\" alt=\"Open In Colab\"/></a>"
      ]
    },
    {
      "cell_type": "code",
      "source": [
        "pip install pickle5"
      ],
      "metadata": {
        "colab": {
          "base_uri": "https://localhost:8080/"
        },
        "id": "iZm89l5_tqUr",
        "outputId": "26a1141f-2940-40da-cecd-04b69362cb1d"
      },
      "execution_count": null,
      "outputs": [
        {
          "output_type": "stream",
          "name": "stdout",
          "text": [
            "Requirement already satisfied: pickle5 in /usr/local/lib/python3.7/dist-packages (0.0.12)\n"
          ]
        }
      ]
    },
    {
      "cell_type": "code",
      "source": [
        "import pandas as pd\n",
        "import numpy as np\n",
        "import pylab as pl\n",
        "import pickle5 as pickle\n",
        "from pathlib import Path"
      ],
      "metadata": {
        "id": "Rk14Y3f6g52r"
      },
      "execution_count": null,
      "outputs": []
    },
    {
      "cell_type": "code",
      "source": [
        "from google.colab import drive\n",
        "drive.mount('/content/drive')"
      ],
      "metadata": {
        "colab": {
          "base_uri": "https://localhost:8080/"
        },
        "id": "5jBoyxzLtwml",
        "outputId": "76017b13-d96f-4060-ac29-a17d6995726a"
      },
      "execution_count": null,
      "outputs": [
        {
          "output_type": "stream",
          "name": "stdout",
          "text": [
            "Drive already mounted at /content/drive; to attempt to forcibly remount, call drive.mount(\"/content/drive\", force_remount=True).\n"
          ]
        }
      ]
    },
    {
      "cell_type": "code",
      "source": [
        "cd /content/drive/MyDrive/MLTSA22/Final_Project"
      ],
      "metadata": {
        "colab": {
          "base_uri": "https://localhost:8080/"
        },
        "id": "cZqd6JyRt4_8",
        "outputId": "379f5f5d-b2b2-41b3-d51b-5696b44ddd7c"
      },
      "execution_count": null,
      "outputs": [
        {
          "output_type": "stream",
          "name": "stdout",
          "text": [
            "/content/drive/MyDrive/MLTSA22/Final_Project\n"
          ]
        }
      ]
    },
    {
      "cell_type": "code",
      "source": [
        "!ls /content/drive/MyDrive/MLTSA22/Final_Project"
      ],
      "metadata": {
        "colab": {
          "base_uri": "https://localhost:8080/"
        },
        "id": "l50N1etyt63T",
        "outputId": "08aef452-40bc-4772-8456-b28e8a7c88ff"
      },
      "execution_count": null,
      "outputs": [
        {
          "output_type": "stream",
          "name": "stdout",
          "text": [
            "00000258_s002_t000.edf\n",
            "00010563_s002_t004.pkl\n",
            "all_tuh_eeg_seizure_links.txt\n",
            "curated_features_w_metadata_df.pkl\n",
            "dev__01_tcp_ar__002__00000258__s002_2003_07_21__00000258_s002_t000.edf\n",
            "dev__01_tcp_ar__002__00000258__s003_2003_07_22__00000258_s003_t001.edf\n",
            "files_raw_channels_small_df.pkl\n",
            "isip_tuh_eeg\n",
            "seizures_types_v01.xlsx\n",
            "temp\n"
          ]
        }
      ]
    },
    {
      "cell_type": "code",
      "source": [
        "working_folder = Path('/content/drive/MyDrive/MLTSA22/Final_Project/')"
      ],
      "metadata": {
        "id": "WHMfJFn6t9Rr"
      },
      "execution_count": null,
      "outputs": []
    },
    {
      "cell_type": "code",
      "source": [
        "with open(working_folder.joinpath('curated_features_w_metadata_df.pkl'), \"rb\") as fh:\n",
        "  feature_data = pickle.load(fh)"
      ],
      "metadata": {
        "id": "ys74usYVuEmE"
      },
      "execution_count": null,
      "outputs": []
    },
    {
      "cell_type": "code",
      "source": [
        "feature_data.head()"
      ],
      "metadata": {
        "colab": {
          "base_uri": "https://localhost:8080/",
          "height": 337
        },
        "id": "2fy6E2GHtofO",
        "outputId": "7f4d6a36-768d-4747-b8c6-504477c6bc8d"
      },
      "execution_count": null,
      "outputs": [
        {
          "output_type": "execute_result",
          "data": {
            "text/plain": [
              "                   category configuration index patient_#          session  \\\n",
              "00008174_s002_t002      dev     01_tcp_ar   081  00008174  s002_2011_09_23   \n",
              "00000458_s018_t003     eval     01_tcp_ar   004  00000458  s018_2014_06_30   \n",
              "00010427_s003_t008    train     01_tcp_ar   104  00010427  s003_2013_12_15   \n",
              "00011081_s002_t002    train     01_tcp_ar   110  00011081  s002_2013_12_25   \n",
              "00005028_s009_t001     eval     01_tcp_ar   050  00005028  s009_2014_08_15   \n",
              "\n",
              "                                                    windowed_features  \\\n",
              "00008174_s002_t002  [[-0.07362028956413269, 1.508935809135437, 2.5...   \n",
              "00000458_s018_t003  [[-0.03831588849425316, 0.7211886048316956, 2....   \n",
              "00010427_s003_t008  [[0.028330158442258835, 0.41883909702301025, 1...   \n",
              "00011081_s002_t002  [[-0.010738741606473923, 0.12738703191280365, ...   \n",
              "00005028_s009_t001  [[-0.05804503709077835, 5.135439872741699, 8.5...   \n",
              "\n",
              "                                                      windowed_labels  \n",
              "00008174_s002_t002  [False, False, False, False, False, False, Fal...  \n",
              "00000458_s018_t003  [False, False, False, False, False, False, Fal...  \n",
              "00010427_s003_t008  [False, False, False, False, False, False, Fal...  \n",
              "00011081_s002_t002  [False, False, False, False, False, False, Fal...  \n",
              "00005028_s009_t001  [False, False, False, False, False, False, Fal...  "
            ],
            "text/html": [
              "\n",
              "  <div id=\"df-327fae3d-2fa4-48b5-a718-a75b2fdb0708\">\n",
              "    <div class=\"colab-df-container\">\n",
              "      <div>\n",
              "<style scoped>\n",
              "    .dataframe tbody tr th:only-of-type {\n",
              "        vertical-align: middle;\n",
              "    }\n",
              "\n",
              "    .dataframe tbody tr th {\n",
              "        vertical-align: top;\n",
              "    }\n",
              "\n",
              "    .dataframe thead th {\n",
              "        text-align: right;\n",
              "    }\n",
              "</style>\n",
              "<table border=\"1\" class=\"dataframe\">\n",
              "  <thead>\n",
              "    <tr style=\"text-align: right;\">\n",
              "      <th></th>\n",
              "      <th>category</th>\n",
              "      <th>configuration</th>\n",
              "      <th>index</th>\n",
              "      <th>patient_#</th>\n",
              "      <th>session</th>\n",
              "      <th>windowed_features</th>\n",
              "      <th>windowed_labels</th>\n",
              "    </tr>\n",
              "  </thead>\n",
              "  <tbody>\n",
              "    <tr>\n",
              "      <th>00008174_s002_t002</th>\n",
              "      <td>dev</td>\n",
              "      <td>01_tcp_ar</td>\n",
              "      <td>081</td>\n",
              "      <td>00008174</td>\n",
              "      <td>s002_2011_09_23</td>\n",
              "      <td>[[-0.07362028956413269, 1.508935809135437, 2.5...</td>\n",
              "      <td>[False, False, False, False, False, False, Fal...</td>\n",
              "    </tr>\n",
              "    <tr>\n",
              "      <th>00000458_s018_t003</th>\n",
              "      <td>eval</td>\n",
              "      <td>01_tcp_ar</td>\n",
              "      <td>004</td>\n",
              "      <td>00000458</td>\n",
              "      <td>s018_2014_06_30</td>\n",
              "      <td>[[-0.03831588849425316, 0.7211886048316956, 2....</td>\n",
              "      <td>[False, False, False, False, False, False, Fal...</td>\n",
              "    </tr>\n",
              "    <tr>\n",
              "      <th>00010427_s003_t008</th>\n",
              "      <td>train</td>\n",
              "      <td>01_tcp_ar</td>\n",
              "      <td>104</td>\n",
              "      <td>00010427</td>\n",
              "      <td>s003_2013_12_15</td>\n",
              "      <td>[[0.028330158442258835, 0.41883909702301025, 1...</td>\n",
              "      <td>[False, False, False, False, False, False, Fal...</td>\n",
              "    </tr>\n",
              "    <tr>\n",
              "      <th>00011081_s002_t002</th>\n",
              "      <td>train</td>\n",
              "      <td>01_tcp_ar</td>\n",
              "      <td>110</td>\n",
              "      <td>00011081</td>\n",
              "      <td>s002_2013_12_25</td>\n",
              "      <td>[[-0.010738741606473923, 0.12738703191280365, ...</td>\n",
              "      <td>[False, False, False, False, False, False, Fal...</td>\n",
              "    </tr>\n",
              "    <tr>\n",
              "      <th>00005028_s009_t001</th>\n",
              "      <td>eval</td>\n",
              "      <td>01_tcp_ar</td>\n",
              "      <td>050</td>\n",
              "      <td>00005028</td>\n",
              "      <td>s009_2014_08_15</td>\n",
              "      <td>[[-0.05804503709077835, 5.135439872741699, 8.5...</td>\n",
              "      <td>[False, False, False, False, False, False, Fal...</td>\n",
              "    </tr>\n",
              "  </tbody>\n",
              "</table>\n",
              "</div>\n",
              "      <button class=\"colab-df-convert\" onclick=\"convertToInteractive('df-327fae3d-2fa4-48b5-a718-a75b2fdb0708')\"\n",
              "              title=\"Convert this dataframe to an interactive table.\"\n",
              "              style=\"display:none;\">\n",
              "        \n",
              "  <svg xmlns=\"http://www.w3.org/2000/svg\" height=\"24px\"viewBox=\"0 0 24 24\"\n",
              "       width=\"24px\">\n",
              "    <path d=\"M0 0h24v24H0V0z\" fill=\"none\"/>\n",
              "    <path d=\"M18.56 5.44l.94 2.06.94-2.06 2.06-.94-2.06-.94-.94-2.06-.94 2.06-2.06.94zm-11 1L8.5 8.5l.94-2.06 2.06-.94-2.06-.94L8.5 2.5l-.94 2.06-2.06.94zm10 10l.94 2.06.94-2.06 2.06-.94-2.06-.94-.94-2.06-.94 2.06-2.06.94z\"/><path d=\"M17.41 7.96l-1.37-1.37c-.4-.4-.92-.59-1.43-.59-.52 0-1.04.2-1.43.59L10.3 9.45l-7.72 7.72c-.78.78-.78 2.05 0 2.83L4 21.41c.39.39.9.59 1.41.59.51 0 1.02-.2 1.41-.59l7.78-7.78 2.81-2.81c.8-.78.8-2.07 0-2.86zM5.41 20L4 18.59l7.72-7.72 1.47 1.35L5.41 20z\"/>\n",
              "  </svg>\n",
              "      </button>\n",
              "      \n",
              "  <style>\n",
              "    .colab-df-container {\n",
              "      display:flex;\n",
              "      flex-wrap:wrap;\n",
              "      gap: 12px;\n",
              "    }\n",
              "\n",
              "    .colab-df-convert {\n",
              "      background-color: #E8F0FE;\n",
              "      border: none;\n",
              "      border-radius: 50%;\n",
              "      cursor: pointer;\n",
              "      display: none;\n",
              "      fill: #1967D2;\n",
              "      height: 32px;\n",
              "      padding: 0 0 0 0;\n",
              "      width: 32px;\n",
              "    }\n",
              "\n",
              "    .colab-df-convert:hover {\n",
              "      background-color: #E2EBFA;\n",
              "      box-shadow: 0px 1px 2px rgba(60, 64, 67, 0.3), 0px 1px 3px 1px rgba(60, 64, 67, 0.15);\n",
              "      fill: #174EA6;\n",
              "    }\n",
              "\n",
              "    [theme=dark] .colab-df-convert {\n",
              "      background-color: #3B4455;\n",
              "      fill: #D2E3FC;\n",
              "    }\n",
              "\n",
              "    [theme=dark] .colab-df-convert:hover {\n",
              "      background-color: #434B5C;\n",
              "      box-shadow: 0px 1px 3px 1px rgba(0, 0, 0, 0.15);\n",
              "      filter: drop-shadow(0px 1px 2px rgba(0, 0, 0, 0.3));\n",
              "      fill: #FFFFFF;\n",
              "    }\n",
              "  </style>\n",
              "\n",
              "      <script>\n",
              "        const buttonEl =\n",
              "          document.querySelector('#df-327fae3d-2fa4-48b5-a718-a75b2fdb0708 button.colab-df-convert');\n",
              "        buttonEl.style.display =\n",
              "          google.colab.kernel.accessAllowed ? 'block' : 'none';\n",
              "\n",
              "        async function convertToInteractive(key) {\n",
              "          const element = document.querySelector('#df-327fae3d-2fa4-48b5-a718-a75b2fdb0708');\n",
              "          const dataTable =\n",
              "            await google.colab.kernel.invokeFunction('convertToInteractive',\n",
              "                                                     [key], {});\n",
              "          if (!dataTable) return;\n",
              "\n",
              "          const docLinkHtml = 'Like what you see? Visit the ' +\n",
              "            '<a target=\"_blank\" href=https://colab.research.google.com/notebooks/data_table.ipynb>data table notebook</a>'\n",
              "            + ' to learn more about interactive tables.';\n",
              "          element.innerHTML = '';\n",
              "          dataTable['output_type'] = 'display_data';\n",
              "          await google.colab.output.renderOutput(dataTable, element);\n",
              "          const docLink = document.createElement('div');\n",
              "          docLink.innerHTML = docLinkHtml;\n",
              "          element.appendChild(docLink);\n",
              "        }\n",
              "      </script>\n",
              "    </div>\n",
              "  </div>\n",
              "  "
            ]
          },
          "metadata": {},
          "execution_count": 7
        }
      ]
    },
    {
      "cell_type": "code",
      "source": [
        "feature_data.category.unique()"
      ],
      "metadata": {
        "colab": {
          "base_uri": "https://localhost:8080/"
        },
        "id": "qzGwVqQ1uygg",
        "outputId": "fe85b0ca-a00a-4b3d-a334-76674cb0ce33"
      },
      "execution_count": null,
      "outputs": [
        {
          "output_type": "execute_result",
          "data": {
            "text/plain": [
              "array(['dev', 'eval', 'train'], dtype=object)"
            ]
          },
          "metadata": {},
          "execution_count": 8
        }
      ]
    },
    {
      "cell_type": "code",
      "source": [
        "\n",
        "#feature_eval = feature_data[feature_data['category'] == 'eval']"
      ],
      "metadata": {
        "id": "DltlsJ96wpfO"
      },
      "execution_count": null,
      "outputs": []
    },
    {
      "cell_type": "code",
      "source": [
        "#creating train dataset\n",
        "feature_train = feature_data[feature_data['category'] == 'train']\n",
        "\n",
        "train_features = []\n",
        "t_features = feature_train.windowed_features.values # 3172 * something shape\n",
        "for series in t_features:\n",
        "  for window in series:\n",
        "    train_features.append(window)\n",
        "train_features = np.array(train_features)\n",
        "train_features.shape\n",
        "\n",
        "train_labels = []\n",
        "t_labels = feature_train.windowed_labels.values # 3172 * something shape\n",
        "for series in t_labels:\n",
        "  for window in series:\n",
        "    train_labels.append(window)\n",
        "len(train_labels)"
      ],
      "metadata": {
        "colab": {
          "base_uri": "https://localhost:8080/"
        },
        "id": "J_IOTovk0wDd",
        "outputId": "58192388-a1cc-4a8f-9003-4bea419189e7"
      },
      "execution_count": null,
      "outputs": [
        {
          "output_type": "execute_result",
          "data": {
            "text/plain": [
              "(904720, 336)"
            ]
          },
          "metadata": {},
          "execution_count": 9
        }
      ]
    },
    {
      "cell_type": "code",
      "source": [
        "train = pd.DataFrame(\n",
        "    train_features\n",
        ")"
      ],
      "metadata": {
        "id": "KE7pzT0K_Hkl"
      },
      "execution_count": null,
      "outputs": []
    },
    {
      "cell_type": "code",
      "source": [
        "train['label'] = train_labels"
      ],
      "metadata": {
        "id": "l9z28irl_gf8"
      },
      "execution_count": null,
      "outputs": []
    },
    {
      "cell_type": "code",
      "source": [
        "train.to_pickle(\n",
        "    Path(working_folder).joinpath('train.pkl')\n",
        ")"
      ],
      "metadata": {
        "id": "Hjc90HpZBCJU"
      },
      "execution_count": null,
      "outputs": []
    },
    {
      "cell_type": "code",
      "source": [
        "del train, train_labels, train_features"
      ],
      "metadata": {
        "id": "q2wFD7nbCOPl"
      },
      "execution_count": null,
      "outputs": []
    },
    {
      "cell_type": "code",
      "source": [
        "#creating test dataset\n",
        "feature_test = feature_data[feature_data['category'] == 'dev']\n",
        "\n",
        "test_features = []\n",
        "te_features = feature_test.windowed_features.values # 3172 * something shape\n",
        "for series in te_features:\n",
        "  for window in series:\n",
        "    test_features.append(window)\n",
        "test_features = np.array(test_features)\n",
        "print(test_features.shape)\n",
        "\n",
        "test_labels = []\n",
        "te_labels = feature_test.windowed_labels.values # 3172 * something shape\n",
        "for series in te_labels:\n",
        "  for window in series:\n",
        "    test_labels.append(window)\n",
        "print(len(test_labels))"
      ],
      "metadata": {
        "colab": {
          "base_uri": "https://localhost:8080/"
        },
        "id": "BKqPtq4N1yY-",
        "outputId": "8eeaf467-06ab-493e-f4a4-967738210f09"
      },
      "execution_count": null,
      "outputs": [
        {
          "output_type": "stream",
          "name": "stdout",
          "text": [
            "(262891, 336)\n",
            "262891\n"
          ]
        }
      ]
    },
    {
      "cell_type": "code",
      "source": [
        "test = pd.DataFrame(\n",
        "    test_features\n",
        ")"
      ],
      "metadata": {
        "id": "pugPxg3NC-Ie"
      },
      "execution_count": null,
      "outputs": []
    },
    {
      "cell_type": "code",
      "source": [
        "test['label'] = test_labels"
      ],
      "metadata": {
        "id": "fByeKztWDGCo"
      },
      "execution_count": null,
      "outputs": []
    },
    {
      "cell_type": "code",
      "source": [
        "test.to_pickle(\n",
        "    Path(working_folder).joinpath('test.pkl')\n",
        ")"
      ],
      "metadata": {
        "id": "9ixs_vNHDH47"
      },
      "execution_count": null,
      "outputs": []
    },
    {
      "cell_type": "code",
      "source": [
        "#creating eval dataset\n",
        "feature_eval = feature_data[feature_data['category'] == 'eval']\n",
        "\n",
        "eval_features = []\n",
        "e_features = feature_eval.windowed_features.values # 3172 * something shape\n",
        "for series in e_features:\n",
        "  for window in series:\n",
        "    eval_features.append(window)\n",
        "eval_features = np.array(eval_features)\n",
        "print(eval_features.shape)\n",
        "\n",
        "eval_labels = []\n",
        "e_labels = feature_eval.windowed_labels.values # 3172 * something shape\n",
        "for series in e_labels:\n",
        "  for window in series:\n",
        "    eval_labels.append(window)\n",
        "print(len(eval_labels))"
      ],
      "metadata": {
        "colab": {
          "base_uri": "https://localhost:8080/"
        },
        "id": "h0n7tyG-DQ4A",
        "outputId": "4e70bd20-e0aa-4d2d-8971-4e6b87a668dd"
      },
      "execution_count": null,
      "outputs": [
        {
          "output_type": "stream",
          "name": "stdout",
          "text": [
            "(223820, 336)\n",
            "223820\n"
          ]
        }
      ]
    },
    {
      "cell_type": "code",
      "source": [
        "eval = pd.DataFrame(\n",
        "    eval_features\n",
        ")"
      ],
      "metadata": {
        "id": "it8PK6pnDgBF"
      },
      "execution_count": null,
      "outputs": []
    },
    {
      "cell_type": "code",
      "source": [
        "eval['label'] = eval_labels"
      ],
      "metadata": {
        "id": "X4qGsIuxDkXz"
      },
      "execution_count": null,
      "outputs": []
    },
    {
      "cell_type": "code",
      "source": [
        "eval.head()"
      ],
      "metadata": {
        "colab": {
          "base_uri": "https://localhost:8080/",
          "height": 299
        },
        "id": "bedNWGsPDs_L",
        "outputId": "dfdf9902-87b1-4037-9d18-74844f745a60"
      },
      "execution_count": null,
      "outputs": [
        {
          "output_type": "execute_result",
          "data": {
            "text/plain": [
              "          0         1         2         3         4           5      6  \\\n",
              "0 -0.038316  0.721189  2.473958 -2.587761  0.849228  394.528089  203.0   \n",
              "1 -0.062662  0.785365  2.473958 -3.413481  0.886208  400.920555  198.0   \n",
              "2  0.059195  0.726315  2.813293 -3.413481  0.852241  394.640710  205.0   \n",
              "3 -0.034419  0.716762  2.813293 -3.413481  0.846618  395.630479  205.0   \n",
              "4  0.019505  0.700032  2.813293 -3.413481  0.836679  387.498555  195.0   \n",
              "\n",
              "          7         8         9  ...       327       328       329        330  \\\n",
              "0 -0.298694 -0.097669 -0.006957  ...  0.382300 -0.216412  0.027695  28.606761   \n",
              "1  0.176351 -0.270621 -0.029243  ...  0.659806 -0.201600 -0.008893  64.493173   \n",
              "2  0.630055 -0.273745  0.074663  ...  0.822053 -0.139301  0.008519  33.304877   \n",
              "3  0.502563 -0.208689 -0.021580  ...  0.071521 -0.000305 -0.044297  38.920464   \n",
              "4  0.629046 -0.299743  0.054122  ... -0.095612 -0.066501  0.008172  27.736027   \n",
              "\n",
              "         331       332        333       334       335  label  \n",
              "0  31.286380  8.325493  10.655648  0.465500  3.044083  False  \n",
              "1  28.940780  5.774952  12.512227  0.633906  2.769535  False  \n",
              "2  28.250024  6.088581  13.669424  0.529050  2.973368  False  \n",
              "3  17.991321  7.284309  13.143892  0.583600  2.958294  False  \n",
              "4  13.726586  6.457721  12.406072  0.597337  3.074275  False  \n",
              "\n",
              "[5 rows x 337 columns]"
            ],
            "text/html": [
              "\n",
              "  <div id=\"df-2a0bd329-e72c-40b8-8755-6e00ff7fc299\">\n",
              "    <div class=\"colab-df-container\">\n",
              "      <div>\n",
              "<style scoped>\n",
              "    .dataframe tbody tr th:only-of-type {\n",
              "        vertical-align: middle;\n",
              "    }\n",
              "\n",
              "    .dataframe tbody tr th {\n",
              "        vertical-align: top;\n",
              "    }\n",
              "\n",
              "    .dataframe thead th {\n",
              "        text-align: right;\n",
              "    }\n",
              "</style>\n",
              "<table border=\"1\" class=\"dataframe\">\n",
              "  <thead>\n",
              "    <tr style=\"text-align: right;\">\n",
              "      <th></th>\n",
              "      <th>0</th>\n",
              "      <th>1</th>\n",
              "      <th>2</th>\n",
              "      <th>3</th>\n",
              "      <th>4</th>\n",
              "      <th>5</th>\n",
              "      <th>6</th>\n",
              "      <th>7</th>\n",
              "      <th>8</th>\n",
              "      <th>9</th>\n",
              "      <th>...</th>\n",
              "      <th>327</th>\n",
              "      <th>328</th>\n",
              "      <th>329</th>\n",
              "      <th>330</th>\n",
              "      <th>331</th>\n",
              "      <th>332</th>\n",
              "      <th>333</th>\n",
              "      <th>334</th>\n",
              "      <th>335</th>\n",
              "      <th>label</th>\n",
              "    </tr>\n",
              "  </thead>\n",
              "  <tbody>\n",
              "    <tr>\n",
              "      <th>0</th>\n",
              "      <td>-0.038316</td>\n",
              "      <td>0.721189</td>\n",
              "      <td>2.473958</td>\n",
              "      <td>-2.587761</td>\n",
              "      <td>0.849228</td>\n",
              "      <td>394.528089</td>\n",
              "      <td>203.0</td>\n",
              "      <td>-0.298694</td>\n",
              "      <td>-0.097669</td>\n",
              "      <td>-0.006957</td>\n",
              "      <td>...</td>\n",
              "      <td>0.382300</td>\n",
              "      <td>-0.216412</td>\n",
              "      <td>0.027695</td>\n",
              "      <td>28.606761</td>\n",
              "      <td>31.286380</td>\n",
              "      <td>8.325493</td>\n",
              "      <td>10.655648</td>\n",
              "      <td>0.465500</td>\n",
              "      <td>3.044083</td>\n",
              "      <td>False</td>\n",
              "    </tr>\n",
              "    <tr>\n",
              "      <th>1</th>\n",
              "      <td>-0.062662</td>\n",
              "      <td>0.785365</td>\n",
              "      <td>2.473958</td>\n",
              "      <td>-3.413481</td>\n",
              "      <td>0.886208</td>\n",
              "      <td>400.920555</td>\n",
              "      <td>198.0</td>\n",
              "      <td>0.176351</td>\n",
              "      <td>-0.270621</td>\n",
              "      <td>-0.029243</td>\n",
              "      <td>...</td>\n",
              "      <td>0.659806</td>\n",
              "      <td>-0.201600</td>\n",
              "      <td>-0.008893</td>\n",
              "      <td>64.493173</td>\n",
              "      <td>28.940780</td>\n",
              "      <td>5.774952</td>\n",
              "      <td>12.512227</td>\n",
              "      <td>0.633906</td>\n",
              "      <td>2.769535</td>\n",
              "      <td>False</td>\n",
              "    </tr>\n",
              "    <tr>\n",
              "      <th>2</th>\n",
              "      <td>0.059195</td>\n",
              "      <td>0.726315</td>\n",
              "      <td>2.813293</td>\n",
              "      <td>-3.413481</td>\n",
              "      <td>0.852241</td>\n",
              "      <td>394.640710</td>\n",
              "      <td>205.0</td>\n",
              "      <td>0.630055</td>\n",
              "      <td>-0.273745</td>\n",
              "      <td>0.074663</td>\n",
              "      <td>...</td>\n",
              "      <td>0.822053</td>\n",
              "      <td>-0.139301</td>\n",
              "      <td>0.008519</td>\n",
              "      <td>33.304877</td>\n",
              "      <td>28.250024</td>\n",
              "      <td>6.088581</td>\n",
              "      <td>13.669424</td>\n",
              "      <td>0.529050</td>\n",
              "      <td>2.973368</td>\n",
              "      <td>False</td>\n",
              "    </tr>\n",
              "    <tr>\n",
              "      <th>3</th>\n",
              "      <td>-0.034419</td>\n",
              "      <td>0.716762</td>\n",
              "      <td>2.813293</td>\n",
              "      <td>-3.413481</td>\n",
              "      <td>0.846618</td>\n",
              "      <td>395.630479</td>\n",
              "      <td>205.0</td>\n",
              "      <td>0.502563</td>\n",
              "      <td>-0.208689</td>\n",
              "      <td>-0.021580</td>\n",
              "      <td>...</td>\n",
              "      <td>0.071521</td>\n",
              "      <td>-0.000305</td>\n",
              "      <td>-0.044297</td>\n",
              "      <td>38.920464</td>\n",
              "      <td>17.991321</td>\n",
              "      <td>7.284309</td>\n",
              "      <td>13.143892</td>\n",
              "      <td>0.583600</td>\n",
              "      <td>2.958294</td>\n",
              "      <td>False</td>\n",
              "    </tr>\n",
              "    <tr>\n",
              "      <th>4</th>\n",
              "      <td>0.019505</td>\n",
              "      <td>0.700032</td>\n",
              "      <td>2.813293</td>\n",
              "      <td>-3.413481</td>\n",
              "      <td>0.836679</td>\n",
              "      <td>387.498555</td>\n",
              "      <td>195.0</td>\n",
              "      <td>0.629046</td>\n",
              "      <td>-0.299743</td>\n",
              "      <td>0.054122</td>\n",
              "      <td>...</td>\n",
              "      <td>-0.095612</td>\n",
              "      <td>-0.066501</td>\n",
              "      <td>0.008172</td>\n",
              "      <td>27.736027</td>\n",
              "      <td>13.726586</td>\n",
              "      <td>6.457721</td>\n",
              "      <td>12.406072</td>\n",
              "      <td>0.597337</td>\n",
              "      <td>3.074275</td>\n",
              "      <td>False</td>\n",
              "    </tr>\n",
              "  </tbody>\n",
              "</table>\n",
              "<p>5 rows × 337 columns</p>\n",
              "</div>\n",
              "      <button class=\"colab-df-convert\" onclick=\"convertToInteractive('df-2a0bd329-e72c-40b8-8755-6e00ff7fc299')\"\n",
              "              title=\"Convert this dataframe to an interactive table.\"\n",
              "              style=\"display:none;\">\n",
              "        \n",
              "  <svg xmlns=\"http://www.w3.org/2000/svg\" height=\"24px\"viewBox=\"0 0 24 24\"\n",
              "       width=\"24px\">\n",
              "    <path d=\"M0 0h24v24H0V0z\" fill=\"none\"/>\n",
              "    <path d=\"M18.56 5.44l.94 2.06.94-2.06 2.06-.94-2.06-.94-.94-2.06-.94 2.06-2.06.94zm-11 1L8.5 8.5l.94-2.06 2.06-.94-2.06-.94L8.5 2.5l-.94 2.06-2.06.94zm10 10l.94 2.06.94-2.06 2.06-.94-2.06-.94-.94-2.06-.94 2.06-2.06.94z\"/><path d=\"M17.41 7.96l-1.37-1.37c-.4-.4-.92-.59-1.43-.59-.52 0-1.04.2-1.43.59L10.3 9.45l-7.72 7.72c-.78.78-.78 2.05 0 2.83L4 21.41c.39.39.9.59 1.41.59.51 0 1.02-.2 1.41-.59l7.78-7.78 2.81-2.81c.8-.78.8-2.07 0-2.86zM5.41 20L4 18.59l7.72-7.72 1.47 1.35L5.41 20z\"/>\n",
              "  </svg>\n",
              "      </button>\n",
              "      \n",
              "  <style>\n",
              "    .colab-df-container {\n",
              "      display:flex;\n",
              "      flex-wrap:wrap;\n",
              "      gap: 12px;\n",
              "    }\n",
              "\n",
              "    .colab-df-convert {\n",
              "      background-color: #E8F0FE;\n",
              "      border: none;\n",
              "      border-radius: 50%;\n",
              "      cursor: pointer;\n",
              "      display: none;\n",
              "      fill: #1967D2;\n",
              "      height: 32px;\n",
              "      padding: 0 0 0 0;\n",
              "      width: 32px;\n",
              "    }\n",
              "\n",
              "    .colab-df-convert:hover {\n",
              "      background-color: #E2EBFA;\n",
              "      box-shadow: 0px 1px 2px rgba(60, 64, 67, 0.3), 0px 1px 3px 1px rgba(60, 64, 67, 0.15);\n",
              "      fill: #174EA6;\n",
              "    }\n",
              "\n",
              "    [theme=dark] .colab-df-convert {\n",
              "      background-color: #3B4455;\n",
              "      fill: #D2E3FC;\n",
              "    }\n",
              "\n",
              "    [theme=dark] .colab-df-convert:hover {\n",
              "      background-color: #434B5C;\n",
              "      box-shadow: 0px 1px 3px 1px rgba(0, 0, 0, 0.15);\n",
              "      filter: drop-shadow(0px 1px 2px rgba(0, 0, 0, 0.3));\n",
              "      fill: #FFFFFF;\n",
              "    }\n",
              "  </style>\n",
              "\n",
              "      <script>\n",
              "        const buttonEl =\n",
              "          document.querySelector('#df-2a0bd329-e72c-40b8-8755-6e00ff7fc299 button.colab-df-convert');\n",
              "        buttonEl.style.display =\n",
              "          google.colab.kernel.accessAllowed ? 'block' : 'none';\n",
              "\n",
              "        async function convertToInteractive(key) {\n",
              "          const element = document.querySelector('#df-2a0bd329-e72c-40b8-8755-6e00ff7fc299');\n",
              "          const dataTable =\n",
              "            await google.colab.kernel.invokeFunction('convertToInteractive',\n",
              "                                                     [key], {});\n",
              "          if (!dataTable) return;\n",
              "\n",
              "          const docLinkHtml = 'Like what you see? Visit the ' +\n",
              "            '<a target=\"_blank\" href=https://colab.research.google.com/notebooks/data_table.ipynb>data table notebook</a>'\n",
              "            + ' to learn more about interactive tables.';\n",
              "          element.innerHTML = '';\n",
              "          dataTable['output_type'] = 'display_data';\n",
              "          await google.colab.output.renderOutput(dataTable, element);\n",
              "          const docLink = document.createElement('div');\n",
              "          docLink.innerHTML = docLinkHtml;\n",
              "          element.appendChild(docLink);\n",
              "        }\n",
              "      </script>\n",
              "    </div>\n",
              "  </div>\n",
              "  "
            ]
          },
          "metadata": {},
          "execution_count": 26
        }
      ]
    },
    {
      "cell_type": "code",
      "source": [
        "eval.to_pickle(\n",
        "    Path(working_folder).joinpath('eval.pkl')\n",
        ")"
      ],
      "metadata": {
        "id": "GWzWnMAcDoP7"
      },
      "execution_count": null,
      "outputs": []
    },
    {
      "cell_type": "code",
      "source": [
        "del feature_data"
      ],
      "metadata": {
        "id": "y7frsGxVD2BO"
      },
      "execution_count": null,
      "outputs": []
    },
    {
      "cell_type": "code",
      "source": [
        "#percent of pos samples to neg samples in TEST\n",
        "print(\n",
        "    'The % of pos samples: ',\n",
        "    (test_labels.count(True)) / (len(test_labels)) * 100\n",
        ")\n",
        "print(\n",
        "    'The # of pos samples: ',\n",
        "    (test_labels.count(True))\n",
        ")\n",
        "print(\n",
        "    'The # of neg samples: ',\n",
        "    (test_labels.count(False))\n",
        ")\n"
      ],
      "metadata": {
        "colab": {
          "base_uri": "https://localhost:8080/"
        },
        "id": "DX8bwKZP5LOC",
        "outputId": "317609fc-e019-4001-e367-43227aff708d"
      },
      "execution_count": null,
      "outputs": [
        {
          "output_type": "stream",
          "name": "stdout",
          "text": [
            "The % of pos samples:  10.310356763829876\n",
            "The # of pos samples:  27105\n",
            "The # of neg samples:  235786\n"
          ]
        }
      ]
    },
    {
      "cell_type": "code",
      "source": [
        "#percent of pos samples to neg samples in EVAL\n",
        "print(\n",
        "    'The % of pos samples: ',\n",
        "    (eval_labels.count(True)) / (len(eval_labels)) * 100\n",
        ")\n",
        "print(\n",
        "    'The # of pos samples: ',\n",
        "    (eval_labels.count(True))\n",
        ")\n",
        "print(\n",
        "    'The # of neg samples: ',\n",
        "    (eval_labels.count(False))\n",
        ")\n"
      ],
      "metadata": {
        "colab": {
          "base_uri": "https://localhost:8080/"
        },
        "id": "hiOnI5tWEBxO",
        "outputId": "d0cdc7d9-01ec-4c3d-c30d-2cc965196c97"
      },
      "execution_count": null,
      "outputs": [
        {
          "output_type": "stream",
          "name": "stdout",
          "text": [
            "The % of pos samples:  8.003753015816281\n",
            "The # of pos samples:  17914\n",
            "The # of neg samples:  205906\n"
          ]
        }
      ]
    },
    {
      "cell_type": "code",
      "source": [
        "#balance TEST dataset\n",
        "remove_n_test = test_labels.count(False) - test_labels.count(True)\n",
        "drop_indices_test = np.random.choice(\n",
        "    test[test['label'] == False].index, remove_n_test, replace=False\n",
        ")\n",
        "test_balanced = test.drop(drop_indices_test)"
      ],
      "metadata": {
        "id": "aEy5wgQsEPdH"
      },
      "execution_count": null,
      "outputs": []
    },
    {
      "cell_type": "code",
      "source": [
        "#check whether TEST dataset is balanced\n",
        "print(\n",
        "    'Pos samples in the test dataset: ',\n",
        "    test_balanced[test_balanced['label'] == True].shape[0]\n",
        ")\n",
        "print(\n",
        "    'Neg samples in the test dataset: ',\n",
        "    test_balanced[test_balanced['label'] == False].shape[0]\n",
        ")"
      ],
      "metadata": {
        "colab": {
          "base_uri": "https://localhost:8080/"
        },
        "id": "7_ysx6Z0Ek91",
        "outputId": "64a37278-e3c1-4551-bbbc-6016c0b8fef9"
      },
      "execution_count": null,
      "outputs": [
        {
          "output_type": "stream",
          "name": "stdout",
          "text": [
            "Pos samples in the test dataset:  27105\n",
            "Neg samples in the test dataset:  27105\n"
          ]
        }
      ]
    },
    {
      "cell_type": "code",
      "source": [
        "test_balanced.to_pickle(\n",
        "    Path(working_folder).joinpath('test_balanced.pkl')\n",
        ")"
      ],
      "metadata": {
        "id": "xbF4jbpwGO4N"
      },
      "execution_count": null,
      "outputs": []
    },
    {
      "cell_type": "code",
      "source": [
        "#balance EVAL dataset\n",
        "remove_n_eval = eval_labels.count(False) - eval_labels.count(True)\n",
        "drop_indices_eval = np.random.choice(\n",
        "    eval[eval['label'] == False].index, remove_n_eval, replace=False\n",
        ")\n",
        "eval_balanced = eval.drop(drop_indices_eval)"
      ],
      "metadata": {
        "id": "D4-LAz20FTSu"
      },
      "execution_count": null,
      "outputs": []
    },
    {
      "cell_type": "code",
      "source": [
        "#check whether EVAL dataset is balanced\n",
        "print(\n",
        "    'Pos samples in the test dataset: ',\n",
        "    eval_balanced[eval_balanced['label'] == True].shape[0]\n",
        ")\n",
        "print(\n",
        "    'Neg samples in the test dataset: ',\n",
        "    eval_balanced[eval_balanced['label'] == False].shape[0]\n",
        ")"
      ],
      "metadata": {
        "colab": {
          "base_uri": "https://localhost:8080/"
        },
        "id": "-u95-kauFr4s",
        "outputId": "8524336d-768a-43aa-fda2-8b47ca847b6c"
      },
      "execution_count": null,
      "outputs": [
        {
          "output_type": "stream",
          "name": "stdout",
          "text": [
            "Pos samples in the test dataset:  17914\n",
            "Neg samples in the test dataset:  17914\n"
          ]
        }
      ]
    },
    {
      "cell_type": "code",
      "source": [
        "eval_balanced.to_pickle(\n",
        "    Path(working_folder).joinpath('eval_balanced.pkl')\n",
        ")"
      ],
      "metadata": {
        "id": "UwJcoJCKGGau"
      },
      "execution_count": null,
      "outputs": []
    },
    {
      "cell_type": "code",
      "source": [
        "with open(working_folder.joinpath('train.pkl'), \"rb\") as fh:\n",
        "  train = pickle.load(fh)"
      ],
      "metadata": {
        "id": "0A5U_h4XGWl4"
      },
      "execution_count": null,
      "outputs": []
    },
    {
      "cell_type": "code",
      "source": [
        "train.head()"
      ],
      "metadata": {
        "colab": {
          "base_uri": "https://localhost:8080/",
          "height": 299
        },
        "id": "L2DDkd_qGg4d",
        "outputId": "74486152-ede0-4618-aa43-eb90549c0999"
      },
      "execution_count": null,
      "outputs": [
        {
          "output_type": "execute_result",
          "data": {
            "text/plain": [
              "          0         1         2         3         4          5     6  \\\n",
              "0  0.028330  0.418839  1.894889 -1.525217  0.647178  93.809523  68.0   \n",
              "1  0.010568  0.425953  1.894889 -1.525217  0.652650  93.469888  59.0   \n",
              "2 -0.015509  0.419900  1.894889 -1.525217  0.647997  92.964522  53.0   \n",
              "3 -0.001124  0.360411  1.894889 -1.367493  0.600342  89.741994  59.0   \n",
              "4  0.020816  0.354298  1.894889 -1.367493  0.595230  89.814556  55.0   \n",
              "\n",
              "          7         8         9  ...       327       328       329        330  \\\n",
              "0 -0.478043  0.099273 -0.034063  ... -0.539764 -0.273180  0.054559  13.908919   \n",
              "1 -0.495004  0.131992 -0.045003  ... -0.536391 -0.251497  0.051840  15.774777   \n",
              "2 -0.447716  0.136992 -0.051244  ... -0.519285 -0.188489  0.010367  15.879807   \n",
              "3 -0.156052  0.253674 -0.053931  ... -0.185484 -0.185281 -0.006205  11.550368   \n",
              "4 -0.044201  0.245103  0.007371  ... -0.195899 -0.070970  0.026612   8.266142   \n",
              "\n",
              "        331       332       333       334       335  label  \n",
              "0  0.382422  0.081513  0.081460  0.037686  1.507757  False  \n",
              "1  0.344251  0.160959  0.077197  0.041424  1.415684  False  \n",
              "2  0.416200  0.088030  0.113692  0.042309  1.487058  False  \n",
              "3  0.435322  0.187167  0.088073  0.044165  1.666313  False  \n",
              "4  0.387474  0.077158  0.108611  0.041615  1.793668  False  \n",
              "\n",
              "[5 rows x 337 columns]"
            ],
            "text/html": [
              "\n",
              "  <div id=\"df-a863e014-7641-4bf2-8a9c-cace9ff95b8a\">\n",
              "    <div class=\"colab-df-container\">\n",
              "      <div>\n",
              "<style scoped>\n",
              "    .dataframe tbody tr th:only-of-type {\n",
              "        vertical-align: middle;\n",
              "    }\n",
              "\n",
              "    .dataframe tbody tr th {\n",
              "        vertical-align: top;\n",
              "    }\n",
              "\n",
              "    .dataframe thead th {\n",
              "        text-align: right;\n",
              "    }\n",
              "</style>\n",
              "<table border=\"1\" class=\"dataframe\">\n",
              "  <thead>\n",
              "    <tr style=\"text-align: right;\">\n",
              "      <th></th>\n",
              "      <th>0</th>\n",
              "      <th>1</th>\n",
              "      <th>2</th>\n",
              "      <th>3</th>\n",
              "      <th>4</th>\n",
              "      <th>5</th>\n",
              "      <th>6</th>\n",
              "      <th>7</th>\n",
              "      <th>8</th>\n",
              "      <th>9</th>\n",
              "      <th>...</th>\n",
              "      <th>327</th>\n",
              "      <th>328</th>\n",
              "      <th>329</th>\n",
              "      <th>330</th>\n",
              "      <th>331</th>\n",
              "      <th>332</th>\n",
              "      <th>333</th>\n",
              "      <th>334</th>\n",
              "      <th>335</th>\n",
              "      <th>label</th>\n",
              "    </tr>\n",
              "  </thead>\n",
              "  <tbody>\n",
              "    <tr>\n",
              "      <th>0</th>\n",
              "      <td>0.028330</td>\n",
              "      <td>0.418839</td>\n",
              "      <td>1.894889</td>\n",
              "      <td>-1.525217</td>\n",
              "      <td>0.647178</td>\n",
              "      <td>93.809523</td>\n",
              "      <td>68.0</td>\n",
              "      <td>-0.478043</td>\n",
              "      <td>0.099273</td>\n",
              "      <td>-0.034063</td>\n",
              "      <td>...</td>\n",
              "      <td>-0.539764</td>\n",
              "      <td>-0.273180</td>\n",
              "      <td>0.054559</td>\n",
              "      <td>13.908919</td>\n",
              "      <td>0.382422</td>\n",
              "      <td>0.081513</td>\n",
              "      <td>0.081460</td>\n",
              "      <td>0.037686</td>\n",
              "      <td>1.507757</td>\n",
              "      <td>False</td>\n",
              "    </tr>\n",
              "    <tr>\n",
              "      <th>1</th>\n",
              "      <td>0.010568</td>\n",
              "      <td>0.425953</td>\n",
              "      <td>1.894889</td>\n",
              "      <td>-1.525217</td>\n",
              "      <td>0.652650</td>\n",
              "      <td>93.469888</td>\n",
              "      <td>59.0</td>\n",
              "      <td>-0.495004</td>\n",
              "      <td>0.131992</td>\n",
              "      <td>-0.045003</td>\n",
              "      <td>...</td>\n",
              "      <td>-0.536391</td>\n",
              "      <td>-0.251497</td>\n",
              "      <td>0.051840</td>\n",
              "      <td>15.774777</td>\n",
              "      <td>0.344251</td>\n",
              "      <td>0.160959</td>\n",
              "      <td>0.077197</td>\n",
              "      <td>0.041424</td>\n",
              "      <td>1.415684</td>\n",
              "      <td>False</td>\n",
              "    </tr>\n",
              "    <tr>\n",
              "      <th>2</th>\n",
              "      <td>-0.015509</td>\n",
              "      <td>0.419900</td>\n",
              "      <td>1.894889</td>\n",
              "      <td>-1.525217</td>\n",
              "      <td>0.647997</td>\n",
              "      <td>92.964522</td>\n",
              "      <td>53.0</td>\n",
              "      <td>-0.447716</td>\n",
              "      <td>0.136992</td>\n",
              "      <td>-0.051244</td>\n",
              "      <td>...</td>\n",
              "      <td>-0.519285</td>\n",
              "      <td>-0.188489</td>\n",
              "      <td>0.010367</td>\n",
              "      <td>15.879807</td>\n",
              "      <td>0.416200</td>\n",
              "      <td>0.088030</td>\n",
              "      <td>0.113692</td>\n",
              "      <td>0.042309</td>\n",
              "      <td>1.487058</td>\n",
              "      <td>False</td>\n",
              "    </tr>\n",
              "    <tr>\n",
              "      <th>3</th>\n",
              "      <td>-0.001124</td>\n",
              "      <td>0.360411</td>\n",
              "      <td>1.894889</td>\n",
              "      <td>-1.367493</td>\n",
              "      <td>0.600342</td>\n",
              "      <td>89.741994</td>\n",
              "      <td>59.0</td>\n",
              "      <td>-0.156052</td>\n",
              "      <td>0.253674</td>\n",
              "      <td>-0.053931</td>\n",
              "      <td>...</td>\n",
              "      <td>-0.185484</td>\n",
              "      <td>-0.185281</td>\n",
              "      <td>-0.006205</td>\n",
              "      <td>11.550368</td>\n",
              "      <td>0.435322</td>\n",
              "      <td>0.187167</td>\n",
              "      <td>0.088073</td>\n",
              "      <td>0.044165</td>\n",
              "      <td>1.666313</td>\n",
              "      <td>False</td>\n",
              "    </tr>\n",
              "    <tr>\n",
              "      <th>4</th>\n",
              "      <td>0.020816</td>\n",
              "      <td>0.354298</td>\n",
              "      <td>1.894889</td>\n",
              "      <td>-1.367493</td>\n",
              "      <td>0.595230</td>\n",
              "      <td>89.814556</td>\n",
              "      <td>55.0</td>\n",
              "      <td>-0.044201</td>\n",
              "      <td>0.245103</td>\n",
              "      <td>0.007371</td>\n",
              "      <td>...</td>\n",
              "      <td>-0.195899</td>\n",
              "      <td>-0.070970</td>\n",
              "      <td>0.026612</td>\n",
              "      <td>8.266142</td>\n",
              "      <td>0.387474</td>\n",
              "      <td>0.077158</td>\n",
              "      <td>0.108611</td>\n",
              "      <td>0.041615</td>\n",
              "      <td>1.793668</td>\n",
              "      <td>False</td>\n",
              "    </tr>\n",
              "  </tbody>\n",
              "</table>\n",
              "<p>5 rows × 337 columns</p>\n",
              "</div>\n",
              "      <button class=\"colab-df-convert\" onclick=\"convertToInteractive('df-a863e014-7641-4bf2-8a9c-cace9ff95b8a')\"\n",
              "              title=\"Convert this dataframe to an interactive table.\"\n",
              "              style=\"display:none;\">\n",
              "        \n",
              "  <svg xmlns=\"http://www.w3.org/2000/svg\" height=\"24px\"viewBox=\"0 0 24 24\"\n",
              "       width=\"24px\">\n",
              "    <path d=\"M0 0h24v24H0V0z\" fill=\"none\"/>\n",
              "    <path d=\"M18.56 5.44l.94 2.06.94-2.06 2.06-.94-2.06-.94-.94-2.06-.94 2.06-2.06.94zm-11 1L8.5 8.5l.94-2.06 2.06-.94-2.06-.94L8.5 2.5l-.94 2.06-2.06.94zm10 10l.94 2.06.94-2.06 2.06-.94-2.06-.94-.94-2.06-.94 2.06-2.06.94z\"/><path d=\"M17.41 7.96l-1.37-1.37c-.4-.4-.92-.59-1.43-.59-.52 0-1.04.2-1.43.59L10.3 9.45l-7.72 7.72c-.78.78-.78 2.05 0 2.83L4 21.41c.39.39.9.59 1.41.59.51 0 1.02-.2 1.41-.59l7.78-7.78 2.81-2.81c.8-.78.8-2.07 0-2.86zM5.41 20L4 18.59l7.72-7.72 1.47 1.35L5.41 20z\"/>\n",
              "  </svg>\n",
              "      </button>\n",
              "      \n",
              "  <style>\n",
              "    .colab-df-container {\n",
              "      display:flex;\n",
              "      flex-wrap:wrap;\n",
              "      gap: 12px;\n",
              "    }\n",
              "\n",
              "    .colab-df-convert {\n",
              "      background-color: #E8F0FE;\n",
              "      border: none;\n",
              "      border-radius: 50%;\n",
              "      cursor: pointer;\n",
              "      display: none;\n",
              "      fill: #1967D2;\n",
              "      height: 32px;\n",
              "      padding: 0 0 0 0;\n",
              "      width: 32px;\n",
              "    }\n",
              "\n",
              "    .colab-df-convert:hover {\n",
              "      background-color: #E2EBFA;\n",
              "      box-shadow: 0px 1px 2px rgba(60, 64, 67, 0.3), 0px 1px 3px 1px rgba(60, 64, 67, 0.15);\n",
              "      fill: #174EA6;\n",
              "    }\n",
              "\n",
              "    [theme=dark] .colab-df-convert {\n",
              "      background-color: #3B4455;\n",
              "      fill: #D2E3FC;\n",
              "    }\n",
              "\n",
              "    [theme=dark] .colab-df-convert:hover {\n",
              "      background-color: #434B5C;\n",
              "      box-shadow: 0px 1px 3px 1px rgba(0, 0, 0, 0.15);\n",
              "      filter: drop-shadow(0px 1px 2px rgba(0, 0, 0, 0.3));\n",
              "      fill: #FFFFFF;\n",
              "    }\n",
              "  </style>\n",
              "\n",
              "      <script>\n",
              "        const buttonEl =\n",
              "          document.querySelector('#df-a863e014-7641-4bf2-8a9c-cace9ff95b8a button.colab-df-convert');\n",
              "        buttonEl.style.display =\n",
              "          google.colab.kernel.accessAllowed ? 'block' : 'none';\n",
              "\n",
              "        async function convertToInteractive(key) {\n",
              "          const element = document.querySelector('#df-a863e014-7641-4bf2-8a9c-cace9ff95b8a');\n",
              "          const dataTable =\n",
              "            await google.colab.kernel.invokeFunction('convertToInteractive',\n",
              "                                                     [key], {});\n",
              "          if (!dataTable) return;\n",
              "\n",
              "          const docLinkHtml = 'Like what you see? Visit the ' +\n",
              "            '<a target=\"_blank\" href=https://colab.research.google.com/notebooks/data_table.ipynb>data table notebook</a>'\n",
              "            + ' to learn more about interactive tables.';\n",
              "          element.innerHTML = '';\n",
              "          dataTable['output_type'] = 'display_data';\n",
              "          await google.colab.output.renderOutput(dataTable, element);\n",
              "          const docLink = document.createElement('div');\n",
              "          docLink.innerHTML = docLinkHtml;\n",
              "          element.appendChild(docLink);\n",
              "        }\n",
              "      </script>\n",
              "    </div>\n",
              "  </div>\n",
              "  "
            ]
          },
          "metadata": {},
          "execution_count": 54
        }
      ]
    },
    {
      "cell_type": "code",
      "source": [
        "#balance TRAIN dataset\n",
        "remove_n_train = train[train['label'] == False].shape[0] - train[train['label'] == True].shape[0]\n",
        "drop_indices_train = np.random.choice(\n",
        "    train[train['label'] == False].index, remove_n_train, replace=False\n",
        ")\n",
        "train_balanced = train.drop(drop_indices_train)"
      ],
      "metadata": {
        "id": "586KN6KlGjhL"
      },
      "execution_count": null,
      "outputs": []
    },
    {
      "cell_type": "code",
      "source": [
        "#check whether EVAL dataset is balanced\n",
        "print(\n",
        "    'Pos samples in the train dataset: ',\n",
        "    train_balanced[train_balanced['label'] == True].shape[0]\n",
        ")\n",
        "print(\n",
        "    'Neg samples in the train dataset: ',\n",
        "    train_balanced[train_balanced['label'] == False].shape[0]\n",
        ")"
      ],
      "metadata": {
        "colab": {
          "base_uri": "https://localhost:8080/"
        },
        "id": "y0_9ht7GHGkt",
        "outputId": "ae8ed3c4-440f-4222-abe9-e1e2e3322813"
      },
      "execution_count": null,
      "outputs": [
        {
          "output_type": "stream",
          "name": "stdout",
          "text": [
            "Pos samples in the train dataset:  53168\n",
            "Neg samples in the train dataset:  53168\n"
          ]
        }
      ]
    },
    {
      "cell_type": "code",
      "source": [
        "train_balanced.to_pickle(\n",
        "    Path(working_folder).joinpath('train_balanced.pkl')\n",
        ")"
      ],
      "metadata": {
        "id": "8V7fARu0HN3E"
      },
      "execution_count": null,
      "outputs": []
    }
  ]
}