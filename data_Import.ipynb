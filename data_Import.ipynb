{
  "nbformat": 4,
  "nbformat_minor": 0,
  "metadata": {
    "colab": {
      "name": "data_Import.ipynb",
      "provenance": [],
      "mount_file_id": "1OwZRWxqDd34PUjPokBRZYiAp_akr9zBQ",
      "authorship_tag": "ABX9TyP9AUNfX+f33Rn90/VUWa8r",
      "include_colab_link": true
    },
    "kernelspec": {
      "name": "python3",
      "display_name": "Python 3"
    },
    "language_info": {
      "name": "python"
    }
  },
  "cells": [
    {
      "cell_type": "markdown",
      "metadata": {
        "id": "view-in-github",
        "colab_type": "text"
      },
      "source": [
        "<a href=\"https://colab.research.google.com/github/Janina712/MLTSA_FinalProject/blob/main/data_Import.ipynb\" target=\"_parent\"><img src=\"https://colab.research.google.com/assets/colab-badge.svg\" alt=\"Open In Colab\"/></a>"
      ]
    },
    {
      "cell_type": "code",
      "source": [
        "pip install mne matplotlib"
      ],
      "metadata": {
        "id": "wikygvEGl74Z",
        "colab": {
          "base_uri": "https://localhost:8080/"
        },
        "outputId": "ff7ec4d4-ab42-436c-c0bc-66677d5d3618"
      },
      "execution_count": 1,
      "outputs": [
        {
          "output_type": "stream",
          "name": "stdout",
          "text": [
            "Collecting mne\n",
            "  Downloading mne-1.0.0-py3-none-any.whl (7.5 MB)\n",
            "\u001b[K     |████████████████████████████████| 7.5 MB 7.5 MB/s \n",
            "\u001b[?25hRequirement already satisfied: matplotlib in /usr/local/lib/python3.7/dist-packages (3.2.2)\n",
            "Requirement already satisfied: pooch>=1.5 in /usr/local/lib/python3.7/dist-packages (from mne) (1.6.0)\n",
            "Requirement already satisfied: tqdm in /usr/local/lib/python3.7/dist-packages (from mne) (4.63.0)\n",
            "Requirement already satisfied: decorator in /usr/local/lib/python3.7/dist-packages (from mne) (4.4.2)\n",
            "Requirement already satisfied: numpy>=1.15.4 in /usr/local/lib/python3.7/dist-packages (from mne) (1.21.5)\n",
            "Requirement already satisfied: packaging in /usr/local/lib/python3.7/dist-packages (from mne) (21.3)\n",
            "Requirement already satisfied: jinja2 in /usr/local/lib/python3.7/dist-packages (from mne) (2.11.3)\n",
            "Requirement already satisfied: scipy>=1.1.0 in /usr/local/lib/python3.7/dist-packages (from mne) (1.4.1)\n",
            "Requirement already satisfied: requests>=2.19.0 in /usr/local/lib/python3.7/dist-packages (from pooch>=1.5->mne) (2.23.0)\n",
            "Requirement already satisfied: appdirs>=1.3.0 in /usr/local/lib/python3.7/dist-packages (from pooch>=1.5->mne) (1.4.4)\n",
            "Requirement already satisfied: pyparsing!=3.0.5,>=2.0.2 in /usr/local/lib/python3.7/dist-packages (from packaging->mne) (3.0.7)\n",
            "Requirement already satisfied: idna<3,>=2.5 in /usr/local/lib/python3.7/dist-packages (from requests>=2.19.0->pooch>=1.5->mne) (2.10)\n",
            "Requirement already satisfied: chardet<4,>=3.0.2 in /usr/local/lib/python3.7/dist-packages (from requests>=2.19.0->pooch>=1.5->mne) (3.0.4)\n",
            "Requirement already satisfied: certifi>=2017.4.17 in /usr/local/lib/python3.7/dist-packages (from requests>=2.19.0->pooch>=1.5->mne) (2021.10.8)\n",
            "Requirement already satisfied: urllib3!=1.25.0,!=1.25.1,<1.26,>=1.21.1 in /usr/local/lib/python3.7/dist-packages (from requests>=2.19.0->pooch>=1.5->mne) (1.24.3)\n",
            "Requirement already satisfied: cycler>=0.10 in /usr/local/lib/python3.7/dist-packages (from matplotlib) (0.11.0)\n",
            "Requirement already satisfied: kiwisolver>=1.0.1 in /usr/local/lib/python3.7/dist-packages (from matplotlib) (1.4.0)\n",
            "Requirement already satisfied: python-dateutil>=2.1 in /usr/local/lib/python3.7/dist-packages (from matplotlib) (2.8.2)\n",
            "Requirement already satisfied: typing-extensions in /usr/local/lib/python3.7/dist-packages (from kiwisolver>=1.0.1->matplotlib) (3.10.0.2)\n",
            "Requirement already satisfied: six>=1.5 in /usr/local/lib/python3.7/dist-packages (from python-dateutil>=2.1->matplotlib) (1.15.0)\n",
            "Requirement already satisfied: MarkupSafe>=0.23 in /usr/local/lib/python3.7/dist-packages (from jinja2->mne) (2.0.1)\n",
            "Installing collected packages: mne\n",
            "Successfully installed mne-1.0.0\n"
          ]
        }
      ]
    },
    {
      "cell_type": "code",
      "source": [
        "import numpy as np\n",
        "import mne \n",
        "import pandas as pd"
      ],
      "metadata": {
        "id": "VHR7gabObI-2"
      },
      "execution_count": 2,
      "outputs": []
    },
    {
      "cell_type": "code",
      "source": [
        "cd drive/MyDrive/ColabNotebooks"
      ],
      "metadata": {
        "colab": {
          "base_uri": "https://localhost:8080/"
        },
        "id": "LYFT9ASIqcP0",
        "outputId": "0b68c921-9a84-458f-c592-194572083c47"
      },
      "execution_count": 3,
      "outputs": [
        {
          "output_type": "stream",
          "name": "stdout",
          "text": [
            "/content/drive/MyDrive/ColabNotebooks\n"
          ]
        }
      ]
    },
    {
      "cell_type": "code",
      "source": [
        "file = \"00001819_s002_t000.edf\"\n",
        "data = mne.io.read_raw_edf(file)\n",
        "raw_data = data.get_data()\n",
        "# you can get the metadata included in the file and a list of all channels:\n",
        "info = data.info\n",
        "channels = data.ch_names"
      ],
      "metadata": {
        "id": "84D0DcXIlr1R",
        "colab": {
          "base_uri": "https://localhost:8080/"
        },
        "outputId": "1c5af02f-9111-4d1e-e956-bfa198e96710"
      },
      "execution_count": 4,
      "outputs": [
        {
          "output_type": "stream",
          "name": "stdout",
          "text": [
            "Extracting EDF parameters from /content/drive/MyDrive/ColabNotebooks/00001819_s002_t000.edf...\n",
            "EDF file detected\n",
            "Setting channel info structure...\n",
            "Creating raw.info structure...\n"
          ]
        }
      ]
    },
    {
      "cell_type": "code",
      "source": [
        "data"
      ],
      "metadata": {
        "colab": {
          "base_uri": "https://localhost:8080/",
          "height": 283
        },
        "id": "hygn2la0t1Eo",
        "outputId": "f27b08af-cd07-4d54-f34a-232505337425"
      },
      "execution_count": 5,
      "outputs": [
        {
          "output_type": "execute_result",
          "data": {
            "text/plain": [
              "<RawEDF | 00001819_s002_t000.edf, 30 x 301000 (1204.0 s), ~34 kB, data not loaded>"
            ],
            "text/html": [
              "<table class=\"table table-hover table-striped table-sm table-responsive small\">\n",
              "    <tr>\n",
              "        <th>Measurement date</th>\n",
              "        \n",
              "        <td>April 30, 2012  15:30:02 GMT</td>\n",
              "        \n",
              "    </tr>\n",
              "    <tr>\n",
              "        <th>Experimenter</th>\n",
              "        \n",
              "        <td>Unknown</td>\n",
              "        \n",
              "    </tr>\n",
              "        <th>Participant</th>\n",
              "        \n",
              "        <td>Unknown</td>\n",
              "        \n",
              "    </tr>\n",
              "    <tr>\n",
              "        <th>Digitized points</th>\n",
              "        \n",
              "        <td>0 points</td>\n",
              "        \n",
              "    </tr>\n",
              "    <tr>\n",
              "        <th>Good channels</th>\n",
              "        <td>30 EEG</td>\n",
              "    </tr>\n",
              "    <tr>\n",
              "        <th>Bad channels</th>\n",
              "        <td>None</td>\n",
              "    </tr>\n",
              "    <tr>\n",
              "        <th>EOG channels</th>\n",
              "        <td>Not available</td>\n",
              "    </tr>\n",
              "    <tr>\n",
              "        <th>ECG channels</th>\n",
              "        <td>Not available</td>\n",
              "    \n",
              "    <tr>\n",
              "        <th>Sampling frequency</th>\n",
              "        <td>250.00 Hz</td>\n",
              "    </tr>\n",
              "    \n",
              "    \n",
              "    <tr>\n",
              "        <th>Highpass</th>\n",
              "        <td>0.00 Hz</td>\n",
              "    </tr>\n",
              "    \n",
              "    \n",
              "    <tr>\n",
              "        <th>Lowpass</th>\n",
              "        <td>125.00 Hz</td>\n",
              "    </tr>\n",
              "    \n",
              "    \n",
              "    \n",
              "    <tr>\n",
              "        <th>Filenames</th>\n",
              "        <td>00001819_s002_t000.edf</td>\n",
              "    </tr>\n",
              "    \n",
              "    <tr>\n",
              "        <th>Duration</th>\n",
              "        <td>00:20:03 (HH:MM:SS)</td>\n",
              "    </tr>\n",
              "</table>"
            ]
          },
          "metadata": {},
          "execution_count": 5
        }
      ]
    },
    {
      "cell_type": "code",
      "source": [
        "data.describe()"
      ],
      "metadata": {
        "colab": {
          "base_uri": "https://localhost:8080/"
        },
        "id": "tLKjXh5AfCvK",
        "outputId": "90bb8e9f-e3a7-4a77-a169-f2ef4762c758"
      },
      "execution_count": 6,
      "outputs": [
        {
          "output_type": "stream",
          "name": "stdout",
          "text": [
            "<RawEDF | 00001819_s002_t000.edf, 30 x 301000 (1204.0 s), ~34 kB, data not loaded>\n",
            "ch  name          type  unit        min         Q1     median         Q3        max\n",
            " 0  EEG FP1-REF   EEG   µV      -159.15     -15.26       0.00      14.50     295.11\n",
            " 1  EEG FP2-REF   EEG   µV      -202.79     -17.09       0.31      16.48     334.02\n",
            " 2  EEG F3-REF    EEG   µV      -194.55      -7.93       0.31       8.24     180.97\n",
            " 3  EEG F4-REF    EEG   µV       -90.63     -10.07       0.61      10.68     122.07\n",
            " 4  EEG C3-REF    EEG   µV      -105.43      -4.42       0.31       4.73      99.03\n",
            " 5  EEG C4-REF    EEG   µV       -95.36      -8.08       0.16       8.09      81.33\n",
            " 6  EEG P3-REF    EEG   µV       -45.16      -7.17       0.00       7.18      52.04\n",
            " 7  EEG P4-REF    EEG   µV       -71.10      -9.46       0.00       9.46      90.64\n",
            " 8  EEG O1-REF    EEG   µV       -87.12     -12.36       0.16      12.52     120.09\n",
            " 9  EEG O2-REF    EEG   µV      -127.71     -13.27       0.00      13.28     132.91\n",
            "10  EEG F7-REF    EEG   µV      -314.17     -11.75       0.61      12.67     236.51\n",
            "11  EEG F8-REF    EEG   µV      -154.42     -13.42       0.77      14.80     129.55\n",
            "12  EEG T3-REF    EEG   µV      -178.52     -11.44       0.77      12.36     177.92\n",
            "13  EEG T4-REF    EEG   µV      -161.13     -12.97       0.92      14.19     120.55\n",
            "14  EEG T5-REF    EEG   µV       -81.17     -11.29       0.46      11.75     122.99\n",
            "15  EEG T6-REF    EEG   µV       -91.24     -12.36       0.31      12.82     124.52\n",
            "16  EEG A1-REF    EEG   µV      -106.81     -13.73       0.16      14.04     178.53\n",
            "17  EEG A2-REF    EEG   µV      -118.71     -15.10       0.31      15.57     154.27\n",
            "18  EEG FZ-REF    EEG   µV       -73.70      -7.93       0.46       8.55      65.16\n",
            "19  EEG CZ-REF    EEG   µV       -46.84      -3.66       0.00       3.51      44.71\n",
            "20  EEG PZ-REF    EEG   µV       -48.21      -7.78      -0.15       7.48      69.74\n",
            "21  EEG ROC-REF   EEG   µV      -164.94     -16.63       0.92      17.55     219.88\n",
            "22  EEG LOC-REF   EEG   µV      -276.79     -15.71       0.16      16.18     178.84\n",
            "23  EEG EKG1-REF  EEG   µV      -282.28     -28.99      -0.30      27.93     585.48\n",
            "24  EEG T1-REF    EEG   µV      -161.74     -13.27       0.16      13.74     152.59\n",
            "25  EEG T2-REF    EEG   µV      -131.07     -14.64       0.92      15.87     136.26\n",
            "26  PHOTIC-REF    EEG   µV         0.00       0.00       0.00       0.00    1024.00\n",
            "27  IBI           EEG   µV         0.00       0.00       0.00       0.00       0.00\n",
            "28  BURSTS        EEG   µV         0.00       0.00       0.00       0.00       0.00\n",
            "29  SUPPR         EEG   µV         0.00       0.00       0.00       0.00       0.00\n"
          ]
        }
      ]
    },
    {
      "cell_type": "code",
      "source": [
        "data"
      ],
      "metadata": {
        "colab": {
          "base_uri": "https://localhost:8080/",
          "height": 283
        },
        "id": "xojRQMqjgxQc",
        "outputId": "6e68ca4f-c564-4218-dc1d-90d4257f4d01"
      },
      "execution_count": 7,
      "outputs": [
        {
          "output_type": "execute_result",
          "data": {
            "text/plain": [
              "<RawEDF | 00001819_s002_t000.edf, 30 x 301000 (1204.0 s), ~34 kB, data not loaded>"
            ],
            "text/html": [
              "<table class=\"table table-hover table-striped table-sm table-responsive small\">\n",
              "    <tr>\n",
              "        <th>Measurement date</th>\n",
              "        \n",
              "        <td>April 30, 2012  15:30:02 GMT</td>\n",
              "        \n",
              "    </tr>\n",
              "    <tr>\n",
              "        <th>Experimenter</th>\n",
              "        \n",
              "        <td>Unknown</td>\n",
              "        \n",
              "    </tr>\n",
              "        <th>Participant</th>\n",
              "        \n",
              "        <td>Unknown</td>\n",
              "        \n",
              "    </tr>\n",
              "    <tr>\n",
              "        <th>Digitized points</th>\n",
              "        \n",
              "        <td>0 points</td>\n",
              "        \n",
              "    </tr>\n",
              "    <tr>\n",
              "        <th>Good channels</th>\n",
              "        <td>30 EEG</td>\n",
              "    </tr>\n",
              "    <tr>\n",
              "        <th>Bad channels</th>\n",
              "        <td>None</td>\n",
              "    </tr>\n",
              "    <tr>\n",
              "        <th>EOG channels</th>\n",
              "        <td>Not available</td>\n",
              "    </tr>\n",
              "    <tr>\n",
              "        <th>ECG channels</th>\n",
              "        <td>Not available</td>\n",
              "    \n",
              "    <tr>\n",
              "        <th>Sampling frequency</th>\n",
              "        <td>250.00 Hz</td>\n",
              "    </tr>\n",
              "    \n",
              "    \n",
              "    <tr>\n",
              "        <th>Highpass</th>\n",
              "        <td>0.00 Hz</td>\n",
              "    </tr>\n",
              "    \n",
              "    \n",
              "    <tr>\n",
              "        <th>Lowpass</th>\n",
              "        <td>125.00 Hz</td>\n",
              "    </tr>\n",
              "    \n",
              "    \n",
              "    \n",
              "    <tr>\n",
              "        <th>Filenames</th>\n",
              "        <td>00001819_s002_t000.edf</td>\n",
              "    </tr>\n",
              "    \n",
              "    <tr>\n",
              "        <th>Duration</th>\n",
              "        <td>00:20:03 (HH:MM:SS)</td>\n",
              "    </tr>\n",
              "</table>"
            ]
          },
          "metadata": {},
          "execution_count": 7
        }
      ]
    },
    {
      "cell_type": "code",
      "source": [
        "raw_data.shape"
      ],
      "metadata": {
        "colab": {
          "base_uri": "https://localhost:8080/"
        },
        "id": "za8AFFQxtZSb",
        "outputId": "9ecee6ab-3c51-491f-bb41-05ba55da5e0b"
      },
      "execution_count": 8,
      "outputs": [
        {
          "output_type": "execute_result",
          "data": {
            "text/plain": [
              "(30, 301000)"
            ]
          },
          "metadata": {},
          "execution_count": 8
        }
      ]
    },
    {
      "cell_type": "code",
      "source": [
        "raw_data"
      ],
      "metadata": {
        "colab": {
          "base_uri": "https://localhost:8080/"
        },
        "id": "2YEd2i-bt4-b",
        "outputId": "278300ad-1c04-4e27-9114-06b61b37742a"
      },
      "execution_count": 9,
      "outputs": [
        {
          "output_type": "execute_result",
          "data": {
            "text/plain": [
              "array([[-7.29334546e-05, -6.31678373e-05, -6.48463028e-05, ...,\n",
              "         3.50000000e-09,  3.50000000e-09,  3.50000000e-09],\n",
              "       [-9.94837268e-05, -9.49060937e-05, -1.05892413e-04, ...,\n",
              "         3.50000000e-09,  3.50000000e-09,  3.50000000e-09],\n",
              "       [-6.25259862e-06, -2.43790434e-06, -1.98014103e-06, ...,\n",
              "         3.50000000e-09,  3.50000000e-09,  3.50000000e-09],\n",
              "       ...,\n",
              "       [ 0.00000000e+00,  0.00000000e+00,  0.00000000e+00, ...,\n",
              "         0.00000000e+00,  0.00000000e+00,  0.00000000e+00],\n",
              "       [ 0.00000000e+00,  0.00000000e+00,  0.00000000e+00, ...,\n",
              "         0.00000000e+00,  0.00000000e+00,  0.00000000e+00],\n",
              "       [ 0.00000000e+00,  0.00000000e+00,  0.00000000e+00, ...,\n",
              "         0.00000000e+00,  0.00000000e+00,  0.00000000e+00]])"
            ]
          },
          "metadata": {},
          "execution_count": 9
        }
      ]
    },
    {
      "cell_type": "code",
      "source": [
        "raw_data[0][150000:200000].shape"
      ],
      "metadata": {
        "colab": {
          "base_uri": "https://localhost:8080/"
        },
        "id": "0hNo5x5Yb91m",
        "outputId": "5d581b39-07ac-471f-9f57-e9fb76138f79"
      },
      "execution_count": 10,
      "outputs": [
        {
          "output_type": "execute_result",
          "data": {
            "text/plain": [
              "(50000,)"
            ]
          },
          "metadata": {},
          "execution_count": 10
        }
      ]
    },
    {
      "cell_type": "code",
      "source": [
        "xticks = list(range(0,70,8))\n",
        "xticks"
      ],
      "metadata": {
        "colab": {
          "base_uri": "https://localhost:8080/"
        },
        "id": "RY-x4D5xgS7d",
        "outputId": "388f5427-be78-45f1-e164-27dc788a9d24"
      },
      "execution_count": 11,
      "outputs": [
        {
          "output_type": "execute_result",
          "data": {
            "text/plain": [
              "[0, 8, 16, 24, 32, 40, 48, 56, 64]"
            ]
          },
          "metadata": {},
          "execution_count": 11
        }
      ]
    },
    {
      "cell_type": "code",
      "source": [
        "channels[0]"
      ],
      "metadata": {
        "colab": {
          "base_uri": "https://localhost:8080/",
          "height": 36
        },
        "id": "l_NjxeQVoo3A",
        "outputId": "708a13b1-ef2a-4137-f201-818d9d970692"
      },
      "execution_count": 12,
      "outputs": [
        {
          "output_type": "execute_result",
          "data": {
            "text/plain": [
              "'EEG FP1-REF'"
            ],
            "application/vnd.google.colaboratory.intrinsic+json": {
              "type": "string"
            }
          },
          "metadata": {},
          "execution_count": 12
        }
      ]
    },
    {
      "cell_type": "code",
      "source": [
        "import matplotlib.pyplot as plt\n",
        "plt.figure(figsize=(20,8))\n",
        "plt.title(\"Patient with Epilepsy\\nResting-State EEG recorded at FP1\", fontweight=\"bold\", fontsize = 20)\n",
        "plt.ylabel(\"Voltage (mV)\")\n",
        "plt.xlabel(\"Time (s)\")\n",
        "plt.xticks(np.arange(0,14000,2000), xticks)\n",
        "plt.plot(raw_data[0][150000:165000]);"
      ],
      "metadata": {
        "colab": {
          "base_uri": "https://localhost:8080/",
          "height": 540
        },
        "id": "ZUJObcz_brRZ",
        "outputId": "c5cd1311-b427-477c-b91d-b65336cf2960"
      },
      "execution_count": 13,
      "outputs": [
        {
          "output_type": "display_data",
          "data": {
            "text/plain": [
              "<Figure size 1440x576 with 1 Axes>"
            ],
            "image/png": "[encoded data removed]"
          },
          "metadata": {
            "needs_background": "light"
          }
        }
      ]
    },
    {
      "cell_type": "markdown",
      "source": [
        "**Fig.1.** 1-minute epoch of resting-state EEG recording (minute 10 to 11). Patient has been diagnosed with epilepsy. Three spikes are visible that may point toward atypical neural oscillation (or eye-blink artifacts). "
      ],
      "metadata": {
        "id": "YCtUpR0siopv"
      }
    },
    {
      "cell_type": "code",
      "source": [
        "# seizure corpus\n",
        "file = \"00009842_s002_t000.edf\"\n",
        "data = mne.io.read_raw_edf(file)\n",
        "raw_data = data.get_data()\n",
        "# you can get the metadata included in the file and a list of all channels:\n",
        "info = data.info\n",
        "channels = data.ch_names"
      ],
      "metadata": {
        "colab": {
          "base_uri": "https://localhost:8080/"
        },
        "id": "Cr5EWnQslGvS",
        "outputId": "8e653488-cf37-41a0-b462-c62ca924f7d4"
      },
      "execution_count": 14,
      "outputs": [
        {
          "output_type": "stream",
          "name": "stdout",
          "text": [
            "Extracting EDF parameters from /content/drive/MyDrive/ColabNotebooks/00009842_s002_t000.edf...\n",
            "EDF file detected\n",
            "Setting channel info structure...\n",
            "Creating raw.info structure...\n"
          ]
        }
      ]
    },
    {
      "cell_type": "code",
      "source": [
        "data"
      ],
      "metadata": {
        "colab": {
          "base_uri": "https://localhost:8080/",
          "height": 283
        },
        "id": "HGCN-teWlWCI",
        "outputId": "418bf5e0-a2b8-4e5d-c916-57c152b00c20"
      },
      "execution_count": 15,
      "outputs": [
        {
          "output_type": "execute_result",
          "data": {
            "text/plain": [
              "<RawEDF | 00009842_s002_t000.edf, 27 x 76800 (300.0 s), ~31 kB, data not loaded>"
            ],
            "text/html": [
              "<table class=\"table table-hover table-striped table-sm table-responsive small\">\n",
              "    <tr>\n",
              "        <th>Measurement date</th>\n",
              "        \n",
              "        <td>April 01, 2013  15:29:15 GMT</td>\n",
              "        \n",
              "    </tr>\n",
              "    <tr>\n",
              "        <th>Experimenter</th>\n",
              "        \n",
              "        <td>Unknown</td>\n",
              "        \n",
              "    </tr>\n",
              "        <th>Participant</th>\n",
              "        \n",
              "        <td>Unknown</td>\n",
              "        \n",
              "    </tr>\n",
              "    <tr>\n",
              "        <th>Digitized points</th>\n",
              "        \n",
              "        <td>0 points</td>\n",
              "        \n",
              "    </tr>\n",
              "    <tr>\n",
              "        <th>Good channels</th>\n",
              "        <td>27 EEG</td>\n",
              "    </tr>\n",
              "    <tr>\n",
              "        <th>Bad channels</th>\n",
              "        <td>None</td>\n",
              "    </tr>\n",
              "    <tr>\n",
              "        <th>EOG channels</th>\n",
              "        <td>Not available</td>\n",
              "    </tr>\n",
              "    <tr>\n",
              "        <th>ECG channels</th>\n",
              "        <td>Not available</td>\n",
              "    \n",
              "    <tr>\n",
              "        <th>Sampling frequency</th>\n",
              "        <td>256.00 Hz</td>\n",
              "    </tr>\n",
              "    \n",
              "    \n",
              "    <tr>\n",
              "        <th>Highpass</th>\n",
              "        <td>0.00 Hz</td>\n",
              "    </tr>\n",
              "    \n",
              "    \n",
              "    <tr>\n",
              "        <th>Lowpass</th>\n",
              "        <td>128.00 Hz</td>\n",
              "    </tr>\n",
              "    \n",
              "    \n",
              "    \n",
              "    <tr>\n",
              "        <th>Filenames</th>\n",
              "        <td>00009842_s002_t000.edf</td>\n",
              "    </tr>\n",
              "    \n",
              "    <tr>\n",
              "        <th>Duration</th>\n",
              "        <td>00:04:59 (HH:MM:SS)</td>\n",
              "    </tr>\n",
              "</table>"
            ]
          },
          "metadata": {},
          "execution_count": 15
        }
      ]
    },
    {
      "cell_type": "code",
      "source": [
        "raw_data.shape"
      ],
      "metadata": {
        "colab": {
          "base_uri": "https://localhost:8080/"
        },
        "id": "Uyl51tZllaK9",
        "outputId": "ae0feda0-dd07-4782-bc61-58366dc55ca6"
      },
      "execution_count": 16,
      "outputs": [
        {
          "output_type": "execute_result",
          "data": {
            "text/plain": [
              "(27, 76800)"
            ]
          },
          "metadata": {},
          "execution_count": 16
        }
      ]
    },
    {
      "cell_type": "code",
      "source": [
        "data.describe()"
      ],
      "metadata": {
        "colab": {
          "base_uri": "https://localhost:8080/"
        },
        "id": "W1C2wkBOlgMu",
        "outputId": "0980c792-3801-4907-f68a-aa3593019064"
      },
      "execution_count": 17,
      "outputs": [
        {
          "output_type": "stream",
          "name": "stdout",
          "text": [
            "<RawEDF | 00009842_s002_t000.edf, 27 x 76800 (300.0 s), ~31 kB, data not loaded>\n",
            "ch  name          type  unit        min         Q1     median         Q3        max\n",
            " 0  EEG FP1-REF   EEG   µV      -180.69     -40.65     -10.70      25.77     263.52\n",
            " 1  EEG FP2-REF   EEG   µV      -210.31     -38.64      -5.68      28.45     378.63\n",
            " 2  EEG F3-REF    EEG   µV      -257.49     -38.48     -10.20      19.08     271.72\n",
            " 3  EEG F4-REF    EEG   µV      -174.67     -28.27      -3.01      26.77     234.57\n",
            " 4  EEG C3-REF    EEG   µV       -87.33     -21.91     -11.21       1.68     250.13\n",
            " 5  EEG C4-REF    EEG   µV      -151.91     -25.59      -9.87       5.69     244.28\n",
            " 6  EEG P3-REF    EEG   µV      -107.58     -23.75      -9.87       0.84     220.69\n",
            " 7  EEG P4-REF    EEG   µV      -123.97     -25.09     -13.38      -1.50     481.02\n",
            " 8  EEG O1-REF    EEG   µV      -166.81     -23.25      -9.70       2.18     256.16\n",
            " 9  EEG O2-REF    EEG   µV      -112.09     -15.39      -4.68       5.86     250.47\n",
            "10  EEG F7-REF    EEG   µV      -230.22     -42.66     -11.54      20.58     309.19\n",
            "11  EEG F8-REF    EEG   µV      -550.45     -44.50     -10.70      31.63     310.53\n",
            "12  EEG T3-REF    EEG   µV      -152.75     -33.63     -14.38       2.01     237.75\n",
            "13  EEG T4-REF    EEG   µV      -134.01     -27.10     -14.89      -2.00     215.17\n",
            "14  EEG T5-REF    EEG   µV      -147.73     -32.62     -14.89       2.18     238.42\n",
            "15  EEG T6-REF    EEG   µV      -298.98     -21.58      -9.20       4.52     822.34\n",
            "16  EEG T1-REF    EEG   µV      -260.00      -9.03      14.73      41.66     330.11\n",
            "17  EEG T2-REF    EEG   µV      -189.89     -22.92      10.04      61.24     437.52\n",
            "18  EEG FZ-REF    EEG   µV       -52.20      -3.34       4.35      12.39     248.29\n",
            "19  EEG CZ-REF    EEG   µV       -77.13     -11.54      -4.18       2.85     246.45\n",
            "20  EEG PZ-REF    EEG   µV       -71.61     -14.05      -6.19       2.01     196.09\n",
            "21  EEG EKG1-REF  EEG   µV      -618.71     -31.95      -0.67      33.97     817.15\n",
            "22  EEG A1-REF    EEG   µV      -257.99     -47.18       1.01      62.41     515.15\n",
            "23  EEG A2-REF    EEG   µV      -131.84       5.19      21.09      38.32     250.64\n",
            "24  IBI           EEG   µV         0.00       0.00       0.00       0.00       0.00\n",
            "25  BURSTS        EEG   µV         0.00       0.00       0.00       0.00       0.00\n",
            "26  SUPPR         EEG   µV         0.00       0.00       0.00       0.00       0.00\n"
          ]
        }
      ]
    },
    {
      "cell_type": "code",
      "source": [
        "type(raw_data[0][0])"
      ],
      "metadata": {
        "colab": {
          "base_uri": "https://localhost:8080/"
        },
        "id": "-M3TSep6vKhG",
        "outputId": "2021d928-749f-4336-bcde-d8672b97b761"
      },
      "execution_count": 18,
      "outputs": [
        {
          "output_type": "execute_result",
          "data": {
            "text/plain": [
              "numpy.float64"
            ]
          },
          "metadata": {},
          "execution_count": 18
        }
      ]
    }
  ]
}