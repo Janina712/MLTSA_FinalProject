{
  "nbformat": 4,
  "nbformat_minor": 0,
  "metadata": {
    "colab": {
      "name": "edf_tse_opening.ipynb",
      "provenance": [],
      "collapsed_sections": [],
      "toc_visible": true,
      "authorship_tag": "ABX9TyO5MnRQUQOqOwiZXinhmwBq",
      "include_colab_link": true
    },
    "kernelspec": {
      "name": "python3",
      "display_name": "Python 3"
    },
    "language_info": {
      "name": "python"
    }
  },
  "cells": [
    {
      "cell_type": "markdown",
      "metadata": {
        "id": "view-in-github",
        "colab_type": "text"
      },
      "source": [
        "<a href=\"https://colab.research.google.com/github/Janina712/MLTSA_FinalProject/blob/main/edf_tse_opening.ipynb\" target=\"_parent\"><img src=\"https://colab.research.google.com/assets/colab-badge.svg\" alt=\"Open In Colab\"/></a>"
      ]
    },
    {
      "cell_type": "markdown",
      "source": [
        "# Here we open all downloaded `.edf` and `.tse` files and put them in a dataframe "
      ],
      "metadata": {
        "id": "m5X8-vHsoh5e"
      }
    },
    {
      "cell_type": "code",
      "source": [
        "pip install mne"
      ],
      "metadata": {
        "colab": {
          "base_uri": "https://localhost:8080/"
        },
        "id": "Mu2aeWWEEi89",
        "outputId": "de4b25b5-17c7-4a99-b7f7-889fd85cb485"
      },
      "execution_count": 52,
      "outputs": [
        {
          "output_type": "stream",
          "name": "stdout",
          "text": [
            "Collecting mne\n",
            "  Downloading mne-1.0.2-py3-none-any.whl (7.5 MB)\n",
            "\u001b[K     |████████████████████████████████| 7.5 MB 16.3 MB/s \n",
            "\u001b[?25hRequirement already satisfied: numpy>=1.15.4 in /usr/local/lib/python3.7/dist-packages (from mne) (1.21.6)\n",
            "Requirement already satisfied: pooch>=1.5 in /usr/local/lib/python3.7/dist-packages (from mne) (1.6.0)\n",
            "Requirement already satisfied: tqdm in /usr/local/lib/python3.7/dist-packages (from mne) (4.64.0)\n",
            "Requirement already satisfied: decorator in /usr/local/lib/python3.7/dist-packages (from mne) (4.4.2)\n",
            "Requirement already satisfied: packaging in /usr/local/lib/python3.7/dist-packages (from mne) (21.3)\n",
            "Requirement already satisfied: jinja2 in /usr/local/lib/python3.7/dist-packages (from mne) (2.11.3)\n",
            "Requirement already satisfied: matplotlib in /usr/local/lib/python3.7/dist-packages (from mne) (3.2.2)\n",
            "Requirement already satisfied: scipy>=1.1.0 in /usr/local/lib/python3.7/dist-packages (from mne) (1.4.1)\n",
            "Requirement already satisfied: requests>=2.19.0 in /usr/local/lib/python3.7/dist-packages (from pooch>=1.5->mne) (2.23.0)\n",
            "Requirement already satisfied: appdirs>=1.3.0 in /usr/local/lib/python3.7/dist-packages (from pooch>=1.5->mne) (1.4.4)\n",
            "Requirement already satisfied: pyparsing!=3.0.5,>=2.0.2 in /usr/local/lib/python3.7/dist-packages (from packaging->mne) (3.0.8)\n",
            "Requirement already satisfied: idna<3,>=2.5 in /usr/local/lib/python3.7/dist-packages (from requests>=2.19.0->pooch>=1.5->mne) (2.10)\n",
            "Requirement already satisfied: certifi>=2017.4.17 in /usr/local/lib/python3.7/dist-packages (from requests>=2.19.0->pooch>=1.5->mne) (2021.10.8)\n",
            "Requirement already satisfied: chardet<4,>=3.0.2 in /usr/local/lib/python3.7/dist-packages (from requests>=2.19.0->pooch>=1.5->mne) (3.0.4)\n",
            "Requirement already satisfied: urllib3!=1.25.0,!=1.25.1,<1.26,>=1.21.1 in /usr/local/lib/python3.7/dist-packages (from requests>=2.19.0->pooch>=1.5->mne) (1.24.3)\n",
            "Requirement already satisfied: MarkupSafe>=0.23 in /usr/local/lib/python3.7/dist-packages (from jinja2->mne) (2.0.1)\n",
            "Requirement already satisfied: kiwisolver>=1.0.1 in /usr/local/lib/python3.7/dist-packages (from matplotlib->mne) (1.4.2)\n",
            "Requirement already satisfied: cycler>=0.10 in /usr/local/lib/python3.7/dist-packages (from matplotlib->mne) (0.11.0)\n",
            "Requirement already satisfied: python-dateutil>=2.1 in /usr/local/lib/python3.7/dist-packages (from matplotlib->mne) (2.8.2)\n",
            "Requirement already satisfied: typing-extensions in /usr/local/lib/python3.7/dist-packages (from kiwisolver>=1.0.1->matplotlib->mne) (4.2.0)\n",
            "Requirement already satisfied: six>=1.5 in /usr/local/lib/python3.7/dist-packages (from python-dateutil>=2.1->matplotlib->mne) (1.15.0)\n",
            "Installing collected packages: mne\n",
            "Successfully installed mne-1.0.2\n"
          ]
        }
      ]
    },
    {
      "cell_type": "code",
      "source": [
        "import requests\n",
        "from bs4 import BeautifulSoup\n",
        "from pathlib import Path\n",
        "from tqdm import tqdm\n",
        "import shutil\n",
        "from collections import Counter\n",
        "import pandas as pd\n",
        "import mne\n",
        "import numpy as np\n",
        "\n",
        "tqdm.pandas()"
      ],
      "metadata": {
        "id": "TSbyKjFgpAPK"
      },
      "execution_count": 72,
      "outputs": []
    },
    {
      "cell_type": "code",
      "source": [
        "from google.colab import drive\n",
        "drive.mount('/content/drive')"
      ],
      "metadata": {
        "colab": {
          "base_uri": "https://localhost:8080/"
        },
        "id": "D8VS58lxYa6B",
        "outputId": "c9ba32f0-d2ee-4826-a674-74d73dd11810"
      },
      "execution_count": 3,
      "outputs": [
        {
          "output_type": "stream",
          "name": "stdout",
          "text": [
            "Mounted at /content/drive\n"
          ]
        }
      ]
    },
    {
      "cell_type": "code",
      "source": [
        "drive_tuh_eeg_loc = Path('/content/drive/MyDrive/Classes/22S-PHYS-667/project/isip_tuh_eeg')"
      ],
      "metadata": {
        "id": "YiC4Tz35r1b4"
      },
      "execution_count": 58,
      "outputs": []
    },
    {
      "cell_type": "code",
      "source": [
        "working_folder = Path('/content/drive/MyDrive/Classes/22S-PHYS-667/project/temp_data')"
      ],
      "metadata": {
        "id": "W6C6aDTFBhUb"
      },
      "execution_count": 57,
      "outputs": []
    },
    {
      "cell_type": "markdown",
      "source": [
        "## Reading files from the folder\n",
        "\n",
        "**Input**: a folder with files\n",
        "\n",
        "**Output**: dataframe with parsed filenames for further aggregation"
      ],
      "metadata": {
        "id": "ScUomwqnsDqR"
      }
    },
    {
      "cell_type": "code",
      "source": [
        "downloaded_files = list(Path(drive_tuh_eeg_loc).glob('*'))\n",
        "downloaded_files[:3]"
      ],
      "metadata": {
        "colab": {
          "base_uri": "https://localhost:8080/"
        },
        "id": "SBwNJ7Oif1qL",
        "outputId": "2d8c5188-023d-480d-8527-8cded68dabfe"
      },
      "execution_count": 5,
      "outputs": [
        {
          "output_type": "execute_result",
          "data": {
            "text/plain": [
              "[PosixPath('/content/drive/MyDrive/Classes/22S-PHYS-667/project/isip_tuh_eeg/train__02_tcp_le__058__00005804__s002_2008_11_05__00005804_s002_t003.tse'),\n",
              " PosixPath('/content/drive/MyDrive/Classes/22S-PHYS-667/project/isip_tuh_eeg/train__02_tcp_le__058__00005804__s002_2008_11_05__00005804_s002_t004.tse'),\n",
              " PosixPath('/content/drive/MyDrive/Classes/22S-PHYS-667/project/isip_tuh_eeg/train__02_tcp_le__058__00005804__s002_2008_11_05__00005804_s002_t005.tse')]"
            ]
          },
          "metadata": {},
          "execution_count": 5
        }
      ]
    },
    {
      "cell_type": "code",
      "source": [
        "# how many files we have in total\n",
        "len(downloaded_files)"
      ],
      "metadata": {
        "colab": {
          "base_uri": "https://localhost:8080/"
        },
        "id": "jQEJ23Mq-RVc",
        "outputId": "f877fb70-28cc-4ebc-f877-e2e5af12ca48"
      },
      "execution_count": 6,
      "outputs": [
        {
          "output_type": "execute_result",
          "data": {
            "text/plain": [
              "13270"
            ]
          },
          "metadata": {},
          "execution_count": 6
        }
      ]
    },
    {
      "cell_type": "code",
      "source": [
        "files_raw_df = pd.DataFrame(\n",
        "  [fpath.name for fpath in downloaded_files], \n",
        "  columns = ['filename']\n",
        ")"
      ],
      "metadata": {
        "id": "nudGuOqg8wCJ"
      },
      "execution_count": 17,
      "outputs": []
    },
    {
      "cell_type": "code",
      "source": [
        "len(downloaded_files)"
      ],
      "metadata": {
        "colab": {
          "base_uri": "https://localhost:8080/"
        },
        "id": "_Wrva2cC8L9v",
        "outputId": "88454eeb-8ef0-4221-ad77-a43c9e83bde8"
      },
      "execution_count": 18,
      "outputs": [
        {
          "output_type": "execute_result",
          "data": {
            "text/plain": [
              "13270"
            ]
          },
          "metadata": {},
          "execution_count": 18
        }
      ]
    },
    {
      "cell_type": "code",
      "source": [
        "files_raw_df"
      ],
      "metadata": {
        "colab": {
          "base_uri": "https://localhost:8080/",
          "height": 423
        },
        "id": "642hc6m8-Xd1",
        "outputId": "3dc5973b-cc28-418f-ba8a-54754684b704"
      },
      "execution_count": 23,
      "outputs": [
        {
          "output_type": "execute_result",
          "data": {
            "text/plain": [
              "                                                filename\n",
              "0      train__02_tcp_le__058__00005804__s002_2008_11_...\n",
              "1      train__02_tcp_le__058__00005804__s002_2008_11_...\n",
              "2      train__02_tcp_le__058__00005804__s002_2008_11_...\n",
              "3      train__02_tcp_le__058__00005804__s002_2008_11_...\n",
              "4      train__02_tcp_le__060__00006083__s003_2010_10_...\n",
              "...                                                  ...\n",
              "13265  dev__01_tcp_ar__085__00008512__s002_2012_01_09...\n",
              "13266  dev__01_tcp_ar__085__00008512__s002_2012_01_09...\n",
              "13267  dev__01_tcp_ar__085__00008512__s002_2012_01_09...\n",
              "13268  dev__01_tcp_ar__085__00008512__s002_2012_01_09...\n",
              "13269  dev__01_tcp_ar__085__00008512__s002_2012_01_09...\n",
              "\n",
              "[13270 rows x 1 columns]"
            ],
            "text/html": [
              "\n",
              "  <div id=\"df-6e5f1c4e-58ad-47d6-94c5-c052aee97ed3\">\n",
              "    <div class=\"colab-df-container\">\n",
              "      <div>\n",
              "<style scoped>\n",
              "    .dataframe tbody tr th:only-of-type {\n",
              "        vertical-align: middle;\n",
              "    }\n",
              "\n",
              "    .dataframe tbody tr th {\n",
              "        vertical-align: top;\n",
              "    }\n",
              "\n",
              "    .dataframe thead th {\n",
              "        text-align: right;\n",
              "    }\n",
              "</style>\n",
              "<table border=\"1\" class=\"dataframe\">\n",
              "  <thead>\n",
              "    <tr style=\"text-align: right;\">\n",
              "      <th></th>\n",
              "      <th>filename</th>\n",
              "    </tr>\n",
              "  </thead>\n",
              "  <tbody>\n",
              "    <tr>\n",
              "      <th>0</th>\n",
              "      <td>train__02_tcp_le__058__00005804__s002_2008_11_...</td>\n",
              "    </tr>\n",
              "    <tr>\n",
              "      <th>1</th>\n",
              "      <td>train__02_tcp_le__058__00005804__s002_2008_11_...</td>\n",
              "    </tr>\n",
              "    <tr>\n",
              "      <th>2</th>\n",
              "      <td>train__02_tcp_le__058__00005804__s002_2008_11_...</td>\n",
              "    </tr>\n",
              "    <tr>\n",
              "      <th>3</th>\n",
              "      <td>train__02_tcp_le__058__00005804__s002_2008_11_...</td>\n",
              "    </tr>\n",
              "    <tr>\n",
              "      <th>4</th>\n",
              "      <td>train__02_tcp_le__060__00006083__s003_2010_10_...</td>\n",
              "    </tr>\n",
              "    <tr>\n",
              "      <th>...</th>\n",
              "      <td>...</td>\n",
              "    </tr>\n",
              "    <tr>\n",
              "      <th>13265</th>\n",
              "      <td>dev__01_tcp_ar__085__00008512__s002_2012_01_09...</td>\n",
              "    </tr>\n",
              "    <tr>\n",
              "      <th>13266</th>\n",
              "      <td>dev__01_tcp_ar__085__00008512__s002_2012_01_09...</td>\n",
              "    </tr>\n",
              "    <tr>\n",
              "      <th>13267</th>\n",
              "      <td>dev__01_tcp_ar__085__00008512__s002_2012_01_09...</td>\n",
              "    </tr>\n",
              "    <tr>\n",
              "      <th>13268</th>\n",
              "      <td>dev__01_tcp_ar__085__00008512__s002_2012_01_09...</td>\n",
              "    </tr>\n",
              "    <tr>\n",
              "      <th>13269</th>\n",
              "      <td>dev__01_tcp_ar__085__00008512__s002_2012_01_09...</td>\n",
              "    </tr>\n",
              "  </tbody>\n",
              "</table>\n",
              "<p>13270 rows × 1 columns</p>\n",
              "</div>\n",
              "      <button class=\"colab-df-convert\" onclick=\"convertToInteractive('df-6e5f1c4e-58ad-47d6-94c5-c052aee97ed3')\"\n",
              "              title=\"Convert this dataframe to an interactive table.\"\n",
              "              style=\"display:none;\">\n",
              "        \n",
              "  <svg xmlns=\"http://www.w3.org/2000/svg\" height=\"24px\"viewBox=\"0 0 24 24\"\n",
              "       width=\"24px\">\n",
              "    <path d=\"M0 0h24v24H0V0z\" fill=\"none\"/>\n",
              "    <path d=\"M18.56 5.44l.94 2.06.94-2.06 2.06-.94-2.06-.94-.94-2.06-.94 2.06-2.06.94zm-11 1L8.5 8.5l.94-2.06 2.06-.94-2.06-.94L8.5 2.5l-.94 2.06-2.06.94zm10 10l.94 2.06.94-2.06 2.06-.94-2.06-.94-.94-2.06-.94 2.06-2.06.94z\"/><path d=\"M17.41 7.96l-1.37-1.37c-.4-.4-.92-.59-1.43-.59-.52 0-1.04.2-1.43.59L10.3 9.45l-7.72 7.72c-.78.78-.78 2.05 0 2.83L4 21.41c.39.39.9.59 1.41.59.51 0 1.02-.2 1.41-.59l7.78-7.78 2.81-2.81c.8-.78.8-2.07 0-2.86zM5.41 20L4 18.59l7.72-7.72 1.47 1.35L5.41 20z\"/>\n",
              "  </svg>\n",
              "      </button>\n",
              "      \n",
              "  <style>\n",
              "    .colab-df-container {\n",
              "      display:flex;\n",
              "      flex-wrap:wrap;\n",
              "      gap: 12px;\n",
              "    }\n",
              "\n",
              "    .colab-df-convert {\n",
              "      background-color: #E8F0FE;\n",
              "      border: none;\n",
              "      border-radius: 50%;\n",
              "      cursor: pointer;\n",
              "      display: none;\n",
              "      fill: #1967D2;\n",
              "      height: 32px;\n",
              "      padding: 0 0 0 0;\n",
              "      width: 32px;\n",
              "    }\n",
              "\n",
              "    .colab-df-convert:hover {\n",
              "      background-color: #E2EBFA;\n",
              "      box-shadow: 0px 1px 2px rgba(60, 64, 67, 0.3), 0px 1px 3px 1px rgba(60, 64, 67, 0.15);\n",
              "      fill: #174EA6;\n",
              "    }\n",
              "\n",
              "    [theme=dark] .colab-df-convert {\n",
              "      background-color: #3B4455;\n",
              "      fill: #D2E3FC;\n",
              "    }\n",
              "\n",
              "    [theme=dark] .colab-df-convert:hover {\n",
              "      background-color: #434B5C;\n",
              "      box-shadow: 0px 1px 3px 1px rgba(0, 0, 0, 0.15);\n",
              "      filter: drop-shadow(0px 1px 2px rgba(0, 0, 0, 0.3));\n",
              "      fill: #FFFFFF;\n",
              "    }\n",
              "  </style>\n",
              "\n",
              "      <script>\n",
              "        const buttonEl =\n",
              "          document.querySelector('#df-6e5f1c4e-58ad-47d6-94c5-c052aee97ed3 button.colab-df-convert');\n",
              "        buttonEl.style.display =\n",
              "          google.colab.kernel.accessAllowed ? 'block' : 'none';\n",
              "\n",
              "        async function convertToInteractive(key) {\n",
              "          const element = document.querySelector('#df-6e5f1c4e-58ad-47d6-94c5-c052aee97ed3');\n",
              "          const dataTable =\n",
              "            await google.colab.kernel.invokeFunction('convertToInteractive',\n",
              "                                                     [key], {});\n",
              "          if (!dataTable) return;\n",
              "\n",
              "          const docLinkHtml = 'Like what you see? Visit the ' +\n",
              "            '<a target=\"_blank\" href=https://colab.research.google.com/notebooks/data_table.ipynb>data table notebook</a>'\n",
              "            + ' to learn more about interactive tables.';\n",
              "          element.innerHTML = '';\n",
              "          dataTable['output_type'] = 'display_data';\n",
              "          await google.colab.output.renderOutput(dataTable, element);\n",
              "          const docLink = document.createElement('div');\n",
              "          docLink.innerHTML = docLinkHtml;\n",
              "          element.appendChild(docLink);\n",
              "        }\n",
              "      </script>\n",
              "    </div>\n",
              "  </div>\n",
              "  "
            ]
          },
          "metadata": {},
          "execution_count": 23
        }
      ]
    },
    {
      "cell_type": "code",
      "source": [
        "files_raw_df['filename'][4].split('__')"
      ],
      "metadata": {
        "colab": {
          "base_uri": "https://localhost:8080/"
        },
        "id": "OBsHONGJ-_4i",
        "outputId": "469534de-250a-482a-aca6-f9cb9d25085c"
      },
      "execution_count": 20,
      "outputs": [
        {
          "output_type": "execute_result",
          "data": {
            "text/plain": [
              "['train',\n",
              " '02_tcp_le',\n",
              " '060',\n",
              " '00006083',\n",
              " 's003_2010_10_11',\n",
              " '00006083_s003_t001.tse']"
            ]
          },
          "metadata": {},
          "execution_count": 20
        }
      ]
    },
    {
      "cell_type": "code",
      "source": [
        "def split_fname(row):\n",
        "\n",
        "  split_row_str = row['filename'].split('__')\n",
        "\n",
        "  fname, file_ext = split_row_str[-1].split('.')\n",
        "\n",
        "  row['category'] = split_row_str[0]\n",
        "  row['1_idk'] = split_row_str[1]\n",
        "  row['2_idk'] = split_row_str[2]\n",
        "  row['3_idk'] = split_row_str[3]\n",
        "  row['4_idk'] = split_row_str[4]\n",
        "  row['file_name'] = fname #fname WITHOUT file extension\n",
        "  row['file_ext'] = file_ext #file extension (.edf or .tse)\n",
        "\n",
        "  return row"
      ],
      "metadata": {
        "id": "VaZN76nr-wQI"
      },
      "execution_count": 33,
      "outputs": []
    },
    {
      "cell_type": "code",
      "source": [
        "# not the most efficient way, but it's expressive\n",
        "\n",
        "files_raw_df = files_raw_df.progress_apply(\n",
        "  split_fname, \n",
        "  axis=1\n",
        ")"
      ],
      "metadata": {
        "colab": {
          "base_uri": "https://localhost:8080/"
        },
        "id": "gqUyNvYt-cHh",
        "outputId": "106aeeb8-e427-4a5d-8cc7-05f7a1bf53e3"
      },
      "execution_count": 35,
      "outputs": [
        {
          "output_type": "stream",
          "name": "stderr",
          "text": [
            "100%|██████████| 13270/13270 [00:53<00:00, 245.82it/s]\n"
          ]
        }
      ]
    },
    {
      "cell_type": "code",
      "source": [
        "files_raw_df"
      ],
      "metadata": {
        "colab": {
          "base_uri": "https://localhost:8080/",
          "height": 487
        },
        "id": "inFuzN_Rq2Hq",
        "outputId": "1c0fc17e-dfd0-4d74-e0bc-3fb011a4a93b"
      },
      "execution_count": 39,
      "outputs": [
        {
          "output_type": "execute_result",
          "data": {
            "text/plain": [
              "                                                filename category      1_idk  \\\n",
              "0      train__02_tcp_le__058__00005804__s002_2008_11_...    train  02_tcp_le   \n",
              "1      train__02_tcp_le__058__00005804__s002_2008_11_...    train  02_tcp_le   \n",
              "2      train__02_tcp_le__058__00005804__s002_2008_11_...    train  02_tcp_le   \n",
              "3      train__02_tcp_le__058__00005804__s002_2008_11_...    train  02_tcp_le   \n",
              "4      train__02_tcp_le__060__00006083__s003_2010_10_...    train  02_tcp_le   \n",
              "...                                                  ...      ...        ...   \n",
              "13265  dev__01_tcp_ar__085__00008512__s002_2012_01_09...      dev  01_tcp_ar   \n",
              "13266  dev__01_tcp_ar__085__00008512__s002_2012_01_09...      dev  01_tcp_ar   \n",
              "13267  dev__01_tcp_ar__085__00008512__s002_2012_01_09...      dev  01_tcp_ar   \n",
              "13268  dev__01_tcp_ar__085__00008512__s002_2012_01_09...      dev  01_tcp_ar   \n",
              "13269  dev__01_tcp_ar__085__00008512__s002_2012_01_09...      dev  01_tcp_ar   \n",
              "\n",
              "      2_idk     3_idk            4_idk           file_name file_ext  \n",
              "0       058  00005804  s002_2008_11_05  00005804_s002_t003      tse  \n",
              "1       058  00005804  s002_2008_11_05  00005804_s002_t004      tse  \n",
              "2       058  00005804  s002_2008_11_05  00005804_s002_t005      tse  \n",
              "3       058  00005804  s002_2008_11_05  00005804_s002_t006      tse  \n",
              "4       060  00006083  s003_2010_10_11  00006083_s003_t001      tse  \n",
              "...     ...       ...              ...                 ...      ...  \n",
              "13265   085  00008512  s002_2012_01_09  00008512_s002_t000      edf  \n",
              "13266   085  00008512  s002_2012_01_09  00008512_s002_t001      edf  \n",
              "13267   085  00008512  s002_2012_01_09  00008512_s002_t002      edf  \n",
              "13268   085  00008512  s002_2012_01_09  00008512_s002_t003      edf  \n",
              "13269   085  00008512  s002_2012_01_09  00008512_s002_t004      edf  \n",
              "\n",
              "[13270 rows x 8 columns]"
            ],
            "text/html": [
              "\n",
              "  <div id=\"df-2efeab37-cd20-40da-9bc0-efda4682edde\">\n",
              "    <div class=\"colab-df-container\">\n",
              "      <div>\n",
              "<style scoped>\n",
              "    .dataframe tbody tr th:only-of-type {\n",
              "        vertical-align: middle;\n",
              "    }\n",
              "\n",
              "    .dataframe tbody tr th {\n",
              "        vertical-align: top;\n",
              "    }\n",
              "\n",
              "    .dataframe thead th {\n",
              "        text-align: right;\n",
              "    }\n",
              "</style>\n",
              "<table border=\"1\" class=\"dataframe\">\n",
              "  <thead>\n",
              "    <tr style=\"text-align: right;\">\n",
              "      <th></th>\n",
              "      <th>filename</th>\n",
              "      <th>category</th>\n",
              "      <th>1_idk</th>\n",
              "      <th>2_idk</th>\n",
              "      <th>3_idk</th>\n",
              "      <th>4_idk</th>\n",
              "      <th>file_name</th>\n",
              "      <th>file_ext</th>\n",
              "    </tr>\n",
              "  </thead>\n",
              "  <tbody>\n",
              "    <tr>\n",
              "      <th>0</th>\n",
              "      <td>train__02_tcp_le__058__00005804__s002_2008_11_...</td>\n",
              "      <td>train</td>\n",
              "      <td>02_tcp_le</td>\n",
              "      <td>058</td>\n",
              "      <td>00005804</td>\n",
              "      <td>s002_2008_11_05</td>\n",
              "      <td>00005804_s002_t003</td>\n",
              "      <td>tse</td>\n",
              "    </tr>\n",
              "    <tr>\n",
              "      <th>1</th>\n",
              "      <td>train__02_tcp_le__058__00005804__s002_2008_11_...</td>\n",
              "      <td>train</td>\n",
              "      <td>02_tcp_le</td>\n",
              "      <td>058</td>\n",
              "      <td>00005804</td>\n",
              "      <td>s002_2008_11_05</td>\n",
              "      <td>00005804_s002_t004</td>\n",
              "      <td>tse</td>\n",
              "    </tr>\n",
              "    <tr>\n",
              "      <th>2</th>\n",
              "      <td>train__02_tcp_le__058__00005804__s002_2008_11_...</td>\n",
              "      <td>train</td>\n",
              "      <td>02_tcp_le</td>\n",
              "      <td>058</td>\n",
              "      <td>00005804</td>\n",
              "      <td>s002_2008_11_05</td>\n",
              "      <td>00005804_s002_t005</td>\n",
              "      <td>tse</td>\n",
              "    </tr>\n",
              "    <tr>\n",
              "      <th>3</th>\n",
              "      <td>train__02_tcp_le__058__00005804__s002_2008_11_...</td>\n",
              "      <td>train</td>\n",
              "      <td>02_tcp_le</td>\n",
              "      <td>058</td>\n",
              "      <td>00005804</td>\n",
              "      <td>s002_2008_11_05</td>\n",
              "      <td>00005804_s002_t006</td>\n",
              "      <td>tse</td>\n",
              "    </tr>\n",
              "    <tr>\n",
              "      <th>4</th>\n",
              "      <td>train__02_tcp_le__060__00006083__s003_2010_10_...</td>\n",
              "      <td>train</td>\n",
              "      <td>02_tcp_le</td>\n",
              "      <td>060</td>\n",
              "      <td>00006083</td>\n",
              "      <td>s003_2010_10_11</td>\n",
              "      <td>00006083_s003_t001</td>\n",
              "      <td>tse</td>\n",
              "    </tr>\n",
              "    <tr>\n",
              "      <th>...</th>\n",
              "      <td>...</td>\n",
              "      <td>...</td>\n",
              "      <td>...</td>\n",
              "      <td>...</td>\n",
              "      <td>...</td>\n",
              "      <td>...</td>\n",
              "      <td>...</td>\n",
              "      <td>...</td>\n",
              "    </tr>\n",
              "    <tr>\n",
              "      <th>13265</th>\n",
              "      <td>dev__01_tcp_ar__085__00008512__s002_2012_01_09...</td>\n",
              "      <td>dev</td>\n",
              "      <td>01_tcp_ar</td>\n",
              "      <td>085</td>\n",
              "      <td>00008512</td>\n",
              "      <td>s002_2012_01_09</td>\n",
              "      <td>00008512_s002_t000</td>\n",
              "      <td>edf</td>\n",
              "    </tr>\n",
              "    <tr>\n",
              "      <th>13266</th>\n",
              "      <td>dev__01_tcp_ar__085__00008512__s002_2012_01_09...</td>\n",
              "      <td>dev</td>\n",
              "      <td>01_tcp_ar</td>\n",
              "      <td>085</td>\n",
              "      <td>00008512</td>\n",
              "      <td>s002_2012_01_09</td>\n",
              "      <td>00008512_s002_t001</td>\n",
              "      <td>edf</td>\n",
              "    </tr>\n",
              "    <tr>\n",
              "      <th>13267</th>\n",
              "      <td>dev__01_tcp_ar__085__00008512__s002_2012_01_09...</td>\n",
              "      <td>dev</td>\n",
              "      <td>01_tcp_ar</td>\n",
              "      <td>085</td>\n",
              "      <td>00008512</td>\n",
              "      <td>s002_2012_01_09</td>\n",
              "      <td>00008512_s002_t002</td>\n",
              "      <td>edf</td>\n",
              "    </tr>\n",
              "    <tr>\n",
              "      <th>13268</th>\n",
              "      <td>dev__01_tcp_ar__085__00008512__s002_2012_01_09...</td>\n",
              "      <td>dev</td>\n",
              "      <td>01_tcp_ar</td>\n",
              "      <td>085</td>\n",
              "      <td>00008512</td>\n",
              "      <td>s002_2012_01_09</td>\n",
              "      <td>00008512_s002_t003</td>\n",
              "      <td>edf</td>\n",
              "    </tr>\n",
              "    <tr>\n",
              "      <th>13269</th>\n",
              "      <td>dev__01_tcp_ar__085__00008512__s002_2012_01_09...</td>\n",
              "      <td>dev</td>\n",
              "      <td>01_tcp_ar</td>\n",
              "      <td>085</td>\n",
              "      <td>00008512</td>\n",
              "      <td>s002_2012_01_09</td>\n",
              "      <td>00008512_s002_t004</td>\n",
              "      <td>edf</td>\n",
              "    </tr>\n",
              "  </tbody>\n",
              "</table>\n",
              "<p>13270 rows × 8 columns</p>\n",
              "</div>\n",
              "      <button class=\"colab-df-convert\" onclick=\"convertToInteractive('df-2efeab37-cd20-40da-9bc0-efda4682edde')\"\n",
              "              title=\"Convert this dataframe to an interactive table.\"\n",
              "              style=\"display:none;\">\n",
              "        \n",
              "  <svg xmlns=\"http://www.w3.org/2000/svg\" height=\"24px\"viewBox=\"0 0 24 24\"\n",
              "       width=\"24px\">\n",
              "    <path d=\"M0 0h24v24H0V0z\" fill=\"none\"/>\n",
              "    <path d=\"M18.56 5.44l.94 2.06.94-2.06 2.06-.94-2.06-.94-.94-2.06-.94 2.06-2.06.94zm-11 1L8.5 8.5l.94-2.06 2.06-.94-2.06-.94L8.5 2.5l-.94 2.06-2.06.94zm10 10l.94 2.06.94-2.06 2.06-.94-2.06-.94-.94-2.06-.94 2.06-2.06.94z\"/><path d=\"M17.41 7.96l-1.37-1.37c-.4-.4-.92-.59-1.43-.59-.52 0-1.04.2-1.43.59L10.3 9.45l-7.72 7.72c-.78.78-.78 2.05 0 2.83L4 21.41c.39.39.9.59 1.41.59.51 0 1.02-.2 1.41-.59l7.78-7.78 2.81-2.81c.8-.78.8-2.07 0-2.86zM5.41 20L4 18.59l7.72-7.72 1.47 1.35L5.41 20z\"/>\n",
              "  </svg>\n",
              "      </button>\n",
              "      \n",
              "  <style>\n",
              "    .colab-df-container {\n",
              "      display:flex;\n",
              "      flex-wrap:wrap;\n",
              "      gap: 12px;\n",
              "    }\n",
              "\n",
              "    .colab-df-convert {\n",
              "      background-color: #E8F0FE;\n",
              "      border: none;\n",
              "      border-radius: 50%;\n",
              "      cursor: pointer;\n",
              "      display: none;\n",
              "      fill: #1967D2;\n",
              "      height: 32px;\n",
              "      padding: 0 0 0 0;\n",
              "      width: 32px;\n",
              "    }\n",
              "\n",
              "    .colab-df-convert:hover {\n",
              "      background-color: #E2EBFA;\n",
              "      box-shadow: 0px 1px 2px rgba(60, 64, 67, 0.3), 0px 1px 3px 1px rgba(60, 64, 67, 0.15);\n",
              "      fill: #174EA6;\n",
              "    }\n",
              "\n",
              "    [theme=dark] .colab-df-convert {\n",
              "      background-color: #3B4455;\n",
              "      fill: #D2E3FC;\n",
              "    }\n",
              "\n",
              "    [theme=dark] .colab-df-convert:hover {\n",
              "      background-color: #434B5C;\n",
              "      box-shadow: 0px 1px 3px 1px rgba(0, 0, 0, 0.15);\n",
              "      filter: drop-shadow(0px 1px 2px rgba(0, 0, 0, 0.3));\n",
              "      fill: #FFFFFF;\n",
              "    }\n",
              "  </style>\n",
              "\n",
              "      <script>\n",
              "        const buttonEl =\n",
              "          document.querySelector('#df-2efeab37-cd20-40da-9bc0-efda4682edde button.colab-df-convert');\n",
              "        buttonEl.style.display =\n",
              "          google.colab.kernel.accessAllowed ? 'block' : 'none';\n",
              "\n",
              "        async function convertToInteractive(key) {\n",
              "          const element = document.querySelector('#df-2efeab37-cd20-40da-9bc0-efda4682edde');\n",
              "          const dataTable =\n",
              "            await google.colab.kernel.invokeFunction('convertToInteractive',\n",
              "                                                     [key], {});\n",
              "          if (!dataTable) return;\n",
              "\n",
              "          const docLinkHtml = 'Like what you see? Visit the ' +\n",
              "            '<a target=\"_blank\" href=https://colab.research.google.com/notebooks/data_table.ipynb>data table notebook</a>'\n",
              "            + ' to learn more about interactive tables.';\n",
              "          element.innerHTML = '';\n",
              "          dataTable['output_type'] = 'display_data';\n",
              "          await google.colab.output.renderOutput(dataTable, element);\n",
              "          const docLink = document.createElement('div');\n",
              "          docLink.innerHTML = docLinkHtml;\n",
              "          element.appendChild(docLink);\n",
              "        }\n",
              "      </script>\n",
              "    </div>\n",
              "  </div>\n",
              "  "
            ]
          },
          "metadata": {},
          "execution_count": 39
        }
      ]
    },
    {
      "cell_type": "markdown",
      "source": [
        "### Saving and loading dataframe"
      ],
      "metadata": {
        "id": "q4wgZ3KoB7l0"
      }
    },
    {
      "cell_type": "code",
      "source": [
        "# saving result\n",
        "\n",
        "files_raw_df.to_pickle(\n",
        "    Path(working_folder).joinpath('files_raw_df.pkl')\n",
        ")"
      ],
      "metadata": {
        "id": "bBgBO_Y6A1AG"
      },
      "execution_count": 45,
      "outputs": []
    },
    {
      "cell_type": "code",
      "source": [
        "# saving result\n",
        "\n",
        "files_raw_df = pd.read_pickle(\n",
        "    Path(working_folder).joinpath('files_raw_df.pkl')\n",
        ")"
      ],
      "metadata": {
        "id": "B1-Ob8F_ByYJ"
      },
      "execution_count": 46,
      "outputs": []
    },
    {
      "cell_type": "code",
      "source": [
        "files_raw_df"
      ],
      "metadata": {
        "colab": {
          "base_uri": "https://localhost:8080/",
          "height": 487
        },
        "id": "OfESrwsYB5al",
        "outputId": "5433418e-a960-4472-faf4-1c6e510916e5"
      },
      "execution_count": 47,
      "outputs": [
        {
          "output_type": "execute_result",
          "data": {
            "text/plain": [
              "                                                filename category      1_idk  \\\n",
              "0      train__02_tcp_le__058__00005804__s002_2008_11_...    train  02_tcp_le   \n",
              "1      train__02_tcp_le__058__00005804__s002_2008_11_...    train  02_tcp_le   \n",
              "2      train__02_tcp_le__058__00005804__s002_2008_11_...    train  02_tcp_le   \n",
              "3      train__02_tcp_le__058__00005804__s002_2008_11_...    train  02_tcp_le   \n",
              "4      train__02_tcp_le__060__00006083__s003_2010_10_...    train  02_tcp_le   \n",
              "...                                                  ...      ...        ...   \n",
              "13265  dev__01_tcp_ar__085__00008512__s002_2012_01_09...      dev  01_tcp_ar   \n",
              "13266  dev__01_tcp_ar__085__00008512__s002_2012_01_09...      dev  01_tcp_ar   \n",
              "13267  dev__01_tcp_ar__085__00008512__s002_2012_01_09...      dev  01_tcp_ar   \n",
              "13268  dev__01_tcp_ar__085__00008512__s002_2012_01_09...      dev  01_tcp_ar   \n",
              "13269  dev__01_tcp_ar__085__00008512__s002_2012_01_09...      dev  01_tcp_ar   \n",
              "\n",
              "      2_idk     3_idk            4_idk           file_name file_ext  \n",
              "0       058  00005804  s002_2008_11_05  00005804_s002_t003      tse  \n",
              "1       058  00005804  s002_2008_11_05  00005804_s002_t004      tse  \n",
              "2       058  00005804  s002_2008_11_05  00005804_s002_t005      tse  \n",
              "3       058  00005804  s002_2008_11_05  00005804_s002_t006      tse  \n",
              "4       060  00006083  s003_2010_10_11  00006083_s003_t001      tse  \n",
              "...     ...       ...              ...                 ...      ...  \n",
              "13265   085  00008512  s002_2012_01_09  00008512_s002_t000      edf  \n",
              "13266   085  00008512  s002_2012_01_09  00008512_s002_t001      edf  \n",
              "13267   085  00008512  s002_2012_01_09  00008512_s002_t002      edf  \n",
              "13268   085  00008512  s002_2012_01_09  00008512_s002_t003      edf  \n",
              "13269   085  00008512  s002_2012_01_09  00008512_s002_t004      edf  \n",
              "\n",
              "[13270 rows x 8 columns]"
            ],
            "text/html": [
              "\n",
              "  <div id=\"df-b1ad5791-d27e-497b-a85f-1cbaa8deab9a\">\n",
              "    <div class=\"colab-df-container\">\n",
              "      <div>\n",
              "<style scoped>\n",
              "    .dataframe tbody tr th:only-of-type {\n",
              "        vertical-align: middle;\n",
              "    }\n",
              "\n",
              "    .dataframe tbody tr th {\n",
              "        vertical-align: top;\n",
              "    }\n",
              "\n",
              "    .dataframe thead th {\n",
              "        text-align: right;\n",
              "    }\n",
              "</style>\n",
              "<table border=\"1\" class=\"dataframe\">\n",
              "  <thead>\n",
              "    <tr style=\"text-align: right;\">\n",
              "      <th></th>\n",
              "      <th>filename</th>\n",
              "      <th>category</th>\n",
              "      <th>1_idk</th>\n",
              "      <th>2_idk</th>\n",
              "      <th>3_idk</th>\n",
              "      <th>4_idk</th>\n",
              "      <th>file_name</th>\n",
              "      <th>file_ext</th>\n",
              "    </tr>\n",
              "  </thead>\n",
              "  <tbody>\n",
              "    <tr>\n",
              "      <th>0</th>\n",
              "      <td>train__02_tcp_le__058__00005804__s002_2008_11_...</td>\n",
              "      <td>train</td>\n",
              "      <td>02_tcp_le</td>\n",
              "      <td>058</td>\n",
              "      <td>00005804</td>\n",
              "      <td>s002_2008_11_05</td>\n",
              "      <td>00005804_s002_t003</td>\n",
              "      <td>tse</td>\n",
              "    </tr>\n",
              "    <tr>\n",
              "      <th>1</th>\n",
              "      <td>train__02_tcp_le__058__00005804__s002_2008_11_...</td>\n",
              "      <td>train</td>\n",
              "      <td>02_tcp_le</td>\n",
              "      <td>058</td>\n",
              "      <td>00005804</td>\n",
              "      <td>s002_2008_11_05</td>\n",
              "      <td>00005804_s002_t004</td>\n",
              "      <td>tse</td>\n",
              "    </tr>\n",
              "    <tr>\n",
              "      <th>2</th>\n",
              "      <td>train__02_tcp_le__058__00005804__s002_2008_11_...</td>\n",
              "      <td>train</td>\n",
              "      <td>02_tcp_le</td>\n",
              "      <td>058</td>\n",
              "      <td>00005804</td>\n",
              "      <td>s002_2008_11_05</td>\n",
              "      <td>00005804_s002_t005</td>\n",
              "      <td>tse</td>\n",
              "    </tr>\n",
              "    <tr>\n",
              "      <th>3</th>\n",
              "      <td>train__02_tcp_le__058__00005804__s002_2008_11_...</td>\n",
              "      <td>train</td>\n",
              "      <td>02_tcp_le</td>\n",
              "      <td>058</td>\n",
              "      <td>00005804</td>\n",
              "      <td>s002_2008_11_05</td>\n",
              "      <td>00005804_s002_t006</td>\n",
              "      <td>tse</td>\n",
              "    </tr>\n",
              "    <tr>\n",
              "      <th>4</th>\n",
              "      <td>train__02_tcp_le__060__00006083__s003_2010_10_...</td>\n",
              "      <td>train</td>\n",
              "      <td>02_tcp_le</td>\n",
              "      <td>060</td>\n",
              "      <td>00006083</td>\n",
              "      <td>s003_2010_10_11</td>\n",
              "      <td>00006083_s003_t001</td>\n",
              "      <td>tse</td>\n",
              "    </tr>\n",
              "    <tr>\n",
              "      <th>...</th>\n",
              "      <td>...</td>\n",
              "      <td>...</td>\n",
              "      <td>...</td>\n",
              "      <td>...</td>\n",
              "      <td>...</td>\n",
              "      <td>...</td>\n",
              "      <td>...</td>\n",
              "      <td>...</td>\n",
              "    </tr>\n",
              "    <tr>\n",
              "      <th>13265</th>\n",
              "      <td>dev__01_tcp_ar__085__00008512__s002_2012_01_09...</td>\n",
              "      <td>dev</td>\n",
              "      <td>01_tcp_ar</td>\n",
              "      <td>085</td>\n",
              "      <td>00008512</td>\n",
              "      <td>s002_2012_01_09</td>\n",
              "      <td>00008512_s002_t000</td>\n",
              "      <td>edf</td>\n",
              "    </tr>\n",
              "    <tr>\n",
              "      <th>13266</th>\n",
              "      <td>dev__01_tcp_ar__085__00008512__s002_2012_01_09...</td>\n",
              "      <td>dev</td>\n",
              "      <td>01_tcp_ar</td>\n",
              "      <td>085</td>\n",
              "      <td>00008512</td>\n",
              "      <td>s002_2012_01_09</td>\n",
              "      <td>00008512_s002_t001</td>\n",
              "      <td>edf</td>\n",
              "    </tr>\n",
              "    <tr>\n",
              "      <th>13267</th>\n",
              "      <td>dev__01_tcp_ar__085__00008512__s002_2012_01_09...</td>\n",
              "      <td>dev</td>\n",
              "      <td>01_tcp_ar</td>\n",
              "      <td>085</td>\n",
              "      <td>00008512</td>\n",
              "      <td>s002_2012_01_09</td>\n",
              "      <td>00008512_s002_t002</td>\n",
              "      <td>edf</td>\n",
              "    </tr>\n",
              "    <tr>\n",
              "      <th>13268</th>\n",
              "      <td>dev__01_tcp_ar__085__00008512__s002_2012_01_09...</td>\n",
              "      <td>dev</td>\n",
              "      <td>01_tcp_ar</td>\n",
              "      <td>085</td>\n",
              "      <td>00008512</td>\n",
              "      <td>s002_2012_01_09</td>\n",
              "      <td>00008512_s002_t003</td>\n",
              "      <td>edf</td>\n",
              "    </tr>\n",
              "    <tr>\n",
              "      <th>13269</th>\n",
              "      <td>dev__01_tcp_ar__085__00008512__s002_2012_01_09...</td>\n",
              "      <td>dev</td>\n",
              "      <td>01_tcp_ar</td>\n",
              "      <td>085</td>\n",
              "      <td>00008512</td>\n",
              "      <td>s002_2012_01_09</td>\n",
              "      <td>00008512_s002_t004</td>\n",
              "      <td>edf</td>\n",
              "    </tr>\n",
              "  </tbody>\n",
              "</table>\n",
              "<p>13270 rows × 8 columns</p>\n",
              "</div>\n",
              "      <button class=\"colab-df-convert\" onclick=\"convertToInteractive('df-b1ad5791-d27e-497b-a85f-1cbaa8deab9a')\"\n",
              "              title=\"Convert this dataframe to an interactive table.\"\n",
              "              style=\"display:none;\">\n",
              "        \n",
              "  <svg xmlns=\"http://www.w3.org/2000/svg\" height=\"24px\"viewBox=\"0 0 24 24\"\n",
              "       width=\"24px\">\n",
              "    <path d=\"M0 0h24v24H0V0z\" fill=\"none\"/>\n",
              "    <path d=\"M18.56 5.44l.94 2.06.94-2.06 2.06-.94-2.06-.94-.94-2.06-.94 2.06-2.06.94zm-11 1L8.5 8.5l.94-2.06 2.06-.94-2.06-.94L8.5 2.5l-.94 2.06-2.06.94zm10 10l.94 2.06.94-2.06 2.06-.94-2.06-.94-.94-2.06-.94 2.06-2.06.94z\"/><path d=\"M17.41 7.96l-1.37-1.37c-.4-.4-.92-.59-1.43-.59-.52 0-1.04.2-1.43.59L10.3 9.45l-7.72 7.72c-.78.78-.78 2.05 0 2.83L4 21.41c.39.39.9.59 1.41.59.51 0 1.02-.2 1.41-.59l7.78-7.78 2.81-2.81c.8-.78.8-2.07 0-2.86zM5.41 20L4 18.59l7.72-7.72 1.47 1.35L5.41 20z\"/>\n",
              "  </svg>\n",
              "      </button>\n",
              "      \n",
              "  <style>\n",
              "    .colab-df-container {\n",
              "      display:flex;\n",
              "      flex-wrap:wrap;\n",
              "      gap: 12px;\n",
              "    }\n",
              "\n",
              "    .colab-df-convert {\n",
              "      background-color: #E8F0FE;\n",
              "      border: none;\n",
              "      border-radius: 50%;\n",
              "      cursor: pointer;\n",
              "      display: none;\n",
              "      fill: #1967D2;\n",
              "      height: 32px;\n",
              "      padding: 0 0 0 0;\n",
              "      width: 32px;\n",
              "    }\n",
              "\n",
              "    .colab-df-convert:hover {\n",
              "      background-color: #E2EBFA;\n",
              "      box-shadow: 0px 1px 2px rgba(60, 64, 67, 0.3), 0px 1px 3px 1px rgba(60, 64, 67, 0.15);\n",
              "      fill: #174EA6;\n",
              "    }\n",
              "\n",
              "    [theme=dark] .colab-df-convert {\n",
              "      background-color: #3B4455;\n",
              "      fill: #D2E3FC;\n",
              "    }\n",
              "\n",
              "    [theme=dark] .colab-df-convert:hover {\n",
              "      background-color: #434B5C;\n",
              "      box-shadow: 0px 1px 3px 1px rgba(0, 0, 0, 0.15);\n",
              "      filter: drop-shadow(0px 1px 2px rgba(0, 0, 0, 0.3));\n",
              "      fill: #FFFFFF;\n",
              "    }\n",
              "  </style>\n",
              "\n",
              "      <script>\n",
              "        const buttonEl =\n",
              "          document.querySelector('#df-b1ad5791-d27e-497b-a85f-1cbaa8deab9a button.colab-df-convert');\n",
              "        buttonEl.style.display =\n",
              "          google.colab.kernel.accessAllowed ? 'block' : 'none';\n",
              "\n",
              "        async function convertToInteractive(key) {\n",
              "          const element = document.querySelector('#df-b1ad5791-d27e-497b-a85f-1cbaa8deab9a');\n",
              "          const dataTable =\n",
              "            await google.colab.kernel.invokeFunction('convertToInteractive',\n",
              "                                                     [key], {});\n",
              "          if (!dataTable) return;\n",
              "\n",
              "          const docLinkHtml = 'Like what you see? Visit the ' +\n",
              "            '<a target=\"_blank\" href=https://colab.research.google.com/notebooks/data_table.ipynb>data table notebook</a>'\n",
              "            + ' to learn more about interactive tables.';\n",
              "          element.innerHTML = '';\n",
              "          dataTable['output_type'] = 'display_data';\n",
              "          await google.colab.output.renderOutput(dataTable, element);\n",
              "          const docLink = document.createElement('div');\n",
              "          docLink.innerHTML = docLinkHtml;\n",
              "          element.appendChild(docLink);\n",
              "        }\n",
              "      </script>\n",
              "    </div>\n",
              "  </div>\n",
              "  "
            ]
          },
          "metadata": {},
          "execution_count": 47
        }
      ]
    },
    {
      "cell_type": "markdown",
      "source": [
        "### Putting all `.edf` objects in a dict"
      ],
      "metadata": {
        "id": "HV9R2JgjTAYb"
      }
    },
    {
      "cell_type": "code",
      "source": [
        "files_raw_df['filename']"
      ],
      "metadata": {
        "colab": {
          "base_uri": "https://localhost:8080/"
        },
        "id": "kdKVjxubCRmJ",
        "outputId": "b199d8fb-bfbc-445f-8837-08dce5b4a5db"
      },
      "execution_count": 55,
      "outputs": [
        {
          "output_type": "execute_result",
          "data": {
            "text/plain": [
              "0        train__02_tcp_le__058__00005804__s002_2008_11_...\n",
              "1        train__02_tcp_le__058__00005804__s002_2008_11_...\n",
              "2        train__02_tcp_le__058__00005804__s002_2008_11_...\n",
              "3        train__02_tcp_le__058__00005804__s002_2008_11_...\n",
              "4        train__02_tcp_le__060__00006083__s003_2010_10_...\n",
              "                               ...                        \n",
              "13265    dev__01_tcp_ar__085__00008512__s002_2012_01_09...\n",
              "13266    dev__01_tcp_ar__085__00008512__s002_2012_01_09...\n",
              "13267    dev__01_tcp_ar__085__00008512__s002_2012_01_09...\n",
              "13268    dev__01_tcp_ar__085__00008512__s002_2012_01_09...\n",
              "13269    dev__01_tcp_ar__085__00008512__s002_2012_01_09...\n",
              "Name: filename, Length: 13270, dtype: object"
            ]
          },
          "metadata": {},
          "execution_count": 55
        }
      ]
    },
    {
      "cell_type": "code",
      "source": [
        "file_path = drive_tuh_eeg_loc.joinpath(files_raw_df['filename'][7332])\n",
        "file_path"
      ],
      "metadata": {
        "colab": {
          "base_uri": "https://localhost:8080/"
        },
        "id": "cBf4FV3SMt2S",
        "outputId": "7b68dd97-de43-4516-d142-f504c9b9a514"
      },
      "execution_count": 106,
      "outputs": [
        {
          "output_type": "execute_result",
          "data": {
            "text/plain": [
              "PosixPath('/content/drive/MyDrive/Classes/22S-PHYS-667/project/isip_tuh_eeg/train__02_tcp_le__053__00005347__s001_2008_11_24__00005347_s001_t001.edf')"
            ]
          },
          "metadata": {},
          "execution_count": 106
        }
      ]
    },
    {
      "cell_type": "code",
      "source": [
        "edf_fnames_list = files_raw_df[\n",
        "  files_raw_df['file_ext'] == 'edf'\n",
        "]['filename']\n",
        "\n",
        "raw_files_dict = dict()\n",
        "for fname in tqdm(edf_fnames_list[:50]):\n",
        "  data_obj = mne.io.read_raw_edf(\n",
        "    file_path,\n",
        "    verbose=False,\n",
        "  )\n",
        "  raw_files_dict[fname] = data_obj"
      ],
      "metadata": {
        "colab": {
          "base_uri": "https://localhost:8080/"
        },
        "id": "l_B9ejLoQN16",
        "outputId": "18fb058b-b27e-4d10-b8f8-4a9d479c6e3d"
      },
      "execution_count": 120,
      "outputs": [
        {
          "output_type": "stream",
          "name": "stderr",
          "text": [
            "100%|██████████| 50/50 [00:00<00:00, 106.44it/s]\n"
          ]
        }
      ]
    },
    {
      "cell_type": "code",
      "source": [
        "## access by filename\n",
        "\n",
        "raw_files_dict[\n",
        "  'train__03_tcp_ar_a__072__00007221__s003_2010_11_01__00007221_s003_t004.edf'\n",
        "]"
      ],
      "metadata": {
        "colab": {
          "base_uri": "https://localhost:8080/",
          "height": 297
        },
        "id": "3JyQh1mqRo_Y",
        "outputId": "77703eb9-a4a3-44c4-e916-19079a0b9a00"
      },
      "execution_count": 123,
      "outputs": [
        {
          "output_type": "execute_result",
          "data": {
            "text/plain": [
              "<RawEDF | train__02_tcp_le__053__00005347__s001_2008_11_24__00005347_s001_t001.edf, 41 x 234000 (936.0 s), ~44 kB, data not loaded>"
            ],
            "text/html": [
              "<table class=\"table table-hover table-striped table-sm table-responsive small\">\n",
              "    <tr>\n",
              "        <th>Measurement date</th>\n",
              "        \n",
              "        <td>November 24, 2008  13:24:15 GMT</td>\n",
              "        \n",
              "    </tr>\n",
              "    <tr>\n",
              "        <th>Experimenter</th>\n",
              "        \n",
              "        <td>Unknown</td>\n",
              "        \n",
              "    </tr>\n",
              "        <th>Participant</th>\n",
              "        \n",
              "        <td>Unknown</td>\n",
              "        \n",
              "    </tr>\n",
              "    <tr>\n",
              "        <th>Digitized points</th>\n",
              "        \n",
              "        <td>0 points</td>\n",
              "        \n",
              "    </tr>\n",
              "    <tr>\n",
              "        <th>Good channels</th>\n",
              "        <td>41 EEG</td>\n",
              "    </tr>\n",
              "    <tr>\n",
              "        <th>Bad channels</th>\n",
              "        <td>None</td>\n",
              "    </tr>\n",
              "    <tr>\n",
              "        <th>EOG channels</th>\n",
              "        <td>Not available</td>\n",
              "    </tr>\n",
              "    <tr>\n",
              "        <th>ECG channels</th>\n",
              "        <td>Not available</td>\n",
              "    \n",
              "    <tr>\n",
              "        <th>Sampling frequency</th>\n",
              "        <td>250.00 Hz</td>\n",
              "    </tr>\n",
              "    \n",
              "    \n",
              "    <tr>\n",
              "        <th>Highpass</th>\n",
              "        <td>0.00 Hz</td>\n",
              "    </tr>\n",
              "    \n",
              "    \n",
              "    <tr>\n",
              "        <th>Lowpass</th>\n",
              "        <td>125.00 Hz</td>\n",
              "    </tr>\n",
              "    \n",
              "    \n",
              "    \n",
              "    <tr>\n",
              "        <th>Filenames</th>\n",
              "        <td>train__02_tcp_le__053__00005347__s001_2008_11_24__00005347_s001_t001.edf</td>\n",
              "    </tr>\n",
              "    \n",
              "    <tr>\n",
              "        <th>Duration</th>\n",
              "        <td>00:15:35 (HH:MM:SS)</td>\n",
              "    </tr>\n",
              "</table>"
            ]
          },
          "metadata": {},
          "execution_count": 123
        }
      ]
    },
    {
      "cell_type": "code",
      "source": [
        ""
      ],
      "metadata": {
        "id": "T0lMBujiSCat"
      },
      "execution_count": null,
      "outputs": []
    }
  ]
}