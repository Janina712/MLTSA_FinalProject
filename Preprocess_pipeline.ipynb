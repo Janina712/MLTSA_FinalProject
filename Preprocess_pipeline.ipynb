{
  "nbformat": 4,
  "nbformat_minor": 0,
  "metadata": {
    "colab": {
      "name": "Preprocess pipeline.ipynb",
      "provenance": [],
      "authorship_tag": "ABX9TyMpQBWp7dG1WlbzCNvzHMxy",
      "include_colab_link": true
    },
    "kernelspec": {
      "name": "python3",
      "display_name": "Python 3"
    },
    "language_info": {
      "name": "python"
    }
  },
  "cells": [
    {
      "cell_type": "markdown",
      "metadata": {
        "id": "view-in-github",
        "colab_type": "text"
      },
      "source": [
        "<a href=\"https://colab.research.google.com/github/Janina712/MLTSA_FinalProject/blob/main/Preprocess_pipeline.ipynb\" target=\"_parent\"><img src=\"https://colab.research.google.com/assets/colab-badge.svg\" alt=\"Open In Colab\"/></a>"
      ]
    },
    {
      "cell_type": "code",
      "execution_count": 1,
      "metadata": {
        "colab": {
          "base_uri": "https://localhost:8080/"
        },
        "id": "7cUEYvffHYNh",
        "outputId": "53738162-4e5e-4241-8310-3af7c6fd4fdb"
      },
      "outputs": [
        {
          "output_type": "stream",
          "name": "stdout",
          "text": [
            "Collecting mne\n",
            "  Downloading mne-1.0.2-py3-none-any.whl (7.5 MB)\n",
            "\u001b[K     |████████████████████████████████| 7.5 MB 5.0 MB/s \n",
            "\u001b[?25hRequirement already satisfied: matplotlib in /usr/local/lib/python3.7/dist-packages (3.2.2)\n",
            "Requirement already satisfied: packaging in /usr/local/lib/python3.7/dist-packages (from mne) (21.3)\n",
            "Requirement already satisfied: decorator in /usr/local/lib/python3.7/dist-packages (from mne) (4.4.2)\n",
            "Requirement already satisfied: numpy>=1.15.4 in /usr/local/lib/python3.7/dist-packages (from mne) (1.21.6)\n",
            "Requirement already satisfied: tqdm in /usr/local/lib/python3.7/dist-packages (from mne) (4.64.0)\n",
            "Requirement already satisfied: jinja2 in /usr/local/lib/python3.7/dist-packages (from mne) (2.11.3)\n",
            "Requirement already satisfied: scipy>=1.1.0 in /usr/local/lib/python3.7/dist-packages (from mne) (1.4.1)\n",
            "Requirement already satisfied: pooch>=1.5 in /usr/local/lib/python3.7/dist-packages (from mne) (1.6.0)\n",
            "Requirement already satisfied: appdirs>=1.3.0 in /usr/local/lib/python3.7/dist-packages (from pooch>=1.5->mne) (1.4.4)\n",
            "Requirement already satisfied: requests>=2.19.0 in /usr/local/lib/python3.7/dist-packages (from pooch>=1.5->mne) (2.23.0)\n",
            "Requirement already satisfied: pyparsing!=3.0.5,>=2.0.2 in /usr/local/lib/python3.7/dist-packages (from packaging->mne) (3.0.8)\n",
            "Requirement already satisfied: urllib3!=1.25.0,!=1.25.1,<1.26,>=1.21.1 in /usr/local/lib/python3.7/dist-packages (from requests>=2.19.0->pooch>=1.5->mne) (1.24.3)\n",
            "Requirement already satisfied: certifi>=2017.4.17 in /usr/local/lib/python3.7/dist-packages (from requests>=2.19.0->pooch>=1.5->mne) (2021.10.8)\n",
            "Requirement already satisfied: idna<3,>=2.5 in /usr/local/lib/python3.7/dist-packages (from requests>=2.19.0->pooch>=1.5->mne) (2.10)\n",
            "Requirement already satisfied: chardet<4,>=3.0.2 in /usr/local/lib/python3.7/dist-packages (from requests>=2.19.0->pooch>=1.5->mne) (3.0.4)\n",
            "Requirement already satisfied: cycler>=0.10 in /usr/local/lib/python3.7/dist-packages (from matplotlib) (0.11.0)\n",
            "Requirement already satisfied: kiwisolver>=1.0.1 in /usr/local/lib/python3.7/dist-packages (from matplotlib) (1.4.2)\n",
            "Requirement already satisfied: python-dateutil>=2.1 in /usr/local/lib/python3.7/dist-packages (from matplotlib) (2.8.2)\n",
            "Requirement already satisfied: typing-extensions in /usr/local/lib/python3.7/dist-packages (from kiwisolver>=1.0.1->matplotlib) (4.2.0)\n",
            "Requirement already satisfied: six>=1.5 in /usr/local/lib/python3.7/dist-packages (from python-dateutil>=2.1->matplotlib) (1.15.0)\n",
            "Requirement already satisfied: MarkupSafe>=0.23 in /usr/local/lib/python3.7/dist-packages (from jinja2->mne) (2.0.1)\n",
            "Installing collected packages: mne\n",
            "Successfully installed mne-1.0.2\n"
          ]
        }
      ],
      "source": [
        "pip install mne matplotlib"
      ]
    },
    {
      "cell_type": "code",
      "source": [
        "import numpy as np\n",
        "import mne \n",
        "import pandas as pd\n",
        "import os\n",
        "import pylab as pl\n",
        "import re"
      ],
      "metadata": {
        "id": "AgJ5NQMLIGfv"
      },
      "execution_count": 58,
      "outputs": []
    },
    {
      "cell_type": "code",
      "source": [
        "from google.colab import drive\n",
        "drive.mount('/content/drive')"
      ],
      "metadata": {
        "colab": {
          "base_uri": "https://localhost:8080/"
        },
        "id": "7JlvVOYzIJey",
        "outputId": "9d9194ec-451b-45b3-8fab-590c33cf12ba"
      },
      "execution_count": 3,
      "outputs": [
        {
          "output_type": "stream",
          "name": "stdout",
          "text": [
            "Mounted at /content/drive\n"
          ]
        }
      ]
    },
    {
      "cell_type": "code",
      "source": [
        "cd /content/drive/MyDrive/MLTSA22/Final_Project"
      ],
      "metadata": {
        "colab": {
          "base_uri": "https://localhost:8080/"
        },
        "id": "IUBvlwiwIQii",
        "outputId": "bba44472-0dd6-4a15-ebbe-fa27ceaa0d61"
      },
      "execution_count": 4,
      "outputs": [
        {
          "output_type": "stream",
          "name": "stdout",
          "text": [
            "/content/drive/MyDrive/MLTSA22/Final_Project\n"
          ]
        }
      ]
    },
    {
      "cell_type": "code",
      "source": [
        "!ls /content/drive/MyDrive/MLTSA22/Final_Project"
      ],
      "metadata": {
        "colab": {
          "base_uri": "https://localhost:8080/"
        },
        "id": "hU1CEf1ZIQ06",
        "outputId": "9d651fae-7da0-401c-f28e-1b3de18ed262"
      },
      "execution_count": 5,
      "outputs": [
        {
          "output_type": "stream",
          "name": "stdout",
          "text": [
            "00000258_s002_t000.edf\n",
            "all_tuh_eeg_seizure_links.txt\n",
            "dev__01_tcp_ar__002__00000258__s002_2003_07_21__00000258_s002_t000.edf\n",
            "dev__01_tcp_ar__002__00000258__s003_2003_07_22__00000258_s003_t001.edf\n"
          ]
        }
      ]
    },
    {
      "cell_type": "code",
      "source": [
        "file = ['00000258_s002_t000.edf', 'dev__01_tcp_ar__002__00000258__s002_2003_07_21__00000258_s002_t000.edf',\n",
        "        'dev__01_tcp_ar__002__00000258__s003_2003_07_22__00000258_s003_t001.edf']"
      ],
      "metadata": {
        "id": "ejQz_4sKNOiU"
      },
      "execution_count": 34,
      "outputs": []
    },
    {
      "cell_type": "code",
      "source": [
        "def preprocessing(file):\n",
        "  #read the data\n",
        "  data = mne.io.read_raw_edf(file)\n",
        "  data = data.copy().load_data()\n",
        "  #notch filter 60 Hz - to get rid of the noise because of the power outlets\n",
        "  eeg_picks = mne.pick_types(data.info, eeg=True)\n",
        "  freqs = []\n",
        "  for i in range(0, int(data.info['sfreq']/2), 60):\n",
        "    if i != 0:\n",
        "      freqs.append(i)\n",
        "  data_notch = data.notch_filter(freqs=np.asarray(freqs), picks=eeg_picks)\n",
        "\n",
        "  #high pass filter\n",
        "  data_filter = data_notch.filter(l_freq=0.2, h_freq=None)\n",
        "\n",
        "  #downsampling\n",
        "  data_done = data_filter.resample(sfreq=200)\n",
        "  return data_done"
      ],
      "metadata": {
        "id": "K0jUSm0iISKg"
      },
      "execution_count": 144,
      "outputs": []
    },
    {
      "cell_type": "code",
      "source": [
        "data_first = preprocessing(file[0])\n",
        "df_first = pd.DataFrame(data_first.get_data())\n",
        "df_first['channel'] = data_first.ch_names\n",
        "df_first['patient_id'] = file[0][-22:-14]\n",
        "for i in range(1, len(file)):\n",
        "  data = preprocessing(file[i])\n",
        "  df = data.get_data()\n",
        "  df = pd.DataFrame(df)\n",
        "  df['channel'] = data.ch_names\n",
        "  df['patient_id'] = file[i][-22:-14]\n",
        "  df_first = pd.concat([df_first, df])"
      ],
      "metadata": {
        "colab": {
          "base_uri": "https://localhost:8080/"
        },
        "id": "Z26Xdbwzq-TR",
        "outputId": "5c918009-30f3-47de-eb89-64fa7024036d"
      },
      "execution_count": 181,
      "outputs": [
        {
          "output_type": "stream",
          "name": "stdout",
          "text": [
            "Extracting EDF parameters from /content/drive/MyDrive/MLTSA22/Final_Project/00000258_s002_t000.edf...\n",
            "EDF file detected\n",
            "Setting channel info structure...\n",
            "Creating raw.info structure...\n",
            "Reading 0 ... 7999  =      0.000 ...    19.997 secs...\n",
            "Setting up band-stop filter\n",
            "\n",
            "FIR filter parameters\n",
            "---------------------\n",
            "Designing a one-pass, zero-phase, non-causal bandstop filter:\n",
            "- Windowed time-domain design (firwin) method\n",
            "- Hamming window with 0.0194 passband ripple and 53 dB stopband attenuation\n",
            "- Lower transition bandwidth: 0.50 Hz\n",
            "- Upper transition bandwidth: 0.50 Hz\n",
            "- Filter length: 2641 samples (6.603 sec)\n",
            "\n",
            "Filtering raw data in 1 contiguous segment\n",
            "Setting up high-pass filter at 0.2 Hz\n",
            "\n",
            "FIR filter parameters\n",
            "---------------------\n",
            "Designing a one-pass, zero-phase, non-causal highpass filter:\n",
            "- Windowed time-domain design (firwin) method\n",
            "- Hamming window with 0.0194 passband ripple and 53 dB stopband attenuation\n",
            "- Lower passband edge: 0.20\n",
            "- Lower transition bandwidth: 0.20 Hz (-6 dB cutoff frequency: 0.10 Hz)\n",
            "- Filter length: 6601 samples (16.503 sec)\n",
            "\n",
            "Extracting EDF parameters from /content/drive/MyDrive/MLTSA22/Final_Project/dev__01_tcp_ar__002__00000258__s002_2003_07_21__00000258_s002_t000.edf...\n",
            "EDF file detected\n",
            "Setting channel info structure...\n",
            "Creating raw.info structure...\n",
            "Reading 0 ... 7999  =      0.000 ...    19.997 secs...\n",
            "Setting up band-stop filter\n",
            "\n",
            "FIR filter parameters\n",
            "---------------------\n",
            "Designing a one-pass, zero-phase, non-causal bandstop filter:\n",
            "- Windowed time-domain design (firwin) method\n",
            "- Hamming window with 0.0194 passband ripple and 53 dB stopband attenuation\n",
            "- Lower transition bandwidth: 0.50 Hz\n",
            "- Upper transition bandwidth: 0.50 Hz\n",
            "- Filter length: 2641 samples (6.603 sec)\n",
            "\n",
            "Filtering raw data in 1 contiguous segment\n",
            "Setting up high-pass filter at 0.2 Hz\n",
            "\n",
            "FIR filter parameters\n",
            "---------------------\n",
            "Designing a one-pass, zero-phase, non-causal highpass filter:\n",
            "- Windowed time-domain design (firwin) method\n",
            "- Hamming window with 0.0194 passband ripple and 53 dB stopband attenuation\n",
            "- Lower passband edge: 0.20\n",
            "- Lower transition bandwidth: 0.20 Hz (-6 dB cutoff frequency: 0.10 Hz)\n",
            "- Filter length: 6601 samples (16.503 sec)\n",
            "\n",
            "Extracting EDF parameters from /content/drive/MyDrive/MLTSA22/Final_Project/dev__01_tcp_ar__002__00000258__s003_2003_07_22__00000258_s003_t001.edf...\n",
            "EDF file detected\n",
            "Setting channel info structure...\n",
            "Creating raw.info structure...\n",
            "Reading 0 ... 89599  =      0.000 ...   223.998 secs...\n",
            "Setting up band-stop filter\n",
            "\n",
            "FIR filter parameters\n",
            "---------------------\n",
            "Designing a one-pass, zero-phase, non-causal bandstop filter:\n",
            "- Windowed time-domain design (firwin) method\n",
            "- Hamming window with 0.0194 passband ripple and 53 dB stopband attenuation\n",
            "- Lower transition bandwidth: 0.50 Hz\n",
            "- Upper transition bandwidth: 0.50 Hz\n",
            "- Filter length: 2641 samples (6.603 sec)\n",
            "\n",
            "Filtering raw data in 1 contiguous segment\n",
            "Setting up high-pass filter at 0.2 Hz\n",
            "\n",
            "FIR filter parameters\n",
            "---------------------\n",
            "Designing a one-pass, zero-phase, non-causal highpass filter:\n",
            "- Windowed time-domain design (firwin) method\n",
            "- Hamming window with 0.0194 passband ripple and 53 dB stopband attenuation\n",
            "- Lower passband edge: 0.20\n",
            "- Lower transition bandwidth: 0.20 Hz (-6 dB cutoff frequency: 0.10 Hz)\n",
            "- Filter length: 6601 samples (16.503 sec)\n",
            "\n"
          ]
        }
      ]
    },
    {
      "cell_type": "code",
      "source": [
        "df_first.head()"
      ],
      "metadata": {
        "colab": {
          "base_uri": "https://localhost:8080/",
          "height": 386
        },
        "id": "CjZ7PmGirH0R",
        "outputId": "ea00474f-6321-413b-d793-5f7e79e70b92"
      },
      "execution_count": 183,
      "outputs": [
        {
          "output_type": "execute_result",
          "data": {
            "text/plain": [
              "          0         1         2         3         4             5      \\\n",
              "0 -4.379170e-09 -0.000010 -0.000013 -0.000010 -0.000014 -2.185444e-05   \n",
              "1 -4.454867e-09 -0.000012 -0.000016 -0.000012 -0.000019 -2.526137e-05   \n",
              "2 -2.859807e-08 -0.000005 -0.000004 -0.000008 -0.000006 -1.352105e-05   \n",
              "3 -8.383492e-09 -0.000004 -0.000004  0.000004  0.000003  9.815249e-07   \n",
              "4 -6.380791e-11 -0.000005 -0.000009 -0.000003 -0.000002 -8.697765e-06   \n",
              "\n",
              "      6         7         8         9      ...  44790  44791  44792  44793  \\\n",
              "0 -0.000014 -0.000013 -0.000023 -0.000022  ...    NaN    NaN    NaN    NaN   \n",
              "1 -0.000020 -0.000020 -0.000025 -0.000028  ...    NaN    NaN    NaN    NaN   \n",
              "2 -0.000006 -0.000007 -0.000014 -0.000014  ...    NaN    NaN    NaN    NaN   \n",
              "3  0.000007  0.000011  0.000005  0.000004  ...    NaN    NaN    NaN    NaN   \n",
              "4 -0.000005 -0.000005 -0.000008 -0.000007  ...    NaN    NaN    NaN    NaN   \n",
              "\n",
              "   44794  44795  44796  44797  44798  44799  \n",
              "0    NaN    NaN    NaN    NaN    NaN    NaN  \n",
              "1    NaN    NaN    NaN    NaN    NaN    NaN  \n",
              "2    NaN    NaN    NaN    NaN    NaN    NaN  \n",
              "3    NaN    NaN    NaN    NaN    NaN    NaN  \n",
              "4    NaN    NaN    NaN    NaN    NaN    NaN  \n",
              "\n",
              "[5 rows x 44802 columns]"
            ],
            "text/html": [
              "\n",
              "  <div id=\"df-c242379b-b697-4b0e-ad16-8fe72a04b2e3\">\n",
              "    <div class=\"colab-df-container\">\n",
              "      <div>\n",
              "<style scoped>\n",
              "    .dataframe tbody tr th:only-of-type {\n",
              "        vertical-align: middle;\n",
              "    }\n",
              "\n",
              "    .dataframe tbody tr th {\n",
              "        vertical-align: top;\n",
              "    }\n",
              "\n",
              "    .dataframe thead th {\n",
              "        text-align: right;\n",
              "    }\n",
              "</style>\n",
              "<table border=\"1\" class=\"dataframe\">\n",
              "  <thead>\n",
              "    <tr style=\"text-align: right;\">\n",
              "      <th></th>\n",
              "      <th>0</th>\n",
              "      <th>1</th>\n",
              "      <th>2</th>\n",
              "      <th>3</th>\n",
              "      <th>4</th>\n",
              "      <th>5</th>\n",
              "      <th>6</th>\n",
              "      <th>7</th>\n",
              "      <th>8</th>\n",
              "      <th>9</th>\n",
              "      <th>...</th>\n",
              "      <th>44790</th>\n",
              "      <th>44791</th>\n",
              "      <th>44792</th>\n",
              "      <th>44793</th>\n",
              "      <th>44794</th>\n",
              "      <th>44795</th>\n",
              "      <th>44796</th>\n",
              "      <th>44797</th>\n",
              "      <th>44798</th>\n",
              "      <th>44799</th>\n",
              "    </tr>\n",
              "  </thead>\n",
              "  <tbody>\n",
              "    <tr>\n",
              "      <th>0</th>\n",
              "      <td>-4.379170e-09</td>\n",
              "      <td>-0.000010</td>\n",
              "      <td>-0.000013</td>\n",
              "      <td>-0.000010</td>\n",
              "      <td>-0.000014</td>\n",
              "      <td>-2.185444e-05</td>\n",
              "      <td>-0.000014</td>\n",
              "      <td>-0.000013</td>\n",
              "      <td>-0.000023</td>\n",
              "      <td>-0.000022</td>\n",
              "      <td>...</td>\n",
              "      <td>NaN</td>\n",
              "      <td>NaN</td>\n",
              "      <td>NaN</td>\n",
              "      <td>NaN</td>\n",
              "      <td>NaN</td>\n",
              "      <td>NaN</td>\n",
              "      <td>NaN</td>\n",
              "      <td>NaN</td>\n",
              "      <td>NaN</td>\n",
              "      <td>NaN</td>\n",
              "    </tr>\n",
              "    <tr>\n",
              "      <th>1</th>\n",
              "      <td>-4.454867e-09</td>\n",
              "      <td>-0.000012</td>\n",
              "      <td>-0.000016</td>\n",
              "      <td>-0.000012</td>\n",
              "      <td>-0.000019</td>\n",
              "      <td>-2.526137e-05</td>\n",
              "      <td>-0.000020</td>\n",
              "      <td>-0.000020</td>\n",
              "      <td>-0.000025</td>\n",
              "      <td>-0.000028</td>\n",
              "      <td>...</td>\n",
              "      <td>NaN</td>\n",
              "      <td>NaN</td>\n",
              "      <td>NaN</td>\n",
              "      <td>NaN</td>\n",
              "      <td>NaN</td>\n",
              "      <td>NaN</td>\n",
              "      <td>NaN</td>\n",
              "      <td>NaN</td>\n",
              "      <td>NaN</td>\n",
              "      <td>NaN</td>\n",
              "    </tr>\n",
              "    <tr>\n",
              "      <th>2</th>\n",
              "      <td>-2.859807e-08</td>\n",
              "      <td>-0.000005</td>\n",
              "      <td>-0.000004</td>\n",
              "      <td>-0.000008</td>\n",
              "      <td>-0.000006</td>\n",
              "      <td>-1.352105e-05</td>\n",
              "      <td>-0.000006</td>\n",
              "      <td>-0.000007</td>\n",
              "      <td>-0.000014</td>\n",
              "      <td>-0.000014</td>\n",
              "      <td>...</td>\n",
              "      <td>NaN</td>\n",
              "      <td>NaN</td>\n",
              "      <td>NaN</td>\n",
              "      <td>NaN</td>\n",
              "      <td>NaN</td>\n",
              "      <td>NaN</td>\n",
              "      <td>NaN</td>\n",
              "      <td>NaN</td>\n",
              "      <td>NaN</td>\n",
              "      <td>NaN</td>\n",
              "    </tr>\n",
              "    <tr>\n",
              "      <th>3</th>\n",
              "      <td>-8.383492e-09</td>\n",
              "      <td>-0.000004</td>\n",
              "      <td>-0.000004</td>\n",
              "      <td>0.000004</td>\n",
              "      <td>0.000003</td>\n",
              "      <td>9.815249e-07</td>\n",
              "      <td>0.000007</td>\n",
              "      <td>0.000011</td>\n",
              "      <td>0.000005</td>\n",
              "      <td>0.000004</td>\n",
              "      <td>...</td>\n",
              "      <td>NaN</td>\n",
              "      <td>NaN</td>\n",
              "      <td>NaN</td>\n",
              "      <td>NaN</td>\n",
              "      <td>NaN</td>\n",
              "      <td>NaN</td>\n",
              "      <td>NaN</td>\n",
              "      <td>NaN</td>\n",
              "      <td>NaN</td>\n",
              "      <td>NaN</td>\n",
              "    </tr>\n",
              "    <tr>\n",
              "      <th>4</th>\n",
              "      <td>-6.380791e-11</td>\n",
              "      <td>-0.000005</td>\n",
              "      <td>-0.000009</td>\n",
              "      <td>-0.000003</td>\n",
              "      <td>-0.000002</td>\n",
              "      <td>-8.697765e-06</td>\n",
              "      <td>-0.000005</td>\n",
              "      <td>-0.000005</td>\n",
              "      <td>-0.000008</td>\n",
              "      <td>-0.000007</td>\n",
              "      <td>...</td>\n",
              "      <td>NaN</td>\n",
              "      <td>NaN</td>\n",
              "      <td>NaN</td>\n",
              "      <td>NaN</td>\n",
              "      <td>NaN</td>\n",
              "      <td>NaN</td>\n",
              "      <td>NaN</td>\n",
              "      <td>NaN</td>\n",
              "      <td>NaN</td>\n",
              "      <td>NaN</td>\n",
              "    </tr>\n",
              "  </tbody>\n",
              "</table>\n",
              "<p>5 rows × 44802 columns</p>\n",
              "</div>\n",
              "      <button class=\"colab-df-convert\" onclick=\"convertToInteractive('df-c242379b-b697-4b0e-ad16-8fe72a04b2e3')\"\n",
              "              title=\"Convert this dataframe to an interactive table.\"\n",
              "              style=\"display:none;\">\n",
              "        \n",
              "  <svg xmlns=\"http://www.w3.org/2000/svg\" height=\"24px\"viewBox=\"0 0 24 24\"\n",
              "       width=\"24px\">\n",
              "    <path d=\"M0 0h24v24H0V0z\" fill=\"none\"/>\n",
              "    <path d=\"M18.56 5.44l.94 2.06.94-2.06 2.06-.94-2.06-.94-.94-2.06-.94 2.06-2.06.94zm-11 1L8.5 8.5l.94-2.06 2.06-.94-2.06-.94L8.5 2.5l-.94 2.06-2.06.94zm10 10l.94 2.06.94-2.06 2.06-.94-2.06-.94-.94-2.06-.94 2.06-2.06.94z\"/><path d=\"M17.41 7.96l-1.37-1.37c-.4-.4-.92-.59-1.43-.59-.52 0-1.04.2-1.43.59L10.3 9.45l-7.72 7.72c-.78.78-.78 2.05 0 2.83L4 21.41c.39.39.9.59 1.41.59.51 0 1.02-.2 1.41-.59l7.78-7.78 2.81-2.81c.8-.78.8-2.07 0-2.86zM5.41 20L4 18.59l7.72-7.72 1.47 1.35L5.41 20z\"/>\n",
              "  </svg>\n",
              "      </button>\n",
              "      \n",
              "  <style>\n",
              "    .colab-df-container {\n",
              "      display:flex;\n",
              "      flex-wrap:wrap;\n",
              "      gap: 12px;\n",
              "    }\n",
              "\n",
              "    .colab-df-convert {\n",
              "      background-color: #E8F0FE;\n",
              "      border: none;\n",
              "      border-radius: 50%;\n",
              "      cursor: pointer;\n",
              "      display: none;\n",
              "      fill: #1967D2;\n",
              "      height: 32px;\n",
              "      padding: 0 0 0 0;\n",
              "      width: 32px;\n",
              "    }\n",
              "\n",
              "    .colab-df-convert:hover {\n",
              "      background-color: #E2EBFA;\n",
              "      box-shadow: 0px 1px 2px rgba(60, 64, 67, 0.3), 0px 1px 3px 1px rgba(60, 64, 67, 0.15);\n",
              "      fill: #174EA6;\n",
              "    }\n",
              "\n",
              "    [theme=dark] .colab-df-convert {\n",
              "      background-color: #3B4455;\n",
              "      fill: #D2E3FC;\n",
              "    }\n",
              "\n",
              "    [theme=dark] .colab-df-convert:hover {\n",
              "      background-color: #434B5C;\n",
              "      box-shadow: 0px 1px 3px 1px rgba(0, 0, 0, 0.15);\n",
              "      filter: drop-shadow(0px 1px 2px rgba(0, 0, 0, 0.3));\n",
              "      fill: #FFFFFF;\n",
              "    }\n",
              "  </style>\n",
              "\n",
              "      <script>\n",
              "        const buttonEl =\n",
              "          document.querySelector('#df-c242379b-b697-4b0e-ad16-8fe72a04b2e3 button.colab-df-convert');\n",
              "        buttonEl.style.display =\n",
              "          google.colab.kernel.accessAllowed ? 'block' : 'none';\n",
              "\n",
              "        async function convertToInteractive(key) {\n",
              "          const element = document.querySelector('#df-c242379b-b697-4b0e-ad16-8fe72a04b2e3');\n",
              "          const dataTable =\n",
              "            await google.colab.kernel.invokeFunction('convertToInteractive',\n",
              "                                                     [key], {});\n",
              "          if (!dataTable) return;\n",
              "\n",
              "          const docLinkHtml = 'Like what you see? Visit the ' +\n",
              "            '<a target=\"_blank\" href=https://colab.research.google.com/notebooks/data_table.ipynb>data table notebook</a>'\n",
              "            + ' to learn more about interactive tables.';\n",
              "          element.innerHTML = '';\n",
              "          dataTable['output_type'] = 'display_data';\n",
              "          await google.colab.output.renderOutput(dataTable, element);\n",
              "          const docLink = document.createElement('div');\n",
              "          docLink.innerHTML = docLinkHtml;\n",
              "          element.appendChild(docLink);\n",
              "        }\n",
              "      </script>\n",
              "    </div>\n",
              "  </div>\n",
              "  "
            ]
          },
          "metadata": {},
          "execution_count": 183
        }
      ]
    },
    {
      "cell_type": "code",
      "source": [
        "df_first.shape"
      ],
      "metadata": {
        "colab": {
          "base_uri": "https://localhost:8080/"
        },
        "id": "_paHFrqKrN7a",
        "outputId": "06c746bd-ac49-48a5-a7ad-79b9f914206d"
      },
      "execution_count": 184,
      "outputs": [
        {
          "output_type": "execute_result",
          "data": {
            "text/plain": [
              "(96, 44802)"
            ]
          },
          "metadata": {},
          "execution_count": 184
        }
      ]
    },
    {
      "cell_type": "code",
      "source": [
        "df_first.columns"
      ],
      "metadata": {
        "colab": {
          "base_uri": "https://localhost:8080/"
        },
        "id": "zkMy7ImMrQ2X",
        "outputId": "b6cbe9cb-30e4-41a5-99cd-5ace0326fe56"
      },
      "execution_count": 185,
      "outputs": [
        {
          "output_type": "execute_result",
          "data": {
            "text/plain": [
              "Index([    0,     1,     2,     3,     4,     5,     6,     7,     8,     9,\n",
              "       ...\n",
              "       44790, 44791, 44792, 44793, 44794, 44795, 44796, 44797, 44798, 44799],\n",
              "      dtype='object', length=44802)"
            ]
          },
          "metadata": {},
          "execution_count": 185
        }
      ]
    },
    {
      "cell_type": "code",
      "source": [
        "#DOESN'T WORK PROPERLY\n",
        "data_first = preprocessing(file[0])\n",
        "df_first = pd.DataFrame(data_first.get_data())\n",
        "df_first['channel'] = data_first.ch_names\n",
        "df_first['patient_id'] = file[0][-22:-14]\n",
        "baseline_samples = data_first.n_times\n",
        "for i in range(1, len(file)):\n",
        "  data = preprocessing(file[i])\n",
        "  df = data.get_data()\n",
        "  '''if data.n_times > baseline_samples:\n",
        "    counter = 0\n",
        "    for j in range(0, data.n_times, baseline_samples):\n",
        "      if j != 0:\n",
        "        df1 = pd.DataFrame(df[counter:j])\n",
        "        print(df1.shape)\n",
        "        print(len(data.ch_names))\n",
        "        print(df_first.shape)\n",
        "        df1['channel'] = data.ch_names\n",
        "        df1['patient_id'] = file[i][-22:-14]\n",
        "        df_first = pd.concat([df_first, df1])\n",
        "        counter += j'''\n",
        "  else:\n",
        "    df = pd.DataFrame(df)\n",
        "    df['channel'] = data.ch_names\n",
        "    df['patient_id'] = file[i][-22:-14]\n",
        "    df_first = pd.concat([df_first, df])"
      ],
      "metadata": {
        "colab": {
          "base_uri": "https://localhost:8080/"
        },
        "id": "zth7VO8MMxK0",
        "outputId": "86b0bc2d-e32c-4afa-b757-7ece901613be"
      },
      "execution_count": 180,
      "outputs": [
        {
          "output_type": "stream",
          "name": "stdout",
          "text": [
            "Extracting EDF parameters from /content/drive/MyDrive/MLTSA22/Final_Project/00000258_s002_t000.edf...\n",
            "EDF file detected\n",
            "Setting channel info structure...\n",
            "Creating raw.info structure...\n",
            "Reading 0 ... 7999  =      0.000 ...    19.997 secs...\n",
            "Setting up band-stop filter\n",
            "\n",
            "FIR filter parameters\n",
            "---------------------\n",
            "Designing a one-pass, zero-phase, non-causal bandstop filter:\n",
            "- Windowed time-domain design (firwin) method\n",
            "- Hamming window with 0.0194 passband ripple and 53 dB stopband attenuation\n",
            "- Lower transition bandwidth: 0.50 Hz\n",
            "- Upper transition bandwidth: 0.50 Hz\n",
            "- Filter length: 2641 samples (6.603 sec)\n",
            "\n",
            "Filtering raw data in 1 contiguous segment\n",
            "Setting up high-pass filter at 0.2 Hz\n",
            "\n",
            "FIR filter parameters\n",
            "---------------------\n",
            "Designing a one-pass, zero-phase, non-causal highpass filter:\n",
            "- Windowed time-domain design (firwin) method\n",
            "- Hamming window with 0.0194 passband ripple and 53 dB stopband attenuation\n",
            "- Lower passband edge: 0.20\n",
            "- Lower transition bandwidth: 0.20 Hz (-6 dB cutoff frequency: 0.10 Hz)\n",
            "- Filter length: 6601 samples (16.503 sec)\n",
            "\n",
            "Extracting EDF parameters from /content/drive/MyDrive/MLTSA22/Final_Project/dev__01_tcp_ar__002__00000258__s002_2003_07_21__00000258_s002_t000.edf...\n",
            "EDF file detected\n",
            "Setting channel info structure...\n",
            "Creating raw.info structure...\n",
            "Reading 0 ... 7999  =      0.000 ...    19.997 secs...\n",
            "Setting up band-stop filter\n",
            "\n",
            "FIR filter parameters\n",
            "---------------------\n",
            "Designing a one-pass, zero-phase, non-causal bandstop filter:\n",
            "- Windowed time-domain design (firwin) method\n",
            "- Hamming window with 0.0194 passband ripple and 53 dB stopband attenuation\n",
            "- Lower transition bandwidth: 0.50 Hz\n",
            "- Upper transition bandwidth: 0.50 Hz\n",
            "- Filter length: 2641 samples (6.603 sec)\n",
            "\n",
            "Filtering raw data in 1 contiguous segment\n",
            "Setting up high-pass filter at 0.2 Hz\n",
            "\n",
            "FIR filter parameters\n",
            "---------------------\n",
            "Designing a one-pass, zero-phase, non-causal highpass filter:\n",
            "- Windowed time-domain design (firwin) method\n",
            "- Hamming window with 0.0194 passband ripple and 53 dB stopband attenuation\n",
            "- Lower passband edge: 0.20\n",
            "- Lower transition bandwidth: 0.20 Hz (-6 dB cutoff frequency: 0.10 Hz)\n",
            "- Filter length: 6601 samples (16.503 sec)\n",
            "\n",
            "Extracting EDF parameters from /content/drive/MyDrive/MLTSA22/Final_Project/dev__01_tcp_ar__002__00000258__s003_2003_07_22__00000258_s003_t001.edf...\n",
            "EDF file detected\n",
            "Setting channel info structure...\n",
            "Creating raw.info structure...\n",
            "Reading 0 ... 89599  =      0.000 ...   223.998 secs...\n",
            "Setting up band-stop filter\n",
            "\n",
            "FIR filter parameters\n",
            "---------------------\n",
            "Designing a one-pass, zero-phase, non-causal bandstop filter:\n",
            "- Windowed time-domain design (firwin) method\n",
            "- Hamming window with 0.0194 passband ripple and 53 dB stopband attenuation\n",
            "- Lower transition bandwidth: 0.50 Hz\n",
            "- Upper transition bandwidth: 0.50 Hz\n",
            "- Filter length: 2641 samples (6.603 sec)\n",
            "\n",
            "Filtering raw data in 1 contiguous segment\n",
            "Setting up high-pass filter at 0.2 Hz\n",
            "\n",
            "FIR filter parameters\n",
            "---------------------\n",
            "Designing a one-pass, zero-phase, non-causal highpass filter:\n",
            "- Windowed time-domain design (firwin) method\n",
            "- Hamming window with 0.0194 passband ripple and 53 dB stopband attenuation\n",
            "- Lower passband edge: 0.20\n",
            "- Lower transition bandwidth: 0.20 Hz (-6 dB cutoff frequency: 0.10 Hz)\n",
            "- Filter length: 6601 samples (16.503 sec)\n",
            "\n",
            "(32, 44800)\n",
            "32\n",
            "(64, 4002)\n",
            "(0, 44800)\n",
            "32\n",
            "(96, 44802)\n",
            "(0, 44800)\n",
            "32\n",
            "(128, 44802)\n",
            "(0, 44800)\n",
            "32\n",
            "(160, 44802)\n",
            "(0, 44800)\n",
            "32\n",
            "(192, 44802)\n",
            "(0, 44800)\n",
            "32\n",
            "(224, 44802)\n",
            "(0, 44800)\n",
            "32\n",
            "(256, 44802)\n",
            "(0, 44800)\n",
            "32\n",
            "(288, 44802)\n",
            "(0, 44800)\n",
            "32\n",
            "(320, 44802)\n",
            "(0, 44800)\n",
            "32\n",
            "(352, 44802)\n",
            "(0, 44800)\n",
            "32\n",
            "(384, 44802)\n"
          ]
        }
      ]
    },
    {
      "cell_type": "code",
      "source": [
        ""
      ],
      "metadata": {
        "id": "fglsim2ed08U"
      },
      "execution_count": null,
      "outputs": []
    }
  ]
}