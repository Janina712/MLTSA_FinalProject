{
  "nbformat": 4,
  "nbformat_minor": 0,
  "metadata": {
    "colab": {
      "name": "Preprocess pipeline.ipynb",
      "provenance": [],
      "authorship_tag": "ABX9TyPDPjC4MiIGcvHQSpi1Nvon",
      "include_colab_link": true
    },
    "kernelspec": {
      "name": "python3",
      "display_name": "Python 3"
    },
    "language_info": {
      "name": "python"
    }
  },
  "cells": [
    {
      "cell_type": "markdown",
      "metadata": {
        "id": "view-in-github",
        "colab_type": "text"
      },
      "source": [
        "<a href=\"https://colab.research.google.com/github/Janina712/MLTSA_FinalProject/blob/main/Preprocess_pipeline.ipynb\" target=\"_parent\"><img src=\"https://colab.research.google.com/assets/colab-badge.svg\" alt=\"Open In Colab\"/></a>"
      ]
    },
    {
      "cell_type": "markdown",
      "source": [
        "Imports"
      ],
      "metadata": {
        "id": "qiKUcwREFOKY"
      }
    },
    {
      "cell_type": "code",
      "execution_count": 1,
      "metadata": {
        "colab": {
          "base_uri": "https://localhost:8080/"
        },
        "id": "7cUEYvffHYNh",
        "outputId": "90c0e367-e74a-4e7d-9c8f-0904b403fa3d"
      },
      "outputs": [
        {
          "output_type": "stream",
          "name": "stdout",
          "text": [
            "Collecting mne\n",
            "  Downloading mne-1.0.2-py3-none-any.whl (7.5 MB)\n",
            "\u001b[K     |████████████████████████████████| 7.5 MB 3.8 MB/s \n",
            "\u001b[?25hRequirement already satisfied: matplotlib in /usr/local/lib/python3.7/dist-packages (3.2.2)\n",
            "Requirement already satisfied: scipy>=1.1.0 in /usr/local/lib/python3.7/dist-packages (from mne) (1.4.1)\n",
            "Requirement already satisfied: tqdm in /usr/local/lib/python3.7/dist-packages (from mne) (4.64.0)\n",
            "Requirement already satisfied: numpy>=1.15.4 in /usr/local/lib/python3.7/dist-packages (from mne) (1.21.6)\n",
            "Requirement already satisfied: packaging in /usr/local/lib/python3.7/dist-packages (from mne) (21.3)\n",
            "Requirement already satisfied: pooch>=1.5 in /usr/local/lib/python3.7/dist-packages (from mne) (1.6.0)\n",
            "Requirement already satisfied: decorator in /usr/local/lib/python3.7/dist-packages (from mne) (4.4.2)\n",
            "Requirement already satisfied: jinja2 in /usr/local/lib/python3.7/dist-packages (from mne) (2.11.3)\n",
            "Requirement already satisfied: requests>=2.19.0 in /usr/local/lib/python3.7/dist-packages (from pooch>=1.5->mne) (2.23.0)\n",
            "Requirement already satisfied: appdirs>=1.3.0 in /usr/local/lib/python3.7/dist-packages (from pooch>=1.5->mne) (1.4.4)\n",
            "Requirement already satisfied: pyparsing!=3.0.5,>=2.0.2 in /usr/local/lib/python3.7/dist-packages (from packaging->mne) (3.0.8)\n",
            "Requirement already satisfied: idna<3,>=2.5 in /usr/local/lib/python3.7/dist-packages (from requests>=2.19.0->pooch>=1.5->mne) (2.10)\n",
            "Requirement already satisfied: urllib3!=1.25.0,!=1.25.1,<1.26,>=1.21.1 in /usr/local/lib/python3.7/dist-packages (from requests>=2.19.0->pooch>=1.5->mne) (1.24.3)\n",
            "Requirement already satisfied: certifi>=2017.4.17 in /usr/local/lib/python3.7/dist-packages (from requests>=2.19.0->pooch>=1.5->mne) (2021.10.8)\n",
            "Requirement already satisfied: chardet<4,>=3.0.2 in /usr/local/lib/python3.7/dist-packages (from requests>=2.19.0->pooch>=1.5->mne) (3.0.4)\n",
            "Requirement already satisfied: cycler>=0.10 in /usr/local/lib/python3.7/dist-packages (from matplotlib) (0.11.0)\n",
            "Requirement already satisfied: kiwisolver>=1.0.1 in /usr/local/lib/python3.7/dist-packages (from matplotlib) (1.4.2)\n",
            "Requirement already satisfied: python-dateutil>=2.1 in /usr/local/lib/python3.7/dist-packages (from matplotlib) (2.8.2)\n",
            "Requirement already satisfied: typing-extensions in /usr/local/lib/python3.7/dist-packages (from kiwisolver>=1.0.1->matplotlib) (4.2.0)\n",
            "Requirement already satisfied: six>=1.5 in /usr/local/lib/python3.7/dist-packages (from python-dateutil>=2.1->matplotlib) (1.15.0)\n",
            "Requirement already satisfied: MarkupSafe>=0.23 in /usr/local/lib/python3.7/dist-packages (from jinja2->mne) (2.0.1)\n",
            "Installing collected packages: mne\n",
            "Successfully installed mne-1.0.2\n"
          ]
        }
      ],
      "source": [
        "pip install mne matplotlib"
      ]
    },
    {
      "cell_type": "code",
      "source": [
        "import numpy as np\n",
        "import mne \n",
        "import pandas as pd\n",
        "import os\n",
        "import pylab as pl\n",
        "import re\n",
        "import requests\n",
        "from bs4 import BeautifulSoup\n",
        "from pathlib import Path\n",
        "from tqdm import tqdm\n",
        "import shutil\n",
        "from collections import Counter\n",
        "\n",
        "tqdm.pandas()"
      ],
      "metadata": {
        "id": "AgJ5NQMLIGfv"
      },
      "execution_count": 2,
      "outputs": []
    },
    {
      "cell_type": "markdown",
      "source": [
        "Uploading files"
      ],
      "metadata": {
        "id": "MyxsfoqRlEwV"
      }
    },
    {
      "cell_type": "code",
      "source": [
        "from google.colab import drive\n",
        "drive.mount('/content/drive')"
      ],
      "metadata": {
        "colab": {
          "base_uri": "https://localhost:8080/"
        },
        "id": "7JlvVOYzIJey",
        "outputId": "cc7b19f1-ef2a-45ed-c57f-41950e36724e"
      },
      "execution_count": 3,
      "outputs": [
        {
          "output_type": "stream",
          "name": "stdout",
          "text": [
            "Mounted at /content/drive\n"
          ]
        }
      ]
    },
    {
      "cell_type": "code",
      "source": [
        "cd /content/drive/MyDrive/MLTSA22/Final_Project/isip_tuh_eeg"
      ],
      "metadata": {
        "colab": {
          "base_uri": "https://localhost:8080/"
        },
        "id": "j5u7BCailp0S",
        "outputId": "7ec620ae-9f4d-445b-d6aa-8851abcc7cc7"
      },
      "execution_count": 4,
      "outputs": [
        {
          "output_type": "stream",
          "name": "stdout",
          "text": [
            "/content/drive/.shortcut-targets-by-id/1UmPRvBaUSHwpdFfssLmk_CxDx3urhuBi/isip_tuh_eeg\n"
          ]
        }
      ]
    },
    {
      "cell_type": "code",
      "source": [
        "!ls /content/drive/MyDrive/MLTSA22/Final_Project/isip_tuh_eeg"
      ],
      "metadata": {
        "id": "eZaRyDAglsfp"
      },
      "execution_count": null,
      "outputs": []
    },
    {
      "cell_type": "code",
      "source": [
        "drive_tuh_eeg_loc = Path('/content/drive/MyDrive/MLTSA22/Final_Project/isip_tuh_eeg')"
      ],
      "metadata": {
        "id": "oxLcccjOmEzV"
      },
      "execution_count": 19,
      "outputs": []
    },
    {
      "cell_type": "code",
      "source": [
        "working_folder = Path('/content/drive/MyDrive/MLTSA22/Final_Project/temp')"
      ],
      "metadata": {
        "id": "otMV2qLdCf7e"
      },
      "execution_count": 13,
      "outputs": []
    },
    {
      "cell_type": "markdown",
      "source": [
        "Creating a dataframe that will contain the name of all the files"
      ],
      "metadata": {
        "id": "STUwkXMBomGt"
      }
    },
    {
      "cell_type": "code",
      "source": [
        "downloaded_files = list(Path(drive_tuh_eeg_loc).glob('*'))\n",
        "downloaded_files[:3]"
      ],
      "metadata": {
        "id": "79KXQKotBxEF",
        "outputId": "2c25647d-fb92-4522-93e6-f736977192fe",
        "colab": {
          "base_uri": "https://localhost:8080/"
        }
      },
      "execution_count": 6,
      "outputs": [
        {
          "output_type": "execute_result",
          "data": {
            "text/plain": [
              "[PosixPath('/content/drive/MyDrive/MLTSA22/Final_Project/isip_tuh_eeg/train__02_tcp_le__058__00005804__s002_2008_11_05__00005804_s002_t003.tse'),\n",
              " PosixPath('/content/drive/MyDrive/MLTSA22/Final_Project/isip_tuh_eeg/train__02_tcp_le__058__00005804__s002_2008_11_05__00005804_s002_t004.tse'),\n",
              " PosixPath('/content/drive/MyDrive/MLTSA22/Final_Project/isip_tuh_eeg/train__02_tcp_le__058__00005804__s002_2008_11_05__00005804_s002_t005.tse')]"
            ]
          },
          "metadata": {},
          "execution_count": 6
        }
      ]
    },
    {
      "cell_type": "code",
      "source": [
        "# how many files we have in total\n",
        "len(downloaded_files)"
      ],
      "metadata": {
        "id": "lXPEH3UoB552",
        "outputId": "5f83654f-8767-466a-c3d8-a0d3636e5262",
        "colab": {
          "base_uri": "https://localhost:8080/"
        }
      },
      "execution_count": 7,
      "outputs": [
        {
          "output_type": "execute_result",
          "data": {
            "text/plain": [
              "13270"
            ]
          },
          "metadata": {},
          "execution_count": 7
        }
      ]
    },
    {
      "cell_type": "code",
      "source": [
        "files_raw_df = pd.DataFrame(\n",
        "  [fpath.name for fpath in downloaded_files], \n",
        "  columns = ['filename']\n",
        ")"
      ],
      "metadata": {
        "id": "0Oj0e9MAB8Nd"
      },
      "execution_count": 8,
      "outputs": []
    },
    {
      "cell_type": "code",
      "source": [
        "files_raw_df"
      ],
      "metadata": {
        "id": "g39HhADGB-GP",
        "outputId": "d4ffa680-7180-48bb-a3ef-6b809e503f53",
        "colab": {
          "base_uri": "https://localhost:8080/",
          "height": 423
        }
      },
      "execution_count": 9,
      "outputs": [
        {
          "output_type": "execute_result",
          "data": {
            "text/plain": [
              "                                                filename\n",
              "0      train__02_tcp_le__058__00005804__s002_2008_11_...\n",
              "1      train__02_tcp_le__058__00005804__s002_2008_11_...\n",
              "2      train__02_tcp_le__058__00005804__s002_2008_11_...\n",
              "3      train__02_tcp_le__058__00005804__s002_2008_11_...\n",
              "4      train__02_tcp_le__060__00006083__s003_2010_10_...\n",
              "...                                                  ...\n",
              "13265  dev__01_tcp_ar__085__00008512__s002_2012_01_09...\n",
              "13266  dev__01_tcp_ar__085__00008512__s002_2012_01_09...\n",
              "13267  dev__01_tcp_ar__085__00008512__s002_2012_01_09...\n",
              "13268  dev__01_tcp_ar__085__00008512__s002_2012_01_09...\n",
              "13269  dev__01_tcp_ar__085__00008512__s002_2012_01_09...\n",
              "\n",
              "[13270 rows x 1 columns]"
            ],
            "text/html": [
              "\n",
              "  <div id=\"df-bec2ec5b-2cf8-4518-a9fe-ea0137ce53f1\">\n",
              "    <div class=\"colab-df-container\">\n",
              "      <div>\n",
              "<style scoped>\n",
              "    .dataframe tbody tr th:only-of-type {\n",
              "        vertical-align: middle;\n",
              "    }\n",
              "\n",
              "    .dataframe tbody tr th {\n",
              "        vertical-align: top;\n",
              "    }\n",
              "\n",
              "    .dataframe thead th {\n",
              "        text-align: right;\n",
              "    }\n",
              "</style>\n",
              "<table border=\"1\" class=\"dataframe\">\n",
              "  <thead>\n",
              "    <tr style=\"text-align: right;\">\n",
              "      <th></th>\n",
              "      <th>filename</th>\n",
              "    </tr>\n",
              "  </thead>\n",
              "  <tbody>\n",
              "    <tr>\n",
              "      <th>0</th>\n",
              "      <td>train__02_tcp_le__058__00005804__s002_2008_11_...</td>\n",
              "    </tr>\n",
              "    <tr>\n",
              "      <th>1</th>\n",
              "      <td>train__02_tcp_le__058__00005804__s002_2008_11_...</td>\n",
              "    </tr>\n",
              "    <tr>\n",
              "      <th>2</th>\n",
              "      <td>train__02_tcp_le__058__00005804__s002_2008_11_...</td>\n",
              "    </tr>\n",
              "    <tr>\n",
              "      <th>3</th>\n",
              "      <td>train__02_tcp_le__058__00005804__s002_2008_11_...</td>\n",
              "    </tr>\n",
              "    <tr>\n",
              "      <th>4</th>\n",
              "      <td>train__02_tcp_le__060__00006083__s003_2010_10_...</td>\n",
              "    </tr>\n",
              "    <tr>\n",
              "      <th>...</th>\n",
              "      <td>...</td>\n",
              "    </tr>\n",
              "    <tr>\n",
              "      <th>13265</th>\n",
              "      <td>dev__01_tcp_ar__085__00008512__s002_2012_01_09...</td>\n",
              "    </tr>\n",
              "    <tr>\n",
              "      <th>13266</th>\n",
              "      <td>dev__01_tcp_ar__085__00008512__s002_2012_01_09...</td>\n",
              "    </tr>\n",
              "    <tr>\n",
              "      <th>13267</th>\n",
              "      <td>dev__01_tcp_ar__085__00008512__s002_2012_01_09...</td>\n",
              "    </tr>\n",
              "    <tr>\n",
              "      <th>13268</th>\n",
              "      <td>dev__01_tcp_ar__085__00008512__s002_2012_01_09...</td>\n",
              "    </tr>\n",
              "    <tr>\n",
              "      <th>13269</th>\n",
              "      <td>dev__01_tcp_ar__085__00008512__s002_2012_01_09...</td>\n",
              "    </tr>\n",
              "  </tbody>\n",
              "</table>\n",
              "<p>13270 rows × 1 columns</p>\n",
              "</div>\n",
              "      <button class=\"colab-df-convert\" onclick=\"convertToInteractive('df-bec2ec5b-2cf8-4518-a9fe-ea0137ce53f1')\"\n",
              "              title=\"Convert this dataframe to an interactive table.\"\n",
              "              style=\"display:none;\">\n",
              "        \n",
              "  <svg xmlns=\"http://www.w3.org/2000/svg\" height=\"24px\"viewBox=\"0 0 24 24\"\n",
              "       width=\"24px\">\n",
              "    <path d=\"M0 0h24v24H0V0z\" fill=\"none\"/>\n",
              "    <path d=\"M18.56 5.44l.94 2.06.94-2.06 2.06-.94-2.06-.94-.94-2.06-.94 2.06-2.06.94zm-11 1L8.5 8.5l.94-2.06 2.06-.94-2.06-.94L8.5 2.5l-.94 2.06-2.06.94zm10 10l.94 2.06.94-2.06 2.06-.94-2.06-.94-.94-2.06-.94 2.06-2.06.94z\"/><path d=\"M17.41 7.96l-1.37-1.37c-.4-.4-.92-.59-1.43-.59-.52 0-1.04.2-1.43.59L10.3 9.45l-7.72 7.72c-.78.78-.78 2.05 0 2.83L4 21.41c.39.39.9.59 1.41.59.51 0 1.02-.2 1.41-.59l7.78-7.78 2.81-2.81c.8-.78.8-2.07 0-2.86zM5.41 20L4 18.59l7.72-7.72 1.47 1.35L5.41 20z\"/>\n",
              "  </svg>\n",
              "      </button>\n",
              "      \n",
              "  <style>\n",
              "    .colab-df-container {\n",
              "      display:flex;\n",
              "      flex-wrap:wrap;\n",
              "      gap: 12px;\n",
              "    }\n",
              "\n",
              "    .colab-df-convert {\n",
              "      background-color: #E8F0FE;\n",
              "      border: none;\n",
              "      border-radius: 50%;\n",
              "      cursor: pointer;\n",
              "      display: none;\n",
              "      fill: #1967D2;\n",
              "      height: 32px;\n",
              "      padding: 0 0 0 0;\n",
              "      width: 32px;\n",
              "    }\n",
              "\n",
              "    .colab-df-convert:hover {\n",
              "      background-color: #E2EBFA;\n",
              "      box-shadow: 0px 1px 2px rgba(60, 64, 67, 0.3), 0px 1px 3px 1px rgba(60, 64, 67, 0.15);\n",
              "      fill: #174EA6;\n",
              "    }\n",
              "\n",
              "    [theme=dark] .colab-df-convert {\n",
              "      background-color: #3B4455;\n",
              "      fill: #D2E3FC;\n",
              "    }\n",
              "\n",
              "    [theme=dark] .colab-df-convert:hover {\n",
              "      background-color: #434B5C;\n",
              "      box-shadow: 0px 1px 3px 1px rgba(0, 0, 0, 0.15);\n",
              "      filter: drop-shadow(0px 1px 2px rgba(0, 0, 0, 0.3));\n",
              "      fill: #FFFFFF;\n",
              "    }\n",
              "  </style>\n",
              "\n",
              "      <script>\n",
              "        const buttonEl =\n",
              "          document.querySelector('#df-bec2ec5b-2cf8-4518-a9fe-ea0137ce53f1 button.colab-df-convert');\n",
              "        buttonEl.style.display =\n",
              "          google.colab.kernel.accessAllowed ? 'block' : 'none';\n",
              "\n",
              "        async function convertToInteractive(key) {\n",
              "          const element = document.querySelector('#df-bec2ec5b-2cf8-4518-a9fe-ea0137ce53f1');\n",
              "          const dataTable =\n",
              "            await google.colab.kernel.invokeFunction('convertToInteractive',\n",
              "                                                     [key], {});\n",
              "          if (!dataTable) return;\n",
              "\n",
              "          const docLinkHtml = 'Like what you see? Visit the ' +\n",
              "            '<a target=\"_blank\" href=https://colab.research.google.com/notebooks/data_table.ipynb>data table notebook</a>'\n",
              "            + ' to learn more about interactive tables.';\n",
              "          element.innerHTML = '';\n",
              "          dataTable['output_type'] = 'display_data';\n",
              "          await google.colab.output.renderOutput(dataTable, element);\n",
              "          const docLink = document.createElement('div');\n",
              "          docLink.innerHTML = docLinkHtml;\n",
              "          element.appendChild(docLink);\n",
              "        }\n",
              "      </script>\n",
              "    </div>\n",
              "  </div>\n",
              "  "
            ]
          },
          "metadata": {},
          "execution_count": 9
        }
      ]
    },
    {
      "cell_type": "code",
      "source": [
        "files_raw_df['filename'][4].split('__')"
      ],
      "metadata": {
        "id": "aNkDH-jWCDYW",
        "outputId": "b32fb4cb-f48c-4971-f3ed-fad8151a2901",
        "colab": {
          "base_uri": "https://localhost:8080/"
        }
      },
      "execution_count": 10,
      "outputs": [
        {
          "output_type": "execute_result",
          "data": {
            "text/plain": [
              "['train',\n",
              " '02_tcp_le',\n",
              " '060',\n",
              " '00006083',\n",
              " 's003_2010_10_11',\n",
              " '00006083_s003_t001.tse']"
            ]
          },
          "metadata": {},
          "execution_count": 10
        }
      ]
    },
    {
      "cell_type": "code",
      "source": [
        "def split_fname(row):\n",
        "\n",
        "  split_row_str = row['filename'].split('__')\n",
        "\n",
        "  fname, file_ext = split_row_str[-1].split('.')\n",
        "\n",
        "  row['category'] = split_row_str[0]\n",
        "  row['1_idk'] = split_row_str[1]\n",
        "  row['2_idk'] = split_row_str[2]\n",
        "  row['3_idk'] = split_row_str[3]\n",
        "  row['4_idk'] = split_row_str[4]\n",
        "  row['file_name'] = fname #fname WITHOUT file extension\n",
        "  row['file_ext'] = file_ext #file extension (.edf or .tse)\n",
        "\n",
        "  return row"
      ],
      "metadata": {
        "id": "TXos2uSXCFnS"
      },
      "execution_count": 11,
      "outputs": []
    },
    {
      "cell_type": "code",
      "source": [
        "# not the most efficient way, but it's expressive\n",
        "\n",
        "files_raw_df = files_raw_df.progress_apply(\n",
        "  split_fname, \n",
        "  axis=1\n",
        ")"
      ],
      "metadata": {
        "id": "MSm_SYnECKFs",
        "outputId": "5220cb65-e555-490b-fb9f-8ca47e794080",
        "colab": {
          "base_uri": "https://localhost:8080/"
        }
      },
      "execution_count": 12,
      "outputs": [
        {
          "output_type": "stream",
          "name": "stderr",
          "text": [
            "100%|██████████| 13270/13270 [01:06<00:00, 198.96it/s]\n"
          ]
        }
      ]
    },
    {
      "cell_type": "code",
      "source": [
        "# saving result\n",
        "files_raw_df.to_pickle(\n",
        "    Path(working_folder).joinpath('files_raw_df.pkl')\n",
        ")"
      ],
      "metadata": {
        "id": "K-CqMOmICWAQ"
      },
      "execution_count": 15,
      "outputs": []
    },
    {
      "cell_type": "code",
      "source": [
        "files_raw_df['filename']"
      ],
      "metadata": {
        "id": "DpZ1SMc-CaaX",
        "outputId": "eea36681-6a52-43a2-d9e5-a2aebeca3ebc",
        "colab": {
          "base_uri": "https://localhost:8080/"
        }
      },
      "execution_count": 17,
      "outputs": [
        {
          "output_type": "execute_result",
          "data": {
            "text/plain": [
              "0        train__02_tcp_le__058__00005804__s002_2008_11_...\n",
              "1        train__02_tcp_le__058__00005804__s002_2008_11_...\n",
              "2        train__02_tcp_le__058__00005804__s002_2008_11_...\n",
              "3        train__02_tcp_le__058__00005804__s002_2008_11_...\n",
              "4        train__02_tcp_le__060__00006083__s003_2010_10_...\n",
              "                               ...                        \n",
              "13265    dev__01_tcp_ar__085__00008512__s002_2012_01_09...\n",
              "13266    dev__01_tcp_ar__085__00008512__s002_2012_01_09...\n",
              "13267    dev__01_tcp_ar__085__00008512__s002_2012_01_09...\n",
              "13268    dev__01_tcp_ar__085__00008512__s002_2012_01_09...\n",
              "13269    dev__01_tcp_ar__085__00008512__s002_2012_01_09...\n",
              "Name: filename, Length: 13270, dtype: object"
            ]
          },
          "metadata": {},
          "execution_count": 17
        }
      ]
    },
    {
      "cell_type": "code",
      "source": [
        "file_path = drive_tuh_eeg_loc.joinpath(files_raw_df['filename'][7332])\n",
        "file_path"
      ],
      "metadata": {
        "id": "LwOHGxrkCAEm",
        "outputId": "876662e6-30f4-40be-f905-4cc49d89e1d3",
        "colab": {
          "base_uri": "https://localhost:8080/"
        }
      },
      "execution_count": 20,
      "outputs": [
        {
          "output_type": "execute_result",
          "data": {
            "text/plain": [
              "PosixPath('/content/drive/MyDrive/MLTSA22/Final_Project/isip_tuh_eeg/train__02_tcp_le__053__00005347__s001_2008_11_24__00005347_s001_t001.edf')"
            ]
          },
          "metadata": {},
          "execution_count": 20
        }
      ]
    },
    {
      "cell_type": "code",
      "source": [
        "edf_fnames_list = files_raw_df[\n",
        "  files_raw_df['file_ext'] == 'edf'\n",
        "]['filename']\n",
        "\n",
        "raw_files_dict = dict()\n",
        "for fname in tqdm(edf_fnames_list[:50]):\n",
        "  data_obj = mne.io.read_raw_edf(\n",
        "    file_path,\n",
        "    verbose=False,\n",
        "  )\n",
        "  raw_files_dict[fname] = data_obj"
      ],
      "metadata": {
        "id": "MTJG6VKKDKOQ",
        "outputId": "e8b26e69-c347-4d96-9205-52c566c06fd3",
        "colab": {
          "base_uri": "https://localhost:8080/"
        }
      },
      "execution_count": 21,
      "outputs": [
        {
          "output_type": "stream",
          "name": "stderr",
          "text": [
            "100%|██████████| 50/50 [00:01<00:00, 25.79it/s]\n"
          ]
        }
      ]
    },
    {
      "cell_type": "code",
      "source": [
        "## access by filename\n",
        "raw_files_dict[\n",
        "  'train__03_tcp_ar_a__072__00007221__s003_2010_11_01__00007221_s003_t004.edf'\n",
        "]"
      ],
      "metadata": {
        "id": "k3XMqOgjDMwW",
        "outputId": "2e39b44f-5e71-42e5-a994-2e6ee3ef9cb9",
        "colab": {
          "base_uri": "https://localhost:8080/",
          "height": 297
        }
      },
      "execution_count": 22,
      "outputs": [
        {
          "output_type": "execute_result",
          "data": {
            "text/plain": [
              "<RawEDF | train__02_tcp_le__053__00005347__s001_2008_11_24__00005347_s001_t001.edf, 41 x 234000 (936.0 s), ~44 kB, data not loaded>"
            ],
            "text/html": [
              "<table class=\"table table-hover table-striped table-sm table-responsive small\">\n",
              "    <tr>\n",
              "        <th>Measurement date</th>\n",
              "        \n",
              "        <td>November 24, 2008  13:24:15 GMT</td>\n",
              "        \n",
              "    </tr>\n",
              "    <tr>\n",
              "        <th>Experimenter</th>\n",
              "        \n",
              "        <td>Unknown</td>\n",
              "        \n",
              "    </tr>\n",
              "        <th>Participant</th>\n",
              "        \n",
              "        <td>Unknown</td>\n",
              "        \n",
              "    </tr>\n",
              "    <tr>\n",
              "        <th>Digitized points</th>\n",
              "        \n",
              "        <td>0 points</td>\n",
              "        \n",
              "    </tr>\n",
              "    <tr>\n",
              "        <th>Good channels</th>\n",
              "        <td>41 EEG</td>\n",
              "    </tr>\n",
              "    <tr>\n",
              "        <th>Bad channels</th>\n",
              "        <td>None</td>\n",
              "    </tr>\n",
              "    <tr>\n",
              "        <th>EOG channels</th>\n",
              "        <td>Not available</td>\n",
              "    </tr>\n",
              "    <tr>\n",
              "        <th>ECG channels</th>\n",
              "        <td>Not available</td>\n",
              "    \n",
              "    <tr>\n",
              "        <th>Sampling frequency</th>\n",
              "        <td>250.00 Hz</td>\n",
              "    </tr>\n",
              "    \n",
              "    \n",
              "    <tr>\n",
              "        <th>Highpass</th>\n",
              "        <td>0.00 Hz</td>\n",
              "    </tr>\n",
              "    \n",
              "    \n",
              "    <tr>\n",
              "        <th>Lowpass</th>\n",
              "        <td>125.00 Hz</td>\n",
              "    </tr>\n",
              "    \n",
              "    \n",
              "    \n",
              "    <tr>\n",
              "        <th>Filenames</th>\n",
              "        <td>train__02_tcp_le__053__00005347__s001_2008_11_24__00005347_s001_t001.edf</td>\n",
              "    </tr>\n",
              "    \n",
              "    <tr>\n",
              "        <th>Duration</th>\n",
              "        <td>00:15:35 (HH:MM:SS)</td>\n",
              "    </tr>\n",
              "</table>"
            ]
          },
          "metadata": {},
          "execution_count": 22
        }
      ]
    },
    {
      "cell_type": "code",
      "source": [
        "files_raw_df"
      ],
      "metadata": {
        "id": "KY237FVPDPAN",
        "outputId": "08f5d6f9-4471-4111-faac-0eb4e6b78b6c",
        "colab": {
          "base_uri": "https://localhost:8080/",
          "height": 423
        }
      },
      "execution_count": 25,
      "outputs": [
        {
          "output_type": "execute_result",
          "data": {
            "text/plain": [
              "                                                filename category      1_idk  \\\n",
              "0      train__02_tcp_le__058__00005804__s002_2008_11_...    train  02_tcp_le   \n",
              "1      train__02_tcp_le__058__00005804__s002_2008_11_...    train  02_tcp_le   \n",
              "2      train__02_tcp_le__058__00005804__s002_2008_11_...    train  02_tcp_le   \n",
              "3      train__02_tcp_le__058__00005804__s002_2008_11_...    train  02_tcp_le   \n",
              "4      train__02_tcp_le__060__00006083__s003_2010_10_...    train  02_tcp_le   \n",
              "...                                                  ...      ...        ...   \n",
              "13265  dev__01_tcp_ar__085__00008512__s002_2012_01_09...      dev  01_tcp_ar   \n",
              "13266  dev__01_tcp_ar__085__00008512__s002_2012_01_09...      dev  01_tcp_ar   \n",
              "13267  dev__01_tcp_ar__085__00008512__s002_2012_01_09...      dev  01_tcp_ar   \n",
              "13268  dev__01_tcp_ar__085__00008512__s002_2012_01_09...      dev  01_tcp_ar   \n",
              "13269  dev__01_tcp_ar__085__00008512__s002_2012_01_09...      dev  01_tcp_ar   \n",
              "\n",
              "      2_idk     3_idk            4_idk           file_name file_ext  \n",
              "0       058  00005804  s002_2008_11_05  00005804_s002_t003      tse  \n",
              "1       058  00005804  s002_2008_11_05  00005804_s002_t004      tse  \n",
              "2       058  00005804  s002_2008_11_05  00005804_s002_t005      tse  \n",
              "3       058  00005804  s002_2008_11_05  00005804_s002_t006      tse  \n",
              "4       060  00006083  s003_2010_10_11  00006083_s003_t001      tse  \n",
              "...     ...       ...              ...                 ...      ...  \n",
              "13265   085  00008512  s002_2012_01_09  00008512_s002_t000      edf  \n",
              "13266   085  00008512  s002_2012_01_09  00008512_s002_t001      edf  \n",
              "13267   085  00008512  s002_2012_01_09  00008512_s002_t002      edf  \n",
              "13268   085  00008512  s002_2012_01_09  00008512_s002_t003      edf  \n",
              "13269   085  00008512  s002_2012_01_09  00008512_s002_t004      edf  \n",
              "\n",
              "[13270 rows x 8 columns]"
            ],
            "text/html": [
              "\n",
              "  <div id=\"df-de893de3-f730-465d-a7dd-3a584ad8a2f9\">\n",
              "    <div class=\"colab-df-container\">\n",
              "      <div>\n",
              "<style scoped>\n",
              "    .dataframe tbody tr th:only-of-type {\n",
              "        vertical-align: middle;\n",
              "    }\n",
              "\n",
              "    .dataframe tbody tr th {\n",
              "        vertical-align: top;\n",
              "    }\n",
              "\n",
              "    .dataframe thead th {\n",
              "        text-align: right;\n",
              "    }\n",
              "</style>\n",
              "<table border=\"1\" class=\"dataframe\">\n",
              "  <thead>\n",
              "    <tr style=\"text-align: right;\">\n",
              "      <th></th>\n",
              "      <th>filename</th>\n",
              "      <th>category</th>\n",
              "      <th>1_idk</th>\n",
              "      <th>2_idk</th>\n",
              "      <th>3_idk</th>\n",
              "      <th>4_idk</th>\n",
              "      <th>file_name</th>\n",
              "      <th>file_ext</th>\n",
              "    </tr>\n",
              "  </thead>\n",
              "  <tbody>\n",
              "    <tr>\n",
              "      <th>0</th>\n",
              "      <td>train__02_tcp_le__058__00005804__s002_2008_11_...</td>\n",
              "      <td>train</td>\n",
              "      <td>02_tcp_le</td>\n",
              "      <td>058</td>\n",
              "      <td>00005804</td>\n",
              "      <td>s002_2008_11_05</td>\n",
              "      <td>00005804_s002_t003</td>\n",
              "      <td>tse</td>\n",
              "    </tr>\n",
              "    <tr>\n",
              "      <th>1</th>\n",
              "      <td>train__02_tcp_le__058__00005804__s002_2008_11_...</td>\n",
              "      <td>train</td>\n",
              "      <td>02_tcp_le</td>\n",
              "      <td>058</td>\n",
              "      <td>00005804</td>\n",
              "      <td>s002_2008_11_05</td>\n",
              "      <td>00005804_s002_t004</td>\n",
              "      <td>tse</td>\n",
              "    </tr>\n",
              "    <tr>\n",
              "      <th>2</th>\n",
              "      <td>train__02_tcp_le__058__00005804__s002_2008_11_...</td>\n",
              "      <td>train</td>\n",
              "      <td>02_tcp_le</td>\n",
              "      <td>058</td>\n",
              "      <td>00005804</td>\n",
              "      <td>s002_2008_11_05</td>\n",
              "      <td>00005804_s002_t005</td>\n",
              "      <td>tse</td>\n",
              "    </tr>\n",
              "    <tr>\n",
              "      <th>3</th>\n",
              "      <td>train__02_tcp_le__058__00005804__s002_2008_11_...</td>\n",
              "      <td>train</td>\n",
              "      <td>02_tcp_le</td>\n",
              "      <td>058</td>\n",
              "      <td>00005804</td>\n",
              "      <td>s002_2008_11_05</td>\n",
              "      <td>00005804_s002_t006</td>\n",
              "      <td>tse</td>\n",
              "    </tr>\n",
              "    <tr>\n",
              "      <th>4</th>\n",
              "      <td>train__02_tcp_le__060__00006083__s003_2010_10_...</td>\n",
              "      <td>train</td>\n",
              "      <td>02_tcp_le</td>\n",
              "      <td>060</td>\n",
              "      <td>00006083</td>\n",
              "      <td>s003_2010_10_11</td>\n",
              "      <td>00006083_s003_t001</td>\n",
              "      <td>tse</td>\n",
              "    </tr>\n",
              "    <tr>\n",
              "      <th>...</th>\n",
              "      <td>...</td>\n",
              "      <td>...</td>\n",
              "      <td>...</td>\n",
              "      <td>...</td>\n",
              "      <td>...</td>\n",
              "      <td>...</td>\n",
              "      <td>...</td>\n",
              "      <td>...</td>\n",
              "    </tr>\n",
              "    <tr>\n",
              "      <th>13265</th>\n",
              "      <td>dev__01_tcp_ar__085__00008512__s002_2012_01_09...</td>\n",
              "      <td>dev</td>\n",
              "      <td>01_tcp_ar</td>\n",
              "      <td>085</td>\n",
              "      <td>00008512</td>\n",
              "      <td>s002_2012_01_09</td>\n",
              "      <td>00008512_s002_t000</td>\n",
              "      <td>edf</td>\n",
              "    </tr>\n",
              "    <tr>\n",
              "      <th>13266</th>\n",
              "      <td>dev__01_tcp_ar__085__00008512__s002_2012_01_09...</td>\n",
              "      <td>dev</td>\n",
              "      <td>01_tcp_ar</td>\n",
              "      <td>085</td>\n",
              "      <td>00008512</td>\n",
              "      <td>s002_2012_01_09</td>\n",
              "      <td>00008512_s002_t001</td>\n",
              "      <td>edf</td>\n",
              "    </tr>\n",
              "    <tr>\n",
              "      <th>13267</th>\n",
              "      <td>dev__01_tcp_ar__085__00008512__s002_2012_01_09...</td>\n",
              "      <td>dev</td>\n",
              "      <td>01_tcp_ar</td>\n",
              "      <td>085</td>\n",
              "      <td>00008512</td>\n",
              "      <td>s002_2012_01_09</td>\n",
              "      <td>00008512_s002_t002</td>\n",
              "      <td>edf</td>\n",
              "    </tr>\n",
              "    <tr>\n",
              "      <th>13268</th>\n",
              "      <td>dev__01_tcp_ar__085__00008512__s002_2012_01_09...</td>\n",
              "      <td>dev</td>\n",
              "      <td>01_tcp_ar</td>\n",
              "      <td>085</td>\n",
              "      <td>00008512</td>\n",
              "      <td>s002_2012_01_09</td>\n",
              "      <td>00008512_s002_t003</td>\n",
              "      <td>edf</td>\n",
              "    </tr>\n",
              "    <tr>\n",
              "      <th>13269</th>\n",
              "      <td>dev__01_tcp_ar__085__00008512__s002_2012_01_09...</td>\n",
              "      <td>dev</td>\n",
              "      <td>01_tcp_ar</td>\n",
              "      <td>085</td>\n",
              "      <td>00008512</td>\n",
              "      <td>s002_2012_01_09</td>\n",
              "      <td>00008512_s002_t004</td>\n",
              "      <td>edf</td>\n",
              "    </tr>\n",
              "  </tbody>\n",
              "</table>\n",
              "<p>13270 rows × 8 columns</p>\n",
              "</div>\n",
              "      <button class=\"colab-df-convert\" onclick=\"convertToInteractive('df-de893de3-f730-465d-a7dd-3a584ad8a2f9')\"\n",
              "              title=\"Convert this dataframe to an interactive table.\"\n",
              "              style=\"display:none;\">\n",
              "        \n",
              "  <svg xmlns=\"http://www.w3.org/2000/svg\" height=\"24px\"viewBox=\"0 0 24 24\"\n",
              "       width=\"24px\">\n",
              "    <path d=\"M0 0h24v24H0V0z\" fill=\"none\"/>\n",
              "    <path d=\"M18.56 5.44l.94 2.06.94-2.06 2.06-.94-2.06-.94-.94-2.06-.94 2.06-2.06.94zm-11 1L8.5 8.5l.94-2.06 2.06-.94-2.06-.94L8.5 2.5l-.94 2.06-2.06.94zm10 10l.94 2.06.94-2.06 2.06-.94-2.06-.94-.94-2.06-.94 2.06-2.06.94z\"/><path d=\"M17.41 7.96l-1.37-1.37c-.4-.4-.92-.59-1.43-.59-.52 0-1.04.2-1.43.59L10.3 9.45l-7.72 7.72c-.78.78-.78 2.05 0 2.83L4 21.41c.39.39.9.59 1.41.59.51 0 1.02-.2 1.41-.59l7.78-7.78 2.81-2.81c.8-.78.8-2.07 0-2.86zM5.41 20L4 18.59l7.72-7.72 1.47 1.35L5.41 20z\"/>\n",
              "  </svg>\n",
              "      </button>\n",
              "      \n",
              "  <style>\n",
              "    .colab-df-container {\n",
              "      display:flex;\n",
              "      flex-wrap:wrap;\n",
              "      gap: 12px;\n",
              "    }\n",
              "\n",
              "    .colab-df-convert {\n",
              "      background-color: #E8F0FE;\n",
              "      border: none;\n",
              "      border-radius: 50%;\n",
              "      cursor: pointer;\n",
              "      display: none;\n",
              "      fill: #1967D2;\n",
              "      height: 32px;\n",
              "      padding: 0 0 0 0;\n",
              "      width: 32px;\n",
              "    }\n",
              "\n",
              "    .colab-df-convert:hover {\n",
              "      background-color: #E2EBFA;\n",
              "      box-shadow: 0px 1px 2px rgba(60, 64, 67, 0.3), 0px 1px 3px 1px rgba(60, 64, 67, 0.15);\n",
              "      fill: #174EA6;\n",
              "    }\n",
              "\n",
              "    [theme=dark] .colab-df-convert {\n",
              "      background-color: #3B4455;\n",
              "      fill: #D2E3FC;\n",
              "    }\n",
              "\n",
              "    [theme=dark] .colab-df-convert:hover {\n",
              "      background-color: #434B5C;\n",
              "      box-shadow: 0px 1px 3px 1px rgba(0, 0, 0, 0.15);\n",
              "      filter: drop-shadow(0px 1px 2px rgba(0, 0, 0, 0.3));\n",
              "      fill: #FFFFFF;\n",
              "    }\n",
              "  </style>\n",
              "\n",
              "      <script>\n",
              "        const buttonEl =\n",
              "          document.querySelector('#df-de893de3-f730-465d-a7dd-3a584ad8a2f9 button.colab-df-convert');\n",
              "        buttonEl.style.display =\n",
              "          google.colab.kernel.accessAllowed ? 'block' : 'none';\n",
              "\n",
              "        async function convertToInteractive(key) {\n",
              "          const element = document.querySelector('#df-de893de3-f730-465d-a7dd-3a584ad8a2f9');\n",
              "          const dataTable =\n",
              "            await google.colab.kernel.invokeFunction('convertToInteractive',\n",
              "                                                     [key], {});\n",
              "          if (!dataTable) return;\n",
              "\n",
              "          const docLinkHtml = 'Like what you see? Visit the ' +\n",
              "            '<a target=\"_blank\" href=https://colab.research.google.com/notebooks/data_table.ipynb>data table notebook</a>'\n",
              "            + ' to learn more about interactive tables.';\n",
              "          element.innerHTML = '';\n",
              "          dataTable['output_type'] = 'display_data';\n",
              "          await google.colab.output.renderOutput(dataTable, element);\n",
              "          const docLink = document.createElement('div');\n",
              "          docLink.innerHTML = docLinkHtml;\n",
              "          element.appendChild(docLink);\n",
              "        }\n",
              "      </script>\n",
              "    </div>\n",
              "  </div>\n",
              "  "
            ]
          },
          "metadata": {},
          "execution_count": 25
        }
      ]
    },
    {
      "cell_type": "code",
      "source": [
        ""
      ],
      "metadata": {
        "id": "v3ulBFUCC-M7"
      },
      "execution_count": null,
      "outputs": []
    },
    {
      "cell_type": "code",
      "source": [
        "channels = ['EEG FP1-REF',\n",
        "              'EEG FP2-REF',\n",
        "              'EEG F3-REF',\n",
        "              'EEG F4-REF',\n",
        "              'EEG C3-REF',\n",
        "              'EEG C4-REF',\n",
        "              'EEG P3-REF',\n",
        "              'EEG P4-REF',\n",
        "              'EEG O1-REF',\n",
        "              'EEG O2-REF',\n",
        "              'EEG F7-REF',\n",
        "              'EEG F8-REF',\n",
        "              'EEG T3-REF',\n",
        "              'EEG T4-REF',\n",
        "              'EEG T5-REF',\n",
        "              'EEG T6-REF',\n",
        "              'EEG FZ-REF',\n",
        "              'EEG CZ-REF',\n",
        "              'EEG PZ-REF',\n",
        "              'EEG A1-REF',\n",
        "              'EEG A2-REF']"
      ],
      "metadata": {
        "id": "gdsSe1ctsYuI"
      },
      "execution_count": null,
      "outputs": []
    },
    {
      "cell_type": "code",
      "source": [
        "#creating a separate column for each of the channels\n",
        "for i in range(0,len(channels)):\n",
        "  for name in channels:\n",
        "    data_files[name] = 'NaN'"
      ],
      "metadata": {
        "id": "twKhIgImnF-M"
      },
      "execution_count": null,
      "outputs": []
    },
    {
      "cell_type": "code",
      "source": [
        "data_files.head()"
      ],
      "metadata": {
        "colab": {
          "base_uri": "https://localhost:8080/",
          "height": 334
        },
        "id": "KCUPzAm0rztz",
        "outputId": "f720e66e-8af2-4dd1-d5a0-f7f27cb6be92"
      },
      "execution_count": null,
      "outputs": [
        {
          "output_type": "execute_result",
          "data": {
            "text/plain": [
              "    type            2    3         4                5                filename  \\\n",
              "0  train  03_tcp_ar_a  072  00007221  s003_2010_11_01  00007221_s003_t003.edf   \n",
              "1  train  03_tcp_ar_a  072  00007221  s003_2010_11_01  00007221_s003_t004.edf   \n",
              "2  train  03_tcp_ar_a  072  00007234  s002_2010_11_24  00007234_s002_t000.edf   \n",
              "3  train  03_tcp_ar_a  072  00007234  s002_2010_11_24  00007234_s002_t001.edf   \n",
              "4  train  03_tcp_ar_a  072  00007234  s002_2010_11_24  00007234_s002_t002.edf   \n",
              "\n",
              "  EEG FP1-REF EEG FP2-REF EEG F3-REF EEG F4-REF  ... EEG F8-REF EEG T3-REF  \\\n",
              "0         NaN         NaN        NaN        NaN  ...        NaN        NaN   \n",
              "1         NaN         NaN        NaN        NaN  ...        NaN        NaN   \n",
              "2         NaN         NaN        NaN        NaN  ...        NaN        NaN   \n",
              "3         NaN         NaN        NaN        NaN  ...        NaN        NaN   \n",
              "4         NaN         NaN        NaN        NaN  ...        NaN        NaN   \n",
              "\n",
              "  EEG T4-REF EEG T5-REF EEG T6-REF EEG FZ-REF EEG CZ-REF EEG PZ-REF  \\\n",
              "0        NaN        NaN        NaN        NaN        NaN        NaN   \n",
              "1        NaN        NaN        NaN        NaN        NaN        NaN   \n",
              "2        NaN        NaN        NaN        NaN        NaN        NaN   \n",
              "3        NaN        NaN        NaN        NaN        NaN        NaN   \n",
              "4        NaN        NaN        NaN        NaN        NaN        NaN   \n",
              "\n",
              "  EEG A1-REF EEG A2-REF  \n",
              "0        NaN        NaN  \n",
              "1        NaN        NaN  \n",
              "2        NaN        NaN  \n",
              "3        NaN        NaN  \n",
              "4        NaN        NaN  \n",
              "\n",
              "[5 rows x 27 columns]"
            ],
            "text/html": [
              "\n",
              "  <div id=\"df-9cfaea3a-754b-423b-b9ba-c24455ddfd6b\">\n",
              "    <div class=\"colab-df-container\">\n",
              "      <div>\n",
              "<style scoped>\n",
              "    .dataframe tbody tr th:only-of-type {\n",
              "        vertical-align: middle;\n",
              "    }\n",
              "\n",
              "    .dataframe tbody tr th {\n",
              "        vertical-align: top;\n",
              "    }\n",
              "\n",
              "    .dataframe thead th {\n",
              "        text-align: right;\n",
              "    }\n",
              "</style>\n",
              "<table border=\"1\" class=\"dataframe\">\n",
              "  <thead>\n",
              "    <tr style=\"text-align: right;\">\n",
              "      <th></th>\n",
              "      <th>type</th>\n",
              "      <th>2</th>\n",
              "      <th>3</th>\n",
              "      <th>4</th>\n",
              "      <th>5</th>\n",
              "      <th>filename</th>\n",
              "      <th>EEG FP1-REF</th>\n",
              "      <th>EEG FP2-REF</th>\n",
              "      <th>EEG F3-REF</th>\n",
              "      <th>EEG F4-REF</th>\n",
              "      <th>...</th>\n",
              "      <th>EEG F8-REF</th>\n",
              "      <th>EEG T3-REF</th>\n",
              "      <th>EEG T4-REF</th>\n",
              "      <th>EEG T5-REF</th>\n",
              "      <th>EEG T6-REF</th>\n",
              "      <th>EEG FZ-REF</th>\n",
              "      <th>EEG CZ-REF</th>\n",
              "      <th>EEG PZ-REF</th>\n",
              "      <th>EEG A1-REF</th>\n",
              "      <th>EEG A2-REF</th>\n",
              "    </tr>\n",
              "  </thead>\n",
              "  <tbody>\n",
              "    <tr>\n",
              "      <th>0</th>\n",
              "      <td>train</td>\n",
              "      <td>03_tcp_ar_a</td>\n",
              "      <td>072</td>\n",
              "      <td>00007221</td>\n",
              "      <td>s003_2010_11_01</td>\n",
              "      <td>00007221_s003_t003.edf</td>\n",
              "      <td>NaN</td>\n",
              "      <td>NaN</td>\n",
              "      <td>NaN</td>\n",
              "      <td>NaN</td>\n",
              "      <td>...</td>\n",
              "      <td>NaN</td>\n",
              "      <td>NaN</td>\n",
              "      <td>NaN</td>\n",
              "      <td>NaN</td>\n",
              "      <td>NaN</td>\n",
              "      <td>NaN</td>\n",
              "      <td>NaN</td>\n",
              "      <td>NaN</td>\n",
              "      <td>NaN</td>\n",
              "      <td>NaN</td>\n",
              "    </tr>\n",
              "    <tr>\n",
              "      <th>1</th>\n",
              "      <td>train</td>\n",
              "      <td>03_tcp_ar_a</td>\n",
              "      <td>072</td>\n",
              "      <td>00007221</td>\n",
              "      <td>s003_2010_11_01</td>\n",
              "      <td>00007221_s003_t004.edf</td>\n",
              "      <td>NaN</td>\n",
              "      <td>NaN</td>\n",
              "      <td>NaN</td>\n",
              "      <td>NaN</td>\n",
              "      <td>...</td>\n",
              "      <td>NaN</td>\n",
              "      <td>NaN</td>\n",
              "      <td>NaN</td>\n",
              "      <td>NaN</td>\n",
              "      <td>NaN</td>\n",
              "      <td>NaN</td>\n",
              "      <td>NaN</td>\n",
              "      <td>NaN</td>\n",
              "      <td>NaN</td>\n",
              "      <td>NaN</td>\n",
              "    </tr>\n",
              "    <tr>\n",
              "      <th>2</th>\n",
              "      <td>train</td>\n",
              "      <td>03_tcp_ar_a</td>\n",
              "      <td>072</td>\n",
              "      <td>00007234</td>\n",
              "      <td>s002_2010_11_24</td>\n",
              "      <td>00007234_s002_t000.edf</td>\n",
              "      <td>NaN</td>\n",
              "      <td>NaN</td>\n",
              "      <td>NaN</td>\n",
              "      <td>NaN</td>\n",
              "      <td>...</td>\n",
              "      <td>NaN</td>\n",
              "      <td>NaN</td>\n",
              "      <td>NaN</td>\n",
              "      <td>NaN</td>\n",
              "      <td>NaN</td>\n",
              "      <td>NaN</td>\n",
              "      <td>NaN</td>\n",
              "      <td>NaN</td>\n",
              "      <td>NaN</td>\n",
              "      <td>NaN</td>\n",
              "    </tr>\n",
              "    <tr>\n",
              "      <th>3</th>\n",
              "      <td>train</td>\n",
              "      <td>03_tcp_ar_a</td>\n",
              "      <td>072</td>\n",
              "      <td>00007234</td>\n",
              "      <td>s002_2010_11_24</td>\n",
              "      <td>00007234_s002_t001.edf</td>\n",
              "      <td>NaN</td>\n",
              "      <td>NaN</td>\n",
              "      <td>NaN</td>\n",
              "      <td>NaN</td>\n",
              "      <td>...</td>\n",
              "      <td>NaN</td>\n",
              "      <td>NaN</td>\n",
              "      <td>NaN</td>\n",
              "      <td>NaN</td>\n",
              "      <td>NaN</td>\n",
              "      <td>NaN</td>\n",
              "      <td>NaN</td>\n",
              "      <td>NaN</td>\n",
              "      <td>NaN</td>\n",
              "      <td>NaN</td>\n",
              "    </tr>\n",
              "    <tr>\n",
              "      <th>4</th>\n",
              "      <td>train</td>\n",
              "      <td>03_tcp_ar_a</td>\n",
              "      <td>072</td>\n",
              "      <td>00007234</td>\n",
              "      <td>s002_2010_11_24</td>\n",
              "      <td>00007234_s002_t002.edf</td>\n",
              "      <td>NaN</td>\n",
              "      <td>NaN</td>\n",
              "      <td>NaN</td>\n",
              "      <td>NaN</td>\n",
              "      <td>...</td>\n",
              "      <td>NaN</td>\n",
              "      <td>NaN</td>\n",
              "      <td>NaN</td>\n",
              "      <td>NaN</td>\n",
              "      <td>NaN</td>\n",
              "      <td>NaN</td>\n",
              "      <td>NaN</td>\n",
              "      <td>NaN</td>\n",
              "      <td>NaN</td>\n",
              "      <td>NaN</td>\n",
              "    </tr>\n",
              "  </tbody>\n",
              "</table>\n",
              "<p>5 rows × 27 columns</p>\n",
              "</div>\n",
              "      <button class=\"colab-df-convert\" onclick=\"convertToInteractive('df-9cfaea3a-754b-423b-b9ba-c24455ddfd6b')\"\n",
              "              title=\"Convert this dataframe to an interactive table.\"\n",
              "              style=\"display:none;\">\n",
              "        \n",
              "  <svg xmlns=\"http://www.w3.org/2000/svg\" height=\"24px\"viewBox=\"0 0 24 24\"\n",
              "       width=\"24px\">\n",
              "    <path d=\"M0 0h24v24H0V0z\" fill=\"none\"/>\n",
              "    <path d=\"M18.56 5.44l.94 2.06.94-2.06 2.06-.94-2.06-.94-.94-2.06-.94 2.06-2.06.94zm-11 1L8.5 8.5l.94-2.06 2.06-.94-2.06-.94L8.5 2.5l-.94 2.06-2.06.94zm10 10l.94 2.06.94-2.06 2.06-.94-2.06-.94-.94-2.06-.94 2.06-2.06.94z\"/><path d=\"M17.41 7.96l-1.37-1.37c-.4-.4-.92-.59-1.43-.59-.52 0-1.04.2-1.43.59L10.3 9.45l-7.72 7.72c-.78.78-.78 2.05 0 2.83L4 21.41c.39.39.9.59 1.41.59.51 0 1.02-.2 1.41-.59l7.78-7.78 2.81-2.81c.8-.78.8-2.07 0-2.86zM5.41 20L4 18.59l7.72-7.72 1.47 1.35L5.41 20z\"/>\n",
              "  </svg>\n",
              "      </button>\n",
              "      \n",
              "  <style>\n",
              "    .colab-df-container {\n",
              "      display:flex;\n",
              "      flex-wrap:wrap;\n",
              "      gap: 12px;\n",
              "    }\n",
              "\n",
              "    .colab-df-convert {\n",
              "      background-color: #E8F0FE;\n",
              "      border: none;\n",
              "      border-radius: 50%;\n",
              "      cursor: pointer;\n",
              "      display: none;\n",
              "      fill: #1967D2;\n",
              "      height: 32px;\n",
              "      padding: 0 0 0 0;\n",
              "      width: 32px;\n",
              "    }\n",
              "\n",
              "    .colab-df-convert:hover {\n",
              "      background-color: #E2EBFA;\n",
              "      box-shadow: 0px 1px 2px rgba(60, 64, 67, 0.3), 0px 1px 3px 1px rgba(60, 64, 67, 0.15);\n",
              "      fill: #174EA6;\n",
              "    }\n",
              "\n",
              "    [theme=dark] .colab-df-convert {\n",
              "      background-color: #3B4455;\n",
              "      fill: #D2E3FC;\n",
              "    }\n",
              "\n",
              "    [theme=dark] .colab-df-convert:hover {\n",
              "      background-color: #434B5C;\n",
              "      box-shadow: 0px 1px 3px 1px rgba(0, 0, 0, 0.15);\n",
              "      filter: drop-shadow(0px 1px 2px rgba(0, 0, 0, 0.3));\n",
              "      fill: #FFFFFF;\n",
              "    }\n",
              "  </style>\n",
              "\n",
              "      <script>\n",
              "        const buttonEl =\n",
              "          document.querySelector('#df-9cfaea3a-754b-423b-b9ba-c24455ddfd6b button.colab-df-convert');\n",
              "        buttonEl.style.display =\n",
              "          google.colab.kernel.accessAllowed ? 'block' : 'none';\n",
              "\n",
              "        async function convertToInteractive(key) {\n",
              "          const element = document.querySelector('#df-9cfaea3a-754b-423b-b9ba-c24455ddfd6b');\n",
              "          const dataTable =\n",
              "            await google.colab.kernel.invokeFunction('convertToInteractive',\n",
              "                                                     [key], {});\n",
              "          if (!dataTable) return;\n",
              "\n",
              "          const docLinkHtml = 'Like what you see? Visit the ' +\n",
              "            '<a target=\"_blank\" href=https://colab.research.google.com/notebooks/data_table.ipynb>data table notebook</a>'\n",
              "            + ' to learn more about interactive tables.';\n",
              "          element.innerHTML = '';\n",
              "          dataTable['output_type'] = 'display_data';\n",
              "          await google.colab.output.renderOutput(dataTable, element);\n",
              "          const docLink = document.createElement('div');\n",
              "          docLink.innerHTML = docLinkHtml;\n",
              "          element.appendChild(docLink);\n",
              "        }\n",
              "      </script>\n",
              "    </div>\n",
              "  </div>\n",
              "  "
            ]
          },
          "metadata": {},
          "execution_count": 44
        }
      ]
    },
    {
      "cell_type": "code",
      "source": [
        "def preprocessing(file):\n",
        "  #read the data\n",
        "  data = mne.io.read_raw_edf(file)\n",
        "  data = data.copy().load_data()\n",
        "  #notch filter 60 Hz - to get rid of the noise because of the power outlets\n",
        "  eeg_picks = mne.pick_types(data.info, eeg=True)\n",
        "  freqs = []\n",
        "  for i in range(0, int(data.info['sfreq']/2), 60):\n",
        "    if i != 0:\n",
        "      freqs.append(i)\n",
        "  data_notch = data.notch_filter(freqs=np.asarray(freqs), picks=eeg_picks)\n",
        "\n",
        "  #high pass filter\n",
        "  data_filter = data_notch.filter(l_freq=0.2, h_freq=None)\n",
        "\n",
        "  #downsampling\n",
        "  data_done = data_filter.resample(sfreq=200)\n",
        "\n",
        "  #channel reduction\n",
        "  print(data.ch_names)\n",
        "  kick_out = \"yes\"\n",
        "  channels2drop = []\n",
        "  for j in range(0, len(data.ch_names)):\n",
        "    for i in range(0, len(channels)):\n",
        "      if data.ch_names[j] == channels[i]:\n",
        "        kick_out = \"no\"\n",
        "        break\n",
        "      else:\n",
        "        kick_out = \"yes\"\n",
        "    if kick_out == \"yes\":\n",
        "      print(f\"kick out {j}\")\n",
        "      channels2drop.append(j)\n",
        "    else:\n",
        "      print(f\"keep {j}\")\n",
        "    names2drop = []\n",
        "  for i in range(0,len(channels2drop)):\n",
        "    names2drop.append(data.ch_names[channels2drop[i]])\n",
        "  for drop in names2drop:\n",
        "    data.drop_channels(data.ch_names[data.ch_names.index(drop)])\n",
        "\n",
        "  return data_done"
      ],
      "metadata": {
        "id": "K0jUSm0iISKg"
      },
      "execution_count": null,
      "outputs": []
    },
    {
      "cell_type": "code",
      "source": [
        "'''FOR FUTURE LABELING FUNCTION: '''\n",
        "xx = pd.read_csv(tse_files[0], sep=\" \", index_col=False, header=0, names = ['start','end', 'type'])\n",
        "xx.loc[0,'start']"
      ],
      "metadata": {
        "id": "iBPrAUqK4wPF",
        "outputId": "5ea5daa8-b4c4-461e-f850-0585f4319e2a",
        "colab": {
          "base_uri": "https://localhost:8080/"
        }
      },
      "execution_count": null,
      "outputs": [
        {
          "output_type": "stream",
          "name": "stderr",
          "text": [
            "/usr/local/lib/python3.7/dist-packages/pandas/util/_decorators.py:311: ParserWarning: Length of header or names does not match length of data. This leads to a loss of data with index_col=False.\n",
            "  return func(*args, **kwargs)\n"
          ]
        }
      ]
    },
    {
      "cell_type": "code",
      "source": [
        "#PRACTICE\n",
        "file = edf_files[0]\n",
        "tryout = preprocessing(file)"
      ],
      "metadata": {
        "colab": {
          "base_uri": "https://localhost:8080/"
        },
        "id": "wsk2O2RVtP6F",
        "outputId": "f3ef0ed1-12a3-45c4-e95f-41877c93bf03"
      },
      "execution_count": null,
      "outputs": [
        {
          "output_type": "stream",
          "name": "stdout",
          "text": [
            "Extracting EDF parameters from /content/drive/MyDrive/MLTSA22/Final_Project/isip_tuh_eeg/train__03_tcp_ar_a__072__00007221__s003_2010_11_01__00007221_s003_t003.edf...\n",
            "EDF file detected\n",
            "Setting channel info structure...\n",
            "Creating raw.info structure...\n",
            "Reading 0 ... 100799  =      0.000 ...   251.998 secs...\n",
            "Setting up band-stop filter\n",
            "\n",
            "FIR filter parameters\n",
            "---------------------\n",
            "Designing a one-pass, zero-phase, non-causal bandstop filter:\n",
            "- Windowed time-domain design (firwin) method\n",
            "- Hamming window with 0.0194 passband ripple and 53 dB stopband attenuation\n",
            "- Lower transition bandwidth: 0.50 Hz\n",
            "- Upper transition bandwidth: 0.50 Hz\n",
            "- Filter length: 2641 samples (6.603 sec)\n",
            "\n",
            "Filtering raw data in 1 contiguous segment\n",
            "Setting up high-pass filter at 0.2 Hz\n",
            "\n",
            "FIR filter parameters\n",
            "---------------------\n",
            "Designing a one-pass, zero-phase, non-causal highpass filter:\n",
            "- Windowed time-domain design (firwin) method\n",
            "- Hamming window with 0.0194 passband ripple and 53 dB stopband attenuation\n",
            "- Lower passband edge: 0.20\n",
            "- Lower transition bandwidth: 0.20 Hz (-6 dB cutoff frequency: 0.10 Hz)\n",
            "- Filter length: 6601 samples (16.503 sec)\n",
            "\n",
            "['EEG FP1-REF', 'EEG FP2-REF', 'EEG F3-REF', 'EEG F4-REF', 'EEG C3-REF', 'EEG C4-REF', 'EEG P3-REF', 'EEG P4-REF', 'EEG O1-REF', 'EEG O2-REF', 'EEG F7-REF', 'EEG F8-REF', 'EEG T3-REF', 'EEG T4-REF', 'EEG T5-REF', 'EEG T6-REF', 'EEG FZ-REF', 'EEG CZ-REF', 'EEG PZ-REF', 'EEG 20-REF', 'EEG 21-REF', 'EEG 22-REF', 'EEG 23-REF', 'EEG 24-REF', 'EEG 25-REF', 'EEG 26-REF', 'EEG 27-REF', 'EEG 28-REF', 'EEG 29-REF', 'EEG 30-REF', 'EEG 31-REF', 'EEG 32-REF']\n",
            "keep 0\n",
            "keep 1\n",
            "keep 2\n",
            "keep 3\n",
            "keep 4\n",
            "keep 5\n",
            "keep 6\n",
            "keep 7\n",
            "keep 8\n",
            "keep 9\n",
            "keep 10\n",
            "keep 11\n",
            "keep 12\n",
            "keep 13\n",
            "keep 14\n",
            "keep 15\n",
            "keep 16\n",
            "keep 17\n",
            "keep 18\n",
            "kick out 19\n",
            "kick out 20\n",
            "kick out 21\n",
            "kick out 22\n",
            "kick out 23\n",
            "kick out 24\n",
            "kick out 25\n",
            "kick out 26\n",
            "kick out 27\n",
            "kick out 28\n",
            "kick out 29\n",
            "kick out 30\n",
            "kick out 31\n"
          ]
        }
      ]
    },
    {
      "cell_type": "code",
      "source": [
        "data_files.columns"
      ],
      "metadata": {
        "colab": {
          "base_uri": "https://localhost:8080/"
        },
        "id": "rtMgXcZDvMtb",
        "outputId": "24e2684c-6119-4e7c-c443-e1ad4802fda5"
      },
      "execution_count": null,
      "outputs": [
        {
          "output_type": "execute_result",
          "data": {
            "text/plain": [
              "Index([       'type',             2,             3,             4,\n",
              "                   5,    'filename', 'EEG FP1-REF', 'EEG FP2-REF',\n",
              "        'EEG F3-REF',  'EEG F4-REF',  'EEG C3-REF',  'EEG C4-REF',\n",
              "        'EEG P3-REF',  'EEG P4-REF',  'EEG O1-REF',  'EEG O2-REF',\n",
              "        'EEG F7-REF',  'EEG F8-REF',  'EEG T3-REF',  'EEG T4-REF',\n",
              "        'EEG T5-REF',  'EEG T6-REF',  'EEG FZ-REF',  'EEG CZ-REF',\n",
              "        'EEG PZ-REF',  'EEG A1-REF',  'EEG A2-REF'],\n",
              "      dtype='object')"
            ]
          },
          "metadata": {},
          "execution_count": 57
        }
      ]
    },
    {
      "cell_type": "code",
      "source": [
        "try_raw = tryout.get_data()"
      ],
      "metadata": {
        "id": "XEx1ICaivcSi"
      },
      "execution_count": null,
      "outputs": []
    },
    {
      "cell_type": "code",
      "source": [
        "try_raw.shape"
      ],
      "metadata": {
        "colab": {
          "base_uri": "https://localhost:8080/"
        },
        "id": "qLv-DHeiwA7m",
        "outputId": "26a6d007-9849-40fe-e1cb-15a3d5cb3756"
      },
      "execution_count": null,
      "outputs": [
        {
          "output_type": "execute_result",
          "data": {
            "text/plain": [
              "(19, 50400)"
            ]
          },
          "metadata": {},
          "execution_count": 61
        }
      ]
    },
    {
      "cell_type": "code",
      "source": [
        "df = data_files.copy()"
      ],
      "metadata": {
        "id": "IGk6RCbGwm_g"
      },
      "execution_count": null,
      "outputs": []
    },
    {
      "cell_type": "code",
      "source": [
        "df.columns"
      ],
      "metadata": {
        "colab": {
          "base_uri": "https://localhost:8080/"
        },
        "id": "4O5hgsjIw38c",
        "outputId": "d39da950-0f7a-4790-84b4-0c9bc5111f7b"
      },
      "execution_count": null,
      "outputs": [
        {
          "output_type": "execute_result",
          "data": {
            "text/plain": [
              "Index([       'type',             2,             3,             4,\n",
              "                   5,    'filename', 'EEG FP1-REF', 'EEG FP2-REF',\n",
              "        'EEG F3-REF',  'EEG F4-REF',  'EEG C3-REF',  'EEG C4-REF',\n",
              "        'EEG P3-REF',  'EEG P4-REF',  'EEG O1-REF',  'EEG O2-REF',\n",
              "        'EEG F7-REF',  'EEG F8-REF',  'EEG T3-REF',  'EEG T4-REF',\n",
              "        'EEG T5-REF',  'EEG T6-REF',  'EEG FZ-REF',  'EEG CZ-REF',\n",
              "        'EEG PZ-REF',  'EEG A1-REF',  'EEG A2-REF'],\n",
              "      dtype='object')"
            ]
          },
          "metadata": {},
          "execution_count": 66
        }
      ]
    },
    {
      "cell_type": "code",
      "source": [
        "df.at[0, 'EEG FP1-REF'] = [0,1]"
      ],
      "metadata": {
        "id": "K5trWAytx4ls"
      },
      "execution_count": null,
      "outputs": []
    },
    {
      "cell_type": "code",
      "source": [
        "try_raw[5]"
      ],
      "metadata": {
        "colab": {
          "base_uri": "https://localhost:8080/"
        },
        "id": "iiGuHIGbxhp2",
        "outputId": "afa0d4aa-c666-4df7-b1d7-47d1b5b03329"
      },
      "execution_count": null,
      "outputs": [
        {
          "output_type": "execute_result",
          "data": {
            "text/plain": [
              "array([-3.14190838e-09, -1.01479415e-06, -2.20001439e-06, ...,\n",
              "        3.36086342e-06,  2.76147522e-06,  1.70250471e-06])"
            ]
          },
          "metadata": {},
          "execution_count": 69
        }
      ]
    },
    {
      "cell_type": "code",
      "source": [
        "#STILL PRACTICE\n",
        "list_names = tryout.ch_names\n",
        "columns = df.columns\n",
        "for name in list_names:\n",
        "  for nick in columns:\n",
        "    if name == nick:\n",
        "      pos = list_names.index(name)\n",
        "      #df.at[LINE IN DF, nick] = try_raw[pos]\n",
        "\n"
      ],
      "metadata": {
        "colab": {
          "base_uri": "https://localhost:8080/",
          "height": 131
        },
        "id": "g12FHLOovzWH",
        "outputId": "941b2574-0f45-416c-bd26-0d8672f0abc5"
      },
      "execution_count": null,
      "outputs": [
        {
          "output_type": "error",
          "ename": "SyntaxError",
          "evalue": "ignored",
          "traceback": [
            "\u001b[0;36m  File \u001b[0;32m\"<ipython-input-67-df03a548cf1d>\"\u001b[0;36m, line \u001b[0;32m5\u001b[0m\n\u001b[0;31m    if df.columns\u001b[0m\n\u001b[0m                 ^\u001b[0m\n\u001b[0;31mSyntaxError\u001b[0m\u001b[0;31m:\u001b[0m invalid syntax\n"
          ]
        }
      ]
    },
    {
      "cell_type": "code",
      "source": [
        "df_columns = data_files.columns #columns in the final data frame\n",
        "def in_the_dataframe(file):\n",
        "  timeseries = preprocessing(file)\n",
        "  data = timeseries.get_data() #array file of certain shape (21 channels after drop out)\n",
        "  channel_name = timeseries.ch_names\n",
        "  for name in channel_name:\n",
        "    for nick in df_columns:\n",
        "      if name == nick:\n",
        "        pos = list_names.index(name)\n",
        "        #data_files.at[LINE IN DF, nick] = data[pos]\n",
        "\n",
        "#Basically, you get the array like data from preprocessed edf file of shape [number of channels, number of time points],\n",
        "#add each raw of the array file (which corresponds to different channels) as a list to the corresponding cell\n",
        "#in the final data frame. BUT we also need to allign a particular    \n"
      ],
      "metadata": {
        "id": "HBYAEVqgpyir"
      },
      "execution_count": null,
      "outputs": []
    },
    {
      "cell_type": "code",
      "source": [
        "'''data_first = preprocessing(file[0])\n",
        "df_first = pd.DataFrame(data_first.get_data())\n",
        "df_first['channel'] = data_first.ch_names\n",
        "df_first['patient_id'] = file[0][-22:-14]\n",
        "for i in range(1, len(file)):\n",
        "  data = preprocessing(file[i])\n",
        "  df = data.get_data()\n",
        "  df = pd.DataFrame(df)\n",
        "  df['channel'] = data.ch_names\n",
        "  df['patient_id'] = file[i][-22:-14]\n",
        "  df_first = pd.concat([df_first, df])'''"
      ],
      "metadata": {
        "colab": {
          "base_uri": "https://localhost:8080/",
          "height": 235
        },
        "id": "Z26Xdbwzq-TR",
        "outputId": "663e6d98-e0c3-40f5-999c-35c545a44228"
      },
      "execution_count": null,
      "outputs": [
        {
          "output_type": "error",
          "ename": "TypeError",
          "evalue": "ignored",
          "traceback": [
            "\u001b[0;31m---------------------------------------------------------------------------\u001b[0m",
            "\u001b[0;31mTypeError\u001b[0m                                 Traceback (most recent call last)",
            "\u001b[0;32m<ipython-input-77-f673dd3bc38b>\u001b[0m in \u001b[0;36m<module>\u001b[0;34m()\u001b[0m\n\u001b[0;32m----> 1\u001b[0;31m \u001b[0mdata_first\u001b[0m \u001b[0;34m=\u001b[0m \u001b[0mpreprocessing\u001b[0m\u001b[0;34m(\u001b[0m\u001b[0mfile\u001b[0m\u001b[0;34m[\u001b[0m\u001b[0;36m0\u001b[0m\u001b[0;34m]\u001b[0m\u001b[0;34m)\u001b[0m\u001b[0;34m\u001b[0m\u001b[0;34m\u001b[0m\u001b[0m\n\u001b[0m\u001b[1;32m      2\u001b[0m \u001b[0mdf_first\u001b[0m \u001b[0;34m=\u001b[0m \u001b[0mpd\u001b[0m\u001b[0;34m.\u001b[0m\u001b[0mDataFrame\u001b[0m\u001b[0;34m(\u001b[0m\u001b[0mdata_first\u001b[0m\u001b[0;34m.\u001b[0m\u001b[0mget_data\u001b[0m\u001b[0;34m(\u001b[0m\u001b[0;34m)\u001b[0m\u001b[0;34m)\u001b[0m\u001b[0;34m\u001b[0m\u001b[0;34m\u001b[0m\u001b[0m\n\u001b[1;32m      3\u001b[0m \u001b[0mdf_first\u001b[0m\u001b[0;34m[\u001b[0m\u001b[0;34m'channel'\u001b[0m\u001b[0;34m]\u001b[0m \u001b[0;34m=\u001b[0m \u001b[0mdata_first\u001b[0m\u001b[0;34m.\u001b[0m\u001b[0mch_names\u001b[0m\u001b[0;34m\u001b[0m\u001b[0;34m\u001b[0m\u001b[0m\n\u001b[1;32m      4\u001b[0m \u001b[0mdf_first\u001b[0m\u001b[0;34m[\u001b[0m\u001b[0;34m'patient_id'\u001b[0m\u001b[0;34m]\u001b[0m \u001b[0;34m=\u001b[0m \u001b[0mfile\u001b[0m\u001b[0;34m[\u001b[0m\u001b[0;36m0\u001b[0m\u001b[0;34m]\u001b[0m\u001b[0;34m[\u001b[0m\u001b[0;34m-\u001b[0m\u001b[0;36m22\u001b[0m\u001b[0;34m:\u001b[0m\u001b[0;34m-\u001b[0m\u001b[0;36m14\u001b[0m\u001b[0;34m]\u001b[0m\u001b[0;34m\u001b[0m\u001b[0;34m\u001b[0m\u001b[0m\n\u001b[1;32m      5\u001b[0m \u001b[0;32mfor\u001b[0m \u001b[0mi\u001b[0m \u001b[0;32min\u001b[0m \u001b[0mrange\u001b[0m\u001b[0;34m(\u001b[0m\u001b[0;36m1\u001b[0m\u001b[0;34m,\u001b[0m \u001b[0mlen\u001b[0m\u001b[0;34m(\u001b[0m\u001b[0mfile\u001b[0m\u001b[0;34m)\u001b[0m\u001b[0;34m)\u001b[0m\u001b[0;34m:\u001b[0m\u001b[0;34m\u001b[0m\u001b[0;34m\u001b[0m\u001b[0m\n",
            "\u001b[0;31mTypeError\u001b[0m: 'PosixPath' object is not subscriptable"
          ]
        }
      ]
    },
    {
      "cell_type": "code",
      "source": [
        "df_first.shape"
      ],
      "metadata": {
        "colab": {
          "base_uri": "https://localhost:8080/"
        },
        "id": "_paHFrqKrN7a",
        "outputId": "06c746bd-ac49-48a5-a7ad-79b9f914206d"
      },
      "execution_count": null,
      "outputs": [
        {
          "output_type": "execute_result",
          "data": {
            "text/plain": [
              "(96, 44802)"
            ]
          },
          "metadata": {},
          "execution_count": 184
        }
      ]
    },
    {
      "cell_type": "code",
      "source": [
        "df_first.columns"
      ],
      "metadata": {
        "colab": {
          "base_uri": "https://localhost:8080/"
        },
        "id": "zkMy7ImMrQ2X",
        "outputId": "b6cbe9cb-30e4-41a5-99cd-5ace0326fe56"
      },
      "execution_count": null,
      "outputs": [
        {
          "output_type": "execute_result",
          "data": {
            "text/plain": [
              "Index([    0,     1,     2,     3,     4,     5,     6,     7,     8,     9,\n",
              "       ...\n",
              "       44790, 44791, 44792, 44793, 44794, 44795, 44796, 44797, 44798, 44799],\n",
              "      dtype='object', length=44802)"
            ]
          },
          "metadata": {},
          "execution_count": 185
        }
      ]
    },
    {
      "cell_type": "code",
      "source": [
        "#DOESN'T WORK PROPERLY\n",
        "data_first = preprocessing(file[0])\n",
        "df_first = pd.DataFrame(data_first.get_data())\n",
        "df_first['channel'] = data_first.ch_names\n",
        "df_first['patient_id'] = file[0][-22:-14]\n",
        "baseline_samples = data_first.n_times\n",
        "for i in range(1, len(file)):\n",
        "  data = preprocessing(file[i])\n",
        "  df = data.get_data()\n",
        "  '''if data.n_times > baseline_samples:\n",
        "    counter = 0\n",
        "    for j in range(0, data.n_times, baseline_samples):\n",
        "      if j != 0:\n",
        "        df1 = pd.DataFrame(df[counter:j])\n",
        "        print(df1.shape)\n",
        "        print(len(data.ch_names))\n",
        "        print(df_first.shape)\n",
        "        df1['channel'] = data.ch_names\n",
        "        df1['patient_id'] = file[i][-22:-14]\n",
        "        df_first = pd.concat([df_first, df1])\n",
        "        counter += j'''\n",
        "  else:\n",
        "    df = pd.DataFrame(df)\n",
        "    df['channel'] = data.ch_names\n",
        "    df['patient_id'] = file[i][-22:-14]\n",
        "    df_first = pd.concat([df_first, df])"
      ],
      "metadata": {
        "colab": {
          "base_uri": "https://localhost:8080/"
        },
        "id": "zth7VO8MMxK0",
        "outputId": "86b0bc2d-e32c-4afa-b757-7ece901613be"
      },
      "execution_count": null,
      "outputs": [
        {
          "output_type": "stream",
          "name": "stdout",
          "text": [
            "Extracting EDF parameters from /content/drive/MyDrive/MLTSA22/Final_Project/00000258_s002_t000.edf...\n",
            "EDF file detected\n",
            "Setting channel info structure...\n",
            "Creating raw.info structure...\n",
            "Reading 0 ... 7999  =      0.000 ...    19.997 secs...\n",
            "Setting up band-stop filter\n",
            "\n",
            "FIR filter parameters\n",
            "---------------------\n",
            "Designing a one-pass, zero-phase, non-causal bandstop filter:\n",
            "- Windowed time-domain design (firwin) method\n",
            "- Hamming window with 0.0194 passband ripple and 53 dB stopband attenuation\n",
            "- Lower transition bandwidth: 0.50 Hz\n",
            "- Upper transition bandwidth: 0.50 Hz\n",
            "- Filter length: 2641 samples (6.603 sec)\n",
            "\n",
            "Filtering raw data in 1 contiguous segment\n",
            "Setting up high-pass filter at 0.2 Hz\n",
            "\n",
            "FIR filter parameters\n",
            "---------------------\n",
            "Designing a one-pass, zero-phase, non-causal highpass filter:\n",
            "- Windowed time-domain design (firwin) method\n",
            "- Hamming window with 0.0194 passband ripple and 53 dB stopband attenuation\n",
            "- Lower passband edge: 0.20\n",
            "- Lower transition bandwidth: 0.20 Hz (-6 dB cutoff frequency: 0.10 Hz)\n",
            "- Filter length: 6601 samples (16.503 sec)\n",
            "\n",
            "Extracting EDF parameters from /content/drive/MyDrive/MLTSA22/Final_Project/dev__01_tcp_ar__002__00000258__s002_2003_07_21__00000258_s002_t000.edf...\n",
            "EDF file detected\n",
            "Setting channel info structure...\n",
            "Creating raw.info structure...\n",
            "Reading 0 ... 7999  =      0.000 ...    19.997 secs...\n",
            "Setting up band-stop filter\n",
            "\n",
            "FIR filter parameters\n",
            "---------------------\n",
            "Designing a one-pass, zero-phase, non-causal bandstop filter:\n",
            "- Windowed time-domain design (firwin) method\n",
            "- Hamming window with 0.0194 passband ripple and 53 dB stopband attenuation\n",
            "- Lower transition bandwidth: 0.50 Hz\n",
            "- Upper transition bandwidth: 0.50 Hz\n",
            "- Filter length: 2641 samples (6.603 sec)\n",
            "\n",
            "Filtering raw data in 1 contiguous segment\n",
            "Setting up high-pass filter at 0.2 Hz\n",
            "\n",
            "FIR filter parameters\n",
            "---------------------\n",
            "Designing a one-pass, zero-phase, non-causal highpass filter:\n",
            "- Windowed time-domain design (firwin) method\n",
            "- Hamming window with 0.0194 passband ripple and 53 dB stopband attenuation\n",
            "- Lower passband edge: 0.20\n",
            "- Lower transition bandwidth: 0.20 Hz (-6 dB cutoff frequency: 0.10 Hz)\n",
            "- Filter length: 6601 samples (16.503 sec)\n",
            "\n",
            "Extracting EDF parameters from /content/drive/MyDrive/MLTSA22/Final_Project/dev__01_tcp_ar__002__00000258__s003_2003_07_22__00000258_s003_t001.edf...\n",
            "EDF file detected\n",
            "Setting channel info structure...\n",
            "Creating raw.info structure...\n",
            "Reading 0 ... 89599  =      0.000 ...   223.998 secs...\n",
            "Setting up band-stop filter\n",
            "\n",
            "FIR filter parameters\n",
            "---------------------\n",
            "Designing a one-pass, zero-phase, non-causal bandstop filter:\n",
            "- Windowed time-domain design (firwin) method\n",
            "- Hamming window with 0.0194 passband ripple and 53 dB stopband attenuation\n",
            "- Lower transition bandwidth: 0.50 Hz\n",
            "- Upper transition bandwidth: 0.50 Hz\n",
            "- Filter length: 2641 samples (6.603 sec)\n",
            "\n",
            "Filtering raw data in 1 contiguous segment\n",
            "Setting up high-pass filter at 0.2 Hz\n",
            "\n",
            "FIR filter parameters\n",
            "---------------------\n",
            "Designing a one-pass, zero-phase, non-causal highpass filter:\n",
            "- Windowed time-domain design (firwin) method\n",
            "- Hamming window with 0.0194 passband ripple and 53 dB stopband attenuation\n",
            "- Lower passband edge: 0.20\n",
            "- Lower transition bandwidth: 0.20 Hz (-6 dB cutoff frequency: 0.10 Hz)\n",
            "- Filter length: 6601 samples (16.503 sec)\n",
            "\n",
            "(32, 44800)\n",
            "32\n",
            "(64, 4002)\n",
            "(0, 44800)\n",
            "32\n",
            "(96, 44802)\n",
            "(0, 44800)\n",
            "32\n",
            "(128, 44802)\n",
            "(0, 44800)\n",
            "32\n",
            "(160, 44802)\n",
            "(0, 44800)\n",
            "32\n",
            "(192, 44802)\n",
            "(0, 44800)\n",
            "32\n",
            "(224, 44802)\n",
            "(0, 44800)\n",
            "32\n",
            "(256, 44802)\n",
            "(0, 44800)\n",
            "32\n",
            "(288, 44802)\n",
            "(0, 44800)\n",
            "32\n",
            "(320, 44802)\n",
            "(0, 44800)\n",
            "32\n",
            "(352, 44802)\n",
            "(0, 44800)\n",
            "32\n",
            "(384, 44802)\n"
          ]
        }
      ]
    },
    {
      "cell_type": "code",
      "source": [
        ""
      ],
      "metadata": {
        "id": "fglsim2ed08U"
      },
      "execution_count": null,
      "outputs": []
    }
  ]
}