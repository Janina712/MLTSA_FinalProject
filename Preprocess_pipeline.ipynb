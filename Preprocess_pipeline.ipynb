{
  "nbformat": 4,
  "nbformat_minor": 0,
  "metadata": {
    "colab": {
      "name": "Preprocess pipeline.ipynb",
      "provenance": [],
      "authorship_tag": "ABX9TyPNSMwZ62lLK7CKUVrw+7a7",
      "include_colab_link": true
    },
    "kernelspec": {
      "name": "python3",
      "display_name": "Python 3"
    },
    "language_info": {
      "name": "python"
    }
  },
  "cells": [
    {
      "cell_type": "markdown",
      "metadata": {
        "id": "view-in-github",
        "colab_type": "text"
      },
      "source": [
        "<a href=\"https://colab.research.google.com/github/Janina712/MLTSA_FinalProject/blob/main/Preprocess_pipeline.ipynb\" target=\"_parent\"><img src=\"https://colab.research.google.com/assets/colab-badge.svg\" alt=\"Open In Colab\"/></a>"
      ]
    },
    {
      "cell_type": "markdown",
      "source": [
        "Imports"
      ],
      "metadata": {
        "id": "qiKUcwREFOKY"
      }
    },
    {
      "cell_type": "code",
      "execution_count": 1,
      "metadata": {
        "colab": {
          "base_uri": "https://localhost:8080/"
        },
        "id": "7cUEYvffHYNh",
        "outputId": "90c0e367-e74a-4e7d-9c8f-0904b403fa3d"
      },
      "outputs": [
        {
          "output_type": "stream",
          "name": "stdout",
          "text": [
            "Collecting mne\n",
            "  Downloading mne-1.0.2-py3-none-any.whl (7.5 MB)\n",
            "\u001b[K     |████████████████████████████████| 7.5 MB 3.8 MB/s \n",
            "\u001b[?25hRequirement already satisfied: matplotlib in /usr/local/lib/python3.7/dist-packages (3.2.2)\n",
            "Requirement already satisfied: scipy>=1.1.0 in /usr/local/lib/python3.7/dist-packages (from mne) (1.4.1)\n",
            "Requirement already satisfied: tqdm in /usr/local/lib/python3.7/dist-packages (from mne) (4.64.0)\n",
            "Requirement already satisfied: numpy>=1.15.4 in /usr/local/lib/python3.7/dist-packages (from mne) (1.21.6)\n",
            "Requirement already satisfied: packaging in /usr/local/lib/python3.7/dist-packages (from mne) (21.3)\n",
            "Requirement already satisfied: pooch>=1.5 in /usr/local/lib/python3.7/dist-packages (from mne) (1.6.0)\n",
            "Requirement already satisfied: decorator in /usr/local/lib/python3.7/dist-packages (from mne) (4.4.2)\n",
            "Requirement already satisfied: jinja2 in /usr/local/lib/python3.7/dist-packages (from mne) (2.11.3)\n",
            "Requirement already satisfied: requests>=2.19.0 in /usr/local/lib/python3.7/dist-packages (from pooch>=1.5->mne) (2.23.0)\n",
            "Requirement already satisfied: appdirs>=1.3.0 in /usr/local/lib/python3.7/dist-packages (from pooch>=1.5->mne) (1.4.4)\n",
            "Requirement already satisfied: pyparsing!=3.0.5,>=2.0.2 in /usr/local/lib/python3.7/dist-packages (from packaging->mne) (3.0.8)\n",
            "Requirement already satisfied: idna<3,>=2.5 in /usr/local/lib/python3.7/dist-packages (from requests>=2.19.0->pooch>=1.5->mne) (2.10)\n",
            "Requirement already satisfied: urllib3!=1.25.0,!=1.25.1,<1.26,>=1.21.1 in /usr/local/lib/python3.7/dist-packages (from requests>=2.19.0->pooch>=1.5->mne) (1.24.3)\n",
            "Requirement already satisfied: certifi>=2017.4.17 in /usr/local/lib/python3.7/dist-packages (from requests>=2.19.0->pooch>=1.5->mne) (2021.10.8)\n",
            "Requirement already satisfied: chardet<4,>=3.0.2 in /usr/local/lib/python3.7/dist-packages (from requests>=2.19.0->pooch>=1.5->mne) (3.0.4)\n",
            "Requirement already satisfied: cycler>=0.10 in /usr/local/lib/python3.7/dist-packages (from matplotlib) (0.11.0)\n",
            "Requirement already satisfied: kiwisolver>=1.0.1 in /usr/local/lib/python3.7/dist-packages (from matplotlib) (1.4.2)\n",
            "Requirement already satisfied: python-dateutil>=2.1 in /usr/local/lib/python3.7/dist-packages (from matplotlib) (2.8.2)\n",
            "Requirement already satisfied: typing-extensions in /usr/local/lib/python3.7/dist-packages (from kiwisolver>=1.0.1->matplotlib) (4.2.0)\n",
            "Requirement already satisfied: six>=1.5 in /usr/local/lib/python3.7/dist-packages (from python-dateutil>=2.1->matplotlib) (1.15.0)\n",
            "Requirement already satisfied: MarkupSafe>=0.23 in /usr/local/lib/python3.7/dist-packages (from jinja2->mne) (2.0.1)\n",
            "Installing collected packages: mne\n",
            "Successfully installed mne-1.0.2\n"
          ]
        }
      ],
      "source": [
        "pip install mne matplotlib"
      ]
    },
    {
      "cell_type": "code",
      "source": [
        "import numpy as np\n",
        "import mne \n",
        "import pandas as pd\n",
        "import os\n",
        "import pylab as pl\n",
        "import re\n",
        "import requests\n",
        "from bs4 import BeautifulSoup\n",
        "from pathlib import Path\n",
        "from tqdm import tqdm\n",
        "import shutil\n",
        "from collections import Counter\n",
        "\n",
        "tqdm.pandas()"
      ],
      "metadata": {
        "id": "AgJ5NQMLIGfv"
      },
      "execution_count": 2,
      "outputs": []
    },
    {
      "cell_type": "markdown",
      "source": [
        "Uploading files"
      ],
      "metadata": {
        "id": "MyxsfoqRlEwV"
      }
    },
    {
      "cell_type": "code",
      "source": [
        "from google.colab import drive\n",
        "drive.mount('/content/drive')"
      ],
      "metadata": {
        "colab": {
          "base_uri": "https://localhost:8080/"
        },
        "id": "7JlvVOYzIJey",
        "outputId": "cc7b19f1-ef2a-45ed-c57f-41950e36724e"
      },
      "execution_count": 3,
      "outputs": [
        {
          "output_type": "stream",
          "name": "stdout",
          "text": [
            "Mounted at /content/drive\n"
          ]
        }
      ]
    },
    {
      "cell_type": "code",
      "source": [
        "cd /content/drive/MyDrive/MLTSA22/Final_Project/isip_tuh_eeg"
      ],
      "metadata": {
        "colab": {
          "base_uri": "https://localhost:8080/"
        },
        "id": "j5u7BCailp0S",
        "outputId": "7ec620ae-9f4d-445b-d6aa-8851abcc7cc7"
      },
      "execution_count": 4,
      "outputs": [
        {
          "output_type": "stream",
          "name": "stdout",
          "text": [
            "/content/drive/.shortcut-targets-by-id/1UmPRvBaUSHwpdFfssLmk_CxDx3urhuBi/isip_tuh_eeg\n"
          ]
        }
      ]
    },
    {
      "cell_type": "code",
      "source": [
        "!ls /content/drive/MyDrive/MLTSA22/Final_Project/isip_tuh_eeg"
      ],
      "metadata": {
        "id": "eZaRyDAglsfp"
      },
      "execution_count": null,
      "outputs": []
    },
    {
      "cell_type": "code",
      "source": [
        "drive_tuh_eeg_loc = Path('/content/drive/MyDrive/MLTSA22/Final_Project/isip_tuh_eeg')"
      ],
      "metadata": {
        "id": "oxLcccjOmEzV"
      },
      "execution_count": 19,
      "outputs": []
    },
    {
      "cell_type": "code",
      "source": [
        "working_folder = Path('/content/drive/MyDrive/MLTSA22/Final_Project/temp')"
      ],
      "metadata": {
        "id": "otMV2qLdCf7e"
      },
      "execution_count": 13,
      "outputs": []
    },
    {
      "cell_type": "markdown",
      "source": [
        "Creating a dataframe that will contain the name of all the files"
      ],
      "metadata": {
        "id": "STUwkXMBomGt"
      }
    },
    {
      "cell_type": "code",
      "source": [
        "downloaded_files = list(Path(drive_tuh_eeg_loc).glob('*'))\n",
        "downloaded_files[:3]"
      ],
      "metadata": {
        "colab": {
          "base_uri": "https://localhost:8080/"
        },
        "id": "79KXQKotBxEF",
        "outputId": "2c25647d-fb92-4522-93e6-f736977192fe"
      },
      "execution_count": 6,
      "outputs": [
        {
          "output_type": "execute_result",
          "data": {
            "text/plain": [
              "[PosixPath('/content/drive/MyDrive/MLTSA22/Final_Project/isip_tuh_eeg/train__02_tcp_le__058__00005804__s002_2008_11_05__00005804_s002_t003.tse'),\n",
              " PosixPath('/content/drive/MyDrive/MLTSA22/Final_Project/isip_tuh_eeg/train__02_tcp_le__058__00005804__s002_2008_11_05__00005804_s002_t004.tse'),\n",
              " PosixPath('/content/drive/MyDrive/MLTSA22/Final_Project/isip_tuh_eeg/train__02_tcp_le__058__00005804__s002_2008_11_05__00005804_s002_t005.tse')]"
            ]
          },
          "metadata": {},
          "execution_count": 6
        }
      ]
    },
    {
      "cell_type": "code",
      "source": [
        "# how many files we have in total\n",
        "len(downloaded_files)"
      ],
      "metadata": {
        "colab": {
          "base_uri": "https://localhost:8080/"
        },
        "id": "lXPEH3UoB552",
        "outputId": "5f83654f-8767-466a-c3d8-a0d3636e5262"
      },
      "execution_count": 7,
      "outputs": [
        {
          "output_type": "execute_result",
          "data": {
            "text/plain": [
              "13270"
            ]
          },
          "metadata": {},
          "execution_count": 7
        }
      ]
    },
    {
      "cell_type": "code",
      "source": [
        "files_raw_df = pd.DataFrame(\n",
        "  [fpath.name for fpath in downloaded_files], \n",
        "  columns = ['filename']\n",
        ")"
      ],
      "metadata": {
        "id": "0Oj0e9MAB8Nd"
      },
      "execution_count": 8,
      "outputs": []
    },
    {
      "cell_type": "code",
      "source": [
        "files_raw_df"
      ],
      "metadata": {
        "colab": {
          "base_uri": "https://localhost:8080/",
          "height": 423
        },
        "id": "g39HhADGB-GP",
        "outputId": "d4ffa680-7180-48bb-a3ef-6b809e503f53"
      },
      "execution_count": 9,
      "outputs": [
        {
          "output_type": "execute_result",
          "data": {
            "text/plain": [
              "                                                filename\n",
              "0      train__02_tcp_le__058__00005804__s002_2008_11_...\n",
              "1      train__02_tcp_le__058__00005804__s002_2008_11_...\n",
              "2      train__02_tcp_le__058__00005804__s002_2008_11_...\n",
              "3      train__02_tcp_le__058__00005804__s002_2008_11_...\n",
              "4      train__02_tcp_le__060__00006083__s003_2010_10_...\n",
              "...                                                  ...\n",
              "13265  dev__01_tcp_ar__085__00008512__s002_2012_01_09...\n",
              "13266  dev__01_tcp_ar__085__00008512__s002_2012_01_09...\n",
              "13267  dev__01_tcp_ar__085__00008512__s002_2012_01_09...\n",
              "13268  dev__01_tcp_ar__085__00008512__s002_2012_01_09...\n",
              "13269  dev__01_tcp_ar__085__00008512__s002_2012_01_09...\n",
              "\n",
              "[13270 rows x 1 columns]"
            ],
            "text/html": [
              "\n",
              "  <div id=\"df-bec2ec5b-2cf8-4518-a9fe-ea0137ce53f1\">\n",
              "    <div class=\"colab-df-container\">\n",
              "      <div>\n",
              "<style scoped>\n",
              "    .dataframe tbody tr th:only-of-type {\n",
              "        vertical-align: middle;\n",
              "    }\n",
              "\n",
              "    .dataframe tbody tr th {\n",
              "        vertical-align: top;\n",
              "    }\n",
              "\n",
              "    .dataframe thead th {\n",
              "        text-align: right;\n",
              "    }\n",
              "</style>\n",
              "<table border=\"1\" class=\"dataframe\">\n",
              "  <thead>\n",
              "    <tr style=\"text-align: right;\">\n",
              "      <th></th>\n",
              "      <th>filename</th>\n",
              "    </tr>\n",
              "  </thead>\n",
              "  <tbody>\n",
              "    <tr>\n",
              "      <th>0</th>\n",
              "      <td>train__02_tcp_le__058__00005804__s002_2008_11_...</td>\n",
              "    </tr>\n",
              "    <tr>\n",
              "      <th>1</th>\n",
              "      <td>train__02_tcp_le__058__00005804__s002_2008_11_...</td>\n",
              "    </tr>\n",
              "    <tr>\n",
              "      <th>2</th>\n",
              "      <td>train__02_tcp_le__058__00005804__s002_2008_11_...</td>\n",
              "    </tr>\n",
              "    <tr>\n",
              "      <th>3</th>\n",
              "      <td>train__02_tcp_le__058__00005804__s002_2008_11_...</td>\n",
              "    </tr>\n",
              "    <tr>\n",
              "      <th>4</th>\n",
              "      <td>train__02_tcp_le__060__00006083__s003_2010_10_...</td>\n",
              "    </tr>\n",
              "    <tr>\n",
              "      <th>...</th>\n",
              "      <td>...</td>\n",
              "    </tr>\n",
              "    <tr>\n",
              "      <th>13265</th>\n",
              "      <td>dev__01_tcp_ar__085__00008512__s002_2012_01_09...</td>\n",
              "    </tr>\n",
              "    <tr>\n",
              "      <th>13266</th>\n",
              "      <td>dev__01_tcp_ar__085__00008512__s002_2012_01_09...</td>\n",
              "    </tr>\n",
              "    <tr>\n",
              "      <th>13267</th>\n",
              "      <td>dev__01_tcp_ar__085__00008512__s002_2012_01_09...</td>\n",
              "    </tr>\n",
              "    <tr>\n",
              "      <th>13268</th>\n",
              "      <td>dev__01_tcp_ar__085__00008512__s002_2012_01_09...</td>\n",
              "    </tr>\n",
              "    <tr>\n",
              "      <th>13269</th>\n",
              "      <td>dev__01_tcp_ar__085__00008512__s002_2012_01_09...</td>\n",
              "    </tr>\n",
              "  </tbody>\n",
              "</table>\n",
              "<p>13270 rows × 1 columns</p>\n",
              "</div>\n",
              "      <button class=\"colab-df-convert\" onclick=\"convertToInteractive('df-bec2ec5b-2cf8-4518-a9fe-ea0137ce53f1')\"\n",
              "              title=\"Convert this dataframe to an interactive table.\"\n",
              "              style=\"display:none;\">\n",
              "        \n",
              "  <svg xmlns=\"http://www.w3.org/2000/svg\" height=\"24px\"viewBox=\"0 0 24 24\"\n",
              "       width=\"24px\">\n",
              "    <path d=\"M0 0h24v24H0V0z\" fill=\"none\"/>\n",
              "    <path d=\"M18.56 5.44l.94 2.06.94-2.06 2.06-.94-2.06-.94-.94-2.06-.94 2.06-2.06.94zm-11 1L8.5 8.5l.94-2.06 2.06-.94-2.06-.94L8.5 2.5l-.94 2.06-2.06.94zm10 10l.94 2.06.94-2.06 2.06-.94-2.06-.94-.94-2.06-.94 2.06-2.06.94z\"/><path d=\"M17.41 7.96l-1.37-1.37c-.4-.4-.92-.59-1.43-.59-.52 0-1.04.2-1.43.59L10.3 9.45l-7.72 7.72c-.78.78-.78 2.05 0 2.83L4 21.41c.39.39.9.59 1.41.59.51 0 1.02-.2 1.41-.59l7.78-7.78 2.81-2.81c.8-.78.8-2.07 0-2.86zM5.41 20L4 18.59l7.72-7.72 1.47 1.35L5.41 20z\"/>\n",
              "  </svg>\n",
              "      </button>\n",
              "      \n",
              "  <style>\n",
              "    .colab-df-container {\n",
              "      display:flex;\n",
              "      flex-wrap:wrap;\n",
              "      gap: 12px;\n",
              "    }\n",
              "\n",
              "    .colab-df-convert {\n",
              "      background-color: #E8F0FE;\n",
              "      border: none;\n",
              "      border-radius: 50%;\n",
              "      cursor: pointer;\n",
              "      display: none;\n",
              "      fill: #1967D2;\n",
              "      height: 32px;\n",
              "      padding: 0 0 0 0;\n",
              "      width: 32px;\n",
              "    }\n",
              "\n",
              "    .colab-df-convert:hover {\n",
              "      background-color: #E2EBFA;\n",
              "      box-shadow: 0px 1px 2px rgba(60, 64, 67, 0.3), 0px 1px 3px 1px rgba(60, 64, 67, 0.15);\n",
              "      fill: #174EA6;\n",
              "    }\n",
              "\n",
              "    [theme=dark] .colab-df-convert {\n",
              "      background-color: #3B4455;\n",
              "      fill: #D2E3FC;\n",
              "    }\n",
              "\n",
              "    [theme=dark] .colab-df-convert:hover {\n",
              "      background-color: #434B5C;\n",
              "      box-shadow: 0px 1px 3px 1px rgba(0, 0, 0, 0.15);\n",
              "      filter: drop-shadow(0px 1px 2px rgba(0, 0, 0, 0.3));\n",
              "      fill: #FFFFFF;\n",
              "    }\n",
              "  </style>\n",
              "\n",
              "      <script>\n",
              "        const buttonEl =\n",
              "          document.querySelector('#df-bec2ec5b-2cf8-4518-a9fe-ea0137ce53f1 button.colab-df-convert');\n",
              "        buttonEl.style.display =\n",
              "          google.colab.kernel.accessAllowed ? 'block' : 'none';\n",
              "\n",
              "        async function convertToInteractive(key) {\n",
              "          const element = document.querySelector('#df-bec2ec5b-2cf8-4518-a9fe-ea0137ce53f1');\n",
              "          const dataTable =\n",
              "            await google.colab.kernel.invokeFunction('convertToInteractive',\n",
              "                                                     [key], {});\n",
              "          if (!dataTable) return;\n",
              "\n",
              "          const docLinkHtml = 'Like what you see? Visit the ' +\n",
              "            '<a target=\"_blank\" href=https://colab.research.google.com/notebooks/data_table.ipynb>data table notebook</a>'\n",
              "            + ' to learn more about interactive tables.';\n",
              "          element.innerHTML = '';\n",
              "          dataTable['output_type'] = 'display_data';\n",
              "          await google.colab.output.renderOutput(dataTable, element);\n",
              "          const docLink = document.createElement('div');\n",
              "          docLink.innerHTML = docLinkHtml;\n",
              "          element.appendChild(docLink);\n",
              "        }\n",
              "      </script>\n",
              "    </div>\n",
              "  </div>\n",
              "  "
            ]
          },
          "metadata": {},
          "execution_count": 9
        }
      ]
    },
    {
      "cell_type": "code",
      "source": [
        "files_raw_df['filename'][4].split('__')"
      ],
      "metadata": {
        "colab": {
          "base_uri": "https://localhost:8080/"
        },
        "id": "aNkDH-jWCDYW",
        "outputId": "b32fb4cb-f48c-4971-f3ed-fad8151a2901"
      },
      "execution_count": 10,
      "outputs": [
        {
          "output_type": "execute_result",
          "data": {
            "text/plain": [
              "['train',\n",
              " '02_tcp_le',\n",
              " '060',\n",
              " '00006083',\n",
              " 's003_2010_10_11',\n",
              " '00006083_s003_t001.tse']"
            ]
          },
          "metadata": {},
          "execution_count": 10
        }
      ]
    },
    {
      "cell_type": "code",
      "source": [
        "def split_fname(row):\n",
        "\n",
        "  split_row_str = row['filename'].split('__')\n",
        "\n",
        "  fname, file_ext = split_row_str[-1].split('.')\n",
        "\n",
        "  row['category'] = split_row_str[0]\n",
        "  row['1_idk'] = split_row_str[1]\n",
        "  row['2_idk'] = split_row_str[2]\n",
        "  row['3_idk'] = split_row_str[3]\n",
        "  row['4_idk'] = split_row_str[4]\n",
        "  row['file_name'] = fname #fname WITHOUT file extension\n",
        "  row['file_ext'] = file_ext #file extension (.edf or .tse)\n",
        "\n",
        "  return row"
      ],
      "metadata": {
        "id": "TXos2uSXCFnS"
      },
      "execution_count": 11,
      "outputs": []
    },
    {
      "cell_type": "code",
      "source": [
        "# not the most efficient way, but it's expressive\n",
        "\n",
        "files_raw_df = files_raw_df.progress_apply(\n",
        "  split_fname, \n",
        "  axis=1\n",
        ")"
      ],
      "metadata": {
        "colab": {
          "base_uri": "https://localhost:8080/"
        },
        "id": "MSm_SYnECKFs",
        "outputId": "5220cb65-e555-490b-fb9f-8ca47e794080"
      },
      "execution_count": 12,
      "outputs": [
        {
          "output_type": "stream",
          "name": "stderr",
          "text": [
            "100%|██████████| 13270/13270 [01:06<00:00, 198.96it/s]\n"
          ]
        }
      ]
    },
    {
      "cell_type": "code",
      "source": [
        "# saving result\n",
        "files_raw_df.to_pickle(\n",
        "    Path(working_folder).joinpath('files_raw_df.pkl')\n",
        ")"
      ],
      "metadata": {
        "id": "K-CqMOmICWAQ"
      },
      "execution_count": 15,
      "outputs": []
    },
    {
      "cell_type": "markdown",
      "source": [
        "Creating a dictionary with edf files."
      ],
      "metadata": {
        "id": "fSgTkA5ZHUmc"
      }
    },
    {
      "cell_type": "code",
      "source": [
        "files_raw_df['filename']"
      ],
      "metadata": {
        "colab": {
          "base_uri": "https://localhost:8080/"
        },
        "id": "DpZ1SMc-CaaX",
        "outputId": "eea36681-6a52-43a2-d9e5-a2aebeca3ebc"
      },
      "execution_count": 17,
      "outputs": [
        {
          "output_type": "execute_result",
          "data": {
            "text/plain": [
              "0        train__02_tcp_le__058__00005804__s002_2008_11_...\n",
              "1        train__02_tcp_le__058__00005804__s002_2008_11_...\n",
              "2        train__02_tcp_le__058__00005804__s002_2008_11_...\n",
              "3        train__02_tcp_le__058__00005804__s002_2008_11_...\n",
              "4        train__02_tcp_le__060__00006083__s003_2010_10_...\n",
              "                               ...                        \n",
              "13265    dev__01_tcp_ar__085__00008512__s002_2012_01_09...\n",
              "13266    dev__01_tcp_ar__085__00008512__s002_2012_01_09...\n",
              "13267    dev__01_tcp_ar__085__00008512__s002_2012_01_09...\n",
              "13268    dev__01_tcp_ar__085__00008512__s002_2012_01_09...\n",
              "13269    dev__01_tcp_ar__085__00008512__s002_2012_01_09...\n",
              "Name: filename, Length: 13270, dtype: object"
            ]
          },
          "metadata": {},
          "execution_count": 17
        }
      ]
    },
    {
      "cell_type": "code",
      "source": [
        "file_path = drive_tuh_eeg_loc.joinpath(files_raw_df['filename'][7332])\n",
        "file_path"
      ],
      "metadata": {
        "colab": {
          "base_uri": "https://localhost:8080/"
        },
        "id": "LwOHGxrkCAEm",
        "outputId": "876662e6-30f4-40be-f905-4cc49d89e1d3"
      },
      "execution_count": 20,
      "outputs": [
        {
          "output_type": "execute_result",
          "data": {
            "text/plain": [
              "PosixPath('/content/drive/MyDrive/MLTSA22/Final_Project/isip_tuh_eeg/train__02_tcp_le__053__00005347__s001_2008_11_24__00005347_s001_t001.edf')"
            ]
          },
          "metadata": {},
          "execution_count": 20
        }
      ]
    },
    {
      "cell_type": "code",
      "source": [
        "edf_fnames_list = files_raw_df[\n",
        "  files_raw_df['file_ext'] == 'edf'\n",
        "]['filename']\n",
        "\n",
        "raw_files_dict = dict()\n",
        "for fname in tqdm(edf_fnames_list[:50]):\n",
        "  data_obj = mne.io.read_raw_edf(\n",
        "    file_path,\n",
        "    verbose=False,\n",
        "  )\n",
        "  raw_files_dict[fname] = data_obj"
      ],
      "metadata": {
        "colab": {
          "base_uri": "https://localhost:8080/"
        },
        "id": "MTJG6VKKDKOQ",
        "outputId": "e8b26e69-c347-4d96-9205-52c566c06fd3"
      },
      "execution_count": 21,
      "outputs": [
        {
          "output_type": "stream",
          "name": "stderr",
          "text": [
            "100%|██████████| 50/50 [00:01<00:00, 25.79it/s]\n"
          ]
        }
      ]
    },
    {
      "cell_type": "code",
      "source": [
        "## access by filename\n",
        "raw_files_dict[\n",
        "  'train__03_tcp_ar_a__072__00007221__s003_2010_11_01__00007221_s003_t004.edf'\n",
        "]"
      ],
      "metadata": {
        "colab": {
          "base_uri": "https://localhost:8080/",
          "height": 297
        },
        "id": "k3XMqOgjDMwW",
        "outputId": "2e39b44f-5e71-42e5-a994-2e6ee3ef9cb9"
      },
      "execution_count": 22,
      "outputs": [
        {
          "output_type": "execute_result",
          "data": {
            "text/plain": [
              "<RawEDF | train__02_tcp_le__053__00005347__s001_2008_11_24__00005347_s001_t001.edf, 41 x 234000 (936.0 s), ~44 kB, data not loaded>"
            ],
            "text/html": [
              "<table class=\"table table-hover table-striped table-sm table-responsive small\">\n",
              "    <tr>\n",
              "        <th>Measurement date</th>\n",
              "        \n",
              "        <td>November 24, 2008  13:24:15 GMT</td>\n",
              "        \n",
              "    </tr>\n",
              "    <tr>\n",
              "        <th>Experimenter</th>\n",
              "        \n",
              "        <td>Unknown</td>\n",
              "        \n",
              "    </tr>\n",
              "        <th>Participant</th>\n",
              "        \n",
              "        <td>Unknown</td>\n",
              "        \n",
              "    </tr>\n",
              "    <tr>\n",
              "        <th>Digitized points</th>\n",
              "        \n",
              "        <td>0 points</td>\n",
              "        \n",
              "    </tr>\n",
              "    <tr>\n",
              "        <th>Good channels</th>\n",
              "        <td>41 EEG</td>\n",
              "    </tr>\n",
              "    <tr>\n",
              "        <th>Bad channels</th>\n",
              "        <td>None</td>\n",
              "    </tr>\n",
              "    <tr>\n",
              "        <th>EOG channels</th>\n",
              "        <td>Not available</td>\n",
              "    </tr>\n",
              "    <tr>\n",
              "        <th>ECG channels</th>\n",
              "        <td>Not available</td>\n",
              "    \n",
              "    <tr>\n",
              "        <th>Sampling frequency</th>\n",
              "        <td>250.00 Hz</td>\n",
              "    </tr>\n",
              "    \n",
              "    \n",
              "    <tr>\n",
              "        <th>Highpass</th>\n",
              "        <td>0.00 Hz</td>\n",
              "    </tr>\n",
              "    \n",
              "    \n",
              "    <tr>\n",
              "        <th>Lowpass</th>\n",
              "        <td>125.00 Hz</td>\n",
              "    </tr>\n",
              "    \n",
              "    \n",
              "    \n",
              "    <tr>\n",
              "        <th>Filenames</th>\n",
              "        <td>train__02_tcp_le__053__00005347__s001_2008_11_24__00005347_s001_t001.edf</td>\n",
              "    </tr>\n",
              "    \n",
              "    <tr>\n",
              "        <th>Duration</th>\n",
              "        <td>00:15:35 (HH:MM:SS)</td>\n",
              "    </tr>\n",
              "</table>"
            ]
          },
          "metadata": {},
          "execution_count": 22
        }
      ]
    },
    {
      "cell_type": "markdown",
      "source": [
        "Filling our dataframe with the data from time series."
      ],
      "metadata": {
        "id": "P3ZdvsfGHgGJ"
      }
    },
    {
      "cell_type": "code",
      "source": [
        "#The channels that should overlap across different sessions based on the article CITE \n",
        "channels = ['EEG FP1-REF',\n",
        "              'EEG FP2-REF',\n",
        "              'EEG F3-REF',\n",
        "              'EEG F4-REF',\n",
        "              'EEG C3-REF',\n",
        "              'EEG C4-REF',\n",
        "              'EEG P3-REF',\n",
        "              'EEG P4-REF',\n",
        "              'EEG O1-REF',\n",
        "              'EEG O2-REF',\n",
        "              'EEG F7-REF',\n",
        "              'EEG F8-REF',\n",
        "              'EEG T3-REF',\n",
        "              'EEG T4-REF',\n",
        "              'EEG T5-REF',\n",
        "              'EEG T6-REF',\n",
        "              'EEG FZ-REF',\n",
        "              'EEG CZ-REF',\n",
        "              'EEG PZ-REF',\n",
        "              'EEG A1-REF',\n",
        "              'EEG A2-REF']"
      ],
      "metadata": {
        "id": "gdsSe1ctsYuI"
      },
      "execution_count": 28,
      "outputs": []
    },
    {
      "cell_type": "code",
      "source": [
        "work_data = files_raw_df.copy()"
      ],
      "metadata": {
        "id": "KY237FVPDPAN"
      },
      "execution_count": 29,
      "outputs": []
    },
    {
      "cell_type": "code",
      "source": [
        "#creating a separate column for each of the channels\n",
        "for i in range(0,len(channels)):\n",
        "  for name in channels:\n",
        "    work_data[name] = 'NaN'"
      ],
      "metadata": {
        "id": "twKhIgImnF-M"
      },
      "execution_count": 30,
      "outputs": []
    },
    {
      "cell_type": "code",
      "source": [
        "work_data = work_data.rename(columns = {'1_idk':'configuration','2_idk':'index','3_idk':'patient_#','4_idk':'session'})"
      ],
      "metadata": {
        "id": "PQpHTm5NJm2J"
      },
      "execution_count": 38,
      "outputs": []
    },
    {
      "cell_type": "code",
      "source": [
        "#adding columns for stop and start of the seizure and seizure type\n",
        "work_data['start'] = 'NaN'\n",
        "work_data['stop'] = 'NaN'\n",
        "work_data['seizure'] = 'NaN'"
      ],
      "metadata": {
        "id": "n7HaNY4NNurA"
      },
      "execution_count": 46,
      "outputs": []
    },
    {
      "cell_type": "code",
      "source": [
        "work_data.columns"
      ],
      "metadata": {
        "colab": {
          "base_uri": "https://localhost:8080/"
        },
        "id": "KCUPzAm0rztz",
        "outputId": "4580c902-0f56-4039-9b10-01d4e89b6ebf"
      },
      "execution_count": 62,
      "outputs": [
        {
          "output_type": "execute_result",
          "data": {
            "text/plain": [
              "Index(['filename', 'category', 'configuration', 'index', 'patient_#',\n",
              "       'session', 'file_name', 'file_ext', 'EEG FP1-REF', 'EEG FP2-REF',\n",
              "       'EEG F3-REF', 'EEG F4-REF', 'EEG C3-REF', 'EEG C4-REF', 'EEG P3-REF',\n",
              "       'EEG P4-REF', 'EEG O1-REF', 'EEG O2-REF', 'EEG F7-REF', 'EEG F8-REF',\n",
              "       'EEG T3-REF', 'EEG T4-REF', 'EEG T5-REF', 'EEG T6-REF', 'EEG FZ-REF',\n",
              "       'EEG CZ-REF', 'EEG PZ-REF', 'EEG A1-REF', 'EEG A2-REF', 'start', 'stop',\n",
              "       'seizure'],\n",
              "      dtype='object')"
            ]
          },
          "metadata": {},
          "execution_count": 62
        }
      ]
    },
    {
      "cell_type": "markdown",
      "source": [
        "From here we will take a subset of the data: only AR configuration and get rid of the tse names."
      ],
      "metadata": {
        "id": "1PhYMuioI5UP"
      }
    },
    {
      "cell_type": "code",
      "source": [
        "work_data_AR = work_data[work_data['configuration'] == '01_tcp_ar']"
      ],
      "metadata": {
        "id": "qTMzhA0qI4q4"
      },
      "execution_count": 48,
      "outputs": []
    },
    {
      "cell_type": "code",
      "source": [
        "work_data_AR = work_data[work_data['file_ext'] == 'edf']"
      ],
      "metadata": {
        "id": "ptENWjCYKLVE"
      },
      "execution_count": 61,
      "outputs": []
    },
    {
      "cell_type": "code",
      "source": [
        "def preprocessing(file):\n",
        "  #read the data\n",
        "  data = mne.io.read_raw_edf(file)\n",
        "  data = data.copy().load_data()\n",
        "  \n",
        "  #notch filter 60 Hz - to get rid of the noise because of the power outlets\n",
        "  eeg_picks = mne.pick_types(data.info, eeg=True)\n",
        "  freqs = []\n",
        "  for i in range(0, int(data.info['sfreq']/2), 60):\n",
        "    if i != 0:\n",
        "      freqs.append(i)\n",
        "  data_notch = data.notch_filter(freqs=np.asarray(freqs), picks=eeg_picks)\n",
        "\n",
        "  #high pass filter\n",
        "  data_filter = data_notch.filter(l_freq=0.2, h_freq=None)\n",
        "\n",
        "  #downsampling\n",
        "  data_done = data_filter.resample(sfreq=200)\n",
        "\n",
        "  #channel reduction\n",
        "  print(data.ch_names)\n",
        "  kick_out = \"yes\"\n",
        "  channels2drop = []\n",
        "  for j in range(0, len(data.ch_names)):\n",
        "    for i in range(0, len(channels)):\n",
        "      if data.ch_names[j] == channels[i]:\n",
        "        kick_out = \"no\"\n",
        "        break\n",
        "      else:\n",
        "        kick_out = \"yes\"\n",
        "    if kick_out == \"yes\":\n",
        "      print(f\"kick out {j}\")\n",
        "      channels2drop.append(j)\n",
        "    else:\n",
        "      print(f\"keep {j}\")\n",
        "    names2drop = []\n",
        "  for i in range(0,len(channels2drop)):\n",
        "    names2drop.append(data.ch_names[channels2drop[i]])\n",
        "  for drop in names2drop:\n",
        "    data.drop_channels(data.ch_names[data.ch_names.index(drop)])\n",
        "\n",
        "  return data_done"
      ],
      "metadata": {
        "id": "K0jUSm0iISKg"
      },
      "execution_count": 69,
      "outputs": []
    },
    {
      "cell_type": "code",
      "source": [
        "df_columns = work_data_AR.columns #columns in the final data frame\n",
        "def in_the_dataframe(filename): #takes a name from the filename column without the extension\n",
        "\n",
        "  #putting an .edf time series in the df\n",
        "  timeseries = preprocessing(filename)\n",
        "  data = timeseries.get_data()\n",
        "  channel_name = timeseries.ch_names\n",
        "  for name in channel_name:\n",
        "    for nick in df_columns: #if the channel names in df and our time series piece are the same\n",
        "      if name == nick:\n",
        "        pos = channel_name.index(name)\n",
        "        work_data_AR.at[[tryout['file_name'] == filename], work_data_AR.name] = data[pos]\n",
        "  \n",
        "  #getting a name of .tse file\n",
        "  file_tse = filename[:-3] + 'tse'\n",
        "\n",
        "  #getting time stamps and seizure type from .tse file\n",
        "  labels = pd.read_csv(file_tse, sep=\" \", index_col=False, header=0, names = ['start','stop','seizure'])\n",
        "  work_data_AR.at[[work_data_AR['file_name'] == filename], work_data_AR.start] = labels.loc[0,'start']\n",
        "  work_data_AR.at[[work_data_AR['file_name'] == filename], work_data_AR.stop] = labels.loc[0,'stop']\n",
        "  work_data_AR.at[[work_data_AR['file_name'] == filename], work_data_AR.seizure] = labels.loc[0,'seizure']\n",
        "\n",
        "  return work_data_AR\n",
        "  "
      ],
      "metadata": {
        "id": "RysvzbOqK2Hp"
      },
      "execution_count": 93,
      "outputs": []
    },
    {
      "cell_type": "code",
      "source": [
        ""
      ],
      "metadata": {
        "id": "8BuDhfqPT1x7"
      },
      "execution_count": null,
      "outputs": []
    },
    {
      "cell_type": "code",
      "source": [
        "tryout = work_data_AR.head(1)"
      ],
      "metadata": {
        "id": "fglsim2ed08U"
      },
      "execution_count": 89,
      "outputs": []
    },
    {
      "cell_type": "code",
      "source": [
        "tryout['filename'][6000]"
      ],
      "metadata": {
        "colab": {
          "base_uri": "https://localhost:8080/",
          "height": 35
        },
        "id": "uNxvPwxeUtZ7",
        "outputId": "297d6081-1231-4ec8-87e3-e6e425d25948"
      },
      "execution_count": 92,
      "outputs": [
        {
          "output_type": "execute_result",
          "data": {
            "text/plain": [
              "'train__03_tcp_ar_a__072__00007221__s003_2010_11_01__00007221_s003_t003.edf'"
            ],
            "application/vnd.google.colaboratory.intrinsic+json": {
              "type": "string"
            }
          },
          "metadata": {},
          "execution_count": 92
        }
      ]
    },
    {
      "cell_type": "code",
      "source": [
        ""
      ],
      "metadata": {
        "id": "D6LJ9aMEVV1v"
      },
      "execution_count": null,
      "outputs": []
    }
  ]
}