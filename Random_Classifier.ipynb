{
  "cells": [
    {
      "cell_type": "markdown",
      "metadata": {
        "id": "view-in-github",
        "colab_type": "text"
      },
      "source": [
        "<a href=\"https://colab.research.google.com/github/Janina712/MLTSA_FinalProject/blob/main/Random_Classifier.ipynb\" target=\"_parent\"><img src=\"https://colab.research.google.com/assets/colab-badge.svg\" alt=\"Open In Colab\"/></a>"
      ]
    },
    {
      "cell_type": "code",
      "execution_count": 1,
      "metadata": {
        "colab": {
          "base_uri": "https://localhost:8080/"
        },
        "id": "ugCJ0UCeBf5C",
        "outputId": "2887d702-07a9-462e-a36f-3e13527dd0aa"
      },
      "outputs": [
        {
          "output_type": "stream",
          "name": "stdout",
          "text": [
            "Collecting pickle5\n",
            "  Downloading pickle5-0.0.12-cp37-cp37m-manylinux_2_5_x86_64.manylinux1_x86_64.whl (256 kB)\n",
            "\u001b[K     |████████████████████████████████| 256 kB 4.2 MB/s \n",
            "\u001b[?25hInstalling collected packages: pickle5\n",
            "Successfully installed pickle5-0.0.12\n"
          ]
        }
      ],
      "source": [
        "pip install pickle5"
      ]
    },
    {
      "cell_type": "code",
      "execution_count": 2,
      "metadata": {
        "colab": {
          "base_uri": "https://localhost:8080/"
        },
        "id": "w4gx19P3HnYM",
        "outputId": "2a87e194-cff3-4887-8cea-c0a1ec745400"
      },
      "outputs": [
        {
          "output_type": "stream",
          "name": "stdout",
          "text": [
            "Populating the interactive namespace from numpy and matplotlib\n"
          ]
        }
      ],
      "source": [
        "import pandas as pd\n",
        "import numpy as np\n",
        "import pickle5 as pickle\n",
        "from pathlib import Path\n",
        "import pylab as pl\n",
        "from scipy import stats \n",
        "from scipy.stats import linregress\n",
        "import keras\n",
        "from keras.datasets import mnist\n",
        "from keras.models import Sequential\n",
        "from keras.layers import Dense\n",
        "from keras import backend as K\n",
        "import glob\n",
        "from PIL import Image\n",
        "from sklearn.model_selection import train_test_split\n",
        "from sklearn.ensemble import RandomForestClassifier\n",
        "import seaborn as sns\n",
        "from tensorflow import keras\n",
        "from keras import layers \n",
        "from keras.layers import Dense, Input, Flatten,\\\n",
        "                   Reshape, LeakyReLU as LR,\\\n",
        "                   Activation, Dropout\n",
        "from keras.models import Model, Sequential\n",
        "from sklearn.metrics import confusion_matrix, accuracy_score, classification_report\n",
        "from keras import backend as K\n",
        "from sklearn.preprocessing import scale\n",
        "from sklearn.decomposition import PCA\n",
        "\n",
        "%pylab inline"
      ]
    },
    {
      "cell_type": "code",
      "execution_count": 3,
      "metadata": {
        "colab": {
          "base_uri": "https://localhost:8080/"
        },
        "id": "SCKApBSsHwHU",
        "outputId": "c8b1f784-c119-4213-8fb4-516f7cd1fc68"
      },
      "outputs": [
        {
          "output_type": "stream",
          "name": "stdout",
          "text": [
            "Mounted at /content/drive\n"
          ]
        }
      ],
      "source": [
        "from google.colab import drive\n",
        "drive.mount('/content/drive')"
      ]
    },
    {
      "cell_type": "code",
      "execution_count": 4,
      "metadata": {
        "colab": {
          "base_uri": "https://localhost:8080/"
        },
        "id": "uxxAmz6eH3By",
        "outputId": "f4158aec-697f-4a7e-f2ee-9fb3c7d1a4c0"
      },
      "outputs": [
        {
          "output_type": "stream",
          "name": "stdout",
          "text": [
            "/content/drive/MyDrive/MLTSA22/Final_Project\n"
          ]
        }
      ],
      "source": [
        "cd /content/drive/MyDrive/MLTSA22/Final_Project"
      ]
    },
    {
      "cell_type": "code",
      "execution_count": null,
      "metadata": {
        "colab": {
          "base_uri": "https://localhost:8080/"
        },
        "id": "RYEi8og9H436",
        "outputId": "8b3d1afe-ab3c-478e-bdf0-ace1a3b9f9c5"
      },
      "outputs": [
        {
          "name": "stdout",
          "output_type": "stream",
          "text": [
            "00000258_s002_t000.edf\n",
            "00010563_s002_t004.pkl\n",
            "all_tuh_eeg_seizure_links.txt\n",
            "curated_features_w_metadata_df.pkl\n",
            "dev__01_tcp_ar__002__00000258__s002_2003_07_21__00000258_s002_t000.edf\n",
            "dev__01_tcp_ar__002__00000258__s003_2003_07_22__00000258_s003_t001.edf\n",
            "eval_balanced.pkl\n",
            "eval.pkl\n",
            "files_raw_channels_small_df.pkl\n",
            "isip_tuh_eeg\n",
            "seizures_types_v01.xlsx\n",
            "temp\n",
            "test_balanced.pkl\n",
            "test.pkl\n",
            "train_balanced.pkl\n",
            "train.csv\n",
            "train.pkl\n",
            "tree.dot\n",
            "tree.png\n"
          ]
        }
      ],
      "source": [
        "!ls /content/drive/MyDrive/MLTSA22/Final_Project"
      ]
    },
    {
      "cell_type": "code",
      "execution_count": 5,
      "metadata": {
        "id": "j-p3SOwFH8ob"
      },
      "outputs": [],
      "source": [
        "working_folder = Path('/content/drive/MyDrive/MLTSA22/Final_Project/')"
      ]
    },
    {
      "cell_type": "code",
      "execution_count": 6,
      "metadata": {
        "id": "q0fTG046He61"
      },
      "outputs": [],
      "source": [
        "with open(working_folder.joinpath('train_balanced.pkl'), \"rb\") as fh:\n",
        "  train = pickle.load(fh)"
      ]
    },
    {
      "cell_type": "code",
      "execution_count": 7,
      "metadata": {
        "id": "tmUq66H3IBX1"
      },
      "outputs": [],
      "source": [
        "with open(working_folder.joinpath('test_balanced.pkl'), \"rb\") as fh:\n",
        "  eval = pickle.load(fh)"
      ]
    },
    {
      "cell_type": "code",
      "execution_count": 8,
      "metadata": {
        "id": "GZKC6VTfIDNM"
      },
      "outputs": [],
      "source": [
        "with open(working_folder.joinpath('eval_balanced.pkl'), \"rb\") as fh:\n",
        "  test = pickle.load(fh)"
      ]
    },
    {
      "cell_type": "code",
      "execution_count": 9,
      "metadata": {
        "colab": {
          "base_uri": "https://localhost:8080/",
          "height": 299
        },
        "id": "d1y_WWKa56zs",
        "outputId": "49f86438-3c4b-4a5b-8f40-6f81eed87044"
      },
      "outputs": [
        {
          "output_type": "execute_result",
          "data": {
            "text/plain": [
              "            0         1         2         3         4           5     6  \\\n",
              "37  -0.026240  0.263965  1.664255 -1.079515  0.513776   88.422233  66.0   \n",
              "55  -0.065516  0.769533  2.951503 -1.748289  0.877230  104.069223  30.0   \n",
              "57   0.034042  0.577843  2.802170 -1.837290  0.760160  103.469787  38.0   \n",
              "108 -0.020617  0.849837  2.252118 -2.209114  0.921866   94.418940  51.0   \n",
              "111  0.055645  1.202017  2.475360 -2.518906  1.096365   97.810244  39.0   \n",
              "\n",
              "            7         8         9  ...       327       328       329  \\\n",
              "37  -0.031126  0.524506 -0.072111  ... -0.408007  0.035609 -0.013427   \n",
              "55   0.685984  0.730153 -0.226620  ... -0.288996  0.070831  0.004161   \n",
              "57   0.599843  0.285555 -0.009733  ... -0.561235 -0.224891  0.024703   \n",
              "108 -0.560592 -0.057938  0.032160  ...  0.165283 -0.387099  0.022170   \n",
              "111 -0.544213 -0.195984  0.164866  ...  1.259412 -1.526448 -0.105420   \n",
              "\n",
              "            330       331       332       333       334       335  label  \n",
              "37    18.046447  0.318961  0.054470  0.056403  0.042192  1.349573  False  \n",
              "55    28.132267  0.455210  0.133113  0.095850  0.044229  1.485900  False  \n",
              "57    23.023800  0.330814  0.144747  0.087539  0.046415  1.359942  False  \n",
              "108    8.580930  0.655852  0.085866  0.087172  0.043534  1.609611  False  \n",
              "111  114.126064  0.503182  0.098687  0.087039  0.043939  0.913309  False  \n",
              "\n",
              "[5 rows x 337 columns]"
            ],
            "text/html": [
              "\n",
              "  <div id=\"df-30869cbb-1643-4bb6-a2c5-e225024cdefd\">\n",
              "    <div class=\"colab-df-container\">\n",
              "      <div>\n",
              "<style scoped>\n",
              "    .dataframe tbody tr th:only-of-type {\n",
              "        vertical-align: middle;\n",
              "    }\n",
              "\n",
              "    .dataframe tbody tr th {\n",
              "        vertical-align: top;\n",
              "    }\n",
              "\n",
              "    .dataframe thead th {\n",
              "        text-align: right;\n",
              "    }\n",
              "</style>\n",
              "<table border=\"1\" class=\"dataframe\">\n",
              "  <thead>\n",
              "    <tr style=\"text-align: right;\">\n",
              "      <th></th>\n",
              "      <th>0</th>\n",
              "      <th>1</th>\n",
              "      <th>2</th>\n",
              "      <th>3</th>\n",
              "      <th>4</th>\n",
              "      <th>5</th>\n",
              "      <th>6</th>\n",
              "      <th>7</th>\n",
              "      <th>8</th>\n",
              "      <th>9</th>\n",
              "      <th>...</th>\n",
              "      <th>327</th>\n",
              "      <th>328</th>\n",
              "      <th>329</th>\n",
              "      <th>330</th>\n",
              "      <th>331</th>\n",
              "      <th>332</th>\n",
              "      <th>333</th>\n",
              "      <th>334</th>\n",
              "      <th>335</th>\n",
              "      <th>label</th>\n",
              "    </tr>\n",
              "  </thead>\n",
              "  <tbody>\n",
              "    <tr>\n",
              "      <th>37</th>\n",
              "      <td>-0.026240</td>\n",
              "      <td>0.263965</td>\n",
              "      <td>1.664255</td>\n",
              "      <td>-1.079515</td>\n",
              "      <td>0.513776</td>\n",
              "      <td>88.422233</td>\n",
              "      <td>66.0</td>\n",
              "      <td>-0.031126</td>\n",
              "      <td>0.524506</td>\n",
              "      <td>-0.072111</td>\n",
              "      <td>...</td>\n",
              "      <td>-0.408007</td>\n",
              "      <td>0.035609</td>\n",
              "      <td>-0.013427</td>\n",
              "      <td>18.046447</td>\n",
              "      <td>0.318961</td>\n",
              "      <td>0.054470</td>\n",
              "      <td>0.056403</td>\n",
              "      <td>0.042192</td>\n",
              "      <td>1.349573</td>\n",
              "      <td>False</td>\n",
              "    </tr>\n",
              "    <tr>\n",
              "      <th>55</th>\n",
              "      <td>-0.065516</td>\n",
              "      <td>0.769533</td>\n",
              "      <td>2.951503</td>\n",
              "      <td>-1.748289</td>\n",
              "      <td>0.877230</td>\n",
              "      <td>104.069223</td>\n",
              "      <td>30.0</td>\n",
              "      <td>0.685984</td>\n",
              "      <td>0.730153</td>\n",
              "      <td>-0.226620</td>\n",
              "      <td>...</td>\n",
              "      <td>-0.288996</td>\n",
              "      <td>0.070831</td>\n",
              "      <td>0.004161</td>\n",
              "      <td>28.132267</td>\n",
              "      <td>0.455210</td>\n",
              "      <td>0.133113</td>\n",
              "      <td>0.095850</td>\n",
              "      <td>0.044229</td>\n",
              "      <td>1.485900</td>\n",
              "      <td>False</td>\n",
              "    </tr>\n",
              "    <tr>\n",
              "      <th>57</th>\n",
              "      <td>0.034042</td>\n",
              "      <td>0.577843</td>\n",
              "      <td>2.802170</td>\n",
              "      <td>-1.837290</td>\n",
              "      <td>0.760160</td>\n",
              "      <td>103.469787</td>\n",
              "      <td>38.0</td>\n",
              "      <td>0.599843</td>\n",
              "      <td>0.285555</td>\n",
              "      <td>-0.009733</td>\n",
              "      <td>...</td>\n",
              "      <td>-0.561235</td>\n",
              "      <td>-0.224891</td>\n",
              "      <td>0.024703</td>\n",
              "      <td>23.023800</td>\n",
              "      <td>0.330814</td>\n",
              "      <td>0.144747</td>\n",
              "      <td>0.087539</td>\n",
              "      <td>0.046415</td>\n",
              "      <td>1.359942</td>\n",
              "      <td>False</td>\n",
              "    </tr>\n",
              "    <tr>\n",
              "      <th>108</th>\n",
              "      <td>-0.020617</td>\n",
              "      <td>0.849837</td>\n",
              "      <td>2.252118</td>\n",
              "      <td>-2.209114</td>\n",
              "      <td>0.921866</td>\n",
              "      <td>94.418940</td>\n",
              "      <td>51.0</td>\n",
              "      <td>-0.560592</td>\n",
              "      <td>-0.057938</td>\n",
              "      <td>0.032160</td>\n",
              "      <td>...</td>\n",
              "      <td>0.165283</td>\n",
              "      <td>-0.387099</td>\n",
              "      <td>0.022170</td>\n",
              "      <td>8.580930</td>\n",
              "      <td>0.655852</td>\n",
              "      <td>0.085866</td>\n",
              "      <td>0.087172</td>\n",
              "      <td>0.043534</td>\n",
              "      <td>1.609611</td>\n",
              "      <td>False</td>\n",
              "    </tr>\n",
              "    <tr>\n",
              "      <th>111</th>\n",
              "      <td>0.055645</td>\n",
              "      <td>1.202017</td>\n",
              "      <td>2.475360</td>\n",
              "      <td>-2.518906</td>\n",
              "      <td>1.096365</td>\n",
              "      <td>97.810244</td>\n",
              "      <td>39.0</td>\n",
              "      <td>-0.544213</td>\n",
              "      <td>-0.195984</td>\n",
              "      <td>0.164866</td>\n",
              "      <td>...</td>\n",
              "      <td>1.259412</td>\n",
              "      <td>-1.526448</td>\n",
              "      <td>-0.105420</td>\n",
              "      <td>114.126064</td>\n",
              "      <td>0.503182</td>\n",
              "      <td>0.098687</td>\n",
              "      <td>0.087039</td>\n",
              "      <td>0.043939</td>\n",
              "      <td>0.913309</td>\n",
              "      <td>False</td>\n",
              "    </tr>\n",
              "  </tbody>\n",
              "</table>\n",
              "<p>5 rows × 337 columns</p>\n",
              "</div>\n",
              "      <button class=\"colab-df-convert\" onclick=\"convertToInteractive('df-30869cbb-1643-4bb6-a2c5-e225024cdefd')\"\n",
              "              title=\"Convert this dataframe to an interactive table.\"\n",
              "              style=\"display:none;\">\n",
              "        \n",
              "  <svg xmlns=\"http://www.w3.org/2000/svg\" height=\"24px\"viewBox=\"0 0 24 24\"\n",
              "       width=\"24px\">\n",
              "    <path d=\"M0 0h24v24H0V0z\" fill=\"none\"/>\n",
              "    <path d=\"M18.56 5.44l.94 2.06.94-2.06 2.06-.94-2.06-.94-.94-2.06-.94 2.06-2.06.94zm-11 1L8.5 8.5l.94-2.06 2.06-.94-2.06-.94L8.5 2.5l-.94 2.06-2.06.94zm10 10l.94 2.06.94-2.06 2.06-.94-2.06-.94-.94-2.06-.94 2.06-2.06.94z\"/><path d=\"M17.41 7.96l-1.37-1.37c-.4-.4-.92-.59-1.43-.59-.52 0-1.04.2-1.43.59L10.3 9.45l-7.72 7.72c-.78.78-.78 2.05 0 2.83L4 21.41c.39.39.9.59 1.41.59.51 0 1.02-.2 1.41-.59l7.78-7.78 2.81-2.81c.8-.78.8-2.07 0-2.86zM5.41 20L4 18.59l7.72-7.72 1.47 1.35L5.41 20z\"/>\n",
              "  </svg>\n",
              "      </button>\n",
              "      \n",
              "  <style>\n",
              "    .colab-df-container {\n",
              "      display:flex;\n",
              "      flex-wrap:wrap;\n",
              "      gap: 12px;\n",
              "    }\n",
              "\n",
              "    .colab-df-convert {\n",
              "      background-color: #E8F0FE;\n",
              "      border: none;\n",
              "      border-radius: 50%;\n",
              "      cursor: pointer;\n",
              "      display: none;\n",
              "      fill: #1967D2;\n",
              "      height: 32px;\n",
              "      padding: 0 0 0 0;\n",
              "      width: 32px;\n",
              "    }\n",
              "\n",
              "    .colab-df-convert:hover {\n",
              "      background-color: #E2EBFA;\n",
              "      box-shadow: 0px 1px 2px rgba(60, 64, 67, 0.3), 0px 1px 3px 1px rgba(60, 64, 67, 0.15);\n",
              "      fill: #174EA6;\n",
              "    }\n",
              "\n",
              "    [theme=dark] .colab-df-convert {\n",
              "      background-color: #3B4455;\n",
              "      fill: #D2E3FC;\n",
              "    }\n",
              "\n",
              "    [theme=dark] .colab-df-convert:hover {\n",
              "      background-color: #434B5C;\n",
              "      box-shadow: 0px 1px 3px 1px rgba(0, 0, 0, 0.15);\n",
              "      filter: drop-shadow(0px 1px 2px rgba(0, 0, 0, 0.3));\n",
              "      fill: #FFFFFF;\n",
              "    }\n",
              "  </style>\n",
              "\n",
              "      <script>\n",
              "        const buttonEl =\n",
              "          document.querySelector('#df-30869cbb-1643-4bb6-a2c5-e225024cdefd button.colab-df-convert');\n",
              "        buttonEl.style.display =\n",
              "          google.colab.kernel.accessAllowed ? 'block' : 'none';\n",
              "\n",
              "        async function convertToInteractive(key) {\n",
              "          const element = document.querySelector('#df-30869cbb-1643-4bb6-a2c5-e225024cdefd');\n",
              "          const dataTable =\n",
              "            await google.colab.kernel.invokeFunction('convertToInteractive',\n",
              "                                                     [key], {});\n",
              "          if (!dataTable) return;\n",
              "\n",
              "          const docLinkHtml = 'Like what you see? Visit the ' +\n",
              "            '<a target=\"_blank\" href=https://colab.research.google.com/notebooks/data_table.ipynb>data table notebook</a>'\n",
              "            + ' to learn more about interactive tables.';\n",
              "          element.innerHTML = '';\n",
              "          dataTable['output_type'] = 'display_data';\n",
              "          await google.colab.output.renderOutput(dataTable, element);\n",
              "          const docLink = document.createElement('div');\n",
              "          docLink.innerHTML = docLinkHtml;\n",
              "          element.appendChild(docLink);\n",
              "        }\n",
              "      </script>\n",
              "    </div>\n",
              "  </div>\n",
              "  "
            ]
          },
          "metadata": {},
          "execution_count": 9
        }
      ],
      "source": [
        "train.head()"
      ]
    },
    {
      "cell_type": "markdown",
      "metadata": {
        "id": "6Jusuo2CAie_"
      },
      "source": [
        "We will try to run the RF on features: 1) as it is, 2) applying PCA, 3) after outliers removal"
      ]
    },
    {
      "cell_type": "markdown",
      "metadata": {
        "id": "3PoNsUWzCPaY"
      },
      "source": [
        "Here are the distributions of some of our features NAMES "
      ]
    },
    {
      "cell_type": "code",
      "execution_count": 10,
      "metadata": {
        "colab": {
          "base_uri": "https://localhost:8080/",
          "height": 576
        },
        "id": "KNt-iLL3uYym",
        "outputId": "9447ad8c-79fa-438c-d760-11e22f52669f"
      },
      "outputs": [
        {
          "output_type": "execute_result",
          "data": {
            "text/plain": [
              "{'boxes': [<matplotlib.lines.Line2D at 0x7ffa8f6b3710>],\n",
              " 'caps': [<matplotlib.lines.Line2D at 0x7ffa8f63d6d0>,\n",
              "  <matplotlib.lines.Line2D at 0x7ffa8f63dc10>],\n",
              " 'fliers': [<matplotlib.lines.Line2D at 0x7ffa8f6456d0>],\n",
              " 'means': [],\n",
              " 'medians': [<matplotlib.lines.Line2D at 0x7ffa8f645190>],\n",
              " 'whiskers': [<matplotlib.lines.Line2D at 0x7ffa8f6b3c50>,\n",
              "  <matplotlib.lines.Line2D at 0x7ffa8f63d190>]}"
            ]
          },
          "metadata": {},
          "execution_count": 10
        },
        {
          "output_type": "display_data",
          "data": {
            "text/plain": [
              "<Figure size 720x504 with 1 Axes>"
            ],
            "image/png": "[encoded data removed]"
          },
          "metadata": {
            "needs_background": "light"
          }
        }
      ],
      "source": [
        "fig = pl.figure(figsize = (10,7))\n",
        "pl.boxplot(train[0])\n",
        "pl.boxplot(train[1])\n"
      ]
    },
    {
      "cell_type": "code",
      "execution_count": null,
      "metadata": {
        "colab": {
          "base_uri": "https://localhost:8080/",
          "height": 281
        },
        "id": "1rFM5mkhDEsx",
        "outputId": "4295f553-a06f-4a77-c5ab-99edffd1871a"
      },
      "outputs": [
        {
          "data": {
            "image/png": "[encoded data removed]",
            "text/plain": [
              "<Figure size 432x288 with 1 Axes>"
            ]
          },
          "metadata": {},
          "output_type": "display_data"
        }
      ],
      "source": [
        "ax = train[[1,2,3,4]].plot(kind='box', title='boxplot')\n",
        "ax.set_ylim([-5, 5])\n",
        "pl.show()"
      ]
    },
    {
      "cell_type": "markdown",
      "metadata": {
        "id": "OTxc2uJUA8kw"
      },
      "source": [
        "## Running RF as it is"
      ]
    },
    {
      "cell_type": "code",
      "execution_count": null,
      "metadata": {
        "id": "7ubgNhM4BGL5"
      },
      "outputs": [],
      "source": [
        "train_features, train_labels = train.loc[:, train.columns != 'label'], train['label']\n",
        "test_features, test_labels = test.loc[:, test.columns != 'label'], test['label']\n",
        "eval_features, eval_labels = eval.loc[:, eval.columns != 'label'], eval['label']"
      ]
    },
    {
      "cell_type": "code",
      "execution_count": null,
      "metadata": {
        "colab": {
          "base_uri": "https://localhost:8080/"
        },
        "id": "ZF59L4mzBJc8",
        "outputId": "ea2a5c88-4048-465a-a8cc-c1f8d3d3e962"
      },
      "outputs": [
        {
          "name": "stdout",
          "output_type": "stream",
          "text": [
            "Training Features Shape: (106336, 336)\n",
            "Training Labels Shape: (106336,)\n",
            "Testing Features Shape: (35828, 336)\n",
            "Testing Labels Shape: (35828,)\n",
            "Validation Features Shape: (54210, 336)\n",
            "Validation Labels Shape: (54210,)\n"
          ]
        }
      ],
      "source": [
        "print('Training Features Shape:', train_features.shape)\n",
        "print('Training Labels Shape:', train_labels.shape)\n",
        "print('Testing Features Shape:', test_features.shape)\n",
        "print('Testing Labels Shape:', test_labels.shape)\n",
        "print('Validation Features Shape:', eval_features.shape)\n",
        "print('Validation Labels Shape:', eval_labels.shape)"
      ]
    },
    {
      "cell_type": "markdown",
      "metadata": {
        "id": "5YPmX1PxJyZN"
      },
      "source": [
        "Creating subset of data for training and tuning parameters"
      ]
    },
    {
      "cell_type": "code",
      "execution_count": null,
      "metadata": {
        "id": "-W0z0FVpJx07"
      },
      "outputs": [],
      "source": [
        "remove_n = round(int(train.shape[0]/3)) + 10000\n",
        "drop_indices_False = np.random.choice(\n",
        "    train[train['label'] == False].index, remove_n, replace=False\n",
        ")\n",
        "drop_indices_True = np.random.choice(\n",
        "    train[train['label'] == True].index, remove_n, replace=False\n",
        ")\n",
        "train_subset = train.drop(drop_indices_False)\n",
        "train_subset = train_subset.drop(drop_indices_True)"
      ]
    },
    {
      "cell_type": "code",
      "execution_count": null,
      "metadata": {
        "colab": {
          "base_uri": "https://localhost:8080/"
        },
        "id": "uTroMgfXJ_w5",
        "outputId": "892f8d25-1fc6-4f44-f0de-986e5076bc2a"
      },
      "outputs": [
        {
          "data": {
            "text/plain": [
              "45445"
            ]
          },
          "execution_count": 73,
          "metadata": {},
          "output_type": "execute_result"
        }
      ],
      "source": [
        "remove_n"
      ]
    },
    {
      "cell_type": "code",
      "execution_count": null,
      "metadata": {
        "colab": {
          "base_uri": "https://localhost:8080/"
        },
        "id": "lyRu0oXyKGWn",
        "outputId": "85da5a87-e10a-4326-8b17-b121e08f0d11"
      },
      "outputs": [
        {
          "data": {
            "text/plain": [
              "(15446, 337)"
            ]
          },
          "execution_count": 74,
          "metadata": {},
          "output_type": "execute_result"
        }
      ],
      "source": [
        "train_subset.shape"
      ]
    },
    {
      "cell_type": "code",
      "execution_count": null,
      "metadata": {
        "id": "qUxxScC_KGgB"
      },
      "outputs": [],
      "source": [
        "train_s_features, train_s_labels = train_subset.loc[:, train_subset.columns != 'label'], train_subset['label']"
      ]
    },
    {
      "cell_type": "code",
      "execution_count": null,
      "metadata": {
        "colab": {
          "base_uri": "https://localhost:8080/"
        },
        "id": "N7D8PeNxKKhs",
        "outputId": "95c3d3a2-740c-4406-f0ea-5d61539f3d5c"
      },
      "outputs": [
        {
          "data": {
            "text/plain": [
              "(15446, 336)"
            ]
          },
          "execution_count": 76,
          "metadata": {},
          "output_type": "execute_result"
        }
      ],
      "source": [
        "train_s_features.shape"
      ]
    },
    {
      "cell_type": "markdown",
      "metadata": {
        "id": "5rT7Jc3zJ9oz"
      },
      "source": [
        "RF fit"
      ]
    },
    {
      "cell_type": "code",
      "execution_count": null,
      "metadata": {
        "id": "Q-X9s6k6A7w7"
      },
      "outputs": [],
      "source": [
        "rf = RandomForestClassifier(\n",
        "    n_estimators = 600, random_state = 15, min_samples_leaf = 2, min_samples_split = 3, max_depth = 5\n",
        ")\n",
        "# Train the model on training data\n",
        "rf.fit(train_s_features, train_s_labels);"
      ]
    },
    {
      "cell_type": "code",
      "execution_count": null,
      "metadata": {
        "id": "-QpVAdz6BF3v"
      },
      "outputs": [],
      "source": [
        "predictions = rf.predict(eval_features)"
      ]
    },
    {
      "cell_type": "code",
      "execution_count": null,
      "metadata": {
        "colab": {
          "base_uri": "https://localhost:8080/"
        },
        "id": "2OiA1T6jBXKx",
        "outputId": "ee9bffff-82cc-48d6-e7d7-8c23ffe29b8a"
      },
      "outputs": [
        {
          "name": "stdout",
          "output_type": "stream",
          "text": [
            "During training, the accuracy score was 0.865\n",
            "During validation, the accuracy score was 0.599\n"
          ]
        }
      ],
      "source": [
        "train_score = rf.score(train_s_features, train_s_labels)\n",
        "eval_score = rf.score(eval_features, eval_labels)\n",
        "print('During training, the accuracy score was ' + str(round(train_score, 3)))\n",
        "print('During validation, the accuracy score was ' + str(round(eval_score, 3)))"
      ]
    },
    {
      "cell_type": "code",
      "execution_count": null,
      "metadata": {
        "colab": {
          "base_uri": "https://localhost:8080/"
        },
        "id": "xxZRPkYXCsKi",
        "outputId": "f0d79d5f-2834-458c-d3e8-dd23a1203c7a"
      },
      "outputs": [
        {
          "name": "stdout",
          "output_type": "stream",
          "text": [
            "              precision    recall  f1-score   support\n",
            "\n",
            "       False       0.57      0.80      0.67     27105\n",
            "        True       0.66      0.40      0.50     27105\n",
            "\n",
            "    accuracy                           0.60     54210\n",
            "   macro avg       0.62      0.60      0.58     54210\n",
            "weighted avg       0.62      0.60      0.58     54210\n",
            "\n"
          ]
        }
      ],
      "source": [
        "print(classification_report(eval_labels, predictions))"
      ]
    },
    {
      "cell_type": "code",
      "execution_count": null,
      "metadata": {
        "colab": {
          "background_save": true
        },
        "id": "Bu8sZ0FVMkC8"
      },
      "outputs": [],
      "source": [
        "# FOR TOTAL SET\n",
        "rf = RandomForestClassifier(\n",
        "    n_estimators = 600, random_state = 15, min_samples_leaf = 2, min_samples_split = 3, max_depth = 5\n",
        ")\n",
        "# Train the model on training data\n",
        "rf.fit(train_features, train_labels);"
      ]
    },
    {
      "cell_type": "code",
      "execution_count": 117,
      "metadata": {
        "id": "vjfp-Z44MqVh"
      },
      "outputs": [],
      "source": [
        "predictions = rf.predict(eval_features)"
      ]
    },
    {
      "cell_type": "code",
      "execution_count": 118,
      "metadata": {
        "id": "MTebv4gPMqps",
        "colab": {
          "base_uri": "https://localhost:8080/"
        },
        "outputId": "36b12ba7-61ee-40e0-883b-b6edb7a72733"
      },
      "outputs": [
        {
          "output_type": "stream",
          "name": "stdout",
          "text": [
            "During training, the accuracy score was 0.746\n",
            "During validation, the accuracy score was 0.612\n"
          ]
        }
      ],
      "source": [
        "train_score = rf.score(train_features, train_labels)\n",
        "eval_score = rf.score(eval_features, eval_labels)\n",
        "print('During training, the accuracy score was ' + str(round(train_score, 3)))\n",
        "print('During validation, the accuracy score was ' + str(round(eval_score, 3)))"
      ]
    },
    {
      "cell_type": "code",
      "execution_count": 119,
      "metadata": {
        "id": "aJ6ZXh9vMvEI",
        "colab": {
          "base_uri": "https://localhost:8080/"
        },
        "outputId": "7d07460d-d3e8-4f12-8439-81bcaa071704"
      },
      "outputs": [
        {
          "output_type": "stream",
          "name": "stdout",
          "text": [
            "              precision    recall  f1-score   support\n",
            "\n",
            "       False       0.59      0.75      0.66     27105\n",
            "        True       0.65      0.47      0.55     27105\n",
            "\n",
            "    accuracy                           0.61     54210\n",
            "   macro avg       0.62      0.61      0.60     54210\n",
            "weighted avg       0.62      0.61      0.60     54210\n",
            "\n"
          ]
        }
      ],
      "source": [
        "print(classification_report(eval_labels, predictions))"
      ]
    },
    {
      "cell_type": "code",
      "execution_count": 120,
      "metadata": {
        "id": "kpNjq7JDBXPW",
        "colab": {
          "base_uri": "https://localhost:8080/"
        },
        "outputId": "0e265c01-2691-40b8-b421-aa00fd6a611e"
      },
      "outputs": [
        {
          "output_type": "stream",
          "name": "stdout",
          "text": [
            "Variable:                   28 Importance: 0.04\n",
            "Variable:                  171 Importance: 0.04\n",
            "Variable:                   11 Importance: 0.03\n",
            "Variable:                   12 Importance: 0.03\n",
            "Variable:                   27 Importance: 0.03\n",
            "Variable:                  251 Importance: 0.03\n",
            "Variable:                   29 Importance: 0.02\n",
            "Variable:                   59 Importance: 0.02\n",
            "Variable:                   75 Importance: 0.02\n",
            "Variable:                  107 Importance: 0.02\n",
            "Variable:                  123 Importance: 0.02\n",
            "Variable:                  155 Importance: 0.02\n",
            "Variable:                  172 Importance: 0.02\n",
            "Variable:                  175 Importance: 0.02\n",
            "Variable:                  187 Importance: 0.02\n",
            "Variable:                  188 Importance: 0.02\n",
            "Variable:                  203 Importance: 0.02\n",
            "Variable:                    7 Importance: 0.01\n",
            "Variable:                   13 Importance: 0.01\n",
            "Variable:                   31 Importance: 0.01\n",
            "Variable:                   43 Importance: 0.01\n",
            "Variable:                   63 Importance: 0.01\n",
            "Variable:                   76 Importance: 0.01\n",
            "Variable:                   91 Importance: 0.01\n",
            "Variable:                  139 Importance: 0.01\n",
            "Variable:                  153 Importance: 0.01\n",
            "Variable:                  157 Importance: 0.01\n",
            "Variable:                  167 Importance: 0.01\n",
            "Variable:                  183 Importance: 0.01\n",
            "Variable:                  189 Importance: 0.01\n",
            "Variable:                  191 Importance: 0.01\n",
            "Variable:                  215 Importance: 0.01\n",
            "Variable:                  219 Importance: 0.01\n",
            "Variable:                  235 Importance: 0.01\n",
            "Variable:                  255 Importance: 0.01\n",
            "Variable:                  262 Importance: 0.01\n",
            "Variable:                  263 Importance: 0.01\n",
            "Variable:                  267 Importance: 0.01\n",
            "Variable:                  270 Importance: 0.01\n",
            "Variable:                  283 Importance: 0.01\n",
            "Variable:                  286 Importance: 0.01\n",
            "Variable:                  299 Importance: 0.01\n",
            "Variable:                  302 Importance: 0.01\n",
            "Variable:                  315 Importance: 0.01\n",
            "Variable:                  331 Importance: 0.01\n",
            "Variable:                    0 Importance: 0.0\n",
            "Variable:                    1 Importance: 0.0\n",
            "Variable:                    2 Importance: 0.0\n",
            "Variable:                    3 Importance: 0.0\n",
            "Variable:                    4 Importance: 0.0\n",
            "Variable:                    5 Importance: 0.0\n",
            "Variable:                    6 Importance: 0.0\n",
            "Variable:                    8 Importance: 0.0\n",
            "Variable:                    9 Importance: 0.0\n",
            "Variable:                   10 Importance: 0.0\n",
            "Variable:                   14 Importance: 0.0\n",
            "Variable:                   15 Importance: 0.0\n",
            "Variable:                   16 Importance: 0.0\n",
            "Variable:                   17 Importance: 0.0\n",
            "Variable:                   18 Importance: 0.0\n",
            "Variable:                   19 Importance: 0.0\n",
            "Variable:                   20 Importance: 0.0\n",
            "Variable:                   21 Importance: 0.0\n",
            "Variable:                   22 Importance: 0.0\n",
            "Variable:                   23 Importance: 0.0\n",
            "Variable:                   24 Importance: 0.0\n",
            "Variable:                   25 Importance: 0.0\n",
            "Variable:                   26 Importance: 0.0\n",
            "Variable:                   30 Importance: 0.0\n",
            "Variable:                   32 Importance: 0.0\n",
            "Variable:                   33 Importance: 0.0\n",
            "Variable:                   34 Importance: 0.0\n",
            "Variable:                   35 Importance: 0.0\n",
            "Variable:                   36 Importance: 0.0\n",
            "Variable:                   37 Importance: 0.0\n",
            "Variable:                   38 Importance: 0.0\n",
            "Variable:                   39 Importance: 0.0\n",
            "Variable:                   40 Importance: 0.0\n",
            "Variable:                   41 Importance: 0.0\n",
            "Variable:                   42 Importance: 0.0\n",
            "Variable:                   44 Importance: 0.0\n",
            "Variable:                   45 Importance: 0.0\n",
            "Variable:                   46 Importance: 0.0\n",
            "Variable:                   47 Importance: 0.0\n",
            "Variable:                   48 Importance: 0.0\n",
            "Variable:                   49 Importance: 0.0\n",
            "Variable:                   50 Importance: 0.0\n",
            "Variable:                   51 Importance: 0.0\n",
            "Variable:                   52 Importance: 0.0\n",
            "Variable:                   53 Importance: 0.0\n",
            "Variable:                   54 Importance: 0.0\n",
            "Variable:                   55 Importance: 0.0\n",
            "Variable:                   56 Importance: 0.0\n",
            "Variable:                   57 Importance: 0.0\n",
            "Variable:                   58 Importance: 0.0\n",
            "Variable:                   60 Importance: 0.0\n",
            "Variable:                   61 Importance: 0.0\n",
            "Variable:                   62 Importance: 0.0\n",
            "Variable:                   64 Importance: 0.0\n",
            "Variable:                   65 Importance: 0.0\n",
            "Variable:                   66 Importance: 0.0\n",
            "Variable:                   67 Importance: 0.0\n",
            "Variable:                   68 Importance: 0.0\n",
            "Variable:                   69 Importance: 0.0\n",
            "Variable:                   70 Importance: 0.0\n",
            "Variable:                   71 Importance: 0.0\n",
            "Variable:                   72 Importance: 0.0\n",
            "Variable:                   73 Importance: 0.0\n",
            "Variable:                   74 Importance: 0.0\n",
            "Variable:                   77 Importance: 0.0\n",
            "Variable:                   78 Importance: 0.0\n",
            "Variable:                   79 Importance: 0.0\n",
            "Variable:                   80 Importance: 0.0\n",
            "Variable:                   81 Importance: 0.0\n",
            "Variable:                   82 Importance: 0.0\n",
            "Variable:                   83 Importance: 0.0\n",
            "Variable:                   84 Importance: 0.0\n",
            "Variable:                   85 Importance: 0.0\n",
            "Variable:                   86 Importance: 0.0\n",
            "Variable:                   87 Importance: 0.0\n",
            "Variable:                   88 Importance: 0.0\n",
            "Variable:                   89 Importance: 0.0\n",
            "Variable:                   90 Importance: 0.0\n",
            "Variable:                   92 Importance: 0.0\n",
            "Variable:                   93 Importance: 0.0\n",
            "Variable:                   94 Importance: 0.0\n",
            "Variable:                   95 Importance: 0.0\n",
            "Variable:                   96 Importance: 0.0\n",
            "Variable:                   97 Importance: 0.0\n",
            "Variable:                   98 Importance: 0.0\n",
            "Variable:                   99 Importance: 0.0\n",
            "Variable:                  100 Importance: 0.0\n",
            "Variable:                  101 Importance: 0.0\n",
            "Variable:                  102 Importance: 0.0\n",
            "Variable:                  103 Importance: 0.0\n",
            "Variable:                  104 Importance: 0.0\n",
            "Variable:                  105 Importance: 0.0\n",
            "Variable:                  106 Importance: 0.0\n",
            "Variable:                  108 Importance: 0.0\n",
            "Variable:                  109 Importance: 0.0\n",
            "Variable:                  110 Importance: 0.0\n",
            "Variable:                  111 Importance: 0.0\n",
            "Variable:                  112 Importance: 0.0\n",
            "Variable:                  113 Importance: 0.0\n",
            "Variable:                  114 Importance: 0.0\n",
            "Variable:                  115 Importance: 0.0\n",
            "Variable:                  116 Importance: 0.0\n",
            "Variable:                  117 Importance: 0.0\n",
            "Variable:                  118 Importance: 0.0\n",
            "Variable:                  119 Importance: 0.0\n",
            "Variable:                  120 Importance: 0.0\n",
            "Variable:                  121 Importance: 0.0\n",
            "Variable:                  122 Importance: 0.0\n",
            "Variable:                  124 Importance: 0.0\n",
            "Variable:                  125 Importance: 0.0\n",
            "Variable:                  126 Importance: 0.0\n",
            "Variable:                  127 Importance: 0.0\n",
            "Variable:                  128 Importance: 0.0\n",
            "Variable:                  129 Importance: 0.0\n",
            "Variable:                  130 Importance: 0.0\n",
            "Variable:                  131 Importance: 0.0\n",
            "Variable:                  132 Importance: 0.0\n",
            "Variable:                  133 Importance: 0.0\n",
            "Variable:                  134 Importance: 0.0\n",
            "Variable:                  135 Importance: 0.0\n",
            "Variable:                  136 Importance: 0.0\n",
            "Variable:                  137 Importance: 0.0\n",
            "Variable:                  138 Importance: 0.0\n",
            "Variable:                  140 Importance: 0.0\n",
            "Variable:                  141 Importance: 0.0\n",
            "Variable:                  142 Importance: 0.0\n",
            "Variable:                  143 Importance: 0.0\n",
            "Variable:                  144 Importance: 0.0\n",
            "Variable:                  145 Importance: 0.0\n",
            "Variable:                  146 Importance: 0.0\n",
            "Variable:                  147 Importance: 0.0\n",
            "Variable:                  148 Importance: 0.0\n",
            "Variable:                  149 Importance: 0.0\n",
            "Variable:                  150 Importance: 0.0\n",
            "Variable:                  151 Importance: 0.0\n",
            "Variable:                  152 Importance: 0.0\n",
            "Variable:                  154 Importance: 0.0\n",
            "Variable:                  156 Importance: 0.0\n",
            "Variable:                  158 Importance: 0.0\n",
            "Variable:                  159 Importance: 0.0\n",
            "Variable:                  160 Importance: 0.0\n",
            "Variable:                  161 Importance: 0.0\n",
            "Variable:                  162 Importance: 0.0\n",
            "Variable:                  163 Importance: 0.0\n",
            "Variable:                  164 Importance: 0.0\n",
            "Variable:                  165 Importance: 0.0\n",
            "Variable:                  166 Importance: 0.0\n",
            "Variable:                  168 Importance: 0.0\n",
            "Variable:                  169 Importance: 0.0\n",
            "Variable:                  170 Importance: 0.0\n",
            "Variable:                  173 Importance: 0.0\n",
            "Variable:                  174 Importance: 0.0\n",
            "Variable:                  176 Importance: 0.0\n",
            "Variable:                  177 Importance: 0.0\n",
            "Variable:                  178 Importance: 0.0\n",
            "Variable:                  179 Importance: 0.0\n",
            "Variable:                  180 Importance: 0.0\n",
            "Variable:                  181 Importance: 0.0\n",
            "Variable:                  182 Importance: 0.0\n",
            "Variable:                  184 Importance: 0.0\n",
            "Variable:                  185 Importance: 0.0\n",
            "Variable:                  186 Importance: 0.0\n",
            "Variable:                  190 Importance: 0.0\n",
            "Variable:                  192 Importance: 0.0\n",
            "Variable:                  193 Importance: 0.0\n",
            "Variable:                  194 Importance: 0.0\n",
            "Variable:                  195 Importance: 0.0\n",
            "Variable:                  196 Importance: 0.0\n",
            "Variable:                  197 Importance: 0.0\n",
            "Variable:                  198 Importance: 0.0\n",
            "Variable:                  199 Importance: 0.0\n",
            "Variable:                  200 Importance: 0.0\n",
            "Variable:                  201 Importance: 0.0\n",
            "Variable:                  202 Importance: 0.0\n",
            "Variable:                  204 Importance: 0.0\n",
            "Variable:                  205 Importance: 0.0\n",
            "Variable:                  206 Importance: 0.0\n",
            "Variable:                  207 Importance: 0.0\n",
            "Variable:                  208 Importance: 0.0\n",
            "Variable:                  209 Importance: 0.0\n",
            "Variable:                  210 Importance: 0.0\n",
            "Variable:                  211 Importance: 0.0\n",
            "Variable:                  212 Importance: 0.0\n",
            "Variable:                  213 Importance: 0.0\n",
            "Variable:                  214 Importance: 0.0\n",
            "Variable:                  216 Importance: 0.0\n",
            "Variable:                  217 Importance: 0.0\n",
            "Variable:                  218 Importance: 0.0\n",
            "Variable:                  220 Importance: 0.0\n",
            "Variable:                  221 Importance: 0.0\n",
            "Variable:                  222 Importance: 0.0\n",
            "Variable:                  223 Importance: 0.0\n",
            "Variable:                  224 Importance: 0.0\n",
            "Variable:                  225 Importance: 0.0\n",
            "Variable:                  226 Importance: 0.0\n",
            "Variable:                  227 Importance: 0.0\n",
            "Variable:                  228 Importance: 0.0\n",
            "Variable:                  229 Importance: 0.0\n",
            "Variable:                  230 Importance: 0.0\n",
            "Variable:                  231 Importance: 0.0\n",
            "Variable:                  232 Importance: 0.0\n",
            "Variable:                  233 Importance: 0.0\n",
            "Variable:                  234 Importance: 0.0\n",
            "Variable:                  236 Importance: 0.0\n",
            "Variable:                  237 Importance: 0.0\n",
            "Variable:                  238 Importance: 0.0\n",
            "Variable:                  239 Importance: 0.0\n",
            "Variable:                  240 Importance: 0.0\n",
            "Variable:                  241 Importance: 0.0\n",
            "Variable:                  242 Importance: 0.0\n",
            "Variable:                  243 Importance: 0.0\n",
            "Variable:                  244 Importance: 0.0\n",
            "Variable:                  245 Importance: 0.0\n",
            "Variable:                  246 Importance: 0.0\n",
            "Variable:                  247 Importance: 0.0\n",
            "Variable:                  248 Importance: 0.0\n",
            "Variable:                  249 Importance: 0.0\n",
            "Variable:                  250 Importance: 0.0\n",
            "Variable:                  252 Importance: 0.0\n",
            "Variable:                  253 Importance: 0.0\n",
            "Variable:                  254 Importance: 0.0\n",
            "Variable:                  256 Importance: 0.0\n",
            "Variable:                  257 Importance: 0.0\n",
            "Variable:                  258 Importance: 0.0\n",
            "Variable:                  259 Importance: 0.0\n",
            "Variable:                  260 Importance: 0.0\n",
            "Variable:                  261 Importance: 0.0\n",
            "Variable:                  264 Importance: 0.0\n",
            "Variable:                  265 Importance: 0.0\n",
            "Variable:                  266 Importance: 0.0\n",
            "Variable:                  268 Importance: 0.0\n",
            "Variable:                  269 Importance: 0.0\n",
            "Variable:                  271 Importance: 0.0\n",
            "Variable:                  272 Importance: 0.0\n",
            "Variable:                  273 Importance: 0.0\n",
            "Variable:                  274 Importance: 0.0\n",
            "Variable:                  275 Importance: 0.0\n",
            "Variable:                  276 Importance: 0.0\n",
            "Variable:                  277 Importance: 0.0\n",
            "Variable:                  278 Importance: 0.0\n",
            "Variable:                  279 Importance: 0.0\n",
            "Variable:                  280 Importance: 0.0\n",
            "Variable:                  281 Importance: 0.0\n",
            "Variable:                  282 Importance: 0.0\n",
            "Variable:                  284 Importance: 0.0\n",
            "Variable:                  285 Importance: 0.0\n",
            "Variable:                  287 Importance: 0.0\n",
            "Variable:                  288 Importance: 0.0\n",
            "Variable:                  289 Importance: 0.0\n",
            "Variable:                  290 Importance: 0.0\n",
            "Variable:                  291 Importance: 0.0\n",
            "Variable:                  292 Importance: 0.0\n",
            "Variable:                  293 Importance: 0.0\n",
            "Variable:                  294 Importance: 0.0\n",
            "Variable:                  295 Importance: 0.0\n",
            "Variable:                  296 Importance: 0.0\n",
            "Variable:                  297 Importance: 0.0\n",
            "Variable:                  298 Importance: 0.0\n",
            "Variable:                  300 Importance: 0.0\n",
            "Variable:                  301 Importance: 0.0\n",
            "Variable:                  303 Importance: 0.0\n",
            "Variable:                  304 Importance: 0.0\n",
            "Variable:                  305 Importance: 0.0\n",
            "Variable:                  306 Importance: 0.0\n",
            "Variable:                  307 Importance: 0.0\n",
            "Variable:                  308 Importance: 0.0\n",
            "Variable:                  309 Importance: 0.0\n",
            "Variable:                  310 Importance: 0.0\n",
            "Variable:                  311 Importance: 0.0\n",
            "Variable:                  312 Importance: 0.0\n",
            "Variable:                  313 Importance: 0.0\n",
            "Variable:                  314 Importance: 0.0\n",
            "Variable:                  316 Importance: 0.0\n",
            "Variable:                  317 Importance: 0.0\n",
            "Variable:                  318 Importance: 0.0\n",
            "Variable:                  319 Importance: 0.0\n",
            "Variable:                  320 Importance: 0.0\n",
            "Variable:                  321 Importance: 0.0\n",
            "Variable:                  322 Importance: 0.0\n",
            "Variable:                  323 Importance: 0.0\n",
            "Variable:                  324 Importance: 0.0\n",
            "Variable:                  325 Importance: 0.0\n",
            "Variable:                  326 Importance: 0.0\n",
            "Variable:                  327 Importance: 0.0\n",
            "Variable:                  328 Importance: 0.0\n",
            "Variable:                  329 Importance: 0.0\n",
            "Variable:                  330 Importance: 0.0\n",
            "Variable:                  332 Importance: 0.0\n",
            "Variable:                  333 Importance: 0.0\n",
            "Variable:                  334 Importance: 0.0\n",
            "Variable:                  335 Importance: 0.0\n"
          ]
        }
      ],
      "source": [
        "# Get numerical feature importances\n",
        "importances = list(rf.feature_importances_)\n",
        "# List of tuples with variable and importance\n",
        "feature_importances = [(feature, round(importance, 2)) for feature, importance in zip(train.columns[:-1], importances)]\n",
        "# Sort the feature importances by most important first\n",
        "feature_importances = sorted(feature_importances, key = lambda x: x[1], reverse = True)\n",
        "# Print out the feature and importances \n",
        "[print('Variable: {:20} Importance: {}'.format(*pair)) for pair in feature_importances];"
      ]
    },
    {
      "cell_type": "code",
      "execution_count": 121,
      "metadata": {
        "id": "42V7eGN5BuFG"
      },
      "outputs": [],
      "source": [
        "cf_matrix = confusion_matrix(eval_labels, predictions)"
      ]
    },
    {
      "cell_type": "code",
      "execution_count": 122,
      "metadata": {
        "id": "0nQq1MuBCeJp",
        "colab": {
          "base_uri": "https://localhost:8080/",
          "height": 337
        },
        "outputId": "d0952e4b-b8be-4461-e77d-b9d002493692"
      },
      "outputs": [
        {
          "output_type": "display_data",
          "data": {
            "text/plain": [
              "<Figure size 432x288 with 2 Axes>"
            ],
            "image/png": "[encoded data removed]"
          },
          "metadata": {
            "needs_background": "light"
          }
        }
      ],
      "source": [
        "group_names = ['True Neg','False Pos','False Neg','True Pos']\n",
        "\n",
        "group_counts = [\"{0:0.0f}\".format(value) for value in\n",
        "                cf_matrix.flatten()]\n",
        "\n",
        "group_percentages = [\"{0:.2%}\".format(value) for value in\n",
        "                     cf_matrix.flatten()/np.sum(cf_matrix)]\n",
        "\n",
        "labels = [f\"{v1}\\n{v2}\\n{v3}\" for v1, v2, v3 in\n",
        "          zip(group_names,group_counts,group_percentages)]\n",
        "\n",
        "labels = np.asarray(labels).reshape(2,2)\n",
        "\n",
        "ax = sns.heatmap(cf_matrix, annot=labels, fmt='', cmap='Blues')\n",
        "\n",
        "ax.set_title('Seaborn Confusion Matrix with labels\\n\\n');\n",
        "ax.set_xlabel('\\nPredicted Values')\n",
        "ax.set_ylabel('Actual Values ');\n",
        "\n",
        "## Ticket labels - List must be in alphabetical order\n",
        "ax.xaxis.set_ticklabels(['False','True'])\n",
        "ax.yaxis.set_ticklabels(['False','True'])\n",
        "\n",
        "## Display the visualization of the Confusion Matrix.\n",
        "pl.show()"
      ]
    },
    {
      "cell_type": "code",
      "source": [
        "predictions_test = rf.predict(test_features)"
      ],
      "metadata": {
        "id": "MgaYfFpjrnfM"
      },
      "execution_count": 123,
      "outputs": []
    },
    {
      "cell_type": "code",
      "source": [
        "test_score = rf.score(test_features, test_labels)\n",
        "print('During test, the accuracy score was ' + str(round(test_score, 3)))"
      ],
      "metadata": {
        "colab": {
          "base_uri": "https://localhost:8080/"
        },
        "id": "4njsiH8QryPI",
        "outputId": "2272be79-c310-455b-c341-2997f402366f"
      },
      "execution_count": 124,
      "outputs": [
        {
          "output_type": "stream",
          "name": "stdout",
          "text": [
            "During test, the accuracy score was 0.639\n"
          ]
        }
      ]
    },
    {
      "cell_type": "code",
      "source": [
        "print(classification_report(test_labels, predictions_test))"
      ],
      "metadata": {
        "colab": {
          "base_uri": "https://localhost:8080/"
        },
        "id": "ZnKa1W1Lr6TM",
        "outputId": "26415eec-3c71-4174-df50-71da484b703b"
      },
      "execution_count": 125,
      "outputs": [
        {
          "output_type": "stream",
          "name": "stdout",
          "text": [
            "              precision    recall  f1-score   support\n",
            "\n",
            "       False       0.60      0.83      0.70     17914\n",
            "        True       0.72      0.45      0.55     17914\n",
            "\n",
            "    accuracy                           0.64     35828\n",
            "   macro avg       0.66      0.64      0.63     35828\n",
            "weighted avg       0.66      0.64      0.63     35828\n",
            "\n"
          ]
        }
      ]
    },
    {
      "cell_type": "code",
      "source": [
        "cf_matrix_test = confusion_matrix(test_labels, predictions_test)"
      ],
      "metadata": {
        "id": "Mv5-0NnNsLeO"
      },
      "execution_count": 126,
      "outputs": []
    },
    {
      "cell_type": "code",
      "source": [
        "group_names = ['True Neg','False Pos','False Neg','True Pos']\n",
        "\n",
        "group_counts = [\"{0:0.0f}\".format(value) for value in\n",
        "                cf_matrix_test.flatten()]\n",
        "\n",
        "group_percentages = [\"{0:.2%}\".format(value) for value in\n",
        "                     cf_matrix_test.flatten()/np.sum(cf_matrix_test)]\n",
        "\n",
        "labels = [f\"{v1}\\n{v2}\\n{v3}\" for v1, v2, v3 in\n",
        "          zip(group_names,group_counts,group_percentages)]\n",
        "\n",
        "labels = np.asarray(labels).reshape(2,2)\n",
        "\n",
        "ax = sns.heatmap(cf_matrix_test, annot=labels, fmt='', cmap='Blues')\n",
        "\n",
        "ax.set_title('Seaborn Confusion Matrix with labels\\n\\n');\n",
        "ax.set_xlabel('\\nPredicted Values')\n",
        "ax.set_ylabel('Actual Values ');\n",
        "\n",
        "## Ticket labels - List must be in alphabetical order\n",
        "ax.xaxis.set_ticklabels(['False','True'])\n",
        "ax.yaxis.set_ticklabels(['False','True'])\n",
        "\n",
        "## Display the visualization of the Confusion Matrix.\n",
        "pl.show()"
      ],
      "metadata": {
        "colab": {
          "base_uri": "https://localhost:8080/",
          "height": 337
        },
        "id": "6kliRMyKsTcO",
        "outputId": "bea12a21-da16-44f7-d5f1-1e2211803c9a"
      },
      "execution_count": 127,
      "outputs": [
        {
          "output_type": "display_data",
          "data": {
            "text/plain": [
              "<Figure size 432x288 with 2 Axes>"
            ],
            "image/png": "[encoded data removed]"
          },
          "metadata": {
            "needs_background": "light"
          }
        }
      ]
    },
    {
      "cell_type": "markdown",
      "metadata": {
        "id": "-hmDu64LDwu8"
      },
      "source": [
        "## PCA and RF"
      ]
    },
    {
      "cell_type": "code",
      "execution_count": 11,
      "metadata": {
        "id": "VJp4ctNyCnDy"
      },
      "outputs": [],
      "source": [
        "train_features, train_labels = train.loc[:, train.columns != 'label'], train['label']\n",
        "test_features, test_labels = test.loc[:, test.columns != 'label'], test['label']\n",
        "eval_features, eval_labels = eval.loc[:, eval.columns != 'label'], eval['label']"
      ]
    },
    {
      "cell_type": "code",
      "execution_count": 13,
      "metadata": {
        "id": "Y-WahIvfD3AS"
      },
      "outputs": [],
      "source": [
        "pca = PCA(n_components=100)\n",
        "new_features = pca.fit_transform(train_features)\n",
        "new_eval_features = pca.transform(eval_features)"
      ]
    },
    {
      "cell_type": "code",
      "execution_count": 14,
      "metadata": {
        "id": "gEL0as19BsgS"
      },
      "outputs": [],
      "source": [
        "# Instantiate model with 1000 decision trees\n",
        "# n_estimators = 100 standard, won't cause overfitting but increases complexity\n",
        "# max_depth - really important for accuracy, causes overfitiing\n",
        "# We generally keep min_samples_split value between 2 and 6\n",
        "# min_samples_leaf: less - overfitting, more - decreased number of parameters, basic - 1\n",
        "rf_pca = RandomForestClassifier(\n",
        "    n_estimators = 600, random_state = 42, min_samples_leaf = 1, min_samples_split = 3, max_depth = 8\n",
        ")\n",
        "# Train the model on training data\n",
        "rf_pca.fit(new_features, train_labels);"
      ]
    },
    {
      "cell_type": "code",
      "execution_count": 15,
      "metadata": {
        "id": "o3xWq9OjECqQ"
      },
      "outputs": [],
      "source": [
        "# Use the forest's predict method on the test data\n",
        "predictions_pca = rf_pca.predict(new_eval_features)"
      ]
    },
    {
      "cell_type": "code",
      "execution_count": 16,
      "metadata": {
        "colab": {
          "base_uri": "https://localhost:8080/"
        },
        "id": "3xPZuqV1Ebsl",
        "outputId": "6f1bce4d-c0e0-4b6b-b1a2-4b93c4b85e8c"
      },
      "outputs": [
        {
          "output_type": "stream",
          "name": "stdout",
          "text": [
            "During training, the accuracy score was 0.84\n",
            "During validation, the accuracy score was 0.593\n"
          ]
        }
      ],
      "source": [
        "train_pca_score = rf_pca.score(new_features, train_labels)\n",
        "eval_pca_score = rf_pca.score(new_eval_features, eval_labels)\n",
        "print('During training, the accuracy score was ' + str(round(train_pca_score, 3)))\n",
        "print('During validation, the accuracy score was ' + str(round(eval_pca_score, 3)))"
      ]
    },
    {
      "cell_type": "code",
      "execution_count": 17,
      "metadata": {
        "colab": {
          "base_uri": "https://localhost:8080/"
        },
        "id": "FY5_kaJ4FGF3",
        "outputId": "adb0eac9-d464-441b-910f-00c316a55c76"
      },
      "outputs": [
        {
          "output_type": "stream",
          "name": "stdout",
          "text": [
            "              precision    recall  f1-score   support\n",
            "\n",
            "       False       0.56      0.83      0.67     27105\n",
            "        True       0.68      0.35      0.47     27105\n",
            "\n",
            "    accuracy                           0.59     54210\n",
            "   macro avg       0.62      0.59      0.57     54210\n",
            "weighted avg       0.62      0.59      0.57     54210\n",
            "\n"
          ]
        }
      ],
      "source": [
        "print(classification_report(eval_labels, predictions_pca))"
      ]
    },
    {
      "cell_type": "code",
      "execution_count": null,
      "metadata": {
        "id": "tVpwlabZObTx"
      },
      "outputs": [],
      "source": [
        "# plot pca components"
      ]
    },
    {
      "cell_type": "code",
      "source": [
        "plot = pl.scatter(new_features[:,0], new_features[:,1], c=train_labels)\n",
        "pl.legend(handles=plot.legend_elements()[0], labels=list([True, False]))\n",
        "pl.show()"
      ],
      "metadata": {
        "colab": {
          "base_uri": "https://localhost:8080/",
          "height": 265
        },
        "id": "Rf3G38gLg--P",
        "outputId": "21781eba-544a-4051-d05b-25116086a94f"
      },
      "execution_count": 27,
      "outputs": [
        {
          "output_type": "display_data",
          "data": {
            "text/plain": [
              "<Figure size 432x288 with 1 Axes>"
            ],
            "image/png": "[encoded data removed]"
          },
          "metadata": {
            "needs_background": "light"
          }
        }
      ]
    },
    {
      "cell_type": "code",
      "execution_count": 29,
      "metadata": {
        "id": "ClLGSbMzEz6I"
      },
      "outputs": [],
      "source": [
        "cf_pca_matrix = confusion_matrix(eval_labels, predictions_pca)"
      ]
    },
    {
      "cell_type": "code",
      "execution_count": 30,
      "metadata": {
        "id": "9H190nMoE0GX",
        "colab": {
          "base_uri": "https://localhost:8080/",
          "height": 337
        },
        "outputId": "fcd4741a-5f5e-45fb-9cd5-98688b3568e1"
      },
      "outputs": [
        {
          "output_type": "display_data",
          "data": {
            "text/plain": [
              "<Figure size 432x288 with 2 Axes>"
            ],
            "image/png": "[encoded data removed]"
          },
          "metadata": {
            "needs_background": "light"
          }
        }
      ],
      "source": [
        "group_names = ['True Neg','False Pos','False Neg','True Pos']\n",
        "\n",
        "group_counts = [\"{0:0.0f}\".format(value) for value in\n",
        "                cf_pca_matrix.flatten()]\n",
        "\n",
        "group_percentages = [\"{0:.2%}\".format(value) for value in\n",
        "                     cf_pca_matrix.flatten()/np.sum(cf_pca_matrix)]\n",
        "\n",
        "labels = [f\"{v1}\\n{v2}\\n{v3}\" for v1, v2, v3 in\n",
        "          zip(group_names,group_counts,group_percentages)]\n",
        "\n",
        "labels = np.asarray(labels).reshape(2,2)\n",
        "\n",
        "ax = sns.heatmap(cf_pca_matrix, annot=labels, fmt='', cmap='Blues')\n",
        "\n",
        "ax.set_title('Seaborn Confusion Matrix with labels\\n\\n');\n",
        "ax.set_xlabel('\\nPredicted Values')\n",
        "ax.set_ylabel('Actual Values ');\n",
        "\n",
        "## Ticket labels - List must be in alphabetical order\n",
        "ax.xaxis.set_ticklabels(['False','True'])\n",
        "ax.yaxis.set_ticklabels(['False','True'])\n",
        "\n",
        "## Display the visualization of the Confusion Matrix.\n",
        "pl.show()"
      ]
    },
    {
      "cell_type": "markdown",
      "metadata": {
        "id": "mKChDjfHFKVG"
      },
      "source": [
        "## Data without outliers RF"
      ]
    },
    {
      "cell_type": "code",
      "execution_count": 31,
      "metadata": {
        "id": "jNy_jXaBFXF6"
      },
      "outputs": [],
      "source": [
        "feature_col = train.columns\n",
        "feature_col = feature_col[:-1]"
      ]
    },
    {
      "cell_type": "code",
      "execution_count": 90,
      "metadata": {
        "id": "PVT2ODbirx-J"
      },
      "outputs": [],
      "source": [
        "train_scale = train.copy()\n",
        "eval_scale = eval.copy()\n",
        "test_scale = test.copy()"
      ]
    },
    {
      "cell_type": "code",
      "source": [
        "train_scale['set'] = 'train'\n",
        "eval_scale['set'] = 'eval'\n",
        "test_scale['set'] = 'test'"
      ],
      "metadata": {
        "id": "t3h7yLr6mw9Z"
      },
      "execution_count": 91,
      "outputs": []
    },
    {
      "cell_type": "code",
      "source": [
        "all_together = pd.concat([train_scale, eval_scale])"
      ],
      "metadata": {
        "id": "9K3Kb3JVnDbE"
      },
      "execution_count": 92,
      "outputs": []
    },
    {
      "cell_type": "code",
      "source": [
        "all_together = pd.concat([all_together, test_scale])"
      ],
      "metadata": {
        "id": "qU6Z7LLenG1-"
      },
      "execution_count": 93,
      "outputs": []
    },
    {
      "cell_type": "code",
      "source": [
        "all_together.shape"
      ],
      "metadata": {
        "colab": {
          "base_uri": "https://localhost:8080/"
        },
        "id": "G4C3Fu28keKP",
        "outputId": "58fa7567-6025-4fbf-f411-a518a743428d"
      },
      "execution_count": 94,
      "outputs": [
        {
          "output_type": "execute_result",
          "data": {
            "text/plain": [
              "(196374, 338)"
            ]
          },
          "metadata": {},
          "execution_count": 94
        }
      ]
    },
    {
      "cell_type": "code",
      "execution_count": 95,
      "metadata": {
        "id": "ewYbre-uFT7-"
      },
      "outputs": [],
      "source": [
        " # removing outliers outside upper and lower limits \n",
        "for col in all_together.columns[:-2]:\n",
        "  q75 = np.percentile(all_together[col], 75)\n",
        "  q25 = np.percentile(all_together[col], 25)\n",
        "  intr_qr = q75 - q25\n",
        "  upper = q75 + (intr_qr*1.5)\n",
        "  lower = q25 - (intr_qr*1.5)\n",
        "  col_values = all_together[col].values\n",
        "  col_new = []\n",
        "  for value in col_values:\n",
        "    if value < lower:\n",
        "      col_new.append(np.nan)\n",
        "    elif value > upper:\n",
        "      col_new.append(np.nan)\n",
        "    else:\n",
        "      col_new.append(value)\n",
        "  all_together[col] = col_new"
      ]
    },
    {
      "cell_type": "code",
      "execution_count": 96,
      "metadata": {
        "id": "i7kx4pAlFaM1",
        "colab": {
          "base_uri": "https://localhost:8080/"
        },
        "outputId": "533d3994-d06e-43c1-fa62-3fa7133154e1"
      },
      "outputs": [
        {
          "output_type": "execute_result",
          "data": {
            "text/plain": [
              "10653"
            ]
          },
          "metadata": {},
          "execution_count": 96
        }
      ],
      "source": [
        "all_together[50].isnull().sum()"
      ]
    },
    {
      "cell_type": "code",
      "source": [
        "all_together.shape"
      ],
      "metadata": {
        "colab": {
          "base_uri": "https://localhost:8080/"
        },
        "id": "XSb0ve70mr9X",
        "outputId": "0a131e7e-0c72-4a5b-8347-0b1e4ef57ecf"
      },
      "execution_count": 97,
      "outputs": [
        {
          "output_type": "execute_result",
          "data": {
            "text/plain": [
              "(196374, 338)"
            ]
          },
          "metadata": {},
          "execution_count": 97
        }
      ]
    },
    {
      "cell_type": "code",
      "execution_count": 98,
      "metadata": {
        "id": "da7F520oFdi2"
      },
      "outputs": [],
      "source": [
        "all_without = all_together.dropna(axis='index')"
      ]
    },
    {
      "cell_type": "code",
      "source": [
        "train_without = all_without[all_without['set'] == 'train']\n",
        "eval_without = all_without[all_without['set'] == 'eval']\n",
        "test_without = all_without[all_without['set'] == 'test']"
      ],
      "metadata": {
        "id": "3Dg8FbCup20f"
      },
      "execution_count": 99,
      "outputs": []
    },
    {
      "cell_type": "code",
      "source": [
        "print(train_without.shape)\n",
        "print(eval_without.shape)\n",
        "print(test_without.shape)"
      ],
      "metadata": {
        "colab": {
          "base_uri": "https://localhost:8080/"
        },
        "id": "7Iu6RuSAq_mZ",
        "outputId": "4a96ff5e-d0f9-47ee-c942-6bb17825e37e"
      },
      "execution_count": 100,
      "outputs": [
        {
          "output_type": "stream",
          "name": "stdout",
          "text": [
            "(8457, 338)\n",
            "(6291, 338)\n",
            "(4140, 338)\n"
          ]
        }
      ]
    },
    {
      "cell_type": "code",
      "source": [
        "print(\n",
        "    '% of positive samples in train: ',\n",
        "    train_without[train_without['label'] == True].shape[0] / train_without.shape[0] * 100\n",
        ")\n",
        "print(\n",
        "    '% of positive samples in eval: ',\n",
        "    eval_without[eval_without['label'] == True].shape[0] / eval_without.shape[0] * 100\n",
        ")\n",
        "print(\n",
        "    '% of positive samples in test: ',\n",
        "    test_without[test_without['label'] == True].shape[0] / test_without.shape[0] * 100\n",
        ")"
      ],
      "metadata": {
        "colab": {
          "base_uri": "https://localhost:8080/"
        },
        "id": "6zFXkXWYrNp2",
        "outputId": "7c69e8d1-bc4e-4ad1-8344-20830b9620e9"
      },
      "execution_count": 101,
      "outputs": [
        {
          "output_type": "stream",
          "name": "stdout",
          "text": [
            "% of positive samples in train:  45.42982144968665\n",
            "% of positive samples in eval:  52.58305515816245\n",
            "% of positive samples in test:  49.75845410628019\n"
          ]
        }
      ]
    },
    {
      "cell_type": "code",
      "source": [
        "train_without = train_without[train_without.columns[:-1]]\n",
        "eval_without = eval_without[eval_without.columns[:-1]]\n",
        "test_without = test_without[test_without.columns[:-1]]"
      ],
      "metadata": {
        "id": "IOjSbEjeuT-4"
      },
      "execution_count": 102,
      "outputs": []
    },
    {
      "cell_type": "code",
      "source": [
        "train_wo_features, train_wo_labels = train_without.loc[:, train_without.columns != 'label'], train_without['label']\n",
        "test_wo_features, test_wo_labels = test_without.loc[:, test_without.columns != 'label'], test_without['label']\n",
        "eval_wo_features, eval_wo_labels = eval_without.loc[:, eval_without.columns != 'label'], eval_without['label']"
      ],
      "metadata": {
        "id": "kZbiVZ_8sDzN"
      },
      "execution_count": 103,
      "outputs": []
    },
    {
      "cell_type": "code",
      "source": [
        "print('Training Features Shape:', train_wo_features.shape)\n",
        "print('Training Labels Shape:', train_wo_labels.shape)\n",
        "print('Testing Features Shape:', test_wo_features.shape)\n",
        "print('Testing Labels Shape:', test_wo_labels.shape)\n",
        "print('Validation Features Shape:', eval_wo_features.shape)\n",
        "print('Validation Labels Shape:', eval_wo_labels.shape)"
      ],
      "metadata": {
        "colab": {
          "base_uri": "https://localhost:8080/"
        },
        "id": "YrfUB1DvsMsH",
        "outputId": "88f9f82f-3588-4b9e-98ad-fd01d0263f01"
      },
      "execution_count": 105,
      "outputs": [
        {
          "output_type": "stream",
          "name": "stdout",
          "text": [
            "Training Features Shape: (8457, 336)\n",
            "Training Labels Shape: (8457,)\n",
            "Testing Features Shape: (4140, 336)\n",
            "Testing Labels Shape: (4140,)\n",
            "Validation Features Shape: (6291, 336)\n",
            "Validation Labels Shape: (6291,)\n"
          ]
        }
      ]
    },
    {
      "cell_type": "code",
      "source": [
        "rf_wo = RandomForestClassifier(\n",
        "    n_estimators = 600, random_state = 30, min_samples_leaf = 2, min_samples_split = 2, max_depth = 6\n",
        ")\n",
        "# Train the model on training data\n",
        "rf_wo.fit(train_wo_features, train_wo_labels);"
      ],
      "metadata": {
        "id": "QVTrWQMru1JS"
      },
      "execution_count": 117,
      "outputs": []
    },
    {
      "cell_type": "code",
      "source": [
        "predictions_wo = rf_wo.predict(eval_wo_features)"
      ],
      "metadata": {
        "id": "2JqipMNau5R4"
      },
      "execution_count": 118,
      "outputs": []
    },
    {
      "cell_type": "code",
      "source": [
        "train_wo_score = rf_wo.score(train_wo_features, train_wo_labels)\n",
        "eval_wo_score = rf_wo.score(eval_wo_features, eval_wo_labels)\n",
        "print('During training, the accuracy score was ' + str(round(train_wo_score, 3)))\n",
        "print('During validation, the accuracy score was ' + str(round(eval_wo_score, 3)))"
      ],
      "metadata": {
        "colab": {
          "base_uri": "https://localhost:8080/"
        },
        "id": "EFDu2uq_u5k_",
        "outputId": "0ce27bfd-0344-4393-a8e2-ad5a6975103e"
      },
      "execution_count": 119,
      "outputs": [
        {
          "output_type": "stream",
          "name": "stdout",
          "text": [
            "During training, the accuracy score was 0.885\n",
            "During validation, the accuracy score was 0.54\n"
          ]
        }
      ]
    },
    {
      "cell_type": "code",
      "source": [
        "print(classification_report(eval_wo_labels, predictions_wo))"
      ],
      "metadata": {
        "colab": {
          "base_uri": "https://localhost:8080/"
        },
        "id": "uxRa22YLu9SE",
        "outputId": "9b9be790-2204-4e3f-a087-229ee4fbe48d"
      },
      "execution_count": 120,
      "outputs": [
        {
          "output_type": "stream",
          "name": "stdout",
          "text": [
            "              precision    recall  f1-score   support\n",
            "\n",
            "       False       0.51      0.92      0.65      2983\n",
            "        True       0.73      0.20      0.31      3308\n",
            "\n",
            "    accuracy                           0.54      6291\n",
            "   macro avg       0.62      0.56      0.48      6291\n",
            "weighted avg       0.62      0.54      0.48      6291\n",
            "\n"
          ]
        }
      ]
    },
    {
      "cell_type": "code",
      "source": [
        "# Get numerical feature importances\n",
        "importances = list(rf_wo.feature_importances_)\n",
        "# List of tuples with variable and importance\n",
        "feature_importances = [(feature, round(importance, 2)) for feature, importance in zip(train_wo_features, importances)]\n",
        "# Sort the feature importances by most important first\n",
        "feature_importances = sorted(feature_importances, key = lambda x: x[1], reverse = True)\n",
        "# Print out the feature and importances \n",
        "[print('Variable: {:20} Importance: {}'.format(*pair)) for pair in feature_importances];"
      ],
      "metadata": {
        "colab": {
          "base_uri": "https://localhost:8080/"
        },
        "id": "PxlFh5L2xJRp",
        "outputId": "8a7475b1-3cf2-4ad5-81e8-ccf6e7eb49d8"
      },
      "execution_count": 123,
      "outputs": [
        {
          "output_type": "stream",
          "name": "stdout",
          "text": [
            "Variable:                   12 Importance: 0.02\n",
            "Variable:                   13 Importance: 0.02\n",
            "Variable:                   28 Importance: 0.02\n",
            "Variable:                   29 Importance: 0.02\n",
            "Variable:                  141 Importance: 0.02\n",
            "Variable:                  157 Importance: 0.02\n",
            "Variable:                  203 Importance: 0.02\n",
            "Variable:                  219 Importance: 0.02\n",
            "Variable:                  277 Importance: 0.02\n",
            "Variable:                  286 Importance: 0.02\n",
            "Variable:                    5 Importance: 0.01\n",
            "Variable:                   11 Importance: 0.01\n",
            "Variable:                   21 Importance: 0.01\n",
            "Variable:                   27 Importance: 0.01\n",
            "Variable:                   30 Importance: 0.01\n",
            "Variable:                   38 Importance: 0.01\n",
            "Variable:                   69 Importance: 0.01\n",
            "Variable:                   75 Importance: 0.01\n",
            "Variable:                   76 Importance: 0.01\n",
            "Variable:                   77 Importance: 0.01\n",
            "Variable:                   91 Importance: 0.01\n",
            "Variable:                   92 Importance: 0.01\n",
            "Variable:                   93 Importance: 0.01\n",
            "Variable:                  108 Importance: 0.01\n",
            "Variable:                  124 Importance: 0.01\n",
            "Variable:                  125 Importance: 0.01\n",
            "Variable:                  133 Importance: 0.01\n",
            "Variable:                  139 Importance: 0.01\n",
            "Variable:                  140 Importance: 0.01\n",
            "Variable:                  149 Importance: 0.01\n",
            "Variable:                  156 Importance: 0.01\n",
            "Variable:                  165 Importance: 0.01\n",
            "Variable:                  171 Importance: 0.01\n",
            "Variable:                  172 Importance: 0.01\n",
            "Variable:                  173 Importance: 0.01\n",
            "Variable:                  187 Importance: 0.01\n",
            "Variable:                  188 Importance: 0.01\n",
            "Variable:                  204 Importance: 0.01\n",
            "Variable:                  213 Importance: 0.01\n",
            "Variable:                  220 Importance: 0.01\n",
            "Variable:                  229 Importance: 0.01\n",
            "Variable:                  235 Importance: 0.01\n",
            "Variable:                  236 Importance: 0.01\n",
            "Variable:                  237 Importance: 0.01\n",
            "Variable:                  238 Importance: 0.01\n",
            "Variable:                  241 Importance: 0.01\n",
            "Variable:                  244 Importance: 0.01\n",
            "Variable:                  245 Importance: 0.01\n",
            "Variable:                  251 Importance: 0.01\n",
            "Variable:                  253 Importance: 0.01\n",
            "Variable:                  262 Importance: 0.01\n",
            "Variable:                  284 Importance: 0.01\n",
            "Variable:                  285 Importance: 0.01\n",
            "Variable:                  290 Importance: 0.01\n",
            "Variable:                  293 Importance: 0.01\n",
            "Variable:                  302 Importance: 0.01\n",
            "Variable:                  309 Importance: 0.01\n",
            "Variable:                  315 Importance: 0.01\n",
            "Variable:                  318 Importance: 0.01\n",
            "Variable:                  325 Importance: 0.01\n",
            "Variable:                  331 Importance: 0.01\n",
            "Variable:                  332 Importance: 0.01\n",
            "Variable:                    0 Importance: 0.0\n",
            "Variable:                    1 Importance: 0.0\n",
            "Variable:                    2 Importance: 0.0\n",
            "Variable:                    3 Importance: 0.0\n",
            "Variable:                    4 Importance: 0.0\n",
            "Variable:                    6 Importance: 0.0\n",
            "Variable:                    7 Importance: 0.0\n",
            "Variable:                    8 Importance: 0.0\n",
            "Variable:                    9 Importance: 0.0\n",
            "Variable:                   10 Importance: 0.0\n",
            "Variable:                   14 Importance: 0.0\n",
            "Variable:                   15 Importance: 0.0\n",
            "Variable:                   16 Importance: 0.0\n",
            "Variable:                   17 Importance: 0.0\n",
            "Variable:                   18 Importance: 0.0\n",
            "Variable:                   19 Importance: 0.0\n",
            "Variable:                   20 Importance: 0.0\n",
            "Variable:                   22 Importance: 0.0\n",
            "Variable:                   23 Importance: 0.0\n",
            "Variable:                   24 Importance: 0.0\n",
            "Variable:                   25 Importance: 0.0\n",
            "Variable:                   26 Importance: 0.0\n",
            "Variable:                   31 Importance: 0.0\n",
            "Variable:                   32 Importance: 0.0\n",
            "Variable:                   33 Importance: 0.0\n",
            "Variable:                   34 Importance: 0.0\n",
            "Variable:                   35 Importance: 0.0\n",
            "Variable:                   36 Importance: 0.0\n",
            "Variable:                   37 Importance: 0.0\n",
            "Variable:                   39 Importance: 0.0\n",
            "Variable:                   40 Importance: 0.0\n",
            "Variable:                   41 Importance: 0.0\n",
            "Variable:                   42 Importance: 0.0\n",
            "Variable:                   43 Importance: 0.0\n",
            "Variable:                   44 Importance: 0.0\n",
            "Variable:                   45 Importance: 0.0\n",
            "Variable:                   46 Importance: 0.0\n",
            "Variable:                   47 Importance: 0.0\n",
            "Variable:                   48 Importance: 0.0\n",
            "Variable:                   49 Importance: 0.0\n",
            "Variable:                   50 Importance: 0.0\n",
            "Variable:                   51 Importance: 0.0\n",
            "Variable:                   52 Importance: 0.0\n",
            "Variable:                   53 Importance: 0.0\n",
            "Variable:                   54 Importance: 0.0\n",
            "Variable:                   55 Importance: 0.0\n",
            "Variable:                   56 Importance: 0.0\n",
            "Variable:                   57 Importance: 0.0\n",
            "Variable:                   58 Importance: 0.0\n",
            "Variable:                   59 Importance: 0.0\n",
            "Variable:                   60 Importance: 0.0\n",
            "Variable:                   61 Importance: 0.0\n",
            "Variable:                   62 Importance: 0.0\n",
            "Variable:                   63 Importance: 0.0\n",
            "Variable:                   64 Importance: 0.0\n",
            "Variable:                   65 Importance: 0.0\n",
            "Variable:                   66 Importance: 0.0\n",
            "Variable:                   67 Importance: 0.0\n",
            "Variable:                   68 Importance: 0.0\n",
            "Variable:                   70 Importance: 0.0\n",
            "Variable:                   71 Importance: 0.0\n",
            "Variable:                   72 Importance: 0.0\n",
            "Variable:                   73 Importance: 0.0\n",
            "Variable:                   74 Importance: 0.0\n",
            "Variable:                   78 Importance: 0.0\n",
            "Variable:                   79 Importance: 0.0\n",
            "Variable:                   80 Importance: 0.0\n",
            "Variable:                   81 Importance: 0.0\n",
            "Variable:                   82 Importance: 0.0\n",
            "Variable:                   83 Importance: 0.0\n",
            "Variable:                   84 Importance: 0.0\n",
            "Variable:                   85 Importance: 0.0\n",
            "Variable:                   86 Importance: 0.0\n",
            "Variable:                   87 Importance: 0.0\n",
            "Variable:                   88 Importance: 0.0\n",
            "Variable:                   89 Importance: 0.0\n",
            "Variable:                   90 Importance: 0.0\n",
            "Variable:                   94 Importance: 0.0\n",
            "Variable:                   95 Importance: 0.0\n",
            "Variable:                   96 Importance: 0.0\n",
            "Variable:                   97 Importance: 0.0\n",
            "Variable:                   98 Importance: 0.0\n",
            "Variable:                   99 Importance: 0.0\n",
            "Variable:                  100 Importance: 0.0\n",
            "Variable:                  101 Importance: 0.0\n",
            "Variable:                  102 Importance: 0.0\n",
            "Variable:                  103 Importance: 0.0\n",
            "Variable:                  104 Importance: 0.0\n",
            "Variable:                  105 Importance: 0.0\n",
            "Variable:                  106 Importance: 0.0\n",
            "Variable:                  107 Importance: 0.0\n",
            "Variable:                  109 Importance: 0.0\n",
            "Variable:                  110 Importance: 0.0\n",
            "Variable:                  111 Importance: 0.0\n",
            "Variable:                  112 Importance: 0.0\n",
            "Variable:                  113 Importance: 0.0\n",
            "Variable:                  114 Importance: 0.0\n",
            "Variable:                  115 Importance: 0.0\n",
            "Variable:                  116 Importance: 0.0\n",
            "Variable:                  117 Importance: 0.0\n",
            "Variable:                  118 Importance: 0.0\n",
            "Variable:                  119 Importance: 0.0\n",
            "Variable:                  120 Importance: 0.0\n",
            "Variable:                  121 Importance: 0.0\n",
            "Variable:                  122 Importance: 0.0\n",
            "Variable:                  123 Importance: 0.0\n",
            "Variable:                  126 Importance: 0.0\n",
            "Variable:                  127 Importance: 0.0\n",
            "Variable:                  128 Importance: 0.0\n",
            "Variable:                  129 Importance: 0.0\n",
            "Variable:                  130 Importance: 0.0\n",
            "Variable:                  131 Importance: 0.0\n",
            "Variable:                  132 Importance: 0.0\n",
            "Variable:                  134 Importance: 0.0\n",
            "Variable:                  135 Importance: 0.0\n",
            "Variable:                  136 Importance: 0.0\n",
            "Variable:                  137 Importance: 0.0\n",
            "Variable:                  138 Importance: 0.0\n",
            "Variable:                  142 Importance: 0.0\n",
            "Variable:                  143 Importance: 0.0\n",
            "Variable:                  144 Importance: 0.0\n",
            "Variable:                  145 Importance: 0.0\n",
            "Variable:                  146 Importance: 0.0\n",
            "Variable:                  147 Importance: 0.0\n",
            "Variable:                  148 Importance: 0.0\n",
            "Variable:                  150 Importance: 0.0\n",
            "Variable:                  151 Importance: 0.0\n",
            "Variable:                  152 Importance: 0.0\n",
            "Variable:                  153 Importance: 0.0\n",
            "Variable:                  154 Importance: 0.0\n",
            "Variable:                  155 Importance: 0.0\n",
            "Variable:                  158 Importance: 0.0\n",
            "Variable:                  159 Importance: 0.0\n",
            "Variable:                  160 Importance: 0.0\n",
            "Variable:                  161 Importance: 0.0\n",
            "Variable:                  162 Importance: 0.0\n",
            "Variable:                  163 Importance: 0.0\n",
            "Variable:                  164 Importance: 0.0\n",
            "Variable:                  166 Importance: 0.0\n",
            "Variable:                  167 Importance: 0.0\n",
            "Variable:                  168 Importance: 0.0\n",
            "Variable:                  169 Importance: 0.0\n",
            "Variable:                  170 Importance: 0.0\n",
            "Variable:                  174 Importance: 0.0\n",
            "Variable:                  175 Importance: 0.0\n",
            "Variable:                  176 Importance: 0.0\n",
            "Variable:                  177 Importance: 0.0\n",
            "Variable:                  178 Importance: 0.0\n",
            "Variable:                  179 Importance: 0.0\n",
            "Variable:                  180 Importance: 0.0\n",
            "Variable:                  181 Importance: 0.0\n",
            "Variable:                  182 Importance: 0.0\n",
            "Variable:                  183 Importance: 0.0\n",
            "Variable:                  184 Importance: 0.0\n",
            "Variable:                  185 Importance: 0.0\n",
            "Variable:                  186 Importance: 0.0\n",
            "Variable:                  189 Importance: 0.0\n",
            "Variable:                  190 Importance: 0.0\n",
            "Variable:                  191 Importance: 0.0\n",
            "Variable:                  192 Importance: 0.0\n",
            "Variable:                  193 Importance: 0.0\n",
            "Variable:                  194 Importance: 0.0\n",
            "Variable:                  195 Importance: 0.0\n",
            "Variable:                  196 Importance: 0.0\n",
            "Variable:                  197 Importance: 0.0\n",
            "Variable:                  198 Importance: 0.0\n",
            "Variable:                  199 Importance: 0.0\n",
            "Variable:                  200 Importance: 0.0\n",
            "Variable:                  201 Importance: 0.0\n",
            "Variable:                  202 Importance: 0.0\n",
            "Variable:                  205 Importance: 0.0\n",
            "Variable:                  206 Importance: 0.0\n",
            "Variable:                  207 Importance: 0.0\n",
            "Variable:                  208 Importance: 0.0\n",
            "Variable:                  209 Importance: 0.0\n",
            "Variable:                  210 Importance: 0.0\n",
            "Variable:                  211 Importance: 0.0\n",
            "Variable:                  212 Importance: 0.0\n",
            "Variable:                  214 Importance: 0.0\n",
            "Variable:                  215 Importance: 0.0\n",
            "Variable:                  216 Importance: 0.0\n",
            "Variable:                  217 Importance: 0.0\n",
            "Variable:                  218 Importance: 0.0\n",
            "Variable:                  221 Importance: 0.0\n",
            "Variable:                  222 Importance: 0.0\n",
            "Variable:                  223 Importance: 0.0\n",
            "Variable:                  224 Importance: 0.0\n",
            "Variable:                  225 Importance: 0.0\n",
            "Variable:                  226 Importance: 0.0\n",
            "Variable:                  227 Importance: 0.0\n",
            "Variable:                  228 Importance: 0.0\n",
            "Variable:                  230 Importance: 0.0\n",
            "Variable:                  231 Importance: 0.0\n",
            "Variable:                  232 Importance: 0.0\n",
            "Variable:                  233 Importance: 0.0\n",
            "Variable:                  234 Importance: 0.0\n",
            "Variable:                  239 Importance: 0.0\n",
            "Variable:                  240 Importance: 0.0\n",
            "Variable:                  242 Importance: 0.0\n",
            "Variable:                  243 Importance: 0.0\n",
            "Variable:                  246 Importance: 0.0\n",
            "Variable:                  247 Importance: 0.0\n",
            "Variable:                  248 Importance: 0.0\n",
            "Variable:                  249 Importance: 0.0\n",
            "Variable:                  250 Importance: 0.0\n",
            "Variable:                  252 Importance: 0.0\n",
            "Variable:                  254 Importance: 0.0\n",
            "Variable:                  255 Importance: 0.0\n",
            "Variable:                  256 Importance: 0.0\n",
            "Variable:                  257 Importance: 0.0\n",
            "Variable:                  258 Importance: 0.0\n",
            "Variable:                  259 Importance: 0.0\n",
            "Variable:                  260 Importance: 0.0\n",
            "Variable:                  261 Importance: 0.0\n",
            "Variable:                  263 Importance: 0.0\n",
            "Variable:                  264 Importance: 0.0\n",
            "Variable:                  265 Importance: 0.0\n",
            "Variable:                  266 Importance: 0.0\n",
            "Variable:                  267 Importance: 0.0\n",
            "Variable:                  268 Importance: 0.0\n",
            "Variable:                  269 Importance: 0.0\n",
            "Variable:                  270 Importance: 0.0\n",
            "Variable:                  271 Importance: 0.0\n",
            "Variable:                  272 Importance: 0.0\n",
            "Variable:                  273 Importance: 0.0\n",
            "Variable:                  274 Importance: 0.0\n",
            "Variable:                  275 Importance: 0.0\n",
            "Variable:                  276 Importance: 0.0\n",
            "Variable:                  278 Importance: 0.0\n",
            "Variable:                  279 Importance: 0.0\n",
            "Variable:                  280 Importance: 0.0\n",
            "Variable:                  281 Importance: 0.0\n",
            "Variable:                  282 Importance: 0.0\n",
            "Variable:                  283 Importance: 0.0\n",
            "Variable:                  287 Importance: 0.0\n",
            "Variable:                  288 Importance: 0.0\n",
            "Variable:                  289 Importance: 0.0\n",
            "Variable:                  291 Importance: 0.0\n",
            "Variable:                  292 Importance: 0.0\n",
            "Variable:                  294 Importance: 0.0\n",
            "Variable:                  295 Importance: 0.0\n",
            "Variable:                  296 Importance: 0.0\n",
            "Variable:                  297 Importance: 0.0\n",
            "Variable:                  298 Importance: 0.0\n",
            "Variable:                  299 Importance: 0.0\n",
            "Variable:                  300 Importance: 0.0\n",
            "Variable:                  301 Importance: 0.0\n",
            "Variable:                  303 Importance: 0.0\n",
            "Variable:                  304 Importance: 0.0\n",
            "Variable:                  305 Importance: 0.0\n",
            "Variable:                  306 Importance: 0.0\n",
            "Variable:                  307 Importance: 0.0\n",
            "Variable:                  308 Importance: 0.0\n",
            "Variable:                  310 Importance: 0.0\n",
            "Variable:                  311 Importance: 0.0\n",
            "Variable:                  312 Importance: 0.0\n",
            "Variable:                  313 Importance: 0.0\n",
            "Variable:                  314 Importance: 0.0\n",
            "Variable:                  316 Importance: 0.0\n",
            "Variable:                  317 Importance: 0.0\n",
            "Variable:                  319 Importance: 0.0\n",
            "Variable:                  320 Importance: 0.0\n",
            "Variable:                  321 Importance: 0.0\n",
            "Variable:                  322 Importance: 0.0\n",
            "Variable:                  323 Importance: 0.0\n",
            "Variable:                  324 Importance: 0.0\n",
            "Variable:                  326 Importance: 0.0\n",
            "Variable:                  327 Importance: 0.0\n",
            "Variable:                  328 Importance: 0.0\n",
            "Variable:                  329 Importance: 0.0\n",
            "Variable:                  330 Importance: 0.0\n",
            "Variable:                  333 Importance: 0.0\n",
            "Variable:                  334 Importance: 0.0\n",
            "Variable:                  335 Importance: 0.0\n"
          ]
        }
      ]
    },
    {
      "cell_type": "code",
      "source": [
        "cf_matrix_wo = confusion_matrix(eval_wo_labels, predictions_wo)"
      ],
      "metadata": {
        "id": "VQB0jg-avGLW"
      },
      "execution_count": 124,
      "outputs": []
    },
    {
      "cell_type": "code",
      "source": [
        "group_names = ['True Neg','False Pos','False Neg','True Pos']\n",
        "\n",
        "group_counts = [\"{0:0.0f}\".format(value) for value in\n",
        "                cf_matrix_wo.flatten()]\n",
        "\n",
        "group_percentages = [\"{0:.2%}\".format(value) for value in\n",
        "                     cf_matrix_wo.flatten()/np.sum(cf_matrix_wo)]\n",
        "\n",
        "labels = [f\"{v1}\\n{v2}\\n{v3}\" for v1, v2, v3 in\n",
        "          zip(group_names,group_counts,group_percentages)]\n",
        "\n",
        "labels = np.asarray(labels).reshape(2,2)\n",
        "\n",
        "ax = sns.heatmap(cf_matrix_wo, annot=labels, fmt='', cmap='Blues')\n",
        "\n",
        "ax.set_title('Seaborn Confusion Matrix with labels\\n\\n');\n",
        "ax.set_xlabel('\\nPredicted Values')\n",
        "ax.set_ylabel('Actual Values ');\n",
        "\n",
        "## Ticket labels - List must be in alphabetical order\n",
        "ax.xaxis.set_ticklabels(['False','True'])\n",
        "ax.yaxis.set_ticklabels(['False','True'])\n",
        "\n",
        "## Display the visualization of the Confusion Matrix.\n",
        "pl.show()"
      ],
      "metadata": {
        "colab": {
          "base_uri": "https://localhost:8080/",
          "height": 337
        },
        "id": "GWb4jtNJvMxE",
        "outputId": "0eb3a60e-5d5c-4077-9e6c-0e7d66828054"
      },
      "execution_count": 125,
      "outputs": [
        {
          "output_type": "display_data",
          "data": {
            "text/plain": [
              "<Figure size 432x288 with 2 Axes>"
            ],
            "image/png": "[encoded data removed]"
          },
          "metadata": {
            "needs_background": "light"
          }
        }
      ]
    },
    {
      "cell_type": "code",
      "source": [
        "predictions_wo_test = rf_wo.predict(test_wo_features)"
      ],
      "metadata": {
        "id": "Qq3N0GhRxY3v"
      },
      "execution_count": 126,
      "outputs": []
    },
    {
      "cell_type": "code",
      "source": [
        "test_wo_score = rf_wo.score(test_wo_features, test_wo_labels)\n",
        "print('During training, the accuracy score was ' + str(round(test_wo_score, 3)))\n",
        "print(classification_report(test_wo_labels, predictions_wo_test))"
      ],
      "metadata": {
        "colab": {
          "base_uri": "https://localhost:8080/"
        },
        "id": "hIu3wm2wxeDF",
        "outputId": "50bd3048-38f2-4650-d626-6a015d200413"
      },
      "execution_count": 127,
      "outputs": [
        {
          "output_type": "stream",
          "name": "stdout",
          "text": [
            "During training, the accuracy score was 0.572\n",
            "              precision    recall  f1-score   support\n",
            "\n",
            "       False       0.55      0.89      0.68      2080\n",
            "        True       0.69      0.25      0.37      2060\n",
            "\n",
            "    accuracy                           0.57      4140\n",
            "   macro avg       0.62      0.57      0.52      4140\n",
            "weighted avg       0.62      0.57      0.52      4140\n",
            "\n"
          ]
        }
      ]
    },
    {
      "cell_type": "code",
      "source": [
        "cf_matrix_wo_test = confusion_matrix(test_wo_labels, predictions_wo_test)"
      ],
      "metadata": {
        "id": "7u9_vOXOxu6H"
      },
      "execution_count": 128,
      "outputs": []
    },
    {
      "cell_type": "code",
      "source": [
        "group_names = ['True Neg','False Pos','False Neg','True Pos']\n",
        "\n",
        "group_counts = [\"{0:0.0f}\".format(value) for value in\n",
        "                cf_matrix_wo_test.flatten()]\n",
        "\n",
        "group_percentages = [\"{0:.2%}\".format(value) for value in\n",
        "                     cf_matrix_wo_test.flatten()/np.sum(cf_matrix_wo_test)]\n",
        "\n",
        "labels = [f\"{v1}\\n{v2}\\n{v3}\" for v1, v2, v3 in\n",
        "          zip(group_names,group_counts,group_percentages)]\n",
        "\n",
        "labels = np.asarray(labels).reshape(2,2)\n",
        "\n",
        "ax = sns.heatmap(cf_matrix_wo_test, annot=labels, fmt='', cmap='Blues')\n",
        "\n",
        "ax.set_title('Seaborn Confusion Matrix with labels\\n\\n');\n",
        "ax.set_xlabel('\\nPredicted Values')\n",
        "ax.set_ylabel('Actual Values ');\n",
        "\n",
        "## Ticket labels - List must be in alphabetical order\n",
        "ax.xaxis.set_ticklabels(['False','True'])\n",
        "ax.yaxis.set_ticklabels(['False','True'])\n",
        "\n",
        "## Display the visualization of the Confusion Matrix.\n",
        "pl.show()"
      ],
      "metadata": {
        "colab": {
          "base_uri": "https://localhost:8080/",
          "height": 337
        },
        "id": "yVKabeCtx0ef",
        "outputId": "0335de5c-01d8-4432-ad76-a1ff0c4d80b3"
      },
      "execution_count": 129,
      "outputs": [
        {
          "output_type": "display_data",
          "data": {
            "text/plain": [
              "<Figure size 432x288 with 2 Axes>"
            ],
            "image/png": "[encoded data removed]"
          },
          "metadata": {
            "needs_background": "light"
          }
        }
      ]
    },
    {
      "cell_type": "markdown",
      "metadata": {
        "id": "cwNf5c8hERMh"
      },
      "source": [
        "## Additional. Not necessary now"
      ]
    },
    {
      "cell_type": "code",
      "execution_count": null,
      "metadata": {
        "id": "DGtsWfAyr3Z9"
      },
      "outputs": [],
      "source": [
        "for col in feature_col:\n",
        "  new_values = (train_scale[col].values - train_scale[col].values.mean())/train_scale[col].values.std() \n",
        "  train_scale[col] = new_values\n",
        "  new_values1 = (eval_scale[col].values - eval_scale[col].values.mean())/eval_scale[col].values.std() \n",
        "  eval_scale[col] = new_values1\n",
        "  new_values2 = (test_scale[col].values - test_scale[col].values.mean())/test_scale[col].values.std() \n",
        "  test_scale[col] = new_values2\n"
      ]
    },
    {
      "cell_type": "code",
      "execution_count": null,
      "metadata": {
        "colab": {
          "base_uri": "https://localhost:8080/",
          "height": 573
        },
        "id": "Vkh-gv_Nizp3",
        "outputId": "50889bac-0532-4ac0-fa11-8cbc005e3c66"
      },
      "outputs": [
        {
          "data": {
            "text/plain": [
              "{'boxes': [<matplotlib.lines.Line2D at 0x7f83f973e710>],\n",
              " 'caps': [<matplotlib.lines.Line2D at 0x7f83b41f8510>,\n",
              "  <matplotlib.lines.Line2D at 0x7f83b41f8a50>],\n",
              " 'fliers': [<matplotlib.lines.Line2D at 0x7f83b41f1550>],\n",
              " 'means': [],\n",
              " 'medians': [<matplotlib.lines.Line2D at 0x7f83b41f8fd0>],\n",
              " 'whiskers': [<matplotlib.lines.Line2D at 0x7f83f9541a50>,\n",
              "  <matplotlib.lines.Line2D at 0x7f83f9541f90>]}"
            ]
          },
          "execution_count": 25,
          "metadata": {},
          "output_type": "execute_result"
        },
        {
          "data": {
            "image/png": "[encoded data removed]",
            "text/plain": [
              "<Figure size 720x504 with 1 Axes>"
            ]
          },
          "metadata": {},
          "output_type": "display_data"
        }
      ],
      "source": [
        "fig = pl.figure(figsize = (10,7))\n",
        "pl.boxplot(train_scale[0])"
      ]
    },
    {
      "cell_type": "code",
      "execution_count": null,
      "metadata": {
        "id": "JXi2oBhdI6Lc"
      },
      "outputs": [],
      "source": [
        "train_features, train_labels = train.loc[:, train.columns != 'label'], train['label']\n",
        "test_features, test_labels = test.loc[:, test.columns != 'label'], test['label']\n",
        "eval_features, eval_labels = eval.loc[:, eval.columns != 'label'], eval['label']"
      ]
    },
    {
      "cell_type": "code",
      "execution_count": null,
      "metadata": {
        "colab": {
          "base_uri": "https://localhost:8080/"
        },
        "id": "jJWjBGoIIZM1",
        "outputId": "c22b50b2-8786-4c11-8607-a997199e6920"
      },
      "outputs": [
        {
          "name": "stdout",
          "output_type": "stream",
          "text": [
            "Training Features Shape: (106336, 336)\n",
            "Training Labels Shape: (106336,)\n",
            "Testing Features Shape: (54210, 336)\n",
            "Testing Labels Shape: (54210,)\n",
            "Validation Features Shape: (35828, 336)\n",
            "Validation Labels Shape: (35828,)\n"
          ]
        }
      ],
      "source": [
        "print('Training Features Shape:', train_features.shape)\n",
        "print('Training Labels Shape:', train_labels.shape)\n",
        "print('Testing Features Shape:', test_features.shape)\n",
        "print('Testing Labels Shape:', test_labels.shape)\n",
        "print('Validation Features Shape:', eval_features.shape)\n",
        "print('Validation Labels Shape:', eval_labels.shape)"
      ]
    },
    {
      "cell_type": "code",
      "execution_count": null,
      "metadata": {
        "id": "nf9t3gx48WPV"
      },
      "outputs": [],
      "source": [
        "std_f_True = []\n",
        "mean_f_True = []\n",
        "std_f_False = []\n",
        "mean_f_False = []\n",
        "for col in feature_col:\n",
        "  data1 = train_scale[train_scale['label'] == True]\n",
        "  data2 = train_scale[train_scale['label'] == False]\n",
        "  mean_f_True.append(data1[col].values.mean())\n",
        "  std_f_True.append(data1[col].values.std())\n",
        "  mean_f_False.append(data2[col].values.mean())\n",
        "  std_f_False.append(data2[col].values.std())"
      ]
    },
    {
      "cell_type": "code",
      "execution_count": null,
      "metadata": {
        "id": "AnUJKHoxDTIR"
      },
      "outputs": [],
      "source": [
        "std_eval_True = []\n",
        "mean_eval_True = []\n",
        "std_eval_False = []\n",
        "mean_eval_False = []\n",
        "for col in feature_col:\n",
        "  data1 = eval_scale[eval_scale['label'] == True]\n",
        "  data2 = eval_scale[eval_scale['label'] == False]\n",
        "  mean_eval_True.append(data1[col].values.mean())\n",
        "  std_eval_True.append(data1[col].values.std())\n",
        "  mean_eval_False.append(data2[col].values.mean())\n",
        "  std_eval_False.append(data2[col].values.std())"
      ]
    },
    {
      "cell_type": "code",
      "execution_count": null,
      "metadata": {
        "id": "hVM_Fl6h3qsK"
      },
      "outputs": [],
      "source": [
        ""
      ]
    },
    {
      "cell_type": "code",
      "execution_count": null,
      "metadata": {
        "id": "D5QrRAAE3AJI"
      },
      "outputs": [],
      "source": [
        ""
      ]
    },
    {
      "cell_type": "code",
      "execution_count": null,
      "metadata": {
        "colab": {
          "base_uri": "https://localhost:8080/",
          "height": 1000
        },
        "id": "I0zBdNYC-El9",
        "outputId": "3a0f9546-cbac-42ed-dc93-7e0221d85423"
      },
      "outputs": [
        {
          "name": "stderr",
          "output_type": "stream",
          "text": [
            "No handles with labels found to put in legend.\n"
          ]
        },
        {
          "data": {
            "image/png": "[encoded data removed]",
            "text/plain": [
              "<Figure size 720x1440 with 1 Axes>"
            ]
          },
          "metadata": {},
          "output_type": "display_data"
        }
      ],
      "source": [
        "pl.figure(figsize = (10,20))\n",
        "for feature_index, (value0, value1) in enumerate(zip(mean_f_True[:17], std_f_True[:17])):\n",
        "  y = [feature_index]*3\n",
        "  tmp = [value0 - value1, value0, value0 + value1]\n",
        "  pl.plot(tmp, y, color = 'blue')\n",
        "for feature_index, (value0, value1) in enumerate(zip(mean_f_False[:17], std_f_False[:17])):\n",
        "  y = [feature_index + 0.5]*3\n",
        "  tmp = [value0 - value1, value0, value0 + value1]\n",
        "  pl.plot(tmp, y, color = 'red')\n",
        "'''for feature_index, (value0, value1) in enumerate(zip(mean_eval_True[:12], std_eval_True[:12])):\n",
        "  y = [feature_index + 0.5]*3\n",
        "  tmp = [value0 - value1, value0, value0 + value1]\n",
        "  pl.plot(tmp, y, color = 'green')\n",
        "for feature_index, (value0, value1) in enumerate(zip(mean_eval_False[:12], std_eval_False[:12])):\n",
        "  y = [feature_index + 0.75]*3\n",
        "  tmp = [value0 - value1, value0, value0 + value1]\n",
        "  pl.plot(tmp, y, color = 'black')'''\n",
        "pl.legend();"
      ]
    },
    {
      "cell_type": "code",
      "execution_count": null,
      "metadata": {
        "id": "MNoIH64hIbAD"
      },
      "outputs": [],
      "source": [
        ""
      ]
    },
    {
      "cell_type": "markdown",
      "metadata": {
        "id": "GukQYAxuhdwL"
      },
      "source": [
        "# Round 2"
      ]
    },
    {
      "cell_type": "code",
      "execution_count": null,
      "metadata": {
        "id": "7UDZj5-Ijxba"
      },
      "outputs": [],
      "source": [
        "# Instantiate model with 1000 decision trees\n",
        "# n_estimators = 100 standard, won't cause overfitting but increases complexity\n",
        "# max_depth - really important for accuracy, causes overfitiing\n",
        "# We generally keep min_samples_split value between 2 and 6\n",
        "# min_samples_leaf: less - overfitting, more - decreased number of parameters, basic - 1\n",
        "rf1 = RandomForestClassifier(\n",
        "    n_estimators = 600, random_state = 20, min_samples_leaf = 5, min_samples_split = 2, max_depth = 8\n",
        ")\n",
        "# Train the model on training data\n",
        "rf1.fit(train_s_features, train_s_labels);"
      ]
    },
    {
      "cell_type": "code",
      "execution_count": null,
      "metadata": {
        "id": "aMjMPVfikg2q"
      },
      "outputs": [],
      "source": [
        "predictions1 = rf1.predict(eval_features)"
      ]
    },
    {
      "cell_type": "code",
      "execution_count": null,
      "metadata": {
        "id": "l-LUtd6lkkkK"
      },
      "outputs": [],
      "source": [
        "train_score1 = rf1.score(train_s_features, train_s_labels)\n",
        "eval_score1 = rf1.score(eval_features, eval_labels)"
      ]
    },
    {
      "cell_type": "code",
      "execution_count": null,
      "metadata": {
        "colab": {
          "base_uri": "https://localhost:8080/"
        },
        "id": "gIoZXRmMwdr5",
        "outputId": "fc7a407f-4c30-44fe-9412-86af4fa19f56"
      },
      "outputs": [
        {
          "name": "stdout",
          "output_type": "stream",
          "text": [
            "During training, the accuracy score was 0.861\n",
            "During validation, the accuracy score was 0.652\n"
          ]
        }
      ],
      "source": [
        "print('During training, the accuracy score was ' + str(round(train_score1, 3)))\n",
        "print('During validation, the accuracy score was ' + str(round(eval_score1, 3)))"
      ]
    },
    {
      "cell_type": "code",
      "execution_count": null,
      "metadata": {
        "colab": {
          "base_uri": "https://localhost:8080/"
        },
        "id": "IDUwrI5quSEw",
        "outputId": "193fecc9-7e4d-4224-f4f0-de5113db867d"
      },
      "outputs": [
        {
          "name": "stdout",
          "output_type": "stream",
          "text": [
            "              precision    recall  f1-score   support\n",
            "\n",
            "       False       0.61      0.87      0.71     17914\n",
            "        True       0.77      0.44      0.56     17914\n",
            "\n",
            "    accuracy                           0.65     35828\n",
            "   macro avg       0.69      0.65      0.64     35828\n",
            "weighted avg       0.69      0.65      0.64     35828\n",
            "\n"
          ]
        }
      ],
      "source": [
        ""
      ]
    },
    {
      "cell_type": "code",
      "execution_count": null,
      "metadata": {
        "colab": {
          "base_uri": "https://localhost:8080/"
        },
        "id": "udJS4TAqxGLB",
        "outputId": "5a944e2a-9e1d-4a15-a741-0e6ed7018829"
      },
      "outputs": [
        {
          "data": {
            "text/plain": [
              "0.6568605559897287"
            ]
          },
          "execution_count": 103,
          "metadata": {},
          "output_type": "execute_result"
        }
      ],
      "source": [
        "accuracy_score(eval_labels, predictions1)"
      ]
    },
    {
      "cell_type": "code",
      "execution_count": null,
      "metadata": {
        "id": "WBIK1I2Gky92"
      },
      "outputs": [],
      "source": [
        "cf_matrix1 = confusion_matrix(eval_labels, predictions1)"
      ]
    },
    {
      "cell_type": "code",
      "execution_count": null,
      "metadata": {
        "colab": {
          "base_uri": "https://localhost:8080/",
          "height": 337
        },
        "id": "SDUtsDNPkzNV",
        "outputId": "343eb46f-990e-4c60-c7cf-fa6616cf7a66"
      },
      "outputs": [
        {
          "data": {
            "image/png": "[encoded data removed]",
            "text/plain": [
              "<Figure size 432x288 with 2 Axes>"
            ]
          },
          "metadata": {},
          "output_type": "display_data"
        }
      ],
      "source": [
        "group_names = ['True Neg','False Pos','False Neg','True Pos']\n",
        "\n",
        "group_counts = [\"{0:0.0f}\".format(value) for value in\n",
        "                cf_matrix1.flatten()]\n",
        "\n",
        "group_percentages = [\"{0:.2%}\".format(value) for value in\n",
        "                     cf_matrix1.flatten()/np.sum(cf_matrix1)]\n",
        "\n",
        "labels = [f\"{v1}\\n{v2}\\n{v3}\" for v1, v2, v3 in\n",
        "          zip(group_names,group_counts,group_percentages)]\n",
        "\n",
        "labels = np.asarray(labels).reshape(2,2)\n",
        "\n",
        "ax = sns.heatmap(cf_matrix1, annot=labels, fmt='', cmap='Blues')\n",
        "\n",
        "ax.set_title('Seaborn Confusion Matrix with labels\\n\\n');\n",
        "ax.set_xlabel('\\nPredicted Values')\n",
        "ax.set_ylabel('Actual Values ');\n",
        "\n",
        "## Ticket labels - List must be in alphabetical order\n",
        "ax.xaxis.set_ticklabels(['False','True'])\n",
        "ax.yaxis.set_ticklabels(['False','True'])\n",
        "\n",
        "## Display the visualization of the Confusion Matrix.\n",
        "pl.show()"
      ]
    },
    {
      "cell_type": "markdown",
      "metadata": {
        "id": "6azzQ_OVy92k"
      },
      "source": [
        "Round ... "
      ]
    },
    {
      "cell_type": "code",
      "execution_count": null,
      "metadata": {
        "id": "qtFwhT3Gy9hx"
      },
      "outputs": [],
      "source": [
        "remove_n = round(int(train.shape[0]/3)) + 10000\n",
        "drop_indices_False = np.random.choice(\n",
        "    train[train['label'] == False].index, remove_n, replace=False\n",
        ")\n",
        "drop_indices_True = np.random.choice(\n",
        "    train[train['label'] == True].index, remove_n, replace=False\n",
        ")\n",
        "train_subset = train.drop(drop_indices_False)\n",
        "train_subset = train_subset.drop(drop_indices_True)"
      ]
    },
    {
      "cell_type": "code",
      "execution_count": null,
      "metadata": {
        "colab": {
          "base_uri": "https://localhost:8080/"
        },
        "id": "Nf5GphH_zCtq",
        "outputId": "ef9aea50-9f88-4f74-aa71-6634bbdba65d"
      },
      "outputs": [
        {
          "data": {
            "text/plain": [
              "(15446, 337)"
            ]
          },
          "execution_count": 111,
          "metadata": {},
          "output_type": "execute_result"
        }
      ],
      "source": [
        "train_subset.shape"
      ]
    },
    {
      "cell_type": "code",
      "execution_count": null,
      "metadata": {
        "id": "LVFMtrYMzErd"
      },
      "outputs": [],
      "source": [
        "train_s_features, train_s_labels = train_subset.loc[:, train_subset.columns != 'label'], train_subset['label']"
      ]
    },
    {
      "cell_type": "code",
      "execution_count": null,
      "metadata": {
        "colab": {
          "base_uri": "https://localhost:8080/"
        },
        "id": "rAzUqKTmzHSj",
        "outputId": "f58cbe8b-60db-43fe-ac8d-42e4850e51f2"
      },
      "outputs": [
        {
          "data": {
            "text/plain": [
              "(15446, 336)"
            ]
          },
          "execution_count": 113,
          "metadata": {},
          "output_type": "execute_result"
        }
      ],
      "source": [
        "train_s_features.shape"
      ]
    },
    {
      "cell_type": "code",
      "execution_count": null,
      "metadata": {
        "id": "R46p9WdNzOpN"
      },
      "outputs": [],
      "source": [
        "# Instantiate model with 1000 decision trees\n",
        "# n_estimators = 100 standard, won't cause overfitting but increases complexity\n",
        "# max_depth - really important for accuracy, causes overfitiing\n",
        "# We generally keep min_samples_split value between 2 and 6\n",
        "# min_samples_leaf: less - overfitting, more - decreased number of parameters, basic - 1\n",
        "rf2 = RandomForestClassifier(\n",
        "    n_estimators = 600, random_state = 10, min_samples_leaf = 1, max_depth = 400\n",
        ")\n",
        "# Train the model on training data\n",
        "rf2.fit(train_s_features, train_s_labels);"
      ]
    },
    {
      "cell_type": "code",
      "execution_count": null,
      "metadata": {
        "id": "ghfQf9R9zRIO"
      },
      "outputs": [],
      "source": [
        "predictions2 = rf2.predict(eval_features)"
      ]
    },
    {
      "cell_type": "code",
      "execution_count": null,
      "metadata": {
        "id": "iU7YEf07zYba"
      },
      "outputs": [],
      "source": [
        "train_score2 = rf2.score(train_s_features, train_s_labels)\n",
        "eval_score2 = rf2.score(eval_features, eval_labels)"
      ]
    },
    {
      "cell_type": "code",
      "execution_count": null,
      "metadata": {
        "colab": {
          "base_uri": "https://localhost:8080/"
        },
        "id": "tSRVfQlyzd88",
        "outputId": "48c2ca11-cad3-4746-c5bd-d756dae241e2"
      },
      "outputs": [
        {
          "name": "stdout",
          "output_type": "stream",
          "text": [
            "During training, the accuracy score was 1.0\n",
            "During validation, the accuracy score was 0.657\n",
            "              precision    recall  f1-score   support\n",
            "\n",
            "       False       0.60      0.91      0.73     17914\n",
            "        True       0.82      0.40      0.54     17914\n",
            "\n",
            "    accuracy                           0.66     35828\n",
            "   macro avg       0.71      0.66      0.63     35828\n",
            "weighted avg       0.71      0.66      0.63     35828\n",
            "\n"
          ]
        }
      ],
      "source": [
        "print('During training, the accuracy score was ' + str(round(train_score2, 3)))\n",
        "print('During validation, the accuracy score was ' + str(round(eval_score2, 3)))\n",
        "print(classification_report(eval_labels, predictions2))"
      ]
    },
    {
      "cell_type": "code",
      "execution_count": null,
      "metadata": {
        "id": "z49fE7JUzgN6"
      },
      "outputs": [],
      "source": [
        "cf_matrix2 = confusion_matrix(eval_labels, predictions2)"
      ]
    },
    {
      "cell_type": "code",
      "execution_count": null,
      "metadata": {
        "colab": {
          "base_uri": "https://localhost:8080/",
          "height": 307
        },
        "id": "tc1_LxZU2ZmN",
        "outputId": "05340ef3-0a54-41d2-f929-cc921f4ef953"
      },
      "outputs": [
        {
          "data": {
            "image/png": "[encoded data removed]",
            "text/plain": [
              "<Figure size 432x288 with 2 Axes>"
            ]
          },
          "metadata": {},
          "output_type": "display_data"
        }
      ],
      "source": [
        "group_names = ['True Neg','False Pos','False Neg','True Pos']\n",
        "\n",
        "group_counts = [\"{0:0.0f}\".format(value) for value in\n",
        "                cf_matrix1.flatten()]\n",
        "\n",
        "group_percentages = [\"{0:.2%}\".format(value) for value in\n",
        "                     cf_matrix1.flatten()/np.sum(cf_matrix1)]\n",
        "\n",
        "labels = [f\"{v1}\\n{v2}\\n{v3}\" for v1, v2, v3 in\n",
        "          zip(group_names,group_counts,group_percentages)]\n",
        "\n",
        "labels = np.asarray(labels).reshape(2,2)\n",
        "\n",
        "ax = sns.heatmap(cf_matrix1, annot=labels, fmt='', cmap='Blues')\n",
        "\n",
        "ax.set_title('n_estimators = 600, random_state = 42, min_samples_leaf = 2, min_samples_split = 6, max_depth = 400');\n",
        "ax.set_xlabel('\\nPredicted Values')\n",
        "ax.set_ylabel('Actual Values ');\n",
        "\n",
        "## Ticket labels - List must be in alphabetical order\n",
        "ax.xaxis.set_ticklabels(['False','True'])\n",
        "ax.yaxis.set_ticklabels(['False','True'])\n",
        "\n",
        "## Display the visualization of the Confusion Matrix.\n",
        "pl.show()"
      ]
    },
    {
      "cell_type": "code",
      "execution_count": null,
      "metadata": {
        "colab": {
          "base_uri": "https://localhost:8080/",
          "height": 307
        },
        "id": "NXe3u5WY3Fgt",
        "outputId": "5cbbfa59-7794-4510-964c-c1d9418b7a3c"
      },
      "outputs": [
        {
          "data": {
            "image/png": "[encoded data removed]",
            "text/plain": [
              "<Figure size 432x288 with 2 Axes>"
            ]
          },
          "metadata": {},
          "output_type": "display_data"
        }
      ],
      "source": [
        "cf_matrix3 = confusion_matrix(eval_labels, predictions2)\n",
        "group_names = ['True Neg','False Pos','False Neg','True Pos']\n",
        "\n",
        "group_counts = [\"{0:0.0f}\".format(value) for value in\n",
        "                cf_matrix3.flatten()]\n",
        "\n",
        "group_percentages = [\"{0:.2%}\".format(value) for value in\n",
        "                     cf_matrix3.flatten()/np.sum(cf_matrix3)]\n",
        "\n",
        "labels = [f\"{v1}\\n{v2}\\n{v3}\" for v1, v2, v3 in\n",
        "          zip(group_names,group_counts,group_percentages)]\n",
        "\n",
        "labels = np.asarray(labels).reshape(2,2)\n",
        "\n",
        "ax = sns.heatmap(cf_matrix3, annot=labels, fmt='', cmap='Blues')\n",
        "\n",
        "ax.set_title('n_estimators = 600, random_state = 20, min_samples_leaf = 1, max_depth = 400');\n",
        "ax.set_xlabel('\\nPredicted Values')\n",
        "ax.set_ylabel('Actual Values ');\n",
        "\n",
        "## Ticket labels - List must be in alphabetical order\n",
        "ax.xaxis.set_ticklabels(['False','True'])\n",
        "ax.yaxis.set_ticklabels(['False','True'])\n",
        "\n",
        "## Display the visualization of the Confusion Matrix.\n",
        "pl.show()"
      ]
    }
  ],
  "metadata": {
    "colab": {
      "name": "Random Classifier.ipynb",
      "provenance": [],
      "authorship_tag": "ABX9TyPblt0beROGgsT9wA72fBOh",
      "include_colab_link": true
    },
    "kernelspec": {
      "display_name": "Python 3",
      "name": "python3"
    },
    "language_info": {
      "name": "python"
    }
  },
  "nbformat": 4,
  "nbformat_minor": 0
}