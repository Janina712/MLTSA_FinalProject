{
  "nbformat": 4,
  "nbformat_minor": 0,
  "metadata": {
    "colab": {
      "name": "Feature extraction.ipynb",
      "provenance": [],
      "authorship_tag": "ABX9TyMfNBgqIo3cYYU6oAz+eDR/",
      "include_colab_link": true
    },
    "kernelspec": {
      "name": "python3",
      "display_name": "Python 3"
    },
    "language_info": {
      "name": "python"
    }
  },
  "cells": [
    {
      "cell_type": "markdown",
      "metadata": {
        "id": "view-in-github",
        "colab_type": "text"
      },
      "source": [
        "<a href=\"https://colab.research.google.com/github/Janina712/MLTSA_FinalProject/blob/main/Feature_extraction.ipynb\" target=\"_parent\"><img src=\"https://colab.research.google.com/assets/colab-badge.svg\" alt=\"Open In Colab\"/></a>"
      ]
    },
    {
      "cell_type": "code",
      "source": [
        "pip install pickle5"
      ],
      "metadata": {
        "colab": {
          "base_uri": "https://localhost:8080/"
        },
        "id": "YgmcMV-7WVB3",
        "outputId": "8a674fc3-042a-45ae-ec66-ff65fb501a0d"
      },
      "execution_count": 19,
      "outputs": [
        {
          "output_type": "stream",
          "name": "stdout",
          "text": [
            "Collecting pickle5\n",
            "  Downloading pickle5-0.0.12-cp37-cp37m-manylinux_2_5_x86_64.manylinux1_x86_64.whl (256 kB)\n",
            "\u001b[?25l\r\u001b[K     |█▎                              | 10 kB 16.9 MB/s eta 0:00:01\r\u001b[K     |██▋                             | 20 kB 17.1 MB/s eta 0:00:01\r\u001b[K     |███▉                            | 30 kB 10.2 MB/s eta 0:00:01\r\u001b[K     |█████▏                          | 40 kB 8.6 MB/s eta 0:00:01\r\u001b[K     |██████▍                         | 51 kB 4.9 MB/s eta 0:00:01\r\u001b[K     |███████▊                        | 61 kB 5.8 MB/s eta 0:00:01\r\u001b[K     |█████████                       | 71 kB 5.9 MB/s eta 0:00:01\r\u001b[K     |██████████▎                     | 81 kB 4.6 MB/s eta 0:00:01\r\u001b[K     |███████████▌                    | 92 kB 5.1 MB/s eta 0:00:01\r\u001b[K     |████████████▉                   | 102 kB 5.5 MB/s eta 0:00:01\r\u001b[K     |██████████████                  | 112 kB 5.5 MB/s eta 0:00:01\r\u001b[K     |███████████████▍                | 122 kB 5.5 MB/s eta 0:00:01\r\u001b[K     |████████████████▋               | 133 kB 5.5 MB/s eta 0:00:01\r\u001b[K     |██████████████████              | 143 kB 5.5 MB/s eta 0:00:01\r\u001b[K     |███████████████████▏            | 153 kB 5.5 MB/s eta 0:00:01\r\u001b[K     |████████████████████▌           | 163 kB 5.5 MB/s eta 0:00:01\r\u001b[K     |█████████████████████▊          | 174 kB 5.5 MB/s eta 0:00:01\r\u001b[K     |███████████████████████         | 184 kB 5.5 MB/s eta 0:00:01\r\u001b[K     |████████████████████████▎       | 194 kB 5.5 MB/s eta 0:00:01\r\u001b[K     |█████████████████████████▋      | 204 kB 5.5 MB/s eta 0:00:01\r\u001b[K     |██████████████████████████▉     | 215 kB 5.5 MB/s eta 0:00:01\r\u001b[K     |████████████████████████████▏   | 225 kB 5.5 MB/s eta 0:00:01\r\u001b[K     |█████████████████████████████▍  | 235 kB 5.5 MB/s eta 0:00:01\r\u001b[K     |██████████████████████████████▊ | 245 kB 5.5 MB/s eta 0:00:01\r\u001b[K     |████████████████████████████████| 256 kB 5.5 MB/s eta 0:00:01\r\u001b[K     |████████████████████████████████| 256 kB 5.5 MB/s \n",
            "\u001b[?25hInstalling collected packages: pickle5\n",
            "Successfully installed pickle5-0.0.12\n"
          ]
        }
      ]
    },
    {
      "cell_type": "code",
      "execution_count": 20,
      "metadata": {
        "id": "cpG7-tLiOr3k"
      },
      "outputs": [],
      "source": [
        "import numpy as np \n",
        "import pandas as pd\n",
        "import os\n",
        "import pylab as pl\n",
        "from pathlib import Path\n",
        "from collections import Counter\n",
        "from scipy.stats import entropy\n",
        "import matplotlib.mlab\n",
        "import statistics\n",
        "import scipy.stats as stats\n",
        "import pickle5 as pickle"
      ]
    },
    {
      "cell_type": "code",
      "source": [
        "from google.colab import drive\n",
        "drive.mount('/content/drive')"
      ],
      "metadata": {
        "colab": {
          "base_uri": "https://localhost:8080/"
        },
        "id": "Q8XpS6HWPQA2",
        "outputId": "702633cb-3182-4356-970e-637ee2bd92a4"
      },
      "execution_count": 3,
      "outputs": [
        {
          "output_type": "stream",
          "name": "stdout",
          "text": [
            "Mounted at /content/drive\n"
          ]
        }
      ]
    },
    {
      "cell_type": "code",
      "source": [
        "cd /content/drive/MyDrive/MLTSA22/Final_Project"
      ],
      "metadata": {
        "colab": {
          "base_uri": "https://localhost:8080/"
        },
        "id": "AO11K8x1PRqV",
        "outputId": "0581f3a4-5c9f-44a8-f92f-0c2d3d0cb288"
      },
      "execution_count": 4,
      "outputs": [
        {
          "output_type": "stream",
          "name": "stdout",
          "text": [
            "/content/drive/MyDrive/MLTSA22/Final_Project\n"
          ]
        }
      ]
    },
    {
      "cell_type": "code",
      "source": [
        "!ls /content/drive/MyDrive/MLTSA22/Final_Project"
      ],
      "metadata": {
        "colab": {
          "base_uri": "https://localhost:8080/"
        },
        "id": "gjnSlfc9PY41",
        "outputId": "62958b03-0d04-4add-aa28-bc3622d68b62"
      },
      "execution_count": 5,
      "outputs": [
        {
          "output_type": "stream",
          "name": "stdout",
          "text": [
            "00000258_s002_t000.edf\n",
            "00010563_s002_t004.pkl\n",
            "all_tuh_eeg_seizure_links.txt\n",
            "dev__01_tcp_ar__002__00000258__s002_2003_07_21__00000258_s002_t000.edf\n",
            "dev__01_tcp_ar__002__00000258__s003_2003_07_22__00000258_s003_t001.edf\n",
            "files_raw_channels_small_df.pkl\n",
            "isip_tuh_eeg\n",
            "seizures_types_v01.xlsx\n",
            "temp\n"
          ]
        }
      ]
    },
    {
      "cell_type": "code",
      "source": [
        "working_folder = Path('/content/drive/MyDrive/MLTSA22/Final_Project/')"
      ],
      "metadata": {
        "id": "3twVFEwOPaYU"
      },
      "execution_count": 10,
      "outputs": []
    },
    {
      "cell_type": "code",
      "source": [
        "with open(working_folder.joinpath('00010563_s002_t004.pkl'), \"rb\") as fh:\n",
        "  data = pickle.load(fh)"
      ],
      "metadata": {
        "id": "saypWl07WR-i"
      },
      "execution_count": 21,
      "outputs": []
    },
    {
      "cell_type": "code",
      "source": [
        "def feature_extraction(timeseries):\n",
        "  # takes as an input one window in parallel with the windows from other channels\n",
        "  #20 features\n",
        "  features = []\n",
        "  ##time domain\n",
        "  # mean\n",
        "  mean = np.mean(timeseries)\n",
        "  # variance\n",
        "  var = np.var(timeseries)\n",
        "  # maximum\n",
        "  max = np.max(timeseries)\n",
        "  # minimum\n",
        "  min = np.min(timeseries)\n",
        "  # standard deviation\n",
        "  std = np.std(timeseries)\n",
        "  # line length   \n",
        "  line_length = 0\n",
        "  for i in range(0, len(timeseries)):\n",
        "    if i == 0:\n",
        "      line_length += abs(timeseries[i])\n",
        "    else:\n",
        "      line_length += abs(timeseries[i] - timeseries[i-1])  \n",
        "  # zero-crossing\n",
        "  zero_crossing = (np.diff(np.sign(timeseries)) != 0).sum()\n",
        "  # kurtosis\n",
        "  kurtosis = stats.kurtosis(timeseries)\n",
        "  # skewness\n",
        "  skew = stats.skew(timeseries)\n",
        "  # median\n",
        "  median = statistics.median(timeseries)\n",
        " \n",
        "  ##frequency domain\n",
        "  psd = matplotlib.mlab.psd(timeseries)\n",
        "  power = psd[0].tolist()\n",
        "  freqs = psd[1].tolist()\n",
        "\n",
        "  low_freq = 0\n",
        "  theta = 0\n",
        "  alpha = 0\n",
        "  beta = 0\n",
        "  gamma = 0\n",
        "  for i in range(0, len(psd[0])):\n",
        "    # low frequency power\n",
        "    if freqs[i] <= 0.04:\n",
        "      low_freq += power[i]   \n",
        "    #theta total power 4 - 8 Hz\n",
        "    if 0.04 < freqs[i] <= 0.08:\n",
        "      theta += power[i]\n",
        "    # alpha total power\n",
        "    if 0.08 < freqs[i] <= 0.12:\n",
        "      alpha += power[i]\n",
        "    # beta total power\n",
        "    if 0.13 < freqs[i] <= 0.3:\n",
        "      beta += power[i]\n",
        "    # gamma total power\n",
        "    if 0.3 < freqs[i] <= 1:\n",
        "      gamma += power[i]\n",
        "    \n",
        "  # peak frequency\n",
        "  #peak_freq = freqs[int(power.index(max(power)))]\n",
        "  # spectral entropy\n",
        "  ent = entropy(power)\n",
        "  # magnitude of psd\n",
        "  #mag_psd = matplotlib.mlab.magnitude_spectrum(timeseries)[0]# first array is magnitude, the second - frequencies\n",
        "  # angle of spectrum\n",
        "  #ang_psd = matplotlib.mlab.angle_spectrum(timeseries)[0]\n",
        "  # phase of spectrum\n",
        "  #ph_psd = matplotlib.mlab.phase_spectrum(timeseries)[0]\n",
        "\n",
        "  features.append(mean)\n",
        "  features.append(var)\n",
        "  features.append(max)\n",
        "  features.append(min)\n",
        "  features.append(std)\n",
        "  features.append(line_length)\n",
        "  features.append(zero_crossing)\n",
        "  features.append(kurtosis)\n",
        "  features.append(skew)\n",
        "  features.append(median)\n",
        "  features.append(low_freq)\n",
        "  features.append(theta)\n",
        "  features.append(alpha)\n",
        "  features.append(beta)\n",
        "  features.append(ent)\n",
        "\n",
        "  return features"
      ],
      "metadata": {
        "id": "W7RPSNhxQ-4d"
      },
      "execution_count": 15,
      "outputs": []
    },
    {
      "cell_type": "code",
      "source": [
        "def feature_space(data):\n",
        "  timeseries = data[0]\n",
        "  labels = data[1]\n",
        "\n",
        "  features_all = [] # features of shape (windows number, channels number, features number)\n",
        "  for window in timeseries:\n",
        "    window_wrap = []\n",
        "    for channel in window.T:\n",
        "      features = feature_extraction(channel)\n",
        "      window_wrap.append(features)\n",
        "    features_all.append(window_wrap)\n",
        "\n",
        "  features_number = 15\n",
        "  features_all = np.array(features_all)\n",
        "  features_all = features_all.reshape(\n",
        "      (timeseries.shape[0], \n",
        "       features_number, \n",
        "       timeseries.shape[2]))\n",
        "  \n",
        "  return features_all, labels"
      ],
      "metadata": {
        "id": "CxFC3y9fPccd"
      },
      "execution_count": 125,
      "outputs": []
    },
    {
      "cell_type": "code",
      "source": [
        "x, y = feature_space(data)"
      ],
      "metadata": {
        "id": "Gavobelbmri9"
      },
      "execution_count": 126,
      "outputs": []
    },
    {
      "cell_type": "code",
      "source": [
        "x.shape"
      ],
      "metadata": {
        "colab": {
          "base_uri": "https://localhost:8080/"
        },
        "id": "lIBMwkmYmwFs",
        "outputId": "04060a49-bf89-4b8d-e14a-7e61ac889640"
      },
      "execution_count": 127,
      "outputs": [
        {
          "output_type": "execute_result",
          "data": {
            "text/plain": [
              "(581, 15, 21)"
            ]
          },
          "metadata": {},
          "execution_count": 127
        }
      ]
    },
    {
      "cell_type": "code",
      "source": [
        "y.shape"
      ],
      "metadata": {
        "colab": {
          "base_uri": "https://localhost:8080/"
        },
        "id": "8gTY62g7oL71",
        "outputId": "832c9d65-d206-4458-cf59-10bf4cbfd1b9"
      },
      "execution_count": 128,
      "outputs": [
        {
          "output_type": "execute_result",
          "data": {
            "text/plain": [
              "(581,)"
            ]
          },
          "metadata": {},
          "execution_count": 128
        }
      ]
    },
    {
      "cell_type": "code",
      "source": [
        ""
      ],
      "metadata": {
        "id": "vpfpawr5YL-O"
      },
      "execution_count": null,
      "outputs": []
    }
  ]
}