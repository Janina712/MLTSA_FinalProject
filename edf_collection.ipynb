{
  "nbformat": 4,
  "nbformat_minor": 0,
  "metadata": {
    "colab": {
      "name": "edf_collection.ipynb",
      "provenance": [],
      "collapsed_sections": [],
      "toc_visible": true,
      "authorship_tag": "ABX9TyPyeHmWySG7K34TAG03yKf0",
      "include_colab_link": true
    },
    "kernelspec": {
      "name": "python3",
      "display_name": "Python 3"
    },
    "language_info": {
      "name": "python"
    }
  },
  "cells": [
    {
      "cell_type": "markdown",
      "metadata": {
        "id": "view-in-github",
        "colab_type": "text"
      },
      "source": [
        "<a href=\"https://colab.research.google.com/github/Janina712/MLTSA_FinalProject/blob/main/edf_collection.ipynb\" target=\"_parent\"><img src=\"https://colab.research.google.com/assets/colab-badge.svg\" alt=\"Open In Colab\"/></a>"
      ]
    },
    {
      "cell_type": "markdown",
      "source": [
        "# Here we collect all `.edf` files we need"
      ],
      "metadata": {
        "id": "m5X8-vHsoh5e"
      }
    },
    {
      "cell_type": "code",
      "source": [
        "import requests\n",
        "from bs4 import BeautifulSoup"
      ],
      "metadata": {
        "id": "TSbyKjFgpAPK"
      },
      "execution_count": 107,
      "outputs": []
    },
    {
      "cell_type": "code",
      "source": [
        "root_link = 'https://isip.piconepress.com/projects/tuh_eeg/downloads/tuh_eeg_seizure/v1.5.2/edf/'"
      ],
      "metadata": {
        "id": "l8FEB8dwoaVO"
      },
      "execution_count": 108,
      "outputs": []
    },
    {
      "cell_type": "code",
      "source": [
        "login = '**'\n",
        "passwd = '**'"
      ],
      "metadata": {
        "id": "1PyV6LZoogcn"
      },
      "execution_count": 131,
      "outputs": []
    },
    {
      "cell_type": "markdown",
      "source": [
        "## Getting all downloadable links"
      ],
      "metadata": {
        "id": "2w52QBcDYI-n"
      }
    },
    {
      "cell_type": "code",
      "source": [
        "def get_suff_list(link, folders:bool=True):\n",
        "\n",
        "  soup = BeautifulSoup(\n",
        "    requests.get(\n",
        "        link,\n",
        "        auth=(\n",
        "          login,\n",
        "          passwd,\n",
        "        )\n",
        "    ).text\n",
        "  )\n",
        "\n",
        "  current_suff_list = [\n",
        "    line.get('href') for line in (soup.find_all('a')) if (\n",
        "      (folders and str(line.text).count('/') == 1 and not str(line.text).count('.')) or\n",
        "      (not folders and not str(line.text).count('/') and str(line.text).count('.') == 1)\n",
        "    )\n",
        "  ]\n",
        "\n",
        "  return current_suff_list"
      ],
      "metadata": {
        "id": "mLuSw3ZLvMMp"
      },
      "execution_count": 93,
      "outputs": []
    },
    {
      "cell_type": "code",
      "source": [
        "current_root_link = root_link\n",
        "cur_folders = [root_link]\n",
        "files_to_download = []\n",
        "\n",
        "iter = 0\n",
        "\n",
        "while cur_folders:\n",
        "  iter += 1\n",
        "  current_root_link = cur_folders[0]\n",
        "  folds_to_check = get_suff_list(current_root_link, folders = True)\n",
        "  cur_folders.remove(current_root_link)\n",
        "  if not folds_to_check:\n",
        "    files_to_download += [\n",
        "        current_root_link + fname for fname in get_suff_list(current_root_link, folders = False)\n",
        "    ]\n",
        "\n",
        "  for suff in folds_to_check:\n",
        "    cur_folders.append(\n",
        "        current_root_link + suff\n",
        "    )\n",
        "  if not iter % 100:\n",
        "    print(f'iter: {iter}, curr_root: {current_root_link}, list: {len(cur_folders)}, files: {len(files_to_download)}')\n",
        "\n",
        "  "
      ],
      "metadata": {
        "colab": {
          "base_uri": "https://localhost:8080/"
        },
        "id": "Mra4Nd9TvaaH",
        "outputId": "4c742400-151e-43aa-a25a-2724f260cf01"
      },
      "execution_count": 110,
      "outputs": [
        {
          "output_type": "stream",
          "name": "stdout",
          "text": [
            "iter: 100, curr_root: https://isip.piconepress.com/projects/tuh_eeg/downloads/tuh_eeg_seizure/v1.5.2/edf/eval/03_tcp_ar_a/049/, list: 347, files: 0\n",
            "iter: 200, curr_root: https://isip.piconepress.com/projects/tuh_eeg/downloads/tuh_eeg_seizure/v1.5.2/edf/train/01_tcp_ar/126/, list: 538, files: 0\n",
            "iter: 300, curr_root: https://isip.piconepress.com/projects/tuh_eeg/downloads/tuh_eeg_seizure/v1.5.2/edf/train/03_tcp_ar_a/036/, list: 737, files: 0\n",
            "iter: 400, curr_root: https://isip.piconepress.com/projects/tuh_eeg/downloads/tuh_eeg_seizure/v1.5.2/edf/dev/03_tcp_ar_a/059/00005943/, list: 933, files: 0\n",
            "iter: 500, curr_root: https://isip.piconepress.com/projects/tuh_eeg/downloads/tuh_eeg_seizure/v1.5.2/edf/train/01_tcp_ar/061/00006103/, list: 1084, files: 0\n",
            "iter: 600, curr_root: https://isip.piconepress.com/projects/tuh_eeg/downloads/tuh_eeg_seizure/v1.5.2/edf/train/01_tcp_ar/089/00008971/, list: 1214, files: 0\n",
            "iter: 700, curr_root: https://isip.piconepress.com/projects/tuh_eeg/downloads/tuh_eeg_seizure/v1.5.2/edf/train/01_tcp_ar/112/00011248/, list: 1356, files: 0\n",
            "iter: 800, curr_root: https://isip.piconepress.com/projects/tuh_eeg/downloads/tuh_eeg_seizure/v1.5.2/edf/train/02_tcp_le/007/00000775/, list: 1451, files: 0\n",
            "iter: 900, curr_root: https://isip.piconepress.com/projects/tuh_eeg/downloads/tuh_eeg_seizure/v1.5.2/edf/train/02_tcp_le/032/00003284/, list: 1467, files: 0\n",
            "iter: 1000, curr_root: https://isip.piconepress.com/projects/tuh_eeg/downloads/tuh_eeg_seizure/v1.5.2/edf/train/02_tcp_le/069/00006904/, list: 1493, files: 0\n",
            "iter: 1100, curr_root: https://isip.piconepress.com/projects/tuh_eeg/downloads/tuh_eeg_seizure/v1.5.2/edf/train/03_tcp_ar_a/131/00013112/, list: 1573, files: 0\n",
            "iter: 1200, curr_root: https://isip.piconepress.com/projects/tuh_eeg/downloads/tuh_eeg_seizure/v1.5.2/edf/dev/01_tcp_ar/088/00008889/s004_2012_03_21/, list: 1476, files: 1335\n",
            "iter: 1300, curr_root: https://isip.piconepress.com/projects/tuh_eeg/downloads/tuh_eeg_seizure/v1.5.2/edf/dev/02_tcp_le/019/00001981/s002_2005_04_28/, list: 1376, files: 2944\n",
            "iter: 1400, curr_root: https://isip.piconepress.com/projects/tuh_eeg/downloads/tuh_eeg_seizure/v1.5.2/edf/eval/01_tcp_ar/112/00011276/s005_2014_02_05/, list: 1276, files: 4918\n",
            "iter: 1500, curr_root: https://isip.piconepress.com/projects/tuh_eeg/downloads/tuh_eeg_seizure/v1.5.2/edf/train/01_tcp_ar/004/00000458/s012_2014_06_25/, list: 1176, files: 7635\n",
            "iter: 1600, curr_root: https://isip.piconepress.com/projects/tuh_eeg/downloads/tuh_eeg_seizure/v1.5.2/edf/train/01_tcp_ar/064/00006444/s002_2010_04_13/, list: 1076, files: 8839\n",
            "iter: 1700, curr_root: https://isip.piconepress.com/projects/tuh_eeg/downloads/tuh_eeg_seizure/v1.5.2/edf/train/01_tcp_ar/079/00007929/s006_2014_08_12/, list: 976, files: 10052\n",
            "iter: 1800, curr_root: https://isip.piconepress.com/projects/tuh_eeg/downloads/tuh_eeg_seizure/v1.5.2/edf/train/01_tcp_ar/087/00008738/s004_2013_06_04/, list: 876, files: 11610\n",
            "iter: 1900, curr_root: https://isip.piconepress.com/projects/tuh_eeg/downloads/tuh_eeg_seizure/v1.5.2/edf/train/01_tcp_ar/098/00009852/s002_2013_09_25/, list: 776, files: 12952\n",
            "iter: 2000, curr_root: https://isip.piconepress.com/projects/tuh_eeg/downloads/tuh_eeg_seizure/v1.5.2/edf/train/01_tcp_ar/104/00010489/s007_2013_07_12/, list: 676, files: 14555\n",
            "iter: 2100, curr_root: https://isip.piconepress.com/projects/tuh_eeg/downloads/tuh_eeg_seizure/v1.5.2/edf/train/01_tcp_ar/118/00011870/s006_2014_08_15/, list: 576, files: 16221\n",
            "iter: 2200, curr_root: https://isip.piconepress.com/projects/tuh_eeg/downloads/tuh_eeg_seizure/v1.5.2/edf/train/02_tcp_le/000/00000054/s004_2004_11_05/, list: 476, files: 17803\n",
            "iter: 2300, curr_root: https://isip.piconepress.com/projects/tuh_eeg/downloads/tuh_eeg_seizure/v1.5.2/edf/train/02_tcp_le/017/00001753/s003_2006_01_31/, list: 376, files: 18350\n",
            "iter: 2400, curr_root: https://isip.piconepress.com/projects/tuh_eeg/downloads/tuh_eeg_seizure/v1.5.2/edf/train/02_tcp_le/044/00004434/s003_2008_01_11/, list: 276, files: 18939\n",
            "iter: 2500, curr_root: https://isip.piconepress.com/projects/tuh_eeg/downloads/tuh_eeg_seizure/v1.5.2/edf/train/02_tcp_le/072/00007255/s001_2010_12_16/, list: 176, files: 19498\n",
            "iter: 2600, curr_root: https://isip.piconepress.com/projects/tuh_eeg/downloads/tuh_eeg_seizure/v1.5.2/edf/train/03_tcp_ar_a/065/00006514/s004_2010_04_28/, list: 76, files: 20993\n"
          ]
        }
      ]
    },
    {
      "cell_type": "markdown",
      "source": [
        "### Saving"
      ],
      "metadata": {
        "id": "51AOxD_EYRX5"
      }
    },
    {
      "cell_type": "code",
      "source": [
        "from google.colab import drive\n",
        "drive.mount('/content/drive')"
      ],
      "metadata": {
        "colab": {
          "base_uri": "https://localhost:8080/"
        },
        "id": "D8VS58lxYa6B",
        "outputId": "c467cd2d-a503-41f2-f0d4-934b716fff16"
      },
      "execution_count": 128,
      "outputs": [
        {
          "output_type": "stream",
          "name": "stdout",
          "text": [
            "Mounted at /content/drive\n"
          ]
        }
      ]
    },
    {
      "cell_type": "code",
      "source": [
        "with open('all_tuh_eeg_seizure_links.txt', 'w') as f:\n",
        "  for line in files_to_download:\n",
        "    f.write(f'{line}\\n')"
      ],
      "metadata": {
        "id": "4YzVgKQ1W3EN"
      },
      "execution_count": 113,
      "outputs": []
    }
  ]
}