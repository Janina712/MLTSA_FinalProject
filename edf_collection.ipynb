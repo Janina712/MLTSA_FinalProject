{
  "nbformat": 4,
  "nbformat_minor": 0,
  "metadata": {
    "colab": {
      "name": "edf_collection.ipynb",
      "provenance": [],
      "collapsed_sections": [],
      "toc_visible": true,
      "authorship_tag": "ABX9TyN/qw5pTZKFb9YLRQgNFjT6",
      "include_colab_link": true
    },
    "kernelspec": {
      "name": "python3",
      "display_name": "Python 3"
    },
    "language_info": {
      "name": "python"
    }
  },
  "cells": [
    {
      "cell_type": "markdown",
      "metadata": {
        "id": "view-in-github",
        "colab_type": "text"
      },
      "source": [
        "<a href=\"https://colab.research.google.com/github/Janina712/MLTSA_FinalProject/blob/main/edf_collection.ipynb\" target=\"_parent\"><img src=\"https://colab.research.google.com/assets/colab-badge.svg\" alt=\"Open In Colab\"/></a>"
      ]
    },
    {
      "cell_type": "markdown",
      "source": [
        "# Here we collect all `.edf` files we need"
      ],
      "metadata": {
        "id": "m5X8-vHsoh5e"
      }
    },
    {
      "cell_type": "code",
      "source": [
        "import requests\n",
        "from bs4 import BeautifulSoup\n",
        "from pathlib import Path\n",
        "from tqdm import tqdm\n",
        "import shutil\n",
        "from collections import Counter\n",
        "import pandas as pd"
      ],
      "metadata": {
        "id": "TSbyKjFgpAPK"
      },
      "execution_count": 11,
      "outputs": []
    },
    {
      "cell_type": "code",
      "source": [
        "from google.colab import drive\n",
        "drive.mount('/content/drive')"
      ],
      "metadata": {
        "colab": {
          "base_uri": "https://localhost:8080/"
        },
        "id": "D8VS58lxYa6B",
        "outputId": "9807d9f1-aec6-4c95-f0e5-14c21c4ddc52"
      },
      "execution_count": 2,
      "outputs": [
        {
          "output_type": "stream",
          "name": "stdout",
          "text": [
            "Mounted at /content/drive\n"
          ]
        }
      ]
    },
    {
      "cell_type": "code",
      "source": [
        "root_link = 'https://isip.piconepress.com/projects/tuh_eeg/downloads/tuh_eeg_seizure/v1.5.2/edf/'"
      ],
      "metadata": {
        "id": "l8FEB8dwoaVO"
      },
      "execution_count": 2,
      "outputs": []
    },
    {
      "cell_type": "code",
      "source": [
        "drive_tuh_eeg_loc = '/content/drive/MyDrive/Classes/22S-PHYS-667/project/isip_tuh_eeg'"
      ],
      "metadata": {
        "id": "YiC4Tz35r1b4"
      },
      "execution_count": 16,
      "outputs": []
    },
    {
      "cell_type": "markdown",
      "source": [
        "## Getting all downloadable links"
      ],
      "metadata": {
        "id": "2w52QBcDYI-n"
      }
    },
    {
      "cell_type": "code",
      "source": [
        "login = '**'\n",
        "passwd = '**'"
      ],
      "metadata": {
        "id": "1PyV6LZoogcn"
      },
      "execution_count": null,
      "outputs": []
    },
    {
      "cell_type": "code",
      "source": [
        "def get_suff_list(link, folders:bool=True):\n",
        "\n",
        "  soup = BeautifulSoup(\n",
        "    requests.get(\n",
        "        link,\n",
        "        auth=(\n",
        "          login,\n",
        "          passwd,\n",
        "        )\n",
        "    ).text\n",
        "  )\n",
        "\n",
        "  current_suff_list = [\n",
        "    line.get('href') for line in (soup.find_all('a')) if (\n",
        "      (folders and str(line.text).count('/') == 1 and not str(line.text).count('.')) or\n",
        "      (not folders and not str(line.text).count('/') and str(line.text).count('.') == 1)\n",
        "    )\n",
        "  ]\n",
        "\n",
        "  return current_suff_list"
      ],
      "metadata": {
        "id": "mLuSw3ZLvMMp"
      },
      "execution_count": 4,
      "outputs": []
    },
    {
      "cell_type": "code",
      "source": [
        "current_root_link = root_link\n",
        "cur_folders = [root_link]\n",
        "files_to_download = []\n",
        "\n",
        "iter = 0\n",
        "\n",
        "while cur_folders:\n",
        "  iter += 1\n",
        "  current_root_link = cur_folders[0]\n",
        "  folds_to_check = get_suff_list(current_root_link, folders = True)\n",
        "  cur_folders.remove(current_root_link)\n",
        "  if not folds_to_check:\n",
        "    files_to_download += [\n",
        "        current_root_link + fname for fname in get_suff_list(current_root_link, folders = False)\n",
        "    ]\n",
        "\n",
        "  for suff in folds_to_check:\n",
        "    cur_folders.append(\n",
        "        current_root_link + suff\n",
        "    )\n",
        "  if not iter % 100:\n",
        "    print(f'iter: {iter}, curr_root: {current_root_link}, list: {len(cur_folders)}, files: {len(files_to_download)}')\n",
        "\n",
        "  "
      ],
      "metadata": {
        "colab": {
          "base_uri": "https://localhost:8080/"
        },
        "id": "Mra4Nd9TvaaH",
        "outputId": "4c742400-151e-43aa-a25a-2724f260cf01"
      },
      "execution_count": null,
      "outputs": [
        {
          "output_type": "stream",
          "name": "stdout",
          "text": [
            "iter: 100, curr_root: https://isip.piconepress.com/projects/tuh_eeg/downloads/tuh_eeg_seizure/v1.5.2/edf/eval/03_tcp_ar_a/049/, list: 347, files: 0\n",
            "iter: 200, curr_root: https://isip.piconepress.com/projects/tuh_eeg/downloads/tuh_eeg_seizure/v1.5.2/edf/train/01_tcp_ar/126/, list: 538, files: 0\n",
            "iter: 300, curr_root: https://isip.piconepress.com/projects/tuh_eeg/downloads/tuh_eeg_seizure/v1.5.2/edf/train/03_tcp_ar_a/036/, list: 737, files: 0\n",
            "iter: 400, curr_root: https://isip.piconepress.com/projects/tuh_eeg/downloads/tuh_eeg_seizure/v1.5.2/edf/dev/03_tcp_ar_a/059/00005943/, list: 933, files: 0\n",
            "iter: 500, curr_root: https://isip.piconepress.com/projects/tuh_eeg/downloads/tuh_eeg_seizure/v1.5.2/edf/train/01_tcp_ar/061/00006103/, list: 1084, files: 0\n",
            "iter: 600, curr_root: https://isip.piconepress.com/projects/tuh_eeg/downloads/tuh_eeg_seizure/v1.5.2/edf/train/01_tcp_ar/089/00008971/, list: 1214, files: 0\n",
            "iter: 700, curr_root: https://isip.piconepress.com/projects/tuh_eeg/downloads/tuh_eeg_seizure/v1.5.2/edf/train/01_tcp_ar/112/00011248/, list: 1356, files: 0\n",
            "iter: 800, curr_root: https://isip.piconepress.com/projects/tuh_eeg/downloads/tuh_eeg_seizure/v1.5.2/edf/train/02_tcp_le/007/00000775/, list: 1451, files: 0\n",
            "iter: 900, curr_root: https://isip.piconepress.com/projects/tuh_eeg/downloads/tuh_eeg_seizure/v1.5.2/edf/train/02_tcp_le/032/00003284/, list: 1467, files: 0\n",
            "iter: 1000, curr_root: https://isip.piconepress.com/projects/tuh_eeg/downloads/tuh_eeg_seizure/v1.5.2/edf/train/02_tcp_le/069/00006904/, list: 1493, files: 0\n",
            "iter: 1100, curr_root: https://isip.piconepress.com/projects/tuh_eeg/downloads/tuh_eeg_seizure/v1.5.2/edf/train/03_tcp_ar_a/131/00013112/, list: 1573, files: 0\n",
            "iter: 1200, curr_root: https://isip.piconepress.com/projects/tuh_eeg/downloads/tuh_eeg_seizure/v1.5.2/edf/dev/01_tcp_ar/088/00008889/s004_2012_03_21/, list: 1476, files: 1335\n",
            "iter: 1300, curr_root: https://isip.piconepress.com/projects/tuh_eeg/downloads/tuh_eeg_seizure/v1.5.2/edf/dev/02_tcp_le/019/00001981/s002_2005_04_28/, list: 1376, files: 2944\n",
            "iter: 1400, curr_root: https://isip.piconepress.com/projects/tuh_eeg/downloads/tuh_eeg_seizure/v1.5.2/edf/eval/01_tcp_ar/112/00011276/s005_2014_02_05/, list: 1276, files: 4918\n",
            "iter: 1500, curr_root: https://isip.piconepress.com/projects/tuh_eeg/downloads/tuh_eeg_seizure/v1.5.2/edf/train/01_tcp_ar/004/00000458/s012_2014_06_25/, list: 1176, files: 7635\n",
            "iter: 1600, curr_root: https://isip.piconepress.com/projects/tuh_eeg/downloads/tuh_eeg_seizure/v1.5.2/edf/train/01_tcp_ar/064/00006444/s002_2010_04_13/, list: 1076, files: 8839\n",
            "iter: 1700, curr_root: https://isip.piconepress.com/projects/tuh_eeg/downloads/tuh_eeg_seizure/v1.5.2/edf/train/01_tcp_ar/079/00007929/s006_2014_08_12/, list: 976, files: 10052\n",
            "iter: 1800, curr_root: https://isip.piconepress.com/projects/tuh_eeg/downloads/tuh_eeg_seizure/v1.5.2/edf/train/01_tcp_ar/087/00008738/s004_2013_06_04/, list: 876, files: 11610\n",
            "iter: 1900, curr_root: https://isip.piconepress.com/projects/tuh_eeg/downloads/tuh_eeg_seizure/v1.5.2/edf/train/01_tcp_ar/098/00009852/s002_2013_09_25/, list: 776, files: 12952\n",
            "iter: 2000, curr_root: https://isip.piconepress.com/projects/tuh_eeg/downloads/tuh_eeg_seizure/v1.5.2/edf/train/01_tcp_ar/104/00010489/s007_2013_07_12/, list: 676, files: 14555\n",
            "iter: 2100, curr_root: https://isip.piconepress.com/projects/tuh_eeg/downloads/tuh_eeg_seizure/v1.5.2/edf/train/01_tcp_ar/118/00011870/s006_2014_08_15/, list: 576, files: 16221\n",
            "iter: 2200, curr_root: https://isip.piconepress.com/projects/tuh_eeg/downloads/tuh_eeg_seizure/v1.5.2/edf/train/02_tcp_le/000/00000054/s004_2004_11_05/, list: 476, files: 17803\n",
            "iter: 2300, curr_root: https://isip.piconepress.com/projects/tuh_eeg/downloads/tuh_eeg_seizure/v1.5.2/edf/train/02_tcp_le/017/00001753/s003_2006_01_31/, list: 376, files: 18350\n",
            "iter: 2400, curr_root: https://isip.piconepress.com/projects/tuh_eeg/downloads/tuh_eeg_seizure/v1.5.2/edf/train/02_tcp_le/044/00004434/s003_2008_01_11/, list: 276, files: 18939\n",
            "iter: 2500, curr_root: https://isip.piconepress.com/projects/tuh_eeg/downloads/tuh_eeg_seizure/v1.5.2/edf/train/02_tcp_le/072/00007255/s001_2010_12_16/, list: 176, files: 19498\n",
            "iter: 2600, curr_root: https://isip.piconepress.com/projects/tuh_eeg/downloads/tuh_eeg_seizure/v1.5.2/edf/train/03_tcp_ar_a/065/00006514/s004_2010_04_28/, list: 76, files: 20993\n"
          ]
        }
      ]
    },
    {
      "cell_type": "markdown",
      "source": [
        "### Saving"
      ],
      "metadata": {
        "id": "51AOxD_EYRX5"
      }
    },
    {
      "cell_type": "code",
      "source": [
        "with open('all_tuh_eeg_seizure_links.txt', 'w') as f:\n",
        "  for line in files_to_download:\n",
        "    f.write(f'{line}\\n')"
      ],
      "metadata": {
        "id": "4YzVgKQ1W3EN"
      },
      "execution_count": null,
      "outputs": []
    },
    {
      "cell_type": "markdown",
      "source": [
        "## Downloading files"
      ],
      "metadata": {
        "id": "diEnFIP2coB0"
      }
    },
    {
      "cell_type": "code",
      "source": [
        "links_to_download = []\n",
        "\n",
        "with open('/content/drive/MyDrive/Classes/22S-PHYS-667/project/all_tuh_eeg_seizure_links.txt', 'r') as f:\n",
        "  for line in f:\n",
        "    line = line.strip()\n",
        "    if line:\n",
        "      links_to_download.append(line)"
      ],
      "metadata": {
        "id": "qdcCXwEccV32"
      },
      "execution_count": 6,
      "outputs": []
    },
    {
      "cell_type": "code",
      "source": [
        "links_to_download[:3]"
      ],
      "metadata": {
        "colab": {
          "base_uri": "https://localhost:8080/"
        },
        "id": "ukX9zFRdc6rk",
        "outputId": "3daaa16c-cf5b-44d6-e87f-1c031ada6218"
      },
      "execution_count": 7,
      "outputs": [
        {
          "output_type": "execute_result",
          "data": {
            "text/plain": [
              "['https://isip.piconepress.com/projects/tuh_eeg/downloads/tuh_eeg_seizure/v1.5.2/edf/dev/01_tcp_ar/002/00000258/s002_2003_07_21/00000258_s002.txt',\n",
              " 'https://isip.piconepress.com/projects/tuh_eeg/downloads/tuh_eeg_seizure/v1.5.2/edf/dev/01_tcp_ar/002/00000258/s002_2003_07_21/00000258_s002_t000.edf',\n",
              " 'https://isip.piconepress.com/projects/tuh_eeg/downloads/tuh_eeg_seizure/v1.5.2/edf/dev/01_tcp_ar/002/00000258/s002_2003_07_21/00000258_s002_t000.lbl']"
            ]
          },
          "metadata": {},
          "execution_count": 7
        }
      ]
    },
    {
      "cell_type": "code",
      "source": [
        "len(links_to_download)"
      ],
      "metadata": {
        "colab": {
          "base_uri": "https://localhost:8080/"
        },
        "id": "40Isl1K-dUdn",
        "outputId": "280f7422-12c0-4a62-fa97-7f810d71263b"
      },
      "execution_count": 8,
      "outputs": [
        {
          "output_type": "execute_result",
          "data": {
            "text/plain": [
              "22503"
            ]
          },
          "metadata": {},
          "execution_count": 8
        }
      ]
    },
    {
      "cell_type": "code",
      "source": [
        "edf_links_to_download = [link for link in links_to_download if link[-4:] == '.tse']\n",
        "len(edf_links_to_download)"
      ],
      "metadata": {
        "colab": {
          "base_uri": "https://localhost:8080/"
        },
        "id": "cilsEleadWQy",
        "outputId": "4be3a809-5325-4df3-d32f-97bdcca5fbd3"
      },
      "execution_count": 10,
      "outputs": [
        {
          "output_type": "execute_result",
          "data": {
            "text/plain": [
              "6635"
            ]
          },
          "metadata": {},
          "execution_count": 10
        }
      ]
    },
    {
      "cell_type": "code",
      "source": [
        "file_extensions_counter = Counter(\n",
        "    [fname[-3:] for fname in links_to_download]\n",
        ")\n",
        "file_extensions_counter.most_common()"
      ],
      "metadata": {
        "colab": {
          "base_uri": "https://localhost:8080/"
        },
        "id": "pXWe928RFDgN",
        "outputId": "d52b0b92-101b-4dad-bf0d-126cbfb15ae9"
      },
      "execution_count": 11,
      "outputs": [
        {
          "output_type": "execute_result",
          "data": {
            "text/plain": [
              "[('edf', 6635), ('lbl', 6635), ('tse', 6635), ('txt', 1575), ('rec', 1023)]"
            ]
          },
          "metadata": {},
          "execution_count": 11
        }
      ]
    },
    {
      "cell_type": "code",
      "source": [
        "'__'.join(edf_links_to_download[3].split('/')[9:])"
      ],
      "metadata": {
        "colab": {
          "base_uri": "https://localhost:8080/",
          "height": 36
        },
        "id": "kL8J9DVpdjQD",
        "outputId": "a04bcca4-0dce-44f8-ba94-a649f52bf5ce"
      },
      "execution_count": 12,
      "outputs": [
        {
          "output_type": "execute_result",
          "data": {
            "text/plain": [
              "'dev__01_tcp_ar__002__00000258__s003_2003_07_22__00000258_s003_t001.tse'"
            ],
            "application/vnd.google.colaboratory.intrinsic+json": {
              "type": "string"
            }
          },
          "metadata": {},
          "execution_count": 12
        }
      ]
    },
    {
      "cell_type": "code",
      "source": [
        "target_folder = '/content/drive/MyDrive/Classes/22S-PHYS-667/project/isip_tuh_eeg/'"
      ],
      "metadata": {
        "id": "Qu81CmxQeDDF"
      },
      "execution_count": 13,
      "outputs": []
    },
    {
      "cell_type": "code",
      "source": [
        "for link in tqdm(edf_links_to_download[:]):\n",
        "  out_fname = '__'.join(\n",
        "      link.split('/')[9:]\n",
        "  )\n",
        "  with open(Path(target_folder).joinpath(out_fname), 'wb') as f:\n",
        "    binary_data = requests.get(\n",
        "        link,\n",
        "        stream=True,\n",
        "        auth=(\n",
        "          login,\n",
        "          passwd,\n",
        "        )\n",
        "    )\n",
        "    shutil.copyfileobj(binary_data.raw, f)"
      ],
      "metadata": {
        "colab": {
          "base_uri": "https://localhost:8080/"
        },
        "id": "LnJZTjTWeywV",
        "outputId": "d47eb888-dcce-41d0-9657-78fd33260ddd"
      },
      "execution_count": 14,
      "outputs": [
        {
          "output_type": "stream",
          "name": "stderr",
          "text": [
            "100%|██████████| 6635/6635 [14:32<00:00,  7.61it/s]\n"
          ]
        }
      ]
    },
    {
      "cell_type": "markdown",
      "source": [
        "## Reading files from the folder"
      ],
      "metadata": {
        "id": "ScUomwqnsDqR"
      }
    },
    {
      "cell_type": "code",
      "source": [
        "downloaded_files = list(Path(drive_tuh_eeg_loc).glob('*'))\n",
        "downloaded_files[:3]"
      ],
      "metadata": {
        "colab": {
          "base_uri": "https://localhost:8080/"
        },
        "id": "SBwNJ7Oif1qL",
        "outputId": "44ac16b3-7815-497f-e573-9dfd863b5264"
      },
      "execution_count": 19,
      "outputs": [
        {
          "output_type": "execute_result",
          "data": {
            "text/plain": [
              "[PosixPath('/content/drive/MyDrive/Classes/22S-PHYS-667/project/isip_tuh_eeg/train__02_tcp_le__058__00005804__s002_2008_11_05__00005804_s002_t003.tse'),\n",
              " PosixPath('/content/drive/MyDrive/Classes/22S-PHYS-667/project/isip_tuh_eeg/train__02_tcp_le__058__00005804__s002_2008_11_05__00005804_s002_t004.tse'),\n",
              " PosixPath('/content/drive/MyDrive/Classes/22S-PHYS-667/project/isip_tuh_eeg/train__02_tcp_le__058__00005804__s002_2008_11_05__00005804_s002_t005.tse')]"
            ]
          },
          "metadata": {},
          "execution_count": 19
        }
      ]
    },
    {
      "cell_type": "code",
      "source": [
        "pd.DataFrame(\n",
        "    [s.name.split('__') for s in downloaded_files[:10]],\n",
        "    columns=[\n",
        "      'type',\n",
        "      2, #??\n",
        "      3,\n",
        "      4,\n",
        "      5,\n",
        "      'filename'\n",
        "    ]\n",
        "    )"
      ],
      "metadata": {
        "colab": {
          "base_uri": "https://localhost:8080/",
          "height": 363
        },
        "id": "inFuzN_Rq2Hq",
        "outputId": "e064984d-7527-4bc8-e81c-0849dee35bfd"
      },
      "execution_count": 15,
      "outputs": [
        {
          "output_type": "execute_result",
          "data": {
            "text/plain": [
              "    type          2    3         4                5                filename\n",
              "0  train  02_tcp_le  058  00005804  s002_2008_11_05  00005804_s002_t003.tse\n",
              "1  train  02_tcp_le  058  00005804  s002_2008_11_05  00005804_s002_t004.tse\n",
              "2  train  02_tcp_le  058  00005804  s002_2008_11_05  00005804_s002_t005.tse\n",
              "3  train  02_tcp_le  058  00005804  s002_2008_11_05  00005804_s002_t006.tse\n",
              "4  train  02_tcp_le  060  00006083  s003_2010_10_11  00006083_s003_t001.tse\n",
              "5  train  02_tcp_le  060  00006083  s004_2010_10_12  00006083_s004_t001.tse\n",
              "6  train  02_tcp_le  060  00006083  s004_2010_10_12  00006083_s004_t002.tse\n",
              "7  train  02_tcp_le  060  00006087  s005_2011_04_11  00006087_s005_t000.tse\n",
              "8  train  02_tcp_le  060  00006087  s006_2011_04_12  00006087_s006_t000.tse\n",
              "9  train  02_tcp_le  061  00006134  s001_2009_08_07  00006134_s001_t000.tse"
            ],
            "text/html": [
              "\n",
              "  <div id=\"df-3d0d1072-2758-4442-b2e7-222bd360bf2b\">\n",
              "    <div class=\"colab-df-container\">\n",
              "      <div>\n",
              "<style scoped>\n",
              "    .dataframe tbody tr th:only-of-type {\n",
              "        vertical-align: middle;\n",
              "    }\n",
              "\n",
              "    .dataframe tbody tr th {\n",
              "        vertical-align: top;\n",
              "    }\n",
              "\n",
              "    .dataframe thead th {\n",
              "        text-align: right;\n",
              "    }\n",
              "</style>\n",
              "<table border=\"1\" class=\"dataframe\">\n",
              "  <thead>\n",
              "    <tr style=\"text-align: right;\">\n",
              "      <th></th>\n",
              "      <th>type</th>\n",
              "      <th>2</th>\n",
              "      <th>3</th>\n",
              "      <th>4</th>\n",
              "      <th>5</th>\n",
              "      <th>filename</th>\n",
              "    </tr>\n",
              "  </thead>\n",
              "  <tbody>\n",
              "    <tr>\n",
              "      <th>0</th>\n",
              "      <td>train</td>\n",
              "      <td>02_tcp_le</td>\n",
              "      <td>058</td>\n",
              "      <td>00005804</td>\n",
              "      <td>s002_2008_11_05</td>\n",
              "      <td>00005804_s002_t003.tse</td>\n",
              "    </tr>\n",
              "    <tr>\n",
              "      <th>1</th>\n",
              "      <td>train</td>\n",
              "      <td>02_tcp_le</td>\n",
              "      <td>058</td>\n",
              "      <td>00005804</td>\n",
              "      <td>s002_2008_11_05</td>\n",
              "      <td>00005804_s002_t004.tse</td>\n",
              "    </tr>\n",
              "    <tr>\n",
              "      <th>2</th>\n",
              "      <td>train</td>\n",
              "      <td>02_tcp_le</td>\n",
              "      <td>058</td>\n",
              "      <td>00005804</td>\n",
              "      <td>s002_2008_11_05</td>\n",
              "      <td>00005804_s002_t005.tse</td>\n",
              "    </tr>\n",
              "    <tr>\n",
              "      <th>3</th>\n",
              "      <td>train</td>\n",
              "      <td>02_tcp_le</td>\n",
              "      <td>058</td>\n",
              "      <td>00005804</td>\n",
              "      <td>s002_2008_11_05</td>\n",
              "      <td>00005804_s002_t006.tse</td>\n",
              "    </tr>\n",
              "    <tr>\n",
              "      <th>4</th>\n",
              "      <td>train</td>\n",
              "      <td>02_tcp_le</td>\n",
              "      <td>060</td>\n",
              "      <td>00006083</td>\n",
              "      <td>s003_2010_10_11</td>\n",
              "      <td>00006083_s003_t001.tse</td>\n",
              "    </tr>\n",
              "    <tr>\n",
              "      <th>5</th>\n",
              "      <td>train</td>\n",
              "      <td>02_tcp_le</td>\n",
              "      <td>060</td>\n",
              "      <td>00006083</td>\n",
              "      <td>s004_2010_10_12</td>\n",
              "      <td>00006083_s004_t001.tse</td>\n",
              "    </tr>\n",
              "    <tr>\n",
              "      <th>6</th>\n",
              "      <td>train</td>\n",
              "      <td>02_tcp_le</td>\n",
              "      <td>060</td>\n",
              "      <td>00006083</td>\n",
              "      <td>s004_2010_10_12</td>\n",
              "      <td>00006083_s004_t002.tse</td>\n",
              "    </tr>\n",
              "    <tr>\n",
              "      <th>7</th>\n",
              "      <td>train</td>\n",
              "      <td>02_tcp_le</td>\n",
              "      <td>060</td>\n",
              "      <td>00006087</td>\n",
              "      <td>s005_2011_04_11</td>\n",
              "      <td>00006087_s005_t000.tse</td>\n",
              "    </tr>\n",
              "    <tr>\n",
              "      <th>8</th>\n",
              "      <td>train</td>\n",
              "      <td>02_tcp_le</td>\n",
              "      <td>060</td>\n",
              "      <td>00006087</td>\n",
              "      <td>s006_2011_04_12</td>\n",
              "      <td>00006087_s006_t000.tse</td>\n",
              "    </tr>\n",
              "    <tr>\n",
              "      <th>9</th>\n",
              "      <td>train</td>\n",
              "      <td>02_tcp_le</td>\n",
              "      <td>061</td>\n",
              "      <td>00006134</td>\n",
              "      <td>s001_2009_08_07</td>\n",
              "      <td>00006134_s001_t000.tse</td>\n",
              "    </tr>\n",
              "  </tbody>\n",
              "</table>\n",
              "</div>\n",
              "      <button class=\"colab-df-convert\" onclick=\"convertToInteractive('df-3d0d1072-2758-4442-b2e7-222bd360bf2b')\"\n",
              "              title=\"Convert this dataframe to an interactive table.\"\n",
              "              style=\"display:none;\">\n",
              "        \n",
              "  <svg xmlns=\"http://www.w3.org/2000/svg\" height=\"24px\"viewBox=\"0 0 24 24\"\n",
              "       width=\"24px\">\n",
              "    <path d=\"M0 0h24v24H0V0z\" fill=\"none\"/>\n",
              "    <path d=\"M18.56 5.44l.94 2.06.94-2.06 2.06-.94-2.06-.94-.94-2.06-.94 2.06-2.06.94zm-11 1L8.5 8.5l.94-2.06 2.06-.94-2.06-.94L8.5 2.5l-.94 2.06-2.06.94zm10 10l.94 2.06.94-2.06 2.06-.94-2.06-.94-.94-2.06-.94 2.06-2.06.94z\"/><path d=\"M17.41 7.96l-1.37-1.37c-.4-.4-.92-.59-1.43-.59-.52 0-1.04.2-1.43.59L10.3 9.45l-7.72 7.72c-.78.78-.78 2.05 0 2.83L4 21.41c.39.39.9.59 1.41.59.51 0 1.02-.2 1.41-.59l7.78-7.78 2.81-2.81c.8-.78.8-2.07 0-2.86zM5.41 20L4 18.59l7.72-7.72 1.47 1.35L5.41 20z\"/>\n",
              "  </svg>\n",
              "      </button>\n",
              "      \n",
              "  <style>\n",
              "    .colab-df-container {\n",
              "      display:flex;\n",
              "      flex-wrap:wrap;\n",
              "      gap: 12px;\n",
              "    }\n",
              "\n",
              "    .colab-df-convert {\n",
              "      background-color: #E8F0FE;\n",
              "      border: none;\n",
              "      border-radius: 50%;\n",
              "      cursor: pointer;\n",
              "      display: none;\n",
              "      fill: #1967D2;\n",
              "      height: 32px;\n",
              "      padding: 0 0 0 0;\n",
              "      width: 32px;\n",
              "    }\n",
              "\n",
              "    .colab-df-convert:hover {\n",
              "      background-color: #E2EBFA;\n",
              "      box-shadow: 0px 1px 2px rgba(60, 64, 67, 0.3), 0px 1px 3px 1px rgba(60, 64, 67, 0.15);\n",
              "      fill: #174EA6;\n",
              "    }\n",
              "\n",
              "    [theme=dark] .colab-df-convert {\n",
              "      background-color: #3B4455;\n",
              "      fill: #D2E3FC;\n",
              "    }\n",
              "\n",
              "    [theme=dark] .colab-df-convert:hover {\n",
              "      background-color: #434B5C;\n",
              "      box-shadow: 0px 1px 3px 1px rgba(0, 0, 0, 0.15);\n",
              "      filter: drop-shadow(0px 1px 2px rgba(0, 0, 0, 0.3));\n",
              "      fill: #FFFFFF;\n",
              "    }\n",
              "  </style>\n",
              "\n",
              "      <script>\n",
              "        const buttonEl =\n",
              "          document.querySelector('#df-3d0d1072-2758-4442-b2e7-222bd360bf2b button.colab-df-convert');\n",
              "        buttonEl.style.display =\n",
              "          google.colab.kernel.accessAllowed ? 'block' : 'none';\n",
              "\n",
              "        async function convertToInteractive(key) {\n",
              "          const element = document.querySelector('#df-3d0d1072-2758-4442-b2e7-222bd360bf2b');\n",
              "          const dataTable =\n",
              "            await google.colab.kernel.invokeFunction('convertToInteractive',\n",
              "                                                     [key], {});\n",
              "          if (!dataTable) return;\n",
              "\n",
              "          const docLinkHtml = 'Like what you see? Visit the ' +\n",
              "            '<a target=\"_blank\" href=https://colab.research.google.com/notebooks/data_table.ipynb>data table notebook</a>'\n",
              "            + ' to learn more about interactive tables.';\n",
              "          element.innerHTML = '';\n",
              "          dataTable['output_type'] = 'display_data';\n",
              "          await google.colab.output.renderOutput(dataTable, element);\n",
              "          const docLink = document.createElement('div');\n",
              "          docLink.innerHTML = docLinkHtml;\n",
              "          element.appendChild(docLink);\n",
              "        }\n",
              "      </script>\n",
              "    </div>\n",
              "  </div>\n",
              "  "
            ]
          },
          "metadata": {},
          "execution_count": 15
        }
      ]
    },
    {
      "cell_type": "code",
      "source": [
        ""
      ],
      "metadata": {
        "id": "ssTzfwCFrAX-"
      },
      "execution_count": null,
      "outputs": []
    }
  ]
}